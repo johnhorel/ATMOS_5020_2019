{
 "cells": [
  {
   "cell_type": "markdown",
   "metadata": {},
   "source": [
    "**November 15, 2018**  \n",
    "**ATMOS 5020: Environmental Programming**  \n",
    "**John Horel & Brian Blaylock**  \n",
    "\n",
    "\n",
    "# Python Input-Output (I/O) Methods\n",
    "**Objective**: Reinforce concepts related to input operations and using numpy to manipulate arrays.\n",
    "\n",
    "The last two classes focused on visualizing results, which is critical for any programming application\n",
    "in environmental fields. We have given you data in a format that is easily used. You won't always be so luck and data will come in a not-so-easy-to-use format. In today's class, we will spend a bit of time introducing ways to input information into a program and using numpy to handle arrays.\n",
    "\n",
    "---\n",
    "\n",
    "# Interactive Data Input\n",
    "\n",
    "First, let's manually enter values interactively"
   ]
  },
  {
   "cell_type": "code",
   "execution_count": 1,
   "metadata": {},
   "outputs": [
    {
     "name": "stdin",
     "output_type": "stream",
     "text": [
      "What is my name? John\n"
     ]
    }
   ],
   "source": [
    "# Ask for user input\n",
    "my_name = input(\"What is my name?\")"
   ]
  },
  {
   "cell_type": "code",
   "execution_count": 2,
   "metadata": {},
   "outputs": [
    {
     "data": {
      "text/plain": [
       "'John'"
      ]
     },
     "execution_count": 2,
     "metadata": {},
     "output_type": "execute_result"
    }
   ],
   "source": [
    "#so what is the value of my_name?\n",
    "my_name"
   ]
  },
  {
   "cell_type": "markdown",
   "metadata": {},
   "source": [
    "> Note: The value returned from the `input` function is _always a string_. If we want it to be a different data type, such as an integer or float, We have to convert it to that type.\n"
   ]
  },
  {
   "cell_type": "code",
   "execution_count": 3,
   "metadata": {},
   "outputs": [
    {
     "name": "stdin",
     "output_type": "stream",
     "text": [
      "what is my street address? 1234\n"
     ]
    }
   ],
   "source": [
    "# Change the input to an integer type\n",
    "my_address = int(input(\"what is my street address?\"))"
   ]
  },
  {
   "cell_type": "code",
   "execution_count": 4,
   "metadata": {},
   "outputs": [
    {
     "data": {
      "text/plain": [
       "1234"
      ]
     },
     "execution_count": 4,
     "metadata": {},
     "output_type": "execute_result"
    }
   ],
   "source": [
    "#so what is my address\n",
    "my_address"
   ]
  },
  {
   "cell_type": "code",
   "execution_count": 5,
   "metadata": {},
   "outputs": [
    {
     "data": {
      "text/plain": [
       "int"
      ]
     },
     "execution_count": 5,
     "metadata": {},
     "output_type": "execute_result"
    }
   ],
   "source": [
    "#what type is my_address?\n",
    "type(my_address)"
   ]
  },
  {
   "cell_type": "code",
   "execution_count": 6,
   "metadata": {},
   "outputs": [
    {
     "data": {
      "text/plain": [
       "\u001b[1;31mType:\u001b[0m        int\n",
       "\u001b[1;31mString form:\u001b[0m 1234\n",
       "\u001b[1;31mDocstring:\u001b[0m  \n",
       "int([x]) -> integer\n",
       "int(x, base=10) -> integer\n",
       "\n",
       "Convert a number or string to an integer, or return 0 if no arguments\n",
       "are given.  If x is a number, return x.__int__().  For floating point\n",
       "numbers, this truncates towards zero.\n",
       "\n",
       "If x is not a number or if base is given, then x must be a string,\n",
       "bytes, or bytearray instance representing an integer literal in the\n",
       "given base.  The literal can be preceded by '+' or '-' and be surrounded\n",
       "by whitespace.  The base defaults to 10.  Valid bases are 0 and 2-36.\n",
       "Base 0 means to interpret the base from the string as an integer literal.\n",
       ">>> int('0b100', base=0)\n",
       "4\n"
      ]
     },
     "metadata": {},
     "output_type": "display_data"
    }
   ],
   "source": [
    "# or check the object type this way...\n",
    "my_address?"
   ]
  },
  {
   "cell_type": "markdown",
   "metadata": {},
   "source": [
    "Interactively inputting information is not only cumbersome, Python won't continue through the code unless a value is entered. There are better ways to input data when we need to load lots of data at the same time, such as from a text file or file.\n",
    "\n",
    "---\n",
    "\n",
    "# Download text from a URL\n",
    "\n",
    "We can access tons of information directly from the web and load that data into Python.\n",
    "\n",
    "Obviously, there are many different ways to access that data. Some methods are more than others appropriate depending on the situation and data type. Some methods are easy and some are hard. There are shortcuts, which may or may not work depending on the data you work with.\n",
    "\n",
    "## Wyoming Sounding Data\n",
    "\n",
    "<img src=\"./images/sounding.gif\" width=400>\n",
    "\n",
    "One resource to get weather data is a Wyoming web site that provides observations made from rawinsondes of the vertical distribution of wind, tempeature, and moisure with height at hundreds of locations across the world. This data is otherwise known as a **sounding**.\n",
    "\n",
    "Take a look at http://weather.uwyo.edu/upperair/sounding.html and click on SLC.\n",
    "\n",
    "You will see an HTML file with data for different weather variables at different levels:\n",
    "\n",
    "http://weather.uwyo.edu/cgi-bin/sounding?region=naconf&TYPE=TEXT%3ALIST&YEAR=2018&MONTH=11&FROM=1112&TO=1112&STNM=72572"
   ]
  },
  {
   "cell_type": "markdown",
   "metadata": {},
   "source": [
    "## Download file with [`urllib.request`](https://docs.python.org/3/library/urllib.request.html#legacy-interface)\n",
    "\n",
    "We want to load this data into Python and plot it. The biggest tast before us is to load the data and then structure the data in a way we can use it. There are several ways this could be done, but let's start with the basics. We will use `urllib` to download the data from online. \n",
    "\n",
    "`urllib` is a library for interacting with data on the web. Specifically the `urllib.request` submodule contains the function `urlretrieve` that retrieves web content. Let's load the sounding data...\n",
    "\n",
    "> Other modules you may consider using for retrieving online content is `urllib3` and `requests` and `json`. \n",
    "\n",
    "Reference: [`urllib.request` documentation](https://docs.python.org/3/library/urllib.request.html)"
   ]
  },
  {
   "cell_type": "code",
   "execution_count": 7,
   "metadata": {},
   "outputs": [],
   "source": [
    "from urllib.request import urlretrieve\n",
    "\n",
    "# We will use numpy and matplotlib later, but lets import it now\n",
    "import numpy as np\n",
    "import matplotlib.pyplot as plt"
   ]
  },
  {
   "cell_type": "code",
   "execution_count": 8,
   "metadata": {},
   "outputs": [],
   "source": [
    "# Define a string that points to the web content URL. \n",
    "# There are ways to concatenate variables to generate a string, but let's not bother with that today.\n",
    "url_string = \"http://weather.uwyo.edu/cgi-bin/sounding?region=naconf&TYPE=TEXT%3ALIST&YEAR=2018&MONTH=11&FROM=1112&TO=1112&STNM=72572\"\n",
    "\n",
    "# urlretrieve will save the content at the URL to the file \"slc_snd.txt\"\n",
    "file_name, headers = urlretrieve(url_string, \"slc_snd.txt\")"
   ]
  },
  {
   "cell_type": "markdown",
   "metadata": {},
   "source": [
    "## Questions: \n",
    "- What is the content of the variables `file_name` and `headers`?\n",
    "- What is `headers.keys()`? This is a dictionary of data related to the data and network connection.\n",
    "- Did you obtain a file in your local directory named `slc_snd.txt`?\n",
    "- What is in the `slc_snd.txt` file? Look at its contents."
   ]
  },
  {
   "cell_type": "code",
   "execution_count": null,
   "metadata": {},
   "outputs": [],
   "source": [
    "\n",
    "\n"
   ]
  },
  {
   "cell_type": "markdown",
   "metadata": {},
   "source": [
    "## Open the file"
   ]
  },
  {
   "cell_type": "markdown",
   "metadata": {},
   "source": [
    "Use the built-in Python function `open('filename')`. The option `'r'`, shown in the next cell, means the text file is open to \"read only\". Other options include:\n",
    "\n",
    "|open code|open type|\n",
    "|--|--|\n",
    "|`'r'`| file is open to read only\n",
    "|`'w'`| file is open to write only\n",
    "|`'w+'`| output will overwrite the existing content in the file\n",
    "|`'a'`| output will be appended to the end of an existing file\n",
    "|`'b'`| indicates the file content is binary"
   ]
  },
  {
   "cell_type": "code",
   "execution_count": 9,
   "metadata": {},
   "outputs": [],
   "source": [
    "# Open that file as an object:\n",
    "snd_file = open('slc_snd.txt', 'r')"
   ]
  },
  {
   "cell_type": "code",
   "execution_count": 10,
   "metadata": {},
   "outputs": [],
   "source": [
    "# to close the file object:\n",
    "snd_file.close()"
   ]
  },
  {
   "cell_type": "markdown",
   "metadata": {},
   "source": [
    "Let's open the file again and read all the content into a list. Use the `with` keyword to open the file. The advantage of this is that the file object executes the statements in the code block and then automatically closes the file object when the block is finished."
   ]
  },
  {
   "cell_type": "code",
   "execution_count": 11,
   "metadata": {},
   "outputs": [
    {
     "name": "stdout",
     "output_type": "stream",
     "text": [
      "shape:, (192,)\n"
     ]
    },
    {
     "data": {
      "text/plain": [
       "['<HTML>\\n',\n",
       " '<TITLE>University of Wyoming - Radiosonde Data</TITLE>\\n',\n",
       " '<LINK REL=\"StyleSheet\" HREF=\"/resources/select.css\" TYPE=\"text/css\">\\n',\n",
       " '<BODY BGCOLOR=\"white\">\\n',\n",
       " '<H2>72572 SLC Salt Lake City Observations at 12Z 11 Nov 2018</H2>\\n',\n",
       " '<PRE>\\n',\n",
       " '-----------------------------------------------------------------------------\\n',\n",
       " '   PRES   HGHT   TEMP   DWPT   RELH   MIXR   DRCT   SKNT   THTA   THTE   THTV\\n',\n",
       " '    hPa     m      C      C      %    g/kg    deg   knot     K      K      K \\n',\n",
       " '-----------------------------------------------------------------------------\\n',\n",
       " ' 1000.0    185                                                               \\n',\n",
       " '  925.0    830                                                               \\n',\n",
       " '  875.0   1289    0.4   -4.2     71   3.22    330      5  284.2  293.5  284.7\\n',\n",
       " '  854.0   1480   -1.1   -5.9     70   2.89    305      7  284.6  293.1  285.1\\n',\n",
       " '  850.0   1517   -1.1   -6.1     69   2.86    300      7  285.0  293.4  285.5\\n',\n",
       " '  820.0   1803   -2.3   -6.4     73   2.90     36      1  286.6  295.2  287.2\\n',\n",
       " '  817.3   1829   -2.4   -6.7     72   2.84     45      1  286.8  295.2  287.3\\n',\n",
       " '  794.0   2058   -3.5   -9.5     63   2.35    338      8  288.0  295.1  288.4\\n',\n",
       " '  786.3   2134   -4.2   -9.8     65   2.32    315     10  288.1  295.1  288.5\\n',\n",
       " '  756.2   2438   -6.8  -11.2     71   2.17    320     13  288.5  295.1  288.9\\n',\n",
       " '  727.1   2743   -9.4  -12.5     78   2.02    330     16  288.9  295.1  289.3\\n',\n",
       " '  700.0   3039  -11.9  -13.8     86   1.89    345     12  289.3  295.1  289.6\\n',\n",
       " '  681.0   3249  -13.7  -15.0     90   1.76    345     12  289.6  295.0  289.9\\n',\n",
       " '  669.0   3384  -14.5  -17.1     81   1.50    345     13  290.1  294.8  290.4\\n',\n",
       " '  645.1   3658  -16.9  -19.7     79   1.25    345     13  290.5  294.4  290.7\\n',\n",
       " '  637.0   3753  -17.7  -20.6     78   1.17    353     13  290.6  294.3  290.8\\n',\n",
       " '  611.0   4064  -19.7  -21.8     83   1.10     18     15  291.8  295.3  291.9\\n',\n",
       " '  594.4   4267  -21.0  -24.6     73   0.88     35     16  292.5  295.4  292.7\\n',\n",
       " '  579.0   4461  -22.3  -27.3     64   0.71     32     17  293.2  295.6  293.4\\n',\n",
       " '  557.0   4745  -24.9  -31.9     52   0.48     27     19  293.4  295.0  293.5\\n',\n",
       " '  548.0   4863  -25.7  -30.2     66   0.57     25     20  293.9  295.8  293.9\\n',\n",
       " '  546.9   4877  -25.8  -30.6     64   0.55     25     20  293.9  295.7  294.0\\n',\n",
       " '  540.0   4969  -26.5  -33.5     52   0.42     24     20  294.1  295.6  294.2\\n',\n",
       " '  534.0   5050  -27.3  -32.3     62   0.48     24     21  294.1  295.7  294.2\\n',\n",
       " '  528.0   5131  -27.9  -35.9     46   0.34     23     21  294.3  295.5  294.4\\n',\n",
       " '  514.0   5324  -29.5  -39.5     37   0.24     22     21  294.7  295.5  294.7\\n',\n",
       " '  505.0   5449  -30.7  -39.7     41   0.24     21     22  294.7  295.6  294.8\\n',\n",
       " '  500.0   5520  -30.9  -41.9     33   0.19     20     22  295.3  296.0  295.3\\n',\n",
       " '  488.0   5692  -32.5  -44.5     29   0.15      4     20  295.4  295.9  295.4\\n',\n",
       " '  470.0   5957  -32.7  -53.7     10   0.05    338     17  298.3  298.6  298.4\\n',\n",
       " '  460.8   6096  -33.6  -56.4      8   0.04    325     15  298.8  299.0  298.9\\n',\n",
       " '  449.0   6278  -34.9  -59.9      6   0.03    328     16  299.5  299.6  299.5\\n',\n",
       " '  433.0   6531  -35.1  -61.1      5   0.02    332     18  302.4  302.5  302.4\\n',\n",
       " '  405.0   6994  -38.1  -62.1      6   0.02    339     20  304.3  304.4  304.3\\n',\n",
       " '  400.0   7080  -37.9  -61.9      6   0.02    340     21  305.6  305.8  305.7\\n',\n",
       " '  389.0   7271  -38.5  -62.5      6   0.02    333     21  307.3  307.4  307.3\\n',\n",
       " '  369.5   7620  -40.4  -63.6      7   0.02    320     20  309.4  309.4  309.4\\n',\n",
       " '  341.0   8165  -43.3  -65.3      7   0.02    324     23  312.6  312.6  312.6\\n',\n",
       " '  324.0   8509  -43.9  -66.9      6   0.01    326     24  316.3  316.4  316.3\\n',\n",
       " '  300.0   9020  -47.7  -67.7      8   0.01    330     27  318.0  318.1  318.0\\n',\n",
       " '  298.0   9064  -48.1  -68.1      8   0.01    330     28  318.1  318.1  318.1\\n',\n",
       " '  294.4   9144  -48.3  -68.3      8   0.01    330     27  318.9  319.0  318.9\\n',\n",
       " '  268.0   9763  -49.5  -69.5      8   0.01    319     29  325.8  325.9  325.8\\n',\n",
       " '  250.0  10220  -49.1  -74.1      4   0.01    310     30  332.9  333.0  332.9\\n',\n",
       " '  226.0  10885  -48.1  -79.1      2   0.00    310     32  344.2  344.2  344.2\\n',\n",
       " '  219.0  11093  -49.3  -80.3      1   0.00    310     33  345.5  345.5  345.5\\n',\n",
       " '  205.0  11527  -48.7  -79.7      2   0.00    310     34  353.0  353.0  353.0\\n',\n",
       " '  200.0  11690  -49.1  -80.1      2   0.00    310     35  354.9  354.9  354.9\\n',\n",
       " '  195.0  11856  -50.1  -81.1      1   0.00    303     34  355.8  355.9  355.8\\n',\n",
       " '  189.0  12060  -49.7  -81.7      1   0.00    295     32  359.7  359.7  359.7\\n',\n",
       " '  185.2  12192  -50.6  -82.2      1   0.00    290     31  360.2  360.2  360.2\\n',\n",
       " '  172.0  12671  -54.1  -84.1      1   0.00    295     46  362.2  362.2  362.2\\n',\n",
       " '  168.5  12802  -53.4  -83.4      1   0.00    305     53  365.5  365.5  365.5\\n',\n",
       " '  167.0  12861  -53.1  -83.1      1   0.00    305     52  366.9  367.0  366.9\\n',\n",
       " '  160.0  13136  -54.5  -83.5      2   0.00    305     49  369.1  369.1  369.1\\n',\n",
       " '  150.0  13550  -54.5  -82.5      2   0.00    305     45  376.0  376.0  376.0\\n',\n",
       " '  147.0  13679  -54.3  -82.3      2   0.00    304     43  378.5  378.5  378.5\\n',\n",
       " '  139.3  14021  -55.3  -83.3      2   0.00    300     36  382.6  382.6  382.6\\n',\n",
       " '  132.8  14326  -56.2  -84.2      2   0.00    280     46  386.3  386.3  386.3\\n',\n",
       " '  132.0  14366  -56.3  -84.3      2   0.00    282     47  386.7  386.8  386.7\\n',\n",
       " '  131.0  14414  -56.3  -84.3      2   0.00    284     47  387.6  387.6  387.6\\n',\n",
       " '  130.0  14463  -54.7  -83.7      2   0.00    286     48  391.3  391.3  391.3\\n',\n",
       " '  127.0  14612  -54.9  -83.9      2   0.00    292     50  393.6  393.6  393.6\\n',\n",
       " '  126.0  14663  -53.5  -83.5      1   0.00    294     51  397.0  397.0  397.0\\n',\n",
       " '  124.0  14765  -53.9  -83.9      1   0.00    298     53  398.1  398.1  398.1\\n',\n",
       " '  120.8  14935  -53.4  -84.2      1   0.00    305     55  402.0  402.0  402.0\\n',\n",
       " '  120.0  14976  -53.3  -84.3      1   0.00    307     54  402.9  402.9  402.9\\n',\n",
       " '  115.2  15240  -54.2  -84.9      1   0.00    320     45  406.0  406.0  406.0\\n',\n",
       " '  109.8  15545  -55.3  -85.5      1   0.00    325     35  409.5  409.5  409.5\\n',\n",
       " '  107.0  15710  -55.9  -85.9      1   0.00    317     30  411.4  411.4  411.4\\n',\n",
       " '  104.7  15850  -55.9  -86.2      1   0.00    310     26  414.0  414.0  414.0\\n',\n",
       " '  100.0  16140  -55.9  -86.9      1   0.00    305     33  419.4  419.5  419.4\\n',\n",
       " '   94.5  16500  -55.5  -86.5      1   0.00    295     30  427.1  427.1  427.1\\n',\n",
       " '   82.6  17351  -58.9  -87.9      1   0.00    271     21  436.9  436.9  436.9\\n',\n",
       " '   82.3  17374  -58.7  -87.8      1   0.00    270     21  437.8  437.8  437.8\\n',\n",
       " '   80.6  17505  -57.5  -87.5      1   0.00    276     24  442.8  442.8  442.8\\n',\n",
       " '   75.4  17924  -59.5  -88.5      1   0.00    297     35  447.1  447.2  447.1\\n',\n",
       " '   74.7  17983  -59.2  -88.4      1   0.00    300     36  449.0  449.0  449.0\\n',\n",
       " '   72.2  18196  -58.1  -88.1      1   0.00    297     31  455.7  455.7  455.7\\n',\n",
       " '   71.2  18288  -58.5  -88.0      1   0.00    295     29  456.8  456.8  456.8\\n',\n",
       " '   70.0  18390  -58.9  -87.9      1   0.00    285     28  458.0  458.1  458.0\\n',\n",
       " '   67.8  18593  -60.1  -88.6      1   0.00    280     33  459.7  459.7  459.7\\n',\n",
       " '   66.0  18757  -61.1  -89.1      1   0.00    287     31  461.0  461.0  461.0\\n',\n",
       " '   64.8  18871  -60.9  -88.9      1   0.00    292     30  463.9  463.9  463.9\\n',\n",
       " '   64.1  18939  -57.5  -87.5      1   0.00    295     30  472.8  472.8  472.8\\n',\n",
       " '   63.5  18999  -57.1  -88.1      1   0.00    298     29  474.9  474.9  474.9\\n',\n",
       " '   58.9  19474  -57.9  -87.9      1   0.00    319     24  483.4  483.5  483.4\\n',\n",
       " '   58.6  19507  -57.7  -87.8      1   0.00    320     24  484.6  484.6  484.6\\n',\n",
       " '   56.3  19760  -56.3  -87.3      1   0.00    353     15  493.4  493.4  493.4\\n',\n",
       " '   55.8  19812  -56.6  -87.5      1   0.00      0     13  493.9  493.9  493.9\\n',\n",
       " '   53.2  20117  -58.3  -88.4      1   0.00    330      6  496.8  496.8  496.8\\n',\n",
       " '   52.9  20153  -58.5  -88.5      1   0.00    332      6  497.1  497.1  497.1\\n',\n",
       " '   50.0  20510  -55.9  -87.9      1   0.00    350      8  511.3  511.3  511.3\\n',\n",
       " '   49.8  20535  -55.7  -87.7      1   0.00    348      8  512.4  512.4  512.4\\n',\n",
       " '   46.8  20927  -58.5  -88.5      1   0.00    322     10  514.8  514.9  514.8\\n',\n",
       " '   46.0  21031  -57.7  -88.2      1   0.00    315     11  519.1  519.1  519.1\\n',\n",
       " '   43.9  21336  -55.5  -87.3      1   0.00     35     18  531.8  531.8  531.8\\n',\n",
       " '   43.5  21389  -55.1  -87.1      1   0.00     32     18  534.0  534.1  534.0\\n',\n",
       " '   39.8  21946  -57.3  -88.6      1   0.00      5     17  542.2  542.2  542.2\\n',\n",
       " '   38.2  22210  -58.3  -89.3      1   0.00     21     17  546.1  546.1  546.1\\n',\n",
       " '   35.8  22620  -55.5  -87.5      1   0.01     46     16  563.5  563.6  563.6\\n',\n",
       " '   34.5  22860  -55.7  -87.7      1   0.01     60     16  569.1  569.2  569.1\\n',\n",
       " '   31.3  23470  -56.3  -88.3      1   0.01     15     29  583.5  583.6  583.5\\n',\n",
       " '   30.0  23740  -56.5  -88.5      1   0.01     20     24  590.0  590.1  590.0\\n',\n",
       " '   29.6  23825  -56.9  -88.9      1   0.00     22     24  591.2  591.2  591.2\\n',\n",
       " '   28.7  24023  -54.1  -87.1      1   0.01     27     23  604.2  604.2  604.2\\n',\n",
       " '   27.4  24321  -53.1  -86.1      1   0.01     34     22  615.0  615.1  615.0\\n',\n",
       " '   27.1  24384  -53.3  -86.2      1   0.01     35     22  616.1  616.2  616.1\\n',\n",
       " '   25.9  24689  -54.3  -86.8      1   0.01     40     22  621.7  621.8  621.7\\n',\n",
       " '   22.4  25603  -57.4  -88.7      1   0.01     35     35  638.6  638.6  638.6\\n',\n",
       " '   21.7  25811  -58.1  -89.1      1   0.01     35     31  642.5  642.5  642.5\\n',\n",
       " '   20.4  26213  -55.5  -87.2      1   0.01     35     22  662.2  662.3  662.2\\n',\n",
       " '   20.0  26330  -54.7  -86.7      1   0.01     35     22  668.0  668.1  668.0\\n',\n",
       " '   19.1  26625  -53.1  -86.1      1   0.01     35     23  681.8  681.9  681.8\\n',\n",
       " '   16.9  27406  -56.7  -88.7      1   0.01     35     27  694.5  694.6  694.5\\n',\n",
       " '   16.8  27432  -56.7  -88.7      1   0.01     35     27  695.2  695.3  695.2\\n',\n",
       " '   15.1  28118  -57.3  -89.3      1   0.01     37     27  715.2  715.3  715.2\\n',\n",
       " '   14.3  28464  -54.9  -86.9      1   0.01     38     27  734.5  734.7  734.5\\n',\n",
       " '   12.5  29316  -58.1  -90.1      1   0.01     41     26  752.1  752.2  752.1\\n',\n",
       " '   11.5  29846  -53.9  -86.9      1   0.02     43     26  785.3  785.5  785.3\\n',\n",
       " '   10.6  30368  -54.1  -87.1      1   0.02     45     26  803.0  803.3  803.1\\n',\n",
       " '   10.4  30480  -54.5  -87.2      1   0.02     45     26  805.5  805.8  805.5\\n',\n",
       " '   10.0  30740  -55.5  -87.5      1   0.02     30     27  811.3  811.5  811.3\\n',\n",
       " '    9.5  31090  -57.3  -89.3      1   0.01     30     32  817.3  817.5  817.3\\n',\n",
       " '    9.3  31200  -57.9  -89.9      1   0.01                819.2  819.4  819.2\\n',\n",
       " '</PRE><H3>Station information and sounding indices</H3><PRE>\\n',\n",
       " '                         Station identifier: SLC\\n',\n",
       " '                             Station number: 72572\\n',\n",
       " '                           Observation time: 181111/1200\\n',\n",
       " '                           Station latitude: 40.77\\n',\n",
       " '                          Station longitude: -111.95\\n',\n",
       " '                          Station elevation: 1289.0\\n',\n",
       " '                            Showalter index: 2.80\\n',\n",
       " '                               Lifted index: 2.51\\n',\n",
       " '    LIFT computed using virtual temperature: 2.47\\n',\n",
       " '                                SWEAT index: 147.99\\n',\n",
       " '                                    K index: 21.80\\n',\n",
       " '                         Cross totals index: 24.80\\n',\n",
       " '                      Vertical totals index: 29.80\\n',\n",
       " '                        Totals totals index: 54.60\\n',\n",
       " '      Convective Available Potential Energy: 0.00\\n',\n",
       " '             CAPE using virtual temperature: 0.00\\n',\n",
       " '                      Convective Inhibition: 0.00\\n',\n",
       " '             CINS using virtual temperature: 0.00\\n',\n",
       " '                     Bulk Richardson Number: 0.00\\n',\n",
       " '          Bulk Richardson Number using CAPV: 0.00\\n',\n",
       " '  Temp [K] of the Lifted Condensation Level: 266.44\\n',\n",
       " 'Pres [hPa] of the Lifted Condensation Level: 788.62\\n',\n",
       " '     Mean mixed layer potential temperature: 285.16\\n',\n",
       " '              Mean mixed layer mixing ratio: 2.95\\n',\n",
       " '              1000 hPa to 500 hPa thickness: 5335.00\\n',\n",
       " 'Precipitable water [mm] for entire sounding: 6.41\\n',\n",
       " '</PRE>\\n',\n",
       " '<P>Description of the \\n',\n",
       " '<A HREF=\"/upperair/columns.html\">data columns</A>\\n',\n",
       " 'or <A HREF=\"/upperair/indices.html\">sounding indices</A>.\\n',\n",
       " '\\n',\n",
       " '<P>\\n',\n",
       " '<FORM>\\n',\n",
       " '<INPUT CLASS=\"button\" TYPE=\"button\" VALUE=\" Close this window \" \\n',\n",
       " ' onClick=\"window.close();\">\\n',\n",
       " '<INPUT CLASS=\"button\" TYPE=\"button\" VALUE=\" Select another map \" \\n',\n",
       " ' onClick=\"window.blur();\">\\n',\n",
       " '</FORM>\\n',\n",
       " '<HR SIZE=\"1\">\\n',\n",
       " '<I>Interested in graduate studies in atmospheric science?\\n',\n",
       " 'Check out our program at the\\n',\n",
       " '<a href=\"http://www.uwyo.edu/atsc/howtoapply/\"\\n',\n",
       " 'target=_top>University of Wyoming\\n',\n",
       " '</a></I>\\n',\n",
       " '<HR SIZE=\"1\"><FONT SIZE=\"-1\">\\n',\n",
       " 'Questions about the weather data provided by this site can be\\n',\n",
       " 'addressed to <A HREF=\"mailto:ldoolman@uwyo.edu\">\\n',\n",
       " 'Larry Oolman (ldoolman@uwyo.edu)</A></FONT>\\n',\n",
       " '<HR SIZE=\"1\">\\n',\n",
       " '<SCRIPT TYPE=\"text/javascript\">\\n',\n",
       " '<!--\\n',\n",
       " 'window.focus();\\n',\n",
       " '// -->\\n',\n",
       " '</SCRIPT>\\n',\n",
       " '</BODY>\\n',\n",
       " '</HTML>\\n']"
      ]
     },
     "execution_count": 11,
     "metadata": {},
     "output_type": "execute_result"
    }
   ],
   "source": [
    "# Read the file contents\n",
    "with open('slc_snd.txt','r') as file:\n",
    "    contents = file.readlines()\n",
    "\n",
    "# Print the data we loaded\n",
    "print('shape:,', np.shape(contents))\n",
    "contents\n",
    "\n",
    "# This look like what we saw in the browser. That is good."
   ]
  },
  {
   "cell_type": "markdown",
   "metadata": {},
   "source": [
    "That looks ugly, and we can't plot this data yet. Notice the pesky header and footer information and the end-of-line character, `\\n` at the end of every line. We don't want that stuff. \n",
    "\n",
    "Reading data into Python so that it is easy to work with will be a puzzle you solve many times, and you will find there are many methods to do this.\n",
    "\n",
    "## One Method: Split each item in the list and store value in new list\n",
    "We need to split the content of each line to remove the '\\n' character. There are many ways to do that, but here is one method we can do that..."
   ]
  },
  {
   "cell_type": "code",
   "execution_count": 12,
   "metadata": {},
   "outputs": [
    {
     "name": "stdout",
     "output_type": "stream",
     "text": [
      "['this is a sentence', 'that is split by a new line character']\n",
      "['this is a sentence where the new line is at the end', '']\n"
     ]
    },
    {
     "data": {
      "text/plain": [
       "'this is a sentence where the new line is at the end'"
      ]
     },
     "execution_count": 12,
     "metadata": {},
     "output_type": "execute_result"
    }
   ],
   "source": [
    "# Test the method in this cell, see what is happening\n",
    "\n",
    "# Split a sentence by the \\n character...\n",
    "a = 'this is a sentence\\nthat is split by a new line character'\n",
    "print(a.split('\\n'))\n",
    "\n",
    "# Do you see that the last item is empty! We only want to get the first item of this list\n",
    "b = 'this is a sentence where the new line is at the end\\n'\n",
    "print(b.split('\\n'))\n",
    "\n",
    "# only get the first item in the new list...\n",
    "b.split('\\n')[0] # <-- This is what we want from each line!!!"
   ]
  },
  {
   "cell_type": "markdown",
   "metadata": {},
   "source": [
    "Ok, so lets do that same thing while reading each line and store it in a new list."
   ]
  },
  {
   "cell_type": "code",
   "execution_count": 13,
   "metadata": {},
   "outputs": [
    {
     "name": "stdout",
     "output_type": "stream",
     "text": [
      "shape: (192,)\n"
     ]
    },
    {
     "data": {
      "text/plain": [
       "['<HTML>',\n",
       " '<TITLE>University of Wyoming - Radiosonde Data</TITLE>',\n",
       " '<LINK REL=\"StyleSheet\" HREF=\"/resources/select.css\" TYPE=\"text/css\">',\n",
       " '<BODY BGCOLOR=\"white\">',\n",
       " '<H2>72572 SLC Salt Lake City Observations at 12Z 11 Nov 2018</H2>',\n",
       " '<PRE>',\n",
       " '-----------------------------------------------------------------------------',\n",
       " '   PRES   HGHT   TEMP   DWPT   RELH   MIXR   DRCT   SKNT   THTA   THTE   THTV',\n",
       " '    hPa     m      C      C      %    g/kg    deg   knot     K      K      K ',\n",
       " '-----------------------------------------------------------------------------',\n",
       " ' 1000.0    185                                                               ',\n",
       " '  925.0    830                                                               ',\n",
       " '  875.0   1289    0.4   -4.2     71   3.22    330      5  284.2  293.5  284.7',\n",
       " '  854.0   1480   -1.1   -5.9     70   2.89    305      7  284.6  293.1  285.1',\n",
       " '  850.0   1517   -1.1   -6.1     69   2.86    300      7  285.0  293.4  285.5',\n",
       " '  820.0   1803   -2.3   -6.4     73   2.90     36      1  286.6  295.2  287.2',\n",
       " '  817.3   1829   -2.4   -6.7     72   2.84     45      1  286.8  295.2  287.3',\n",
       " '  794.0   2058   -3.5   -9.5     63   2.35    338      8  288.0  295.1  288.4',\n",
       " '  786.3   2134   -4.2   -9.8     65   2.32    315     10  288.1  295.1  288.5',\n",
       " '  756.2   2438   -6.8  -11.2     71   2.17    320     13  288.5  295.1  288.9',\n",
       " '  727.1   2743   -9.4  -12.5     78   2.02    330     16  288.9  295.1  289.3',\n",
       " '  700.0   3039  -11.9  -13.8     86   1.89    345     12  289.3  295.1  289.6',\n",
       " '  681.0   3249  -13.7  -15.0     90   1.76    345     12  289.6  295.0  289.9',\n",
       " '  669.0   3384  -14.5  -17.1     81   1.50    345     13  290.1  294.8  290.4',\n",
       " '  645.1   3658  -16.9  -19.7     79   1.25    345     13  290.5  294.4  290.7',\n",
       " '  637.0   3753  -17.7  -20.6     78   1.17    353     13  290.6  294.3  290.8',\n",
       " '  611.0   4064  -19.7  -21.8     83   1.10     18     15  291.8  295.3  291.9',\n",
       " '  594.4   4267  -21.0  -24.6     73   0.88     35     16  292.5  295.4  292.7',\n",
       " '  579.0   4461  -22.3  -27.3     64   0.71     32     17  293.2  295.6  293.4',\n",
       " '  557.0   4745  -24.9  -31.9     52   0.48     27     19  293.4  295.0  293.5',\n",
       " '  548.0   4863  -25.7  -30.2     66   0.57     25     20  293.9  295.8  293.9',\n",
       " '  546.9   4877  -25.8  -30.6     64   0.55     25     20  293.9  295.7  294.0',\n",
       " '  540.0   4969  -26.5  -33.5     52   0.42     24     20  294.1  295.6  294.2',\n",
       " '  534.0   5050  -27.3  -32.3     62   0.48     24     21  294.1  295.7  294.2',\n",
       " '  528.0   5131  -27.9  -35.9     46   0.34     23     21  294.3  295.5  294.4',\n",
       " '  514.0   5324  -29.5  -39.5     37   0.24     22     21  294.7  295.5  294.7',\n",
       " '  505.0   5449  -30.7  -39.7     41   0.24     21     22  294.7  295.6  294.8',\n",
       " '  500.0   5520  -30.9  -41.9     33   0.19     20     22  295.3  296.0  295.3',\n",
       " '  488.0   5692  -32.5  -44.5     29   0.15      4     20  295.4  295.9  295.4',\n",
       " '  470.0   5957  -32.7  -53.7     10   0.05    338     17  298.3  298.6  298.4',\n",
       " '  460.8   6096  -33.6  -56.4      8   0.04    325     15  298.8  299.0  298.9',\n",
       " '  449.0   6278  -34.9  -59.9      6   0.03    328     16  299.5  299.6  299.5',\n",
       " '  433.0   6531  -35.1  -61.1      5   0.02    332     18  302.4  302.5  302.4',\n",
       " '  405.0   6994  -38.1  -62.1      6   0.02    339     20  304.3  304.4  304.3',\n",
       " '  400.0   7080  -37.9  -61.9      6   0.02    340     21  305.6  305.8  305.7',\n",
       " '  389.0   7271  -38.5  -62.5      6   0.02    333     21  307.3  307.4  307.3',\n",
       " '  369.5   7620  -40.4  -63.6      7   0.02    320     20  309.4  309.4  309.4',\n",
       " '  341.0   8165  -43.3  -65.3      7   0.02    324     23  312.6  312.6  312.6',\n",
       " '  324.0   8509  -43.9  -66.9      6   0.01    326     24  316.3  316.4  316.3',\n",
       " '  300.0   9020  -47.7  -67.7      8   0.01    330     27  318.0  318.1  318.0',\n",
       " '  298.0   9064  -48.1  -68.1      8   0.01    330     28  318.1  318.1  318.1',\n",
       " '  294.4   9144  -48.3  -68.3      8   0.01    330     27  318.9  319.0  318.9',\n",
       " '  268.0   9763  -49.5  -69.5      8   0.01    319     29  325.8  325.9  325.8',\n",
       " '  250.0  10220  -49.1  -74.1      4   0.01    310     30  332.9  333.0  332.9',\n",
       " '  226.0  10885  -48.1  -79.1      2   0.00    310     32  344.2  344.2  344.2',\n",
       " '  219.0  11093  -49.3  -80.3      1   0.00    310     33  345.5  345.5  345.5',\n",
       " '  205.0  11527  -48.7  -79.7      2   0.00    310     34  353.0  353.0  353.0',\n",
       " '  200.0  11690  -49.1  -80.1      2   0.00    310     35  354.9  354.9  354.9',\n",
       " '  195.0  11856  -50.1  -81.1      1   0.00    303     34  355.8  355.9  355.8',\n",
       " '  189.0  12060  -49.7  -81.7      1   0.00    295     32  359.7  359.7  359.7',\n",
       " '  185.2  12192  -50.6  -82.2      1   0.00    290     31  360.2  360.2  360.2',\n",
       " '  172.0  12671  -54.1  -84.1      1   0.00    295     46  362.2  362.2  362.2',\n",
       " '  168.5  12802  -53.4  -83.4      1   0.00    305     53  365.5  365.5  365.5',\n",
       " '  167.0  12861  -53.1  -83.1      1   0.00    305     52  366.9  367.0  366.9',\n",
       " '  160.0  13136  -54.5  -83.5      2   0.00    305     49  369.1  369.1  369.1',\n",
       " '  150.0  13550  -54.5  -82.5      2   0.00    305     45  376.0  376.0  376.0',\n",
       " '  147.0  13679  -54.3  -82.3      2   0.00    304     43  378.5  378.5  378.5',\n",
       " '  139.3  14021  -55.3  -83.3      2   0.00    300     36  382.6  382.6  382.6',\n",
       " '  132.8  14326  -56.2  -84.2      2   0.00    280     46  386.3  386.3  386.3',\n",
       " '  132.0  14366  -56.3  -84.3      2   0.00    282     47  386.7  386.8  386.7',\n",
       " '  131.0  14414  -56.3  -84.3      2   0.00    284     47  387.6  387.6  387.6',\n",
       " '  130.0  14463  -54.7  -83.7      2   0.00    286     48  391.3  391.3  391.3',\n",
       " '  127.0  14612  -54.9  -83.9      2   0.00    292     50  393.6  393.6  393.6',\n",
       " '  126.0  14663  -53.5  -83.5      1   0.00    294     51  397.0  397.0  397.0',\n",
       " '  124.0  14765  -53.9  -83.9      1   0.00    298     53  398.1  398.1  398.1',\n",
       " '  120.8  14935  -53.4  -84.2      1   0.00    305     55  402.0  402.0  402.0',\n",
       " '  120.0  14976  -53.3  -84.3      1   0.00    307     54  402.9  402.9  402.9',\n",
       " '  115.2  15240  -54.2  -84.9      1   0.00    320     45  406.0  406.0  406.0',\n",
       " '  109.8  15545  -55.3  -85.5      1   0.00    325     35  409.5  409.5  409.5',\n",
       " '  107.0  15710  -55.9  -85.9      1   0.00    317     30  411.4  411.4  411.4',\n",
       " '  104.7  15850  -55.9  -86.2      1   0.00    310     26  414.0  414.0  414.0',\n",
       " '  100.0  16140  -55.9  -86.9      1   0.00    305     33  419.4  419.5  419.4',\n",
       " '   94.5  16500  -55.5  -86.5      1   0.00    295     30  427.1  427.1  427.1',\n",
       " '   82.6  17351  -58.9  -87.9      1   0.00    271     21  436.9  436.9  436.9',\n",
       " '   82.3  17374  -58.7  -87.8      1   0.00    270     21  437.8  437.8  437.8',\n",
       " '   80.6  17505  -57.5  -87.5      1   0.00    276     24  442.8  442.8  442.8',\n",
       " '   75.4  17924  -59.5  -88.5      1   0.00    297     35  447.1  447.2  447.1',\n",
       " '   74.7  17983  -59.2  -88.4      1   0.00    300     36  449.0  449.0  449.0',\n",
       " '   72.2  18196  -58.1  -88.1      1   0.00    297     31  455.7  455.7  455.7',\n",
       " '   71.2  18288  -58.5  -88.0      1   0.00    295     29  456.8  456.8  456.8',\n",
       " '   70.0  18390  -58.9  -87.9      1   0.00    285     28  458.0  458.1  458.0',\n",
       " '   67.8  18593  -60.1  -88.6      1   0.00    280     33  459.7  459.7  459.7',\n",
       " '   66.0  18757  -61.1  -89.1      1   0.00    287     31  461.0  461.0  461.0',\n",
       " '   64.8  18871  -60.9  -88.9      1   0.00    292     30  463.9  463.9  463.9',\n",
       " '   64.1  18939  -57.5  -87.5      1   0.00    295     30  472.8  472.8  472.8',\n",
       " '   63.5  18999  -57.1  -88.1      1   0.00    298     29  474.9  474.9  474.9',\n",
       " '   58.9  19474  -57.9  -87.9      1   0.00    319     24  483.4  483.5  483.4',\n",
       " '   58.6  19507  -57.7  -87.8      1   0.00    320     24  484.6  484.6  484.6',\n",
       " '   56.3  19760  -56.3  -87.3      1   0.00    353     15  493.4  493.4  493.4',\n",
       " '   55.8  19812  -56.6  -87.5      1   0.00      0     13  493.9  493.9  493.9',\n",
       " '   53.2  20117  -58.3  -88.4      1   0.00    330      6  496.8  496.8  496.8',\n",
       " '   52.9  20153  -58.5  -88.5      1   0.00    332      6  497.1  497.1  497.1',\n",
       " '   50.0  20510  -55.9  -87.9      1   0.00    350      8  511.3  511.3  511.3',\n",
       " '   49.8  20535  -55.7  -87.7      1   0.00    348      8  512.4  512.4  512.4',\n",
       " '   46.8  20927  -58.5  -88.5      1   0.00    322     10  514.8  514.9  514.8',\n",
       " '   46.0  21031  -57.7  -88.2      1   0.00    315     11  519.1  519.1  519.1',\n",
       " '   43.9  21336  -55.5  -87.3      1   0.00     35     18  531.8  531.8  531.8',\n",
       " '   43.5  21389  -55.1  -87.1      1   0.00     32     18  534.0  534.1  534.0',\n",
       " '   39.8  21946  -57.3  -88.6      1   0.00      5     17  542.2  542.2  542.2',\n",
       " '   38.2  22210  -58.3  -89.3      1   0.00     21     17  546.1  546.1  546.1',\n",
       " '   35.8  22620  -55.5  -87.5      1   0.01     46     16  563.5  563.6  563.6',\n",
       " '   34.5  22860  -55.7  -87.7      1   0.01     60     16  569.1  569.2  569.1',\n",
       " '   31.3  23470  -56.3  -88.3      1   0.01     15     29  583.5  583.6  583.5',\n",
       " '   30.0  23740  -56.5  -88.5      1   0.01     20     24  590.0  590.1  590.0',\n",
       " '   29.6  23825  -56.9  -88.9      1   0.00     22     24  591.2  591.2  591.2',\n",
       " '   28.7  24023  -54.1  -87.1      1   0.01     27     23  604.2  604.2  604.2',\n",
       " '   27.4  24321  -53.1  -86.1      1   0.01     34     22  615.0  615.1  615.0',\n",
       " '   27.1  24384  -53.3  -86.2      1   0.01     35     22  616.1  616.2  616.1',\n",
       " '   25.9  24689  -54.3  -86.8      1   0.01     40     22  621.7  621.8  621.7',\n",
       " '   22.4  25603  -57.4  -88.7      1   0.01     35     35  638.6  638.6  638.6',\n",
       " '   21.7  25811  -58.1  -89.1      1   0.01     35     31  642.5  642.5  642.5',\n",
       " '   20.4  26213  -55.5  -87.2      1   0.01     35     22  662.2  662.3  662.2',\n",
       " '   20.0  26330  -54.7  -86.7      1   0.01     35     22  668.0  668.1  668.0',\n",
       " '   19.1  26625  -53.1  -86.1      1   0.01     35     23  681.8  681.9  681.8',\n",
       " '   16.9  27406  -56.7  -88.7      1   0.01     35     27  694.5  694.6  694.5',\n",
       " '   16.8  27432  -56.7  -88.7      1   0.01     35     27  695.2  695.3  695.2',\n",
       " '   15.1  28118  -57.3  -89.3      1   0.01     37     27  715.2  715.3  715.2',\n",
       " '   14.3  28464  -54.9  -86.9      1   0.01     38     27  734.5  734.7  734.5',\n",
       " '   12.5  29316  -58.1  -90.1      1   0.01     41     26  752.1  752.2  752.1',\n",
       " '   11.5  29846  -53.9  -86.9      1   0.02     43     26  785.3  785.5  785.3',\n",
       " '   10.6  30368  -54.1  -87.1      1   0.02     45     26  803.0  803.3  803.1',\n",
       " '   10.4  30480  -54.5  -87.2      1   0.02     45     26  805.5  805.8  805.5',\n",
       " '   10.0  30740  -55.5  -87.5      1   0.02     30     27  811.3  811.5  811.3',\n",
       " '    9.5  31090  -57.3  -89.3      1   0.01     30     32  817.3  817.5  817.3',\n",
       " '    9.3  31200  -57.9  -89.9      1   0.01                819.2  819.4  819.2',\n",
       " '</PRE><H3>Station information and sounding indices</H3><PRE>',\n",
       " '                         Station identifier: SLC',\n",
       " '                             Station number: 72572',\n",
       " '                           Observation time: 181111/1200',\n",
       " '                           Station latitude: 40.77',\n",
       " '                          Station longitude: -111.95',\n",
       " '                          Station elevation: 1289.0',\n",
       " '                            Showalter index: 2.80',\n",
       " '                               Lifted index: 2.51',\n",
       " '    LIFT computed using virtual temperature: 2.47',\n",
       " '                                SWEAT index: 147.99',\n",
       " '                                    K index: 21.80',\n",
       " '                         Cross totals index: 24.80',\n",
       " '                      Vertical totals index: 29.80',\n",
       " '                        Totals totals index: 54.60',\n",
       " '      Convective Available Potential Energy: 0.00',\n",
       " '             CAPE using virtual temperature: 0.00',\n",
       " '                      Convective Inhibition: 0.00',\n",
       " '             CINS using virtual temperature: 0.00',\n",
       " '                     Bulk Richardson Number: 0.00',\n",
       " '          Bulk Richardson Number using CAPV: 0.00',\n",
       " '  Temp [K] of the Lifted Condensation Level: 266.44',\n",
       " 'Pres [hPa] of the Lifted Condensation Level: 788.62',\n",
       " '     Mean mixed layer potential temperature: 285.16',\n",
       " '              Mean mixed layer mixing ratio: 2.95',\n",
       " '              1000 hPa to 500 hPa thickness: 5335.00',\n",
       " 'Precipitable water [mm] for entire sounding: 6.41',\n",
       " '</PRE>',\n",
       " '<P>Description of the ',\n",
       " '<A HREF=\"/upperair/columns.html\">data columns</A>',\n",
       " 'or <A HREF=\"/upperair/indices.html\">sounding indices</A>.',\n",
       " '',\n",
       " '<P>',\n",
       " '<FORM>',\n",
       " '<INPUT CLASS=\"button\" TYPE=\"button\" VALUE=\" Close this window \" ',\n",
       " ' onClick=\"window.close();\">',\n",
       " '<INPUT CLASS=\"button\" TYPE=\"button\" VALUE=\" Select another map \" ',\n",
       " ' onClick=\"window.blur();\">',\n",
       " '</FORM>',\n",
       " '<HR SIZE=\"1\">',\n",
       " '<I>Interested in graduate studies in atmospheric science?',\n",
       " 'Check out our program at the',\n",
       " '<a href=\"http://www.uwyo.edu/atsc/howtoapply/\"',\n",
       " 'target=_top>University of Wyoming',\n",
       " '</a></I>',\n",
       " '<HR SIZE=\"1\"><FONT SIZE=\"-1\">',\n",
       " 'Questions about the weather data provided by this site can be',\n",
       " 'addressed to <A HREF=\"mailto:ldoolman@uwyo.edu\">',\n",
       " 'Larry Oolman (ldoolman@uwyo.edu)</A></FONT>',\n",
       " '<HR SIZE=\"1\">',\n",
       " '<SCRIPT TYPE=\"text/javascript\">',\n",
       " '<!--',\n",
       " 'window.focus();',\n",
       " '// -->',\n",
       " '</SCRIPT>',\n",
       " '</BODY>',\n",
       " '</HTML>']"
      ]
     },
     "execution_count": 13,
     "metadata": {},
     "output_type": "execute_result"
    }
   ],
   "source": [
    "# Create an empty list\n",
    "Contents = []\n",
    "\n",
    "# loop over the whole file and append to the Contents list\n",
    "with open('slc_snd.txt','r') as file:\n",
    "    #operate on each line of the open file\n",
    "    for line in file:\n",
    "        # Append the lines in sequence to the list Contents, only using the 0th item of the split list\n",
    "        Contents.append(line.split('\\n')[0])\n",
    "\n",
    "print('shape:', np.shape(Contents))\n",
    "Contents"
   ]
  },
  {
   "cell_type": "markdown",
   "metadata": {},
   "source": [
    "That is much better...we have one list, with size of 192, where each item in the list is the contents of the line _and we removed the pesky new line character_.\n",
    "\n",
    "### Split line contents and convert to floats\n",
    "If we want to take a line of the file and convert all the values to floats, we could do..."
   ]
  },
  {
   "cell_type": "code",
   "execution_count": 14,
   "metadata": {},
   "outputs": [
    {
     "name": "stdout",
     "output_type": "stream",
     "text": [
      "['820.0', '1803', '-2.3', '-6.4', '73', '2.90', '36', '1', '286.6', '295.2', '287.2']\n"
     ]
    }
   ],
   "source": [
    "# Get a single line of data (the 15th line)\n",
    "val = Contents[15]\n",
    "\n",
    "# Split the string (don't specify a delimiter and Python will split by white space)\n",
    "split_val = val.split()\n",
    "print(split_val)\n",
    "\n",
    "# This results in a bunch of strings..."
   ]
  },
  {
   "cell_type": "code",
   "execution_count": 15,
   "metadata": {},
   "outputs": [
    {
     "name": "stdout",
     "output_type": "stream",
     "text": [
      "Convert to float with list comprehension:\n",
      "[820.0, 1803.0, -2.3, -6.4, 73.0, 2.9, 36.0, 1.0, 286.6, 295.2, 287.2]\n",
      "\n",
      "Alternative method with numpy array:\n",
      "[ 8.200e+02  1.803e+03 -2.300e+00 -6.400e+00  7.300e+01  2.900e+00\n",
      "  3.600e+01  1.000e+00  2.866e+02  2.952e+02  2.872e+02]\n"
     ]
    }
   ],
   "source": [
    "# Convert each of those values to floats (2 methods)\n",
    "\n",
    "# A brute-force way to convert those strings to float values, with a list comprehension\n",
    "print('Convert to float with list comprehension:')\n",
    "values = [float(i) for i in split_val]\n",
    "print(values)\n",
    "\n",
    "# Alternative way with numpy\n",
    "print('\\nAlternative method with numpy array:')\n",
    "values2 = np.array(split_val, dtype=float)\n",
    "print(values2)"
   ]
  },
  {
   "cell_type": "markdown",
   "metadata": {},
   "source": [
    "## Data Manipulation with NumPy\n",
    "NumPy functions can be used to make things a little easier. We will use two different approaches for this case\n",
    "\n",
    "### NumPy pluck-and-store value method"
   ]
  },
  {
   "cell_type": "code",
   "execution_count": 16,
   "metadata": {},
   "outputs": [],
   "source": [
    "# Repeat reading the file like we did before\n",
    "\n",
    "# Create an empty list\n",
    "Contents = []\n",
    "# loop over the whole file\n",
    "with open('slc_snd.txt','r') as file:\n",
    "    #operate on each line\n",
    "    for line in file:\n",
    "        #append the lines in sequence to the list Contents\n",
    "        Contents.append(line.split('\\n')[0])"
   ]
  },
  {
   "cell_type": "code",
   "execution_count": 17,
   "metadata": {},
   "outputs": [
    {
     "name": "stdout",
     "output_type": "stream",
     "text": [
      "['  875.0   1289    0.4   -4.2     71   3.22    330      5  284.2  293.5  284.7'\n",
      " '  854.0   1480   -1.1   -5.9     70   2.89    305      7  284.6  293.1  285.1'\n",
      " '  850.0   1517   -1.1   -6.1     69   2.86    300      7  285.0  293.4  285.5'\n",
      " '  820.0   1803   -2.3   -6.4     73   2.90     36      1  286.6  295.2  287.2'\n",
      " '  817.3   1829   -2.4   -6.7     72   2.84     45      1  286.8  295.2  287.3'\n",
      " '  794.0   2058   -3.5   -9.5     63   2.35    338      8  288.0  295.1  288.4'\n",
      " '  786.3   2134   -4.2   -9.8     65   2.32    315     10  288.1  295.1  288.5'\n",
      " '  756.2   2438   -6.8  -11.2     71   2.17    320     13  288.5  295.1  288.9'\n",
      " '  727.1   2743   -9.4  -12.5     78   2.02    330     16  288.9  295.1  289.3'\n",
      " '  700.0   3039  -11.9  -13.8     86   1.89    345     12  289.3  295.1  289.6'\n",
      " '  681.0   3249  -13.7  -15.0     90   1.76    345     12  289.6  295.0  289.9'\n",
      " '  669.0   3384  -14.5  -17.1     81   1.50    345     13  290.1  294.8  290.4'\n",
      " '  645.1   3658  -16.9  -19.7     79   1.25    345     13  290.5  294.4  290.7'\n",
      " '  637.0   3753  -17.7  -20.6     78   1.17    353     13  290.6  294.3  290.8'\n",
      " '  611.0   4064  -19.7  -21.8     83   1.10     18     15  291.8  295.3  291.9'\n",
      " '  594.4   4267  -21.0  -24.6     73   0.88     35     16  292.5  295.4  292.7'\n",
      " '  579.0   4461  -22.3  -27.3     64   0.71     32     17  293.2  295.6  293.4'\n",
      " '  557.0   4745  -24.9  -31.9     52   0.48     27     19  293.4  295.0  293.5'\n",
      " '  548.0   4863  -25.7  -30.2     66   0.57     25     20  293.9  295.8  293.9'\n",
      " '  546.9   4877  -25.8  -30.6     64   0.55     25     20  293.9  295.7  294.0'\n",
      " '  540.0   4969  -26.5  -33.5     52   0.42     24     20  294.1  295.6  294.2'\n",
      " '  534.0   5050  -27.3  -32.3     62   0.48     24     21  294.1  295.7  294.2'\n",
      " '  528.0   5131  -27.9  -35.9     46   0.34     23     21  294.3  295.5  294.4'\n",
      " '  514.0   5324  -29.5  -39.5     37   0.24     22     21  294.7  295.5  294.7'\n",
      " '  505.0   5449  -30.7  -39.7     41   0.24     21     22  294.7  295.6  294.8'\n",
      " '  500.0   5520  -30.9  -41.9     33   0.19     20     22  295.3  296.0  295.3'\n",
      " '  488.0   5692  -32.5  -44.5     29   0.15      4     20  295.4  295.9  295.4'\n",
      " '  470.0   5957  -32.7  -53.7     10   0.05    338     17  298.3  298.6  298.4'\n",
      " '  460.8   6096  -33.6  -56.4      8   0.04    325     15  298.8  299.0  298.9'\n",
      " '  449.0   6278  -34.9  -59.9      6   0.03    328     16  299.5  299.6  299.5'\n",
      " '  433.0   6531  -35.1  -61.1      5   0.02    332     18  302.4  302.5  302.4'\n",
      " '  405.0   6994  -38.1  -62.1      6   0.02    339     20  304.3  304.4  304.3'\n",
      " '  400.0   7080  -37.9  -61.9      6   0.02    340     21  305.6  305.8  305.7'\n",
      " '  389.0   7271  -38.5  -62.5      6   0.02    333     21  307.3  307.4  307.3'\n",
      " '  369.5   7620  -40.4  -63.6      7   0.02    320     20  309.4  309.4  309.4'\n",
      " '  341.0   8165  -43.3  -65.3      7   0.02    324     23  312.6  312.6  312.6'\n",
      " '  324.0   8509  -43.9  -66.9      6   0.01    326     24  316.3  316.4  316.3'\n",
      " '  300.0   9020  -47.7  -67.7      8   0.01    330     27  318.0  318.1  318.0'\n",
      " '  298.0   9064  -48.1  -68.1      8   0.01    330     28  318.1  318.1  318.1'\n",
      " '  294.4   9144  -48.3  -68.3      8   0.01    330     27  318.9  319.0  318.9'\n",
      " '  268.0   9763  -49.5  -69.5      8   0.01    319     29  325.8  325.9  325.8'\n",
      " '  250.0  10220  -49.1  -74.1      4   0.01    310     30  332.9  333.0  332.9'\n",
      " '  226.0  10885  -48.1  -79.1      2   0.00    310     32  344.2  344.2  344.2'\n",
      " '  219.0  11093  -49.3  -80.3      1   0.00    310     33  345.5  345.5  345.5'\n",
      " '  205.0  11527  -48.7  -79.7      2   0.00    310     34  353.0  353.0  353.0'\n",
      " '  200.0  11690  -49.1  -80.1      2   0.00    310     35  354.9  354.9  354.9'\n",
      " '  195.0  11856  -50.1  -81.1      1   0.00    303     34  355.8  355.9  355.8'\n",
      " '  189.0  12060  -49.7  -81.7      1   0.00    295     32  359.7  359.7  359.7'\n",
      " '  185.2  12192  -50.6  -82.2      1   0.00    290     31  360.2  360.2  360.2'\n",
      " '  172.0  12671  -54.1  -84.1      1   0.00    295     46  362.2  362.2  362.2'\n",
      " '  168.5  12802  -53.4  -83.4      1   0.00    305     53  365.5  365.5  365.5'\n",
      " '  167.0  12861  -53.1  -83.1      1   0.00    305     52  366.9  367.0  366.9'\n",
      " '  160.0  13136  -54.5  -83.5      2   0.00    305     49  369.1  369.1  369.1'\n",
      " '  150.0  13550  -54.5  -82.5      2   0.00    305     45  376.0  376.0  376.0'\n",
      " '  147.0  13679  -54.3  -82.3      2   0.00    304     43  378.5  378.5  378.5'\n",
      " '  139.3  14021  -55.3  -83.3      2   0.00    300     36  382.6  382.6  382.6'\n",
      " '  132.8  14326  -56.2  -84.2      2   0.00    280     46  386.3  386.3  386.3'\n",
      " '  132.0  14366  -56.3  -84.3      2   0.00    282     47  386.7  386.8  386.7'\n",
      " '  131.0  14414  -56.3  -84.3      2   0.00    284     47  387.6  387.6  387.6'\n",
      " '  130.0  14463  -54.7  -83.7      2   0.00    286     48  391.3  391.3  391.3'\n",
      " '  127.0  14612  -54.9  -83.9      2   0.00    292     50  393.6  393.6  393.6'\n",
      " '  126.0  14663  -53.5  -83.5      1   0.00    294     51  397.0  397.0  397.0'\n",
      " '  124.0  14765  -53.9  -83.9      1   0.00    298     53  398.1  398.1  398.1'\n",
      " '  120.8  14935  -53.4  -84.2      1   0.00    305     55  402.0  402.0  402.0'\n",
      " '  120.0  14976  -53.3  -84.3      1   0.00    307     54  402.9  402.9  402.9'\n",
      " '  115.2  15240  -54.2  -84.9      1   0.00    320     45  406.0  406.0  406.0'\n",
      " '  109.8  15545  -55.3  -85.5      1   0.00    325     35  409.5  409.5  409.5'\n",
      " '  107.0  15710  -55.9  -85.9      1   0.00    317     30  411.4  411.4  411.4'\n",
      " '  104.7  15850  -55.9  -86.2      1   0.00    310     26  414.0  414.0  414.0'\n",
      " '  100.0  16140  -55.9  -86.9      1   0.00    305     33  419.4  419.5  419.4'\n",
      " '   94.5  16500  -55.5  -86.5      1   0.00    295     30  427.1  427.1  427.1'\n",
      " '   82.6  17351  -58.9  -87.9      1   0.00    271     21  436.9  436.9  436.9'\n",
      " '   82.3  17374  -58.7  -87.8      1   0.00    270     21  437.8  437.8  437.8'\n",
      " '   80.6  17505  -57.5  -87.5      1   0.00    276     24  442.8  442.8  442.8'\n",
      " '   75.4  17924  -59.5  -88.5      1   0.00    297     35  447.1  447.2  447.1'\n",
      " '   74.7  17983  -59.2  -88.4      1   0.00    300     36  449.0  449.0  449.0'\n",
      " '   72.2  18196  -58.1  -88.1      1   0.00    297     31  455.7  455.7  455.7'\n",
      " '   71.2  18288  -58.5  -88.0      1   0.00    295     29  456.8  456.8  456.8'\n",
      " '   70.0  18390  -58.9  -87.9      1   0.00    285     28  458.0  458.1  458.0'\n",
      " '   67.8  18593  -60.1  -88.6      1   0.00    280     33  459.7  459.7  459.7'\n",
      " '   66.0  18757  -61.1  -89.1      1   0.00    287     31  461.0  461.0  461.0'\n",
      " '   64.8  18871  -60.9  -88.9      1   0.00    292     30  463.9  463.9  463.9'\n",
      " '   64.1  18939  -57.5  -87.5      1   0.00    295     30  472.8  472.8  472.8'\n",
      " '   63.5  18999  -57.1  -88.1      1   0.00    298     29  474.9  474.9  474.9'\n",
      " '   58.9  19474  -57.9  -87.9      1   0.00    319     24  483.4  483.5  483.4'\n",
      " '   58.6  19507  -57.7  -87.8      1   0.00    320     24  484.6  484.6  484.6'\n",
      " '   56.3  19760  -56.3  -87.3      1   0.00    353     15  493.4  493.4  493.4'\n",
      " '   55.8  19812  -56.6  -87.5      1   0.00      0     13  493.9  493.9  493.9'\n",
      " '   53.2  20117  -58.3  -88.4      1   0.00    330      6  496.8  496.8  496.8'\n",
      " '   52.9  20153  -58.5  -88.5      1   0.00    332      6  497.1  497.1  497.1'\n",
      " '   50.0  20510  -55.9  -87.9      1   0.00    350      8  511.3  511.3  511.3'\n",
      " '   49.8  20535  -55.7  -87.7      1   0.00    348      8  512.4  512.4  512.4'\n",
      " '   46.8  20927  -58.5  -88.5      1   0.00    322     10  514.8  514.9  514.8'\n",
      " '   46.0  21031  -57.7  -88.2      1   0.00    315     11  519.1  519.1  519.1'\n",
      " '   43.9  21336  -55.5  -87.3      1   0.00     35     18  531.8  531.8  531.8'\n",
      " '   43.5  21389  -55.1  -87.1      1   0.00     32     18  534.0  534.1  534.0'\n",
      " '   39.8  21946  -57.3  -88.6      1   0.00      5     17  542.2  542.2  542.2'\n",
      " '   38.2  22210  -58.3  -89.3      1   0.00     21     17  546.1  546.1  546.1'\n",
      " '   35.8  22620  -55.5  -87.5      1   0.01     46     16  563.5  563.6  563.6'\n",
      " '   34.5  22860  -55.7  -87.7      1   0.01     60     16  569.1  569.2  569.1']\n"
     ]
    }
   ],
   "source": [
    "#To focus on the data of interest, we will skip over the first 12 header rows and \n",
    "# arbitrarily decide to grab the next 100 rows, so that we don't get any of the footer data.\n",
    "data100 = np.array(Contents[12:112])\n",
    "print(data100)"
   ]
  },
  {
   "cell_type": "markdown",
   "metadata": {},
   "source": [
    "This looks clean. The content we have is a list of lengthy strings that contain our data.\n",
    "\n",
    "### Question?\n",
    "How many data columns are there in the file? Look at the file `slc_snd.txt` and take a look.\n",
    "\n",
    "There are 11 columns. Let's create an array of zeros that we can store our data into as we convert it from strings to floats."
   ]
  },
  {
   "cell_type": "code",
   "execution_count": 18,
   "metadata": {},
   "outputs": [
    {
     "name": "stdout",
     "output_type": "stream",
     "text": [
      "[[0. 0. 0. ... 0. 0. 0.]\n",
      " [0. 0. 0. ... 0. 0. 0.]\n",
      " [0. 0. 0. ... 0. 0. 0.]\n",
      " ...\n",
      " [0. 0. 0. ... 0. 0. 0.]\n",
      " [0. 0. 0. ... 0. 0. 0.]\n",
      " [0. 0. 0. ... 0. 0. 0.]]\n"
     ]
    }
   ],
   "source": [
    "# Number of rows in our data of interest\n",
    "rows = np.shape(data100)[0]\n",
    "\n",
    "# Create a 2-D array of size rows by 11 columns that we will store our sounding values in\n",
    "snd_vals = np.zeros((rows, 11))\n",
    "print(snd_vals)"
   ]
  },
  {
   "cell_type": "code",
   "execution_count": 19,
   "metadata": {},
   "outputs": [
    {
     "data": {
      "text/plain": [
       "1100"
      ]
     },
     "execution_count": 19,
     "metadata": {},
     "output_type": "execute_result"
    }
   ],
   "source": [
    "# look at the diference in information returned using the `size` vs `shape` function\n",
    "np.size(snd_vals)"
   ]
  },
  {
   "cell_type": "code",
   "execution_count": 20,
   "metadata": {},
   "outputs": [
    {
     "data": {
      "text/plain": [
       "(100, 11)"
      ]
     },
     "execution_count": 20,
     "metadata": {},
     "output_type": "execute_result"
    }
   ],
   "source": [
    "np.shape(snd_vals)"
   ]
  },
  {
   "cell_type": "markdown",
   "metadata": {},
   "source": [
    "Now `snd_vals` is just a 2-d array of size 100 x 11 filled with zeros.\n",
    "\n",
    "The next step is to actually _put data into that array_..."
   ]
  },
  {
   "cell_type": "markdown",
   "metadata": {},
   "source": [
    "We now introduce you to a new handy numpy function...`arange()` is similar to the Python's built-in `range()` function, but the output is a NumPy array instead of a list. (It also allows for fractional step incraments)."
   ]
  },
  {
   "cell_type": "code",
   "execution_count": 21,
   "metadata": {},
   "outputs": [
    {
     "name": "stdout",
     "output_type": "stream",
     "text": [
      "[0 1 2 3 4]\n",
      "[10  9  8  7  6  5  4  3  2  1  0]\n"
     ]
    }
   ],
   "source": [
    "# try the following\n",
    "a = np.arange(5)\n",
    "print(a)\n",
    "b = np.arange(10,-1,-1)\n",
    "print(b)"
   ]
  },
  {
   "cell_type": "markdown",
   "metadata": {},
   "source": [
    "Ok, let's loop through all the rows and grab the data...\n",
    "\n",
    "Ugh. You will see why dealing with I/O can be a hassle and that there are many, many ways to do the same thing!\n",
    "1. For all rows...\n",
    "1. Skip over the first 12 header rows of `Contents`.\n",
    "1. This time, use `np.fromstring` to split the values\n",
    "    - Convert to floats with `dtype` argument.\n",
    "    - Separate the values by whitespace with the `sep` argument.\n",
    "1. For each converted row of values, put that row into our new `snd_vals` array, replacing the zeros that are currently there."
   ]
  },
  {
   "cell_type": "code",
   "execution_count": 22,
   "metadata": {},
   "outputs": [
    {
     "name": "stdout",
     "output_type": "stream",
     "text": [
      "[[ 8.750e+02  1.289e+03  4.000e-01 ...  2.842e+02  2.935e+02  2.847e+02]\n",
      " [ 8.540e+02  1.480e+03 -1.100e+00 ...  2.846e+02  2.931e+02  2.851e+02]\n",
      " [ 8.500e+02  1.517e+03 -1.100e+00 ...  2.850e+02  2.934e+02  2.855e+02]\n",
      " ...\n",
      " [ 3.820e+01  2.221e+04 -5.830e+01 ...  5.461e+02  5.461e+02  5.461e+02]\n",
      " [ 3.580e+01  2.262e+04 -5.550e+01 ...  5.635e+02  5.636e+02  5.636e+02]\n",
      " [ 3.450e+01  2.286e+04 -5.570e+01 ...  5.691e+02  5.692e+02  5.691e+02]]\n"
     ]
    }
   ],
   "source": [
    "# Use the arange function to loop over 100 rows\n",
    "for i in np.arange(rows):\n",
    "    # Skip 12 header rows and split the values into floats.\n",
    "    val= np.fromstring(Contents[i+12], dtype=float, sep=' ' )\n",
    "    # For the ith row of converted values, put the converted values into the ith row of the snd_vals storage array.\n",
    "    snd_vals[i,:]=val[:]\n",
    "\n",
    "# What did we get?\n",
    "print(snd_vals)"
   ]
  },
  {
   "cell_type": "code",
   "execution_count": 23,
   "metadata": {},
   "outputs": [
    {
     "data": {
      "text/plain": [
       "(100, 11)"
      ]
     },
     "execution_count": 23,
     "metadata": {},
     "output_type": "execute_result"
    }
   ],
   "source": [
    "# What is the shape of snd_vals again?\n",
    "np.shape(snd_vals)"
   ]
  },
  {
   "cell_type": "code",
   "execution_count": 24,
   "metadata": {},
   "outputs": [
    {
     "data": {
      "text/plain": [
       "array([ 8.750e+02,  1.289e+03,  4.000e-01, -4.200e+00,  7.100e+01,\n",
       "        3.220e+00,  3.300e+02,  5.000e+00,  2.842e+02,  2.935e+02,\n",
       "        2.847e+02])"
      ]
     },
     "execution_count": 24,
     "metadata": {},
     "output_type": "execute_result"
    }
   ],
   "source": [
    "# What is in the first row?\n",
    "snd_vals[0]"
   ]
  },
  {
   "cell_type": "markdown",
   "metadata": {},
   "source": [
    "### Yea! This is the format we want the data in 👍🏻\n",
    "_...that was painful_\n",
    "\n",
    "> **Custom Functions**: This example of loading sounding data demonstartes the importance of learning how to write your own functions! Reading sounding data is often repeated, and you won't want to recode this again now that you figured out out how to do it. When you get the data in the format way you want it, put those statements in a function and save it in a `.py` file so you can use it later. FYI: you can import functions from python scripts such as `from my_script import my_function`."
   ]
  },
  {
   "cell_type": "markdown",
   "metadata": {},
   "source": [
    "---\n",
    "# Plot Sounding Data\n",
    "\n",
    "## Accessing variable data from the 2D array\n",
    "\n",
    "Remember that indexing & slicing in NumPy differs from regular Python\n",
    "- **Python**: `[i][j]`\n",
    "- **NumPy**: `[i,j]`\n",
    "\n",
    "Where `i` is the row and `j` is the column.\n",
    "\n",
    "### Question\n",
    "What values are stored in each column? Lets, Look at the values on the _second row_ (a.k.a. the 1st row)."
   ]
  },
  {
   "cell_type": "code",
   "execution_count": 25,
   "metadata": {},
   "outputs": [
    {
     "name": "stdout",
     "output_type": "stream",
     "text": [
      "854.0\n",
      "1480.0\n",
      "-1.1\n"
     ]
    }
   ],
   "source": [
    "# The first column (0th column) holds the pressures in hPa\n",
    "print(snd_vals[1,0])\n",
    "\n",
    "# the second column (1st column) holds the height in meters\n",
    "print(snd_vals[1,1])\n",
    "\n",
    "# the third column (2nd column) has the temperatures in Celsius\n",
    "print(snd_vals[1,2])\n"
   ]
  },
  {
   "cell_type": "markdown",
   "metadata": {},
   "source": [
    "Now, let's plot up some of what is in the `snd_vals` array. Remember the plotting tools we learned previously...\n",
    "\n",
    "Temperature: All rows `:` in the 2nd column\n",
    "    \n",
    "    snd_vals[:,2]\n",
    "    \n",
    "Height: All rows `:` in the 1st column\n",
    "\n",
    "    snd_vals[:,1]"
   ]
  },
  {
   "cell_type": "code",
   "execution_count": 26,
   "metadata": {},
   "outputs": [
    {
     "data": {
      "image/png": "[encoded data removed]",
      "text/plain": [
       "<Figure size 432x288 with 1 Axes>"
      ]
     },
     "metadata": {
      "needs_background": "light"
     },
     "output_type": "display_data"
    }
   ],
   "source": [
    "# plot the temperature on the x axis as a function of height on the y axis\n",
    "import matplotlib.pyplot as plt\n",
    "\n",
    "plt.plot(snd_vals[:,2], snd_vals[:,1])\n",
    "plt.xlabel('Temperature (C)')\n",
    "plt.ylabel('Elevation (m)')\n",
    "plt.title('Salt Lake Sounding Temperature')\n",
    "plt.grid()\n",
    "\n",
    "# Now, we're making something that's useful!"
   ]
  },
  {
   "cell_type": "markdown",
   "metadata": {},
   "source": [
    "---\n",
    "# Other methods for converting text files...\n",
    "\n",
    "There are always easier ways to do things. Converting from strings to floats can be a hassle.\n",
    "\n",
    "### Read  file using `np.genfromtxt()`\n",
    "In this instance, since the data is fairly regular and doesn't include any strings, the numpy `genfromtxt` function would make it really easy!\n",
    "\n",
    "There are plenty of gotchas hidden in this...In this case, the delimiter between data is any whitespace so it doesn't need to be specified. We also need to use the `skip_header` and `skip_footer` argument."
   ]
  },
  {
   "cell_type": "code",
   "execution_count": 27,
   "metadata": {},
   "outputs": [
    {
     "name": "stdout",
     "output_type": "stream",
     "text": [
      "[[ 8.7500e+02  1.2890e+03  4.0000e-01 ...  2.8420e+02  2.9350e+02\n",
      "   2.8470e+02]\n",
      " [ 8.5400e+02  1.4800e+03 -1.1000e+00 ...  2.8460e+02  2.9310e+02\n",
      "   2.8510e+02]\n",
      " [ 8.5000e+02  1.5170e+03 -1.1000e+00 ...  2.8500e+02  2.9340e+02\n",
      "   2.8550e+02]\n",
      " ...\n",
      " [ 1.2500e+01  2.9316e+04 -5.8100e+01 ...  7.5210e+02  7.5220e+02\n",
      "   7.5210e+02]\n",
      " [ 1.1500e+01  2.9846e+04 -5.3900e+01 ...  7.8530e+02  7.8550e+02\n",
      "   7.8530e+02]\n",
      " [ 1.0600e+01  3.0368e+04 -5.4100e+01 ...  8.0300e+02  8.0330e+02\n",
      "   8.0310e+02]]\n"
     ]
    }
   ],
   "source": [
    "# Load data we previously downloaded\n",
    "slc_snd = np.genfromtxt('slc_snd.txt', skip_header=12, skip_footer=60)\n",
    "\n",
    "#print out entire array and make sure it looks good...\n",
    "print(slc_snd)"
   ]
  },
  {
   "cell_type": "code",
   "execution_count": 28,
   "metadata": {},
   "outputs": [
    {
     "data": {
      "text/plain": [
       "(119, 11)"
      ]
     },
     "execution_count": 28,
     "metadata": {},
     "output_type": "execute_result"
    }
   ],
   "source": [
    "# Print the shape\n",
    "# NOTE: The number of columns for the array was determined by the first row it read\n",
    "np.shape(slc_snd)"
   ]
  },
  {
   "cell_type": "markdown",
   "metadata": {},
   "source": [
    "### Question\n",
    "\n",
    "Try removing  the skip header and footer options and see if it still works. \n",
    "\n",
    "    slc_snd_nohf = np.genfromtxt('slc_snd.txt')\n",
    "\n",
    "What happened? Mixing data arbitrarily in with other content can make things complicated"
   ]
  },
  {
   "cell_type": "code",
   "execution_count": null,
   "metadata": {},
   "outputs": [],
   "source": [
    "\n",
    "\n"
   ]
  },
  {
   "cell_type": "markdown",
   "metadata": {},
   "source": [
    "## Plot Wind Speed vs. Pressure\n",
    "Always check the file to know the units the data is in so you can correctly label your plot."
   ]
  },
  {
   "cell_type": "code",
   "execution_count": 29,
   "metadata": {},
   "outputs": [
    {
     "data": {
      "image/png": "[encoded data removed]",
      "text/plain": [
       "<Figure size 432x288 with 1 Axes>"
      ]
     },
     "metadata": {
      "needs_background": "light"
     },
     "output_type": "display_data"
    }
   ],
   "source": [
    "# plot the pressure in column 0 on the y axis and wind speed on the x axis\n",
    "plt.plot(slc_snd[:,7], slc_snd[:,0])\n",
    "plt.xlabel('Wind Speed (knots)')\n",
    "plt.ylabel('Pressure (hPa))')\n",
    "plt.title('Salt Lake Sounding Wind Speed')\n",
    "plt.grid()\n",
    "\n",
    "# We want the figure to show that pressure decrease with height\n",
    "plt.ylim([875,0]);\n",
    "\n",
    "# Alternativley...\n",
    "#plt.gca().invert_yaxis()"
   ]
  },
  {
   "cell_type": "markdown",
   "metadata": {},
   "source": [
    "# Exercise #1\n",
    "\n",
    "Plot potential temperature (thta) vs. height"
   ]
  },
  {
   "cell_type": "code",
   "execution_count": null,
   "metadata": {},
   "outputs": [],
   "source": [
    "\n",
    "\n",
    "\n",
    "\n",
    "\n",
    "\n",
    "\n",
    "\n"
   ]
  },
  {
   "cell_type": "markdown",
   "metadata": {},
   "source": [
    "### Download and read data with `requests` module\n",
    "Using a differnet module to download the data, then split the text and conver the data, all condensed into three lines."
   ]
  },
  {
   "cell_type": "code",
   "execution_count": 30,
   "metadata": {},
   "outputs": [
    {
     "name": "stdout",
     "output_type": "stream",
     "text": [
      "[[ 8.7500e+02  1.2890e+03  4.0000e-01 ...  2.8420e+02  2.9350e+02\n",
      "   2.8470e+02]\n",
      " [ 8.5400e+02  1.4800e+03 -1.1000e+00 ...  2.8460e+02  2.9310e+02\n",
      "   2.8510e+02]\n",
      " [ 8.5000e+02  1.5170e+03 -1.1000e+00 ...  2.8500e+02  2.9340e+02\n",
      "   2.8550e+02]\n",
      " ...\n",
      " [ 2.7400e+01  2.4321e+04 -5.3100e+01 ...  6.1500e+02  6.1510e+02\n",
      "   6.1500e+02]\n",
      " [ 2.7100e+01  2.4384e+04 -5.3300e+01 ...  6.1610e+02  6.1620e+02\n",
      "   6.1610e+02]\n",
      " [ 2.5900e+01  2.4689e+04 -5.4300e+01 ...  6.2170e+02  6.2180e+02\n",
      "   6.2170e+02]]\n"
     ]
    }
   ],
   "source": [
    "import requests\n",
    "content = requests.get(url_string).text.split('\\n')\n",
    "DATA = np.array([i.split() for i in content[12:119]], dtype=float)\n",
    "print(DATA)"
   ]
  },
  {
   "cell_type": "markdown",
   "metadata": {},
   "source": [
    "# Short detour: chemistry application\n",
    "# Irreversible first order reaction simulation\n",
    "\n",
    "Irreversible first order reactions are perhaps the most common type of kinetic situations. The general form of these reactions is the following:\n",
    "\n",
    "$$A \\rightarrow B$$\n",
    "\n",
    "The rate of change in the concentrations of each species in this system ([A] and [B]) is defined by a series of ordinary differential equations (ODEs). \n",
    "\n",
    "$$ \\frac{d[A]}{dt} = -k[A] $$\n",
    "$$ \\frac{d[B]}{dt} = k[A] $$\n",
    "\n",
    "Where $k$ is the forward rate constant for the given reaction. For these simple systems, analytical solutions to these equations are easily derived and can be found in any introductory chemistry text or [on the web]. For example, the integrated rate law for a first order reaction is as follows:\n",
    "\n",
    "$$ [A] = [A]_{0}e^{-kt} $$\n",
    "\n",
    "Where $[A]_0$ is the initial concentration of compound *A*. \n",
    "\n",
    "In the example below, we are going to fit some simulated first order kinetic data using traditional fitting techniques with the analytical solution above and with the module *odenlls*, which fits the kinetic data using numerical simulations of the reaction ODEs.\n",
    "\n",
    "To start, we'll need to import some extra modules.\n",
    "\n",
    "[on the web]: https://chem.libretexts.org/Core/Physical_and_Theoretical_Chemistry/Kinetics/Reaction_Rates/First-Order_Reactions"
   ]
  },
  {
   "cell_type": "code",
   "execution_count": 31,
   "metadata": {},
   "outputs": [],
   "source": [
    "## Analytical Solutions\n",
    "\n",
    "#Let's define a function that caculates our first order analytical solution. \n",
    "\n",
    "def first_order(times, c_A0, k1):\n",
    "    return c_A0*np.exp(-k1*times)"
   ]
  },
  {
   "cell_type": "code",
   "execution_count": 32,
   "metadata": {},
   "outputs": [
    {
     "data": {
      "text/plain": [
       "[<matplotlib.lines.Line2D at 0x1b6700e1f28>]"
      ]
     },
     "execution_count": 32,
     "metadata": {},
     "output_type": "execute_result"
    },
    {
     "data": {
      "image/png": "[encoded data removed]",
      "text/plain": [
       "<Figure size 432x288 with 1 Axes>"
      ]
     },
     "metadata": {
      "needs_background": "light"
     },
     "output_type": "display_data"
    }
   ],
   "source": [
    "#Let's simulate this function to get a sense of how the data should look.\n",
    "\n",
    "times = np.linspace(0, 100, 1000)\n",
    "A0 = 0.1 # Initial concentration\n",
    "k = 0.05 # rate constant\n",
    "A = first_order(times, A0, k) # Concentrations of A at any time\n",
    "plt.plot(times, A)"
   ]
  },
  {
   "cell_type": "code",
   "execution_count": 33,
   "metadata": {},
   "outputs": [
    {
     "data": {
      "text/plain": [
       "[<matplotlib.lines.Line2D at 0x1b67018b748>]"
      ]
     },
     "execution_count": 33,
     "metadata": {},
     "output_type": "execute_result"
    },
    {
     "data": {
      "image/png": "[encoded data removed]",
      "text/plain": [
       "<Figure size 432x288 with 1 Axes>"
      ]
     },
     "metadata": {
      "needs_background": "light"
     },
     "output_type": "display_data"
    }
   ],
   "source": [
    "#In order to simulate the behavior of the product, we must define a second analytical equation.\n",
    "\n",
    "def first_order_back(times, c_A0, k1):\n",
    "    return c_A0*(1 - np.exp(-k1*times))\n",
    "\n",
    "B = first_order_back(times, A0, k)\n",
    "plt.plot(times, B)"
   ]
  },
  {
   "cell_type": "markdown",
   "metadata": {},
   "source": [
    "---\n",
    "---\n",
    "\n",
    "# Reviewing NumPy basics\n",
    "\n",
    "---\n",
    "\n",
    "## Creation of 1D arrays\n",
    "\n",
    "There are several options to create a 1D numpy arrays:\n",
    "\n",
    "|Function|Description|\n",
    "|--|--|\n",
    "|`numpy.array()` | create an numpy array from a python array-like object, such as a list\n",
    "|`numpy.arange(start, [stop], [step], dtype=None)` | return evenly spaced values with given interval\n",
    "|`numpy.linspace(start, stop, num=50, endpoint=True)` | return evenly spaced numbers over a specified interval."
   ]
  },
  {
   "cell_type": "code",
   "execution_count": null,
   "metadata": {},
   "outputs": [],
   "source": []
  },
  {
   "cell_type": "code",
   "execution_count": 34,
   "metadata": {},
   "outputs": [
    {
     "name": "stdout",
     "output_type": "stream",
     "text": [
      "a := np.linspace(0,1,11):\n",
      "[0.  0.1 0.2 0.3 0.4 0.5 0.6 0.7 0.8 0.9 1. ]\n",
      "\n",
      "b := np.linspace(0,1,10,endpoint=False):\n",
      "[0.  0.1 0.2 0.3 0.4 0.5 0.6 0.7 0.8 0.9]\n",
      "\n"
     ]
    }
   ],
   "source": [
    "# For example, here are a couple of ways to create values over the interval [0,1] with equidistant intervals \n",
    "# where intervals is given by (b-a)/dx\n",
    "a=np.linspace(0,1,11)   \n",
    "print(\"a := np.linspace(0,1,11):\\n{0}\\n\".format(a))\n",
    "\n",
    "# What does the endpoint argument do?\n",
    "b=np.linspace(0,1,10,endpoint=False) \n",
    "print(\"b := np.linspace(0,1,10,endpoint=False):\\n{0}\\n\".format(b))"
   ]
  },
  {
   "cell_type": "markdown",
   "metadata": {},
   "source": [
    "---\n",
    "\n",
    "## Multi-dimensional arrays and `np.reshape`\n",
    "There are a bunch of ways to create numpy arrays of different sizes.\n",
    "- `numpy.array`: create an numpy array from a python array-like object (as in the 1D case)\n",
    "- `numpy.reshape(a, newshape[,order])`\n",
    "    - gives a new shape (dimensionality) to an array without changing its data\n",
    "    - newshape argument is a tuple, i.e. (5, 10) for a 5x10 array.\n",
    "    - order: 'F', 'C'\n",
    "        - 'C': C-order => row-order (Default)\n",
    "        - 'F': Fortran-order => column-order\n",
    "- `numpy.meshgrid(a,b)`: returns coordinate matrices from two or more 1D coordinate vectors. Very useful for plotting gridded data."
   ]
  },
  {
   "cell_type": "code",
   "execution_count": 35,
   "metadata": {},
   "outputs": [
    {
     "name": "stdout",
     "output_type": "stream",
     "text": [
      "a := np.array([[1,2,3,4],[5,6,7,8],[9,10,11,12]]) :\n",
      "[[ 1  2  3  4]\n",
      " [ 5  6  7  8]\n",
      " [ 9 10 11 12]]\n",
      "\n",
      "b := np.arange(1,13).reshape(3,4) :\n",
      "[[ 1  2  3  4]\n",
      " [ 5  6  7  8]\n",
      " [ 9 10 11 12]]\n",
      "\n"
     ]
    }
   ],
   "source": [
    "# Numpy-array from 2D List\n",
    "a = np.array([[1,2,3,4], [5,6,7,8], [9,10,11,12]])\n",
    "\n",
    "print(\"a := np.array([[1,2,3,4],[5,6,7,8],[9,10,11,12]]) :\\n{0}\\n\".format(a))\n",
    "\n",
    "# Reshape\n",
    "b = np.arange(1,13).reshape(3,4)\n",
    "print(\"b := np.arange(1,13).reshape(3,4) :\\n{0}\\n\".format(b))"
   ]
  },
  {
   "cell_type": "code",
   "execution_count": 36,
   "metadata": {},
   "outputs": [
    {
     "name": "stdout",
     "output_type": "stream",
     "text": [
      "a := np.array([[1,2,3],[4,5,6]]) :\n",
      "[[1 2 3]\n",
      " [4 5 6]]\n",
      "\n",
      "b1:= np.reshape(a,(1,6)) :\n",
      "[[1 2 3 4 5 6]]\n",
      "\n",
      "b2:= np.reshape(a,(1,6),order='F') :\n",
      "[[1 4 2 5 3 6]]\n",
      "\n"
     ]
    }
   ],
   "source": [
    "a = np.array([[1,2,3],[4,5,6]])\n",
    "print(\"a := np.array([[1,2,3],[4,5,6]]) :\\n{0}\\n\".format(a))\n",
    "\n",
    "# Row-order (C)\n",
    "b1 = np.reshape(a,(1,6))\n",
    "print(\"b1:= np.reshape(a,(1,6)) :\\n{0}\\n\".format(b1))\n",
    "\n",
    "# Column-order Fortran\n",
    "b2 = np.reshape(a,(1,6),order='F')\n",
    "print(\"b2:= np.reshape(a,(1,6),order='F') :\\n{0}\\n\".format(b2))"
   ]
  },
  {
   "cell_type": "markdown",
   "metadata": {},
   "source": [
    "**^ The difference between C and F ordering is important to recognize, so make sure this makes sense to you (or ask questions!)**\n",
    "\n",
    "---\n",
    "\n",
    "## Meshgrid and 3D plotting\n",
    "Great tool for making grids used in 2-D array calculations and for plots."
   ]
  },
  {
   "cell_type": "code",
   "execution_count": 37,
   "metadata": {},
   "outputs": [
    {
     "name": "stdout",
     "output_type": "stream",
     "text": [
      " BEFORE Invoking the Meshgrid function:\n",
      "   x := dim:(8,):\n",
      "[-1.   -0.75 -0.5  -0.25  0.    0.25  0.5   0.75]\n",
      "\n",
      "   y := dim:(8,):\n",
      "[-1.   -0.75 -0.5  -0.25  0.    0.25  0.5   0.75]\n",
      "\n",
      " AFTER Invoking the Meshgrid function:\n",
      "   X := dim:(8, 8):\n",
      "[[-1.   -0.75 -0.5  -0.25  0.    0.25  0.5   0.75]\n",
      " [-1.   -0.75 -0.5  -0.25  0.    0.25  0.5   0.75]\n",
      " [-1.   -0.75 -0.5  -0.25  0.    0.25  0.5   0.75]\n",
      " [-1.   -0.75 -0.5  -0.25  0.    0.25  0.5   0.75]\n",
      " [-1.   -0.75 -0.5  -0.25  0.    0.25  0.5   0.75]\n",
      " [-1.   -0.75 -0.5  -0.25  0.    0.25  0.5   0.75]\n",
      " [-1.   -0.75 -0.5  -0.25  0.    0.25  0.5   0.75]\n",
      " [-1.   -0.75 -0.5  -0.25  0.    0.25  0.5   0.75]]\n",
      "\n",
      "   Y := dim:(8, 8):\n",
      "[[-1.   -1.   -1.   -1.   -1.   -1.   -1.   -1.  ]\n",
      " [-0.75 -0.75 -0.75 -0.75 -0.75 -0.75 -0.75 -0.75]\n",
      " [-0.5  -0.5  -0.5  -0.5  -0.5  -0.5  -0.5  -0.5 ]\n",
      " [-0.25 -0.25 -0.25 -0.25 -0.25 -0.25 -0.25 -0.25]\n",
      " [ 0.    0.    0.    0.    0.    0.    0.    0.  ]\n",
      " [ 0.25  0.25  0.25  0.25  0.25  0.25  0.25  0.25]\n",
      " [ 0.5   0.5   0.5   0.5   0.5   0.5   0.5   0.5 ]\n",
      " [ 0.75  0.75  0.75  0.75  0.75  0.75  0.75  0.75]]\n",
      "\n"
     ]
    }
   ],
   "source": [
    "# Given two different 1D vectors...\n",
    "x = np.arange(-1,1, 0.25)\n",
    "y = np.arange(-1,1, 0.25)\n",
    "\n",
    "# Create a grid of the data...\n",
    "X,Y = np.meshgrid(x,y)\n",
    "\n",
    "\n",
    "print(\" BEFORE Invoking the Meshgrid function:\")\n",
    "print(\"   x := dim:{0}:\\n{1}\\n\".format(x.shape,x))\n",
    "print(\"   y := dim:{0}:\\n{1}\\n\".format(x.shape,y))\n",
    "\n",
    "print(\" AFTER Invoking the Meshgrid function:\")\n",
    "print(\"   X := dim:{0}:\\n{1}\\n\".format(X.shape,X))\n",
    "print(\"   Y := dim:{0}:\\n{1}\\n\".format(Y.shape,Y))\n",
    "\n",
    "# Do you see the difference between X and Y?"
   ]
  },
  {
   "cell_type": "markdown",
   "metadata": {},
   "source": [
    "**^ Did you see what `np.meshgrid` does?**"
   ]
  },
  {
   "cell_type": "code",
   "execution_count": 38,
   "metadata": {},
   "outputs": [
    {
     "data": {
      "text/plain": [
       "Text(0.5,0.92,'Plot')"
      ]
     },
     "execution_count": 38,
     "metadata": {},
     "output_type": "execute_result"
    },
    {
     "data": {
      "image/png": "[encoded data removed]",
      "text/plain": [
       "<Figure size 576x432 with 1 Axes>"
      ]
     },
     "metadata": {
      "needs_background": "light"
     },
     "output_type": "display_data"
    }
   ],
   "source": [
    "# Now, do some computations with the gridded data and plot a funky shape\n",
    "EPS=1.0E-4\n",
    "r = np.sqrt(X**2 + Y**2) + EPS\n",
    "Z = np.sin(r)/r\n",
    "\n",
    "# Import 3D Matplotlib\n",
    "from mpl_toolkits.mplot3d import Axes3D\n",
    "\n",
    "# Create a 3D figure\n",
    "fig = plt.figure(figsize=(8,6))\n",
    "\n",
    "# Have to generate a 3D plot using matplotlib's `customizable` methods\n",
    "\n",
    "# Get current axes (plt.gca) and set projection\n",
    "ax = fig.gca(projection='3d')\n",
    "\n",
    "# Make a surface plot\n",
    "surf = ax.plot_surface(X, Y, Z, rstride=1, cstride=1, cmap='RdBu', antialiased=False)\n",
    "ax.set_zlim(-0.1, 1.00)\n",
    "ax.set_title(\"Plot\")"
   ]
  },
  {
   "cell_type": "markdown",
   "metadata": {},
   "source": [
    "# Exercise #2\n",
    "Change the x and y dimensions to +/- 8 . What does the figure look like?"
   ]
  },
  {
   "cell_type": "code",
   "execution_count": null,
   "metadata": {},
   "outputs": [],
   "source": [
    "\n",
    "\n",
    "\n",
    "\n"
   ]
  },
  {
   "cell_type": "code",
   "execution_count": null,
   "metadata": {},
   "outputs": [],
   "source": []
  },
  {
   "cell_type": "markdown",
   "metadata": {},
   "source": [
    "---\n",
    "\n",
    "## More reshape and flatten"
   ]
  },
  {
   "cell_type": "code",
   "execution_count": 39,
   "metadata": {},
   "outputs": [
    {
     "name": "stdout",
     "output_type": "stream",
     "text": [
      "a := np.arange(30).reshape((2,3,5)) :\n",
      "[[[ 0  1  2  3  4]\n",
      "  [ 5  6  7  8  9]\n",
      "  [10 11 12 13 14]]\n",
      "\n",
      " [[15 16 17 18 19]\n",
      "  [20 21 22 23 24]\n",
      "  [25 26 27 28 29]]]\n",
      "\n"
     ]
    }
   ],
   "source": [
    "# Reshape a vector to a 3D array\n",
    "\n",
    "# created two 2D arrays of size 3 rows by 5 columns\n",
    "a = np.arange(30).reshape((2,3,5))\n",
    "print(\"a := np.arange(30).reshape((2,3,5)) :\\n{0}\\n\".format(a))"
   ]
  },
  {
   "cell_type": "code",
   "execution_count": 40,
   "metadata": {},
   "outputs": [
    {
     "name": "stdout",
     "output_type": "stream",
     "text": [
      "b := np.flatten(a,order='C') :\n",
      "[ 0  1  2  3  4  5  6  7  8  9 10 11 12 13 14 15 16 17 18 19 20 21 22 23\n",
      " 24 25 26 27 28 29]\n",
      "\n"
     ]
    }
   ],
   "source": [
    "# Flatten a multi-dimensional array\n",
    "b = a.flatten(order='C')\n",
    "print(\"b := np.flatten(a,order='C') :\\n{0}\\n\".format(b))"
   ]
  },
  {
   "cell_type": "code",
   "execution_count": 41,
   "metadata": {},
   "outputs": [
    {
     "name": "stdout",
     "output_type": "stream",
     "text": [
      "a := np.arange(20).reshape((4,5)) :\n",
      "[[ 0  1  2  3  4]\n",
      " [ 5  6  7  8  9]\n",
      " [10 11 12 13 14]\n",
      " [15 16 17 18 19]]\n",
      "\n",
      "b := np.arange(20.).reshape((4,5)) :\n",
      "[[ 0.  1.  2.  3.  4.]\n",
      " [ 5.  6.  7.  8.  9.]\n",
      " [10. 11. 12. 13. 14.]\n",
      " [15. 16. 17. 18. 19.]]\n",
      "\n"
     ]
    }
   ],
   "source": [
    "#NumPy arrays have many properties including the type of data contained in them\n",
    "\n",
    "# For example, an array of integers vs. an array of floats...\n",
    "a = np.arange(20).reshape(4,5)\n",
    "b = np.arange(20.).reshape(4,5)\n",
    "\n",
    "print(\"a := np.arange(20).reshape((4,5)) :\\n{0}\\n\".format(a))\n",
    "print(\"b := np.arange(20.).reshape((4,5)) :\\n{0}\\n\".format(b))"
   ]
  },
  {
   "cell_type": "markdown",
   "metadata": {},
   "source": [
    "---\n",
    "\n",
    "## Review of indexing and slicing"
   ]
  },
  {
   "cell_type": "code",
   "execution_count": 42,
   "metadata": {},
   "outputs": [
    {
     "name": "stdout",
     "output_type": "stream",
     "text": [
      " a:\n",
      "[[0.72126732 0.38127184 0.0052747  0.35094302 0.07765468]\n",
      " [0.96348581 0.33838108 0.18748045 0.91208702 0.20748469]\n",
      " [0.46697311 0.03179635 0.49716867 0.65112427 0.5827423 ]\n",
      " [0.40546301 0.5540898  0.3950406  0.98028316 0.25933681]\n",
      " [0.96032102 0.84260355 0.4984726  0.92346141 0.6996346 ]]\n",
      "\n",
      " b:\n",
      "[[0.98028316 0.25933681]\n",
      " [0.92346141 0.6996346 ]]\n",
      "\n",
      " b:\n",
      "[[0. 0.]\n",
      " [0. 0.]]\n",
      "\n",
      " new a:\n",
      "[[0.72126732 0.38127184 0.0052747  0.35094302 0.07765468]\n",
      " [0.96348581 0.33838108 0.18748045 0.91208702 0.20748469]\n",
      " [0.46697311 0.03179635 0.49716867 0.65112427 0.5827423 ]\n",
      " [0.40546301 0.5540898  0.3950406  0.         0.        ]\n",
      " [0.96032102 0.84260355 0.4984726  0.         0.        ]]\n",
      "\n"
     ]
    }
   ],
   "source": [
    "# Generate some data\n",
    "a = np.random.random((5,5))\n",
    "print(\" a:\\n{0}\\n\".format(a))\n",
    "\n",
    "# b is a slice of a \n",
    "b = a[3:5,3:5]\n",
    "print(\" b:\\n{0}\\n\".format(b))\n",
    "\n",
    "#Modify b:\n",
    "b[:,:]=0.0\n",
    "print(\" b:\\n{0}\\n\".format(b))\n",
    "print(\" new a:\\n{0}\\n\".format(a))"
   ]
  },
  {
   "cell_type": "markdown",
   "metadata": {},
   "source": [
    "---\n",
    "\n",
    "## Logical Operations with Arrays\n",
    "\n",
    "The `np.where` function provides simple ways to define the elements of arrays that meet certain conditions. If the condition is `true` then the index values are returned."
   ]
  },
  {
   "cell_type": "code",
   "execution_count": 43,
   "metadata": {},
   "outputs": [
    {
     "name": "stdout",
     "output_type": "stream",
     "text": [
      "Press > 500 hPa:\n",
      " [ True  True  True  True  True  True  True  True  True  True  True  True\n",
      "  True  True  True  True  True  True  True  True  True  True  True  True\n",
      "  True False False False False False False False False False False False\n",
      " False False False False False False False False False False False False\n",
      " False False False False False False False False False False False False\n",
      " False False False False False False False False False False False False\n",
      " False False False False False False False False False False False False\n",
      " False False False False False False False False False False False False\n",
      " False False False False False False False False False False False False\n",
      " False False False False False False False False False False False]\n",
      "\n",
      "Index values of high_p:\n",
      "(array([ 0,  1,  2,  3,  4,  5,  6,  7,  8,  9, 10, 11, 12, 13, 14, 15, 16,\n",
      "       17, 18, 19, 20, 21, 22, 23, 24], dtype=int64),)\n",
      "\n"
     ]
    }
   ],
   "source": [
    "print('Press > 500 hPa:\\n', slc_snd[:,0]>500)\n",
    "\n",
    "# Which index values for presssure in the slc_snd array are greater than 500 hPa?\n",
    "high_p = np.where(slc_snd[:,0]>500.)\n",
    "print(\"\\nIndex values of high_p:\\n{0}\\n\".format(high_p))"
   ]
  },
  {
   "cell_type": "code",
   "execution_count": 44,
   "metadata": {},
   "outputs": [
    {
     "name": "stdout",
     "output_type": "stream",
     "text": [
      "[[875.  854.  850.  820.  817.3 794.  786.3 756.2 727.1 700.  681.  669.\n",
      "  645.1 637.  611.  594.4 579.  557.  548.  546.9 540.  534.  528.  514.\n",
      "  505. ]]\n"
     ]
    }
   ],
   "source": [
    "# So, what are those values of pressure greater than 500 hPa?\n",
    "p_vals = slc_snd[high_p,0]\n",
    "print(p_vals)"
   ]
  },
  {
   "cell_type": "markdown",
   "metadata": {},
   "source": [
    "What if we want to know when the winds are greater than 15 knots below 500 hPa?\n",
    "\n",
    "    pres_500_wind_15 = np.where((slc_snd[:,0]>500.) and (slc_snd[:,7]> 15))\n",
    "\n",
    "This would result in an error!...(try it)"
   ]
  },
  {
   "cell_type": "code",
   "execution_count": 45,
   "metadata": {},
   "outputs": [],
   "source": [
    "# Uncomment to try this and look at the error\n",
    "#pres_500_wind_15 = np.where((slc_snd[:,0]>500.) and (slc_snd[:,7]> 15))"
   ]
  },
  {
   "cell_type": "markdown",
   "metadata": {},
   "source": [
    "#### ☝🏻 Use Boolean logic to get around that error\n",
    "\n",
    "Look at the first `np.where` statement (high_p) and see it returned indexes for where the condintion was `True`.\n",
    "\n",
    "Now consider the following: **Boolean arrays can be multiplied and added**.\n",
    "    \n",
    "- _Boolean multiplication_ is equivalent to **`and`**\n",
    "    - True x True = True\n",
    "    - True x False = False\n",
    "    - False x False = False\n",
    "- _Boolean addition_ is equivalent to **`or`**\n",
    "    - True + True = True\n",
    "    - True + False = True\n",
    "    - False + False = False\n",
    "    "
   ]
  },
  {
   "cell_type": "code",
   "execution_count": 46,
   "metadata": {},
   "outputs": [
    {
     "name": "stdout",
     "output_type": "stream",
     "text": [
      "[False False False False False False False False  True False False False\n",
      " False False False  True  True  True  True  True  True  True  True  True\n",
      "  True False False False False False False False False False False False\n",
      " False False False False False False False False False False False False\n",
      " False False False False False False False False False False False False\n",
      " False False False False False False False False False False False False\n",
      " False False False False False False False False False False False False\n",
      " False False False False False False False False False False False False\n",
      " False False False False False False False False False False False False\n",
      " False False False False False False False False False False False]\n",
      "[727.1 594.4 579.  557.  548.  546.9 540.  534.  528.  514.  505. ] \t [16. 16. 17. 19. 20. 20. 20. 21. 21. 21. 22.]\n"
     ]
    }
   ],
   "source": [
    "high_Pressure = slc_snd[:,0] > 500\n",
    "high_Temperature = slc_snd[:,7] > 15\n",
    "\n",
    "both = high_Pressure * high_Temperature\n",
    "print(both)\n",
    "\n",
    "pres_values = slc_snd[np.where(both), 0]\n",
    "temp_values = slc_snd[np.where(both), 7]\n",
    "\n",
    "for i in range(len(pres_values)):\n",
    "    print(pres_values[i], '\\t', temp_values[i])"
   ]
  },
  {
   "cell_type": "code",
   "execution_count": 47,
   "metadata": {},
   "outputs": [
    {
     "name": "stdout",
     "output_type": "stream",
     "text": [
      " Index values of high_p and high wind speed:\n",
      "(array([ 8, 15, 16, 17, 18, 19, 20, 21, 22, 23, 24], dtype=int64),)\n",
      "\n",
      "[[727.1 594.4 579.  557.  548.  546.9 540.  534.  528.  514.  505. ]] [[16. 16. 17. 19. 20. 20. 20. 21. 21. 21. 22.]]\n"
     ]
    }
   ],
   "source": [
    "# Alternativley...more conndensed...\n",
    "p_500_w_15 = np.where( (slc_snd[:,0]>500.) * (slc_snd[:,7]> 15) )\n",
    "\n",
    "print(\" Index values of high_p and high wind speed:\\n{0}\\n\".format(p_500_w_15))\n",
    "print(slc_snd[p_500_w_15,0],slc_snd[p_500_w_15,7])"
   ]
  },
  {
   "cell_type": "code",
   "execution_count": 48,
   "metadata": {},
   "outputs": [
    {
     "data": {
      "text/plain": [
       "array([False, False, False, False, False, False, False, False,  True,\n",
       "       False, False, False, False, False, False,  True,  True,  True,\n",
       "        True,  True,  True,  True,  True,  True,  True, False, False,\n",
       "       False, False, False, False, False, False, False, False, False,\n",
       "       False, False, False, False, False, False, False, False, False,\n",
       "       False, False, False, False, False, False, False, False, False,\n",
       "       False, False, False, False, False, False, False, False, False,\n",
       "       False, False, False, False, False, False, False, False, False,\n",
       "       False, False, False, False, False, False, False, False, False,\n",
       "       False, False, False, False, False, False, False, False, False,\n",
       "       False, False, False, False, False, False, False, False, False,\n",
       "       False, False, False, False, False, False, False, False, False,\n",
       "       False, False, False, False, False, False, False, False, False,\n",
       "       False, False])"
      ]
     },
     "execution_count": 48,
     "metadata": {},
     "output_type": "execute_result"
    }
   ],
   "source": [
    "# There is also a numpy function that does the same thing:\n",
    "np.logical_and(slc_snd[:,0]>500., slc_snd[:,7]> 15)"
   ]
  },
  {
   "cell_type": "markdown",
   "metadata": {},
   "source": [
    "---\n",
    "\n",
    "## Masked array module\n",
    "\n",
    "What if we wanted to plot only the levels in our sounding where the winds are greater than 15 mph?\n",
    "\n",
    "Masks cover things so they can't be seen, and so **masked arrays** contain values identified to not be used in calculations or in plots.\n",
    "\n",
    "More commonly, we might have data that has unrealistic values and we want to not use those in calculations\n",
    "\n",
    "First, import the masked submodule `ma` from numpy."
   ]
  },
  {
   "cell_type": "code",
   "execution_count": 49,
   "metadata": {},
   "outputs": [],
   "source": [
    "# import masked array submodule from numpy\n",
    "import numpy.ma as ma"
   ]
  },
  {
   "cell_type": "code",
   "execution_count": 50,
   "metadata": {},
   "outputs": [
    {
     "name": "stdout",
     "output_type": "stream",
     "text": [
      "[ True  True  True  True  True  True  True  True False  True  True  True\n",
      "  True  True False False False False False False False False False False\n",
      " False False False False False False False False False False False False\n",
      " False False False False False False False False False False False False\n",
      " False False False False False False False False False False False False\n",
      " False False False False False False False False False False False False\n",
      " False False False False False False False False False False False False\n",
      " False False False  True  True  True  True  True  True  True False False\n",
      " False False False False False False False False False False False False\n",
      " False False False False False False False False False False False]\n"
     ]
    }
   ],
   "source": [
    "# find all the elements with winds < 15 knots\n",
    "w_l15 =  slc_snd[:,7]< 15\n",
    "print(w_l15)"
   ]
  },
  {
   "cell_type": "code",
   "execution_count": 51,
   "metadata": {},
   "outputs": [
    {
     "name": "stdout",
     "output_type": "stream",
     "text": [
      "[-- -- -- -- -- -- -- -- 727.1 -- -- -- -- -- 611.0 594.4 579.0 557.0\n",
      " 548.0 546.9 540.0 534.0 528.0 514.0 505.0 500.0 488.0 470.0 460.8 449.0\n",
      " 433.0 405.0 400.0 389.0 369.5 341.0 324.0 300.0 298.0 294.4 268.0 250.0\n",
      " 226.0 219.0 205.0 200.0 195.0 189.0 185.2 172.0 168.5 167.0 160.0 150.0\n",
      " 147.0 139.3 132.8 132.0 131.0 130.0 127.0 126.0 124.0 120.8 120.0 115.2\n",
      " 109.8 107.0 104.7 100.0 94.5 82.6 82.3 80.6 75.4 74.7 72.2 71.2 70.0 67.8\n",
      " 66.0 64.8 64.1 63.5 58.9 58.6 56.3 -- -- -- -- -- -- -- 43.9 43.5 39.8\n",
      " 38.2 35.8 34.5 31.3 30.0 29.6 28.7 27.4 27.1 25.9 22.4 21.7 20.4 20.0\n",
      " 19.1 16.9 16.8 15.1 14.3 12.5 11.5 10.6]\n",
      "[-- -- -- -- -- -- -- -- 16.0 -- -- -- -- -- 15.0 16.0 17.0 19.0 20.0 20.0\n",
      " 20.0 21.0 21.0 21.0 22.0 22.0 20.0 17.0 15.0 16.0 18.0 20.0 21.0 21.0\n",
      " 20.0 23.0 24.0 27.0 28.0 27.0 29.0 30.0 32.0 33.0 34.0 35.0 34.0 32.0\n",
      " 31.0 46.0 53.0 52.0 49.0 45.0 43.0 36.0 46.0 47.0 47.0 48.0 50.0 51.0\n",
      " 53.0 55.0 54.0 45.0 35.0 30.0 26.0 33.0 30.0 21.0 21.0 24.0 35.0 36.0\n",
      " 31.0 29.0 28.0 33.0 31.0 30.0 30.0 29.0 24.0 24.0 15.0 -- -- -- -- -- --\n",
      " -- 18.0 18.0 17.0 17.0 16.0 16.0 29.0 24.0 24.0 23.0 22.0 22.0 22.0 35.0\n",
      " 31.0 22.0 22.0 23.0 27.0 27.0 27.0 27.0 26.0 26.0 26.0]\n"
     ]
    }
   ],
   "source": [
    "# Mask the pressure values when there where winds greater than 15 knots...\n",
    "p_w_l15 = ma.array(slc_snd[:,0], mask=w_l15)\n",
    "print(p_w_l15)\n",
    "\n",
    "# and mask the corresponding wind values...\n",
    "w_w_l15 = ma.array(slc_snd[:,7],mask = w_l15)\n",
    "print(w_w_l15)"
   ]
  },
  {
   "cell_type": "markdown",
   "metadata": {},
   "source": [
    "**^ Notice the `--` fields in the array, which are the masked, or hidden, values.**"
   ]
  },
  {
   "cell_type": "code",
   "execution_count": 52,
   "metadata": {},
   "outputs": [
    {
     "data": {
      "text/plain": [
       "(0, 70)"
      ]
     },
     "execution_count": 52,
     "metadata": {},
     "output_type": "execute_result"
    },
    {
     "data": {
      "image/png": "[encoded data removed]",
      "text/plain": [
       "<Figure size 432x288 with 1 Axes>"
      ]
     },
     "metadata": {
      "needs_background": "light"
     },
     "output_type": "display_data"
    }
   ],
   "source": [
    "# OK, let's plot the levels with higher winds only\n",
    "plt.plot(w_w_l15,p_w_l15)\n",
    "plt.xlabel('Wind Speed (knots)')\n",
    "plt.ylabel('Pressure (hPa)')\n",
    "plt.title('Salt Lake Sounding Wind Speed\\nONLY Winds Greater than 15 knots')\n",
    "plt.grid()\n",
    "\n",
    "#want pressure to decrease with height\n",
    "plt.ylim([875,0])\n",
    "plt.xlim([0,70])"
   ]
  },
  {
   "cell_type": "markdown",
   "metadata": {},
   "source": [
    "# Exercise #3\n",
    "Plot the potential temperature (theta) as a function of height _only_ when the relative humidity is greater than 40%."
   ]
  },
  {
   "cell_type": "code",
   "execution_count": null,
   "metadata": {},
   "outputs": [],
   "source": [
    "\n",
    "\n",
    "\n",
    "\n",
    "\n",
    "\n",
    "\n",
    "\n",
    "\n"
   ]
  },
  {
   "cell_type": "markdown",
   "metadata": {},
   "source": [
    "---\n",
    "<br><br><br><br>\n",
    "\n",
    "# Extra Reference Material\n",
    "---\n",
    "\n",
    "## Saving/Loading Numpy Arrays\n",
    "\n",
    "To save arrays for other Python programs, the numpy.save and numpy.load are available"
   ]
  },
  {
   "cell_type": "code",
   "execution_count": 53,
   "metadata": {},
   "outputs": [],
   "source": [
    "#save the sounding array to a binary file\n",
    "np.save('slc_snd_file',slc_snd)"
   ]
  },
  {
   "cell_type": "code",
   "execution_count": 54,
   "metadata": {},
   "outputs": [],
   "source": [
    "# make sure the file slc_snd_file.npy was created in your directory"
   ]
  },
  {
   "cell_type": "code",
   "execution_count": 55,
   "metadata": {},
   "outputs": [],
   "source": [
    "# load that array back in to a new array\n",
    "sounding_array=np.load('slc_snd_file.npy')"
   ]
  },
  {
   "cell_type": "code",
   "execution_count": 56,
   "metadata": {},
   "outputs": [
    {
     "name": "stdout",
     "output_type": "stream",
     "text": [
      "(array([], dtype=int64), array([], dtype=int64))\n"
     ]
    }
   ],
   "source": [
    "# are they the same?\n",
    "diff_true = np.where(sounding_array - slc_snd)\n",
    "print(diff_true)"
   ]
  },
  {
   "cell_type": "markdown",
   "metadata": {},
   "source": [
    "---\n",
    "\n",
    "## Error Handling\n",
    "\n",
    "Often, you might get errors when you are trying to complete a script. If you know what to do if an error occurs, you can use the `try`, `except`, and `finally` blocks to handle the errors.\n",
    "\n",
    "Say we want to add two numbers together, but sometimes the data will be expressed a string \"NO DATA\". In that case, we will get an error when trying to adda string to a number. (obviously there are other ways to do this, but this is just and example.)\n",
    "\n",
    "    try:\n",
    "        [try this code]\n",
    "    except:\n",
    "        [if that code doesn't work, do this instead]\n",
    "        \n",
    "    try:\n",
    "        [try this code]\n",
    "    finally:\n",
    "        [this code happens no matter what]"
   ]
  },
  {
   "cell_type": "code",
   "execution_count": 57,
   "metadata": {},
   "outputs": [],
   "source": [
    "# A list of lists, with some bad data\n",
    "a = [[1,2],\n",
    "     [3,4],\n",
    "     [5,'NO DATA'],\n",
    "     [7,8]]"
   ]
  },
  {
   "cell_type": "code",
   "execution_count": 58,
   "metadata": {},
   "outputs": [
    {
     "name": "stdout",
     "output_type": "stream",
     "text": [
      "3\n",
      "7\n"
     ]
    },
    {
     "ename": "TypeError",
     "evalue": "cannot perform reduce with flexible type",
     "output_type": "error",
     "traceback": [
      "\u001b[1;31m---------------------------------------------------------------------------\u001b[0m",
      "\u001b[1;31mTypeError\u001b[0m                                 Traceback (most recent call last)",
      "\u001b[1;32m<ipython-input-58-6ca0e0c71d18>\u001b[0m in \u001b[0;36m<module>\u001b[1;34m()\u001b[0m\n\u001b[0;32m      1\u001b[0m \u001b[1;32mfor\u001b[0m \u001b[0mi\u001b[0m \u001b[1;32min\u001b[0m \u001b[0ma\u001b[0m\u001b[1;33m:\u001b[0m\u001b[1;33m\u001b[0m\u001b[0m\n\u001b[1;32m----> 2\u001b[1;33m     \u001b[0mprint\u001b[0m\u001b[1;33m(\u001b[0m\u001b[0mnp\u001b[0m\u001b[1;33m.\u001b[0m\u001b[0msum\u001b[0m\u001b[1;33m(\u001b[0m\u001b[0mi\u001b[0m\u001b[1;33m)\u001b[0m\u001b[1;33m)\u001b[0m\u001b[1;33m\u001b[0m\u001b[0m\n\u001b[0m\u001b[0;32m      3\u001b[0m     \u001b[1;31m# This results in an error\u001b[0m\u001b[1;33m\u001b[0m\u001b[1;33m\u001b[0m\u001b[0m\n",
      "\u001b[1;32mC:\\ProgramData\\Anaconda3\\lib\\site-packages\\numpy\\core\\fromnumeric.py\u001b[0m in \u001b[0;36msum\u001b[1;34m(a, axis, dtype, out, keepdims, initial)\u001b[0m\n\u001b[0;32m   1928\u001b[0m \u001b[1;33m\u001b[0m\u001b[0m\n\u001b[0;32m   1929\u001b[0m     return _wrapreduction(a, np.add, 'sum', axis, dtype, out, keepdims=keepdims,\n\u001b[1;32m-> 1930\u001b[1;33m                           initial=initial)\n\u001b[0m\u001b[0;32m   1931\u001b[0m \u001b[1;33m\u001b[0m\u001b[0m\n\u001b[0;32m   1932\u001b[0m \u001b[1;33m\u001b[0m\u001b[0m\n",
      "\u001b[1;32mC:\\ProgramData\\Anaconda3\\lib\\site-packages\\numpy\\core\\fromnumeric.py\u001b[0m in \u001b[0;36m_wrapreduction\u001b[1;34m(obj, ufunc, method, axis, dtype, out, **kwargs)\u001b[0m\n\u001b[0;32m     81\u001b[0m                 \u001b[1;32mreturn\u001b[0m \u001b[0mreduction\u001b[0m\u001b[1;33m(\u001b[0m\u001b[0maxis\u001b[0m\u001b[1;33m=\u001b[0m\u001b[0maxis\u001b[0m\u001b[1;33m,\u001b[0m \u001b[0mout\u001b[0m\u001b[1;33m=\u001b[0m\u001b[0mout\u001b[0m\u001b[1;33m,\u001b[0m \u001b[1;33m**\u001b[0m\u001b[0mpasskwargs\u001b[0m\u001b[1;33m)\u001b[0m\u001b[1;33m\u001b[0m\u001b[0m\n\u001b[0;32m     82\u001b[0m \u001b[1;33m\u001b[0m\u001b[0m\n\u001b[1;32m---> 83\u001b[1;33m     \u001b[1;32mreturn\u001b[0m \u001b[0mufunc\u001b[0m\u001b[1;33m.\u001b[0m\u001b[0mreduce\u001b[0m\u001b[1;33m(\u001b[0m\u001b[0mobj\u001b[0m\u001b[1;33m,\u001b[0m \u001b[0maxis\u001b[0m\u001b[1;33m,\u001b[0m \u001b[0mdtype\u001b[0m\u001b[1;33m,\u001b[0m \u001b[0mout\u001b[0m\u001b[1;33m,\u001b[0m \u001b[1;33m**\u001b[0m\u001b[0mpasskwargs\u001b[0m\u001b[1;33m)\u001b[0m\u001b[1;33m\u001b[0m\u001b[0m\n\u001b[0m\u001b[0;32m     84\u001b[0m \u001b[1;33m\u001b[0m\u001b[0m\n\u001b[0;32m     85\u001b[0m \u001b[1;33m\u001b[0m\u001b[0m\n",
      "\u001b[1;31mTypeError\u001b[0m: cannot perform reduce with flexible type"
     ]
    }
   ],
   "source": [
    "for i in a:\n",
    "    print(np.sum(i))\n",
    "    # This results in an error"
   ]
  },
  {
   "cell_type": "code",
   "execution_count": 59,
   "metadata": {},
   "outputs": [
    {
     "name": "stdout",
     "output_type": "stream",
     "text": [
      "3\n",
      "7\n",
      ">>MISSING DATA!\n",
      "15\n"
     ]
    }
   ],
   "source": [
    "# To handle the error appropriately\n",
    "for i in a:\n",
    "    try:\n",
    "        print(np.sum(i))\n",
    "    except:\n",
    "        print('>>MISSING DATA!')"
   ]
  },
  {
   "cell_type": "code",
   "execution_count": 60,
   "metadata": {},
   "outputs": [
    {
     "name": "stdout",
     "output_type": "stream",
     "text": [
      "3\n",
      "7\n",
      "15\n"
     ]
    }
   ],
   "source": [
    "# If you want to simply skip over the error, you can use the `pass` command\n",
    "for i in a:\n",
    "    try:\n",
    "        print(np.sum(i))\n",
    "    except:\n",
    "        pass"
   ]
  },
  {
   "cell_type": "markdown",
   "metadata": {},
   "source": [
    "# JSON formatted data from MesoWest API\n",
    "For those interested in accessing MesoWest data, you can access it easily through the API which returns data in JSON format. https://synopticlabs.org/api/\n",
    "\n",
    "Signup and get your own API key and token: https://synopticlabs.org/api/signup/\n",
    "\n",
    "Read the docs to learn about the different types of requests you can make."
   ]
  },
  {
   "cell_type": "code",
   "execution_count": 61,
   "metadata": {},
   "outputs": [],
   "source": [
    "URL = 'https://api.synopticlabs.org/v2/stations/timeseries?&token=demotoken&start=201801010000&end=201801011200&stid=wbb,mtmet&vars=air_temp'\n",
    "import requests\n",
    "data = requests.get(URL).json()"
   ]
  },
  {
   "cell_type": "code",
   "execution_count": 62,
   "metadata": {},
   "outputs": [
    {
     "name": "stdout",
     "output_type": "stream",
     "text": [
      "dict_keys(['UNITS', 'QC_SUMMARY', 'STATION', 'SUMMARY'])\n"
     ]
    }
   ],
   "source": [
    "# explore the JSON file by looking at the keys() and items in the lists\n",
    "print(data.keys())"
   ]
  },
  {
   "cell_type": "code",
   "execution_count": 63,
   "metadata": {},
   "outputs": [
    {
     "data": {
      "text/plain": [
       "2"
      ]
     },
     "execution_count": 63,
     "metadata": {},
     "output_type": "execute_result"
    }
   ],
   "source": [
    "len(data['STATION'])"
   ]
  },
  {
   "cell_type": "code",
   "execution_count": 64,
   "metadata": {},
   "outputs": [
    {
     "data": {
      "text/plain": [
       "dict_keys(['STATUS', 'MNET_ID', 'PERIOD_OF_RECORD', 'ELEVATION', 'NAME', 'STID', 'SENSOR_VARIABLES', 'ELEV_DEM', 'LONGITUDE', 'STATE', 'OBSERVATIONS', 'RESTRICTED', 'QC_FLAGGED', 'LATITUDE', 'TIMEZONE', 'ID'])"
      ]
     },
     "execution_count": 64,
     "metadata": {},
     "output_type": "execute_result"
    }
   ],
   "source": [
    "data['STATION'][0].keys()"
   ]
  },
  {
   "cell_type": "code",
   "execution_count": 65,
   "metadata": {},
   "outputs": [
    {
     "data": {
      "text/plain": [
       "dict_keys(['date_time', 'air_temp_set_1'])"
      ]
     },
     "execution_count": 65,
     "metadata": {},
     "output_type": "execute_result"
    }
   ],
   "source": [
    "data['STATION'][0]['OBSERVATIONS'].keys()"
   ]
  },
  {
   "cell_type": "code",
   "execution_count": 66,
   "metadata": {},
   "outputs": [
    {
     "data": {
      "text/plain": [
       "<matplotlib.legend.Legend at 0x1b6703530b8>"
      ]
     },
     "execution_count": 66,
     "metadata": {},
     "output_type": "execute_result"
    },
    {
     "data": {
      "image/png": "[encoded data removed]",
      "text/plain": [
       "<Figure size 432x288 with 1 Axes>"
      ]
     },
     "metadata": {
      "needs_background": "light"
     },
     "output_type": "display_data"
    }
   ],
   "source": [
    "plt.plot(data['STATION'][0]['OBSERVATIONS']['air_temp_set_1'], label=data['STATION'][0]['STID'])\n",
    "plt.plot(data['STATION'][1]['OBSERVATIONS']['air_temp_set_1'], label=data['STATION'][1]['STID'])\n",
    "plt.legend()"
   ]
  },
  {
   "cell_type": "code",
   "execution_count": null,
   "metadata": {},
   "outputs": [],
   "source": []
  }
 ],
 "metadata": {
  "kernelspec": {
   "display_name": "Python 3",
   "language": "python",
   "name": "python3"
  },
  "language_info": {
   "codemirror_mode": {
    "name": "ipython",
    "version": 3
   },
   "file_extension": ".py",
   "mimetype": "text/x-python",
   "name": "python",
   "nbconvert_exporter": "python",
   "pygments_lexer": "ipython3",
   "version": "3.7.0"
  }
 },
 "nbformat": 4,
 "nbformat_minor": 2
}
