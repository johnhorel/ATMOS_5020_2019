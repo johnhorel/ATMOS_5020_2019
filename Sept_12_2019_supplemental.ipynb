{
 "cells": [
  {
   "cell_type": "markdown",
   "metadata": {},
   "source": [
    "**September 12, 2019**  \n",
    "**ATMOS 5020: Environmental Programming**  \n",
    "**Brian Blaylock and John Horel** \n",
    "\n",
    "> # Today's Objective\n",
    "> Aaron Meyer will teach us how to import and work with datasets using the Pandas module.\n",
    ">\n",
    "> Remember: Assignment #2 is due on Friday.\n",
    "\n",
    "The content of these notes is for your reference.\n",
    "\n",
    "# I/O Supplemental Material (Chapter 6)\n",
    "I/O stands for data input and output. As an environmental scientist, it is imperative that you learn how to load datasets into Python so you can work with the data. "
   ]
  },
  {
   "cell_type": "markdown",
   "metadata": {},
   "source": [
    "## 🗃 Download repository from GitHub\n",
    "We have used GitHub as a repository of these class notes. Let's download then entire repository to your computer.\n",
    "\n",
    "In the terminal, `cd Desktop`, and then type the following:\n",
    "\n",
    "    git clone https://github.com/johnhorel/ATMOS_5020_2019.git\n",
    "\n",
    "This may take some time, but it will download all the class material into a new directory called `ATMOS_5020_2019` on your Desktop.\n",
    "\n",
    "When you want to update the content with updates from GitHub, `cd ATMOS_5020_2019` and type:\n",
    "\n",
    "    git pull"
   ]
  },
  {
   "cell_type": "markdown",
   "metadata": {},
   "source": [
    "## 🌧 Precipitation file\n",
    "Earlier, we worked with the `utah_precip_oct.csv` file. This file is contained in the `ATMOS_5020_2019/data/` directory. \n",
    "\n",
    "Open the `utah_precip_oct.csv` file in Jupyter Lab and look at the data.\n",
    "\n",
    "\n",
    "### Open precipitation file with Python (most basic method)\n",
    "The most basic way to read a file in Python is with the built-in `open()` function. When you open a file, you need to specify the mode:\n",
    "\n",
    "|mode|description|\n",
    "|--|--|\n",
    "|`'r'`| file is open to read only\n",
    "|`'w'`| file is open to write only\n",
    "|`'w+'` or `'r+'`| output will overwrite the existing content in the file\n",
    "|`'a'`| output will be appended to the end of an existing file\n",
    "|`'b'`| indicates the file content is binary"
   ]
  },
  {
   "cell_type": "code",
   "execution_count": 2,
   "metadata": {},
   "outputs": [],
   "source": [
    "# Open the file with read mode\n",
    "f = open('./data/utah_precip_oct.csv', 'r')\n",
    "\n",
    "# Save the contents of the lines to a variable\n",
    "lines = f.readlines()\n",
    "\n",
    "# Always remember to close the file\n",
    "f.close()"
   ]
  },
  {
   "cell_type": "code",
   "execution_count": null,
   "metadata": {},
   "outputs": [],
   "source": []
  },
  {
   "cell_type": "code",
   "execution_count": 2,
   "metadata": {},
   "outputs": [
    {
     "data": {
      "text/plain": [
       "['STATION__OBSERVATIONS__total_precip_value_1 (mm),STATION__ELEVATION (ft),STATION__STID,STATION__NAME,STATION__LATITUDE,STATION__LONGITUDE,STATION__OBSERVATIONS__count_1\\n',\n",
       " '37.59,4806,WBB,U of U William Browning Building,40.76623,-111.84755,12681\\n',\n",
       " '43.94,4600,HOL,North Holladay,40.6756,-111.8259,846\\n',\n",
       " '51.05,6855,SNC,PARK CITY MUN G.C.,40.66,-111.5149,846\\n',\n",
       " '112.27,7402,SNI,SNOWBASIN - MID  BOWL,41.1995,-111.859,842\\n',\n",
       " '103.38,6316,SBE,SNOWBASIN - BASE,41.2151,-111.8582,841\\n',\n",
       " '27.69,5741,ZNP,ZION NATIONAL PARK,37.2339,-112.8741,845\\n',\n",
       " '16,5500,CRN,CAPITOL REEF NP,38.2898,-111.2619,845\\n',\n",
       " '9.65,4242,GNI,Gunnison Island,41.33216,-112.85432,2135\\n',\n",
       " '5.59,4242,LMS,Locomotive Springs,41.701,-112.86181,2536\\n',\n",
       " '19.81,5039,LMR,Lakeside Mountain,41.06084,-112.89173,2536\\n',\n",
       " '43.43,8015,TPC,Timpanogos Rim,40.43524,-111.70741,846\\n',\n",
       " '30.99,4226,KSLC,\"Salt Lake City, Salt Lake City International Airport\",40.77069,-111.96503,2468\\n',\n",
       " '13.72,4596,KU42,\"Salt Lake City, Salt Lake City Municipal 2 Airport\",40.6196,-111.99016,624\\n',\n",
       " '31.75,4783,KHIF,Hill Air Force Base,41.11112,-111.96229,308\\n',\n",
       " '40.13,4440,KOGD,Ogden-Hinckley Airport,41.19406,-112.01681,2132\\n',\n",
       " '42.93,4498,KPVU,\"Provo, Provo Municipal Airport\",40.21667,-111.71667,239\\n',\n",
       " '30.48,4446,KLGU,Logan-Cache Airport,41.78652,-111.85187,2416\\n',\n",
       " '52.83,5813,KPUC,Price - Carbon County Regional Airport,39.60886,-110.75548,2481\\n',\n",
       " '22.35,5262,KVEL,Vernal Airport,40.44295,-109.51273,247\\n']"
      ]
     },
     "execution_count": 2,
     "metadata": {},
     "output_type": "execute_result"
    }
   ],
   "source": [
    "# display the first 20 lines (don't want to show too much in this window)\n",
    "lines[:20]"
   ]
  },
  {
   "cell_type": "markdown",
   "metadata": {},
   "source": [
    "This is difficult to work with, becuase each line is a string. There are many methods to convert this data. Here is one way:"
   ]
  },
  {
   "cell_type": "code",
   "execution_count": 3,
   "metadata": {},
   "outputs": [],
   "source": [
    "# Use a list comprehension to grab the rain amounts from each line.\n",
    "## For each line in the file (skipping the first) \n",
    "## split the line by the ',' character and get the first item.\n",
    "## Then convert the value to a float\n",
    "\n",
    "rain_mm = [float(i.split(',')[0]) for i in lines[1:]]"
   ]
  },
  {
   "cell_type": "code",
   "execution_count": 4,
   "metadata": {},
   "outputs": [
    {
     "data": {
      "text/plain": [
       "[37.59,\n",
       " 43.94,\n",
       " 51.05,\n",
       " 112.27,\n",
       " 103.38,\n",
       " 27.69,\n",
       " 16.0,\n",
       " 9.65,\n",
       " 5.59,\n",
       " 19.81,\n",
       " 43.43,\n",
       " 30.99,\n",
       " 13.72,\n",
       " 31.75,\n",
       " 40.13,\n",
       " 42.93,\n",
       " 30.48,\n",
       " 52.83,\n",
       " 22.35,\n",
       " 35.05]"
      ]
     },
     "execution_count": 4,
     "metadata": {},
     "output_type": "execute_result"
    }
   ],
   "source": [
    "# Again, only display the first 20 items.\n",
    "rain_mm[:20]"
   ]
  },
  {
   "cell_type": "code",
   "execution_count": 5,
   "metadata": {},
   "outputs": [
    {
     "data": {
      "text/plain": [
       "[190.5, 166.88, 149.86, 147.32, 139.7]"
      ]
     },
     "execution_count": 5,
     "metadata": {},
     "output_type": "execute_result"
    }
   ],
   "source": [
    "# Sort the array and show the top five\n",
    "rain_mm.sort(reverse=True)\n",
    "rain_mm[:5]"
   ]
  },
  {
   "cell_type": "markdown",
   "metadata": {},
   "source": [
    "### Open precipitation file with Numpy `np.genfromtxt()`\n",
    "Numpy has some ability to open the file. Note, that since we use the ',' character as a delimeter and there are commas included in some of the station names\n",
    "\n",
    "    30.99,4226,KSLC,\"Salt Lake City, Salt Lake City International Airport\",40.77069,-111.96503,2468\\n'\n",
    "\n",
    "We want to avoid those, so lets only import the column with the precipitation amount and the station ID."
   ]
  },
  {
   "cell_type": "code",
   "execution_count": 6,
   "metadata": {},
   "outputs": [],
   "source": [
    "import numpy as np"
   ]
  },
  {
   "cell_type": "code",
   "execution_count": 7,
   "metadata": {},
   "outputs": [],
   "source": [
    "precip_data = np.genfromtxt('./data/utah_precip_oct.csv', skip_header=1, delimiter=',', usecols=[0], dtype=None, encoding='UTF-8')"
   ]
  },
  {
   "cell_type": "code",
   "execution_count": 8,
   "metadata": {},
   "outputs": [
    {
     "name": "stdout",
     "output_type": "stream",
     "text": [
      "[ 37.59  43.94  51.05 112.27 103.38  27.69  16.     9.65   5.59  19.81\n",
      "  43.43  30.99  13.72  31.75  40.13  42.93  30.48  52.83  22.35  35.05]\n"
     ]
    }
   ],
   "source": [
    "# Again, only display the first 20 items\n",
    "print(precip_data[:20])"
   ]
  },
  {
   "cell_type": "code",
   "execution_count": 9,
   "metadata": {},
   "outputs": [
    {
     "data": {
      "text/plain": [
       "array([139.7 , 147.32, 149.86, 166.88, 190.5 ])"
      ]
     },
     "execution_count": 9,
     "metadata": {},
     "output_type": "execute_result"
    }
   ],
   "source": [
    "# Sort and display last 5 greatest numbers\n",
    "np.sort(precip_data)[-5:]"
   ]
  },
  {
   "cell_type": "code",
   "execution_count": 10,
   "metadata": {},
   "outputs": [
    {
     "data": {
      "text/plain": [
       "array([190.5 , 166.88, 149.86, 147.32, 139.7 ])"
      ]
     },
     "execution_count": 10,
     "metadata": {},
     "output_type": "execute_result"
    }
   ],
   "source": [
    "# Sort, reverse the array, and get first 5 numbers\n",
    "np.sort(precip_data)[::-1][:5]"
   ]
  },
  {
   "cell_type": "code",
   "execution_count": 11,
   "metadata": {},
   "outputs": [],
   "source": [
    "# Make a histogram of precipitation amounts with 50 bins\n",
    "import matplotlib.pyplot as plt\n",
    "\n",
    "plt.hist(precip_data, bins=50)\n",
    "plt.ylabel(\"Number of Stations\")\n",
    "plt.xlabel(\"Precipitation Amount (mm)\")\n",
    "plt.title('Precipitation Observations in October 2018', fontsize=15)\n",
    "plt.xlim([0,200]);\n",
    "\n",
    "# FYI: a semicolon on the last line will suppress any output matplotlib prints to the screen"
   ]
  },
  {
   "cell_type": "markdown",
   "metadata": {},
   "source": [
    "## 🎈 Weather Balloon: Download text from a URL\n",
    "\n",
    "We can access tons of information directly from the web and load that data into Python.\n",
    "\n",
    "Obviously, there are many different ways to access that data. Some methods are more than others appropriate depending on the situation and data type. Some methods are easy and some are hard. There are shortcuts, which may or may not work depending on the data you work with.\n",
    "\n",
    "<img src=\"./images/sounding.gif\" width=400>\n",
    "\n",
    "One resource to get weather data is a Wyoming web site that provides observations made from rawinsondes of the vertical distribution of wind, tempeature, and moisure with height at hundreds of locations across the world. This data is otherwise known as a **sounding**.\n",
    "\n",
    "Take a look at http://weather.uwyo.edu/upperair/sounding.html and click on SLC.\n",
    "\n",
    "You will see an HTML file with data for different weather variables at different levels:\n",
    "\n",
    "http://weather.uwyo.edu/cgi-bin/sounding?region=naconf&TYPE=TEXT%3ALIST&YEAR=2019&MONTH=09&FROM=1112&TO=1112&STNM=72572\n",
    "\n"
   ]
  },
  {
   "cell_type": "code",
   "execution_count": 12,
   "metadata": {},
   "outputs": [],
   "source": [
    "# Define a string that points to the web content URL. \n",
    "# There are ways to concatenate variables to generate a string, but let's not bother with that today.\n",
    "URL = \"http://weather.uwyo.edu/cgi-bin/sounding?region=naconf&TYPE=TEXT%3ALIST&YEAR=2019&MONTH=09&FROM=1112&TO=1112&STNM=72572\""
   ]
  },
  {
   "cell_type": "markdown",
   "metadata": {},
   "source": [
    "We will use the `requests` module to retrieve the text from that website."
   ]
  },
  {
   "cell_type": "code",
   "execution_count": 13,
   "metadata": {},
   "outputs": [],
   "source": [
    "import requests\n",
    "data = requests.get(URL).text"
   ]
  },
  {
   "cell_type": "code",
   "execution_count": 14,
   "metadata": {},
   "outputs": [
    {
     "data": {
      "text/plain": [
       "'<HTML>\\n<TITLE>University of Wyoming - Radiosonde Data</TITLE>\\n<LINK REL=\"StyleSheet\" HREF=\"/resources/select.css\" TYPE=\"text/css\">\\n<BODY BGCOLOR=\"white\">\\n<H2>72572 SLC Salt Lake City Observations at 12Z 11 Sep 2019</H2>\\n<PRE>\\n-----------------------------------------------------------------------------\\n   PRES   HGHT   TEMP   DWPT   RELH   MIXR   DRCT   SKNT   THTA   THTE   THTV\\n    hPa     m      C      C      %    g/kg    deg   knot     K      K      K \\n-----------------------------------------------------------------------------\\n 1000.0     81                                                               \\n  925.0    761                                                               \\n  870.0   1289   13.6   12.8     95  10.79    275      4  298.4  330.0  300.3\\n  863.0   1357   11.8    9.2     84   8.53    272      7  297.2  322.3  298.7\\n  857.0   1415   11.2    8.8     85   8.36    269     10  297.2  321.8  298.7\\n  850.0   1483   11.0    7.9     81   7.92    265     13  297.7  321.1  299.1\\n  837.0   1612   10.0    7.4     84   7.77    219     10  297.9  320.9  299.3\\n  828.0   1702   10.6    5.6     71   6.93    186      7  299.5  320.2  300.7\\n  815.5   1829   10.4    4.7     68   6.62    140      4  300.6  320.6  301.8\\n  811.0   1875   10.4    4.4     66   6.51    136      4  301.0  320.7  302.2\\n  786.0   2134    8.3    3.8     73   6.44    110      5  301.5  321.0  302.7\\n  761.0   2401    6.2    3.2     81   6.37    136      6  302.0  321.3  303.2\\n  757.6   2438    6.1    2.7     79   6.16    140      6  302.3  321.0  303.4\\n  744.0   2586    5.6    0.6     70   5.40    140      7  303.3  319.9  304.3\\n  729.9   2743    4.7    1.1     78   5.70    140      8  304.0  321.5  305.0\\n  726.0   2786    4.4    1.2     80   5.78    148      8  304.1  321.9  305.2\\n  700.0   3083    3.0   -1.1     74   5.07    200      8  305.8  321.6  306.7\\n  651.6   3658   -1.8   -3.2     90   4.67    265      8  306.6  321.3  307.5\\n  649.0   3691   -2.1   -3.3     91   4.64    268      9  306.7  321.2  307.6\\n  641.0   3789   -3.3   -5.3     86   4.04    276     11  306.4  319.1  307.2\\n  631.0   3914   -3.3   -7.1     75   3.57    286     14  307.8  319.2  308.5\\n  627.1   3962   -3.7   -7.3     76   3.53    290     15  307.9  319.2  308.6\\n  610.0   4180   -5.3   -8.4     79   3.34    279     18  308.5  319.2  309.1\\n  603.3   4267   -5.8   -9.2     77   3.16    275     19  308.9  319.1  309.4\\n  572.0   4683   -8.3  -13.3     67   2.41    268     24  310.7  318.6  311.1\\n  557.7   4877   -9.9  -14.8     67   2.18    265     27  311.0  318.2  311.4\\n  516.0   5473  -14.9  -19.6     67   1.58    254     31  312.0  317.3  312.3\\n  500.0   5710  -16.7  -24.7     50   1.04    250     33  312.6  316.2  312.8\\n  498.0   5740  -16.7  -25.7     46   0.95    249     34  313.0  316.3  313.2\\n  489.0   5877  -17.7  -23.7     59   1.16    246     36  313.4  317.4  313.6\\n  474.9   6096  -19.5  -24.4     65   1.12    240     41  313.8  317.7  314.0\\n  464.0   6268  -20.9  -25.0     70   1.09    229     38  314.1  317.9  314.3\\n  454.0   6430  -20.1  -23.9     72   1.23    218     34  317.1  321.4  317.3\\n  437.3   6706  -21.9  -25.3     74   1.13    200     29  318.2  322.2  318.5\\n  407.0   7234  -25.3  -27.9     79   0.95    180     31  320.4  323.9  320.6\\n  400.0   7360  -26.1  -28.6     79   0.91    175     31  321.0  324.3  321.2\\n  385.4   7620  -28.2  -31.0     77   0.75    170     30  321.6  324.4  321.8\\n  309.9   9144  -40.7  -44.8     64   0.23    185     50  324.9  325.8  325.0\\n  300.0   9370  -42.5  -46.9     62   0.19    190     52  325.4  326.1  325.4\\n  283.1   9754  -46.0  -50.6     60   0.13    190     49  325.8  326.3  325.8\\n  267.0  10143  -49.5  -54.3     57   0.09    187     50  326.1  326.5  326.2\\n  258.1  10363  -51.1  -55.9     57   0.08    185     50  326.9  327.2  326.9\\n  250.0  10570  -52.7  -57.4     57   0.07    195     51  327.6  327.9  327.6\\n  246.2  10668  -53.6  -58.2     57   0.06    200     54  327.6  327.9  327.6\\n  246.0  10674  -53.7  -58.3     57   0.06    195     54  327.6  327.9  327.6\\n  240.0  10833  -53.9  -58.9     54   0.06    198     53  329.6  329.9  329.6\\n  238.0  10886  -52.7  -59.7     42   0.05    199     53  332.2  332.4  332.2\\n  231.0  11080  -50.5  -63.5     20   0.03    203     51  338.4  338.6  338.4\\n  223.0  11310  -49.7  -66.7     12   0.02    207     50  343.1  343.2  343.1\\n  205.0  11859  -51.1  -75.1      4   0.01    217     46  349.2  349.2  349.2\\n  200.0  12020  -50.9  -75.9      4   0.01    220     45  352.0  352.0  352.0\\n  198.0  12086  -50.5  -76.5      3   0.01    220     44  353.6  353.7  353.6\\n  194.8  12192  -50.8  -77.5      3   0.01    220     43  354.8  354.9  354.8\\n  176.0  12850  -52.7  -83.7      1   0.00    224     46  362.1  362.1  362.1\\n  172.0  12999  -52.1  -83.1      1   0.00    225     47  365.5  365.5  365.5\\n  163.0  13346  -53.5  -83.5      1   0.00    228     49  368.8  368.8  368.8\\n  153.9  13716  -54.1  -84.1      1   0.00    230     51  373.9  373.9  373.9\\n  151.0  13837  -54.3  -84.3      1   0.00    230     51  375.6  375.6  375.6\\n  150.0  13880  -53.9  -83.9      1   0.00    230     51  377.0  377.0  377.0\\n  147.0  14010  -53.1  -84.1      1   0.00    230     50  380.6  380.6  380.6\\n  136.0  14510  -53.3  -84.3      1   0.00    228     45  388.8  388.8  388.8\\n  127.0  14949  -54.3  -86.3      1   0.00    226     41  394.6  394.6  394.6\\n  122.0  15205  -56.1  -87.1      1   0.00    225     38  395.9  395.9  395.9\\n  121.3  15240  -56.2  -87.0      1   0.00    225     38  396.4  396.4  396.4\\n  118.0  15417  -56.5  -86.5      1   0.00    225     35  399.0  399.0  399.0\\n  113.0  15692  -55.1  -86.1      1   0.00    225     31  406.5  406.6  406.5\\n  109.0  15921  -55.3  -86.3      1   0.00    225     27  410.4  410.4  410.4\\n  107.0  16040  -54.3  -86.3      1   0.00    225     25  414.4  414.5  414.4\\n  100.0  16470  -56.9  -87.9      1   0.00    225     18  417.5  417.5  417.5\\n</PRE><H3>Station information and sounding indices</H3><PRE>\\n                         Station identifier: SLC\\n                             Station number: 72572\\n                           Observation time: 190911/1200\\n                           Station latitude: 40.77\\n                          Station longitude: -111.95\\n                          Station elevation: 1289.0\\n                            Showalter index: -0.80\\n                               Lifted index: -1.07\\n    LIFT computed using virtual temperature: -1.27\\n                                SWEAT index: 219.79\\n                                    K index: 31.50\\n                         Cross totals index: 24.60\\n                      Vertical totals index: 27.70\\n                        Totals totals index: 52.30\\n      Convective Available Potential Energy: 42.78\\n             CAPE using virtual temperature: 51.80\\n                      Convective Inhibition: -120.24\\n             CINS using virtual temperature: -110.71\\n                           Equilibrum Level: 458.16\\n Equilibrum Level using virtual temperature: 457.78\\n                   Level of Free Convection: 643.29\\n             LFCT using virtual temperature: 644.44\\n                     Bulk Richardson Number: 7.31\\n          Bulk Richardson Number using CAPV: 8.85\\n  Temp [K] of the Lifted Condensation Level: 280.20\\nPres [hPa] of the Lifted Condensation Level: 804.49\\n     Mean mixed layer potential temperature: 298.18\\n              Mean mixed layer mixing ratio: 7.95\\n              1000 hPa to 500 hPa thickness: 5629.00\\nPrecipitable water [mm] for entire sounding: 19.61\\n</PRE>\\n<P>Description of the \\n<A HREF=\"/upperair/columns.html\">data columns</A>\\nor <A HREF=\"/upperair/indices.html\">sounding indices</A>.\\n\\n<P>\\n<FORM>\\n<INPUT CLASS=\"button\" TYPE=\"button\" VALUE=\" Close this window \" \\n onClick=\"window.close();\">\\n<INPUT CLASS=\"button\" TYPE=\"button\" VALUE=\" Select another map \" \\n onClick=\"window.blur();\">\\n</FORM>\\n<HR SIZE=\"1\">\\n<I>Interested in graduate studies in atmospheric science?\\nCheck out our program at the\\n<a href=\"http://www.uwyo.edu/atsc/howtoapply/\"\\ntarget=_top>University of Wyoming\\n</a></I>\\n<HR SIZE=\"1\"><FONT SIZE=\"-1\">\\nQuestions about the weather data provided by this site can be\\naddressed to <A HREF=\"mailto:ldoolman@uwyo.edu\">\\nLarry Oolman (ldoolman@uwyo.edu)</A></FONT>\\n<HR SIZE=\"1\">\\n<SCRIPT TYPE=\"text/javascript\">\\n<!--\\nwindow.focus();\\n// -->\\n</SCRIPT>\\n</BODY>\\n</HTML>\\n'"
      ]
     },
     "execution_count": 14,
     "metadata": {},
     "output_type": "execute_result"
    }
   ],
   "source": [
    "data"
   ]
  },
  {
   "cell_type": "markdown",
   "metadata": {},
   "source": [
    "Each line is separated by the new line character `\\n`. Let's split the lines based on that character"
   ]
  },
  {
   "cell_type": "code",
   "execution_count": 15,
   "metadata": {},
   "outputs": [],
   "source": [
    "data = data.split('\\n')"
   ]
  },
  {
   "cell_type": "code",
   "execution_count": 16,
   "metadata": {},
   "outputs": [
    {
     "data": {
      "text/plain": [
       "['<HTML>',\n",
       " '<TITLE>University of Wyoming - Radiosonde Data</TITLE>',\n",
       " '<LINK REL=\"StyleSheet\" HREF=\"/resources/select.css\" TYPE=\"text/css\">',\n",
       " '<BODY BGCOLOR=\"white\">',\n",
       " '<H2>72572 SLC Salt Lake City Observations at 12Z 11 Sep 2019</H2>',\n",
       " '<PRE>',\n",
       " '-----------------------------------------------------------------------------',\n",
       " '   PRES   HGHT   TEMP   DWPT   RELH   MIXR   DRCT   SKNT   THTA   THTE   THTV',\n",
       " '    hPa     m      C      C      %    g/kg    deg   knot     K      K      K ',\n",
       " '-----------------------------------------------------------------------------',\n",
       " ' 1000.0     81                                                               ',\n",
       " '  925.0    761                                                               ',\n",
       " '  870.0   1289   13.6   12.8     95  10.79    275      4  298.4  330.0  300.3',\n",
       " '  863.0   1357   11.8    9.2     84   8.53    272      7  297.2  322.3  298.7',\n",
       " '  857.0   1415   11.2    8.8     85   8.36    269     10  297.2  321.8  298.7',\n",
       " '  850.0   1483   11.0    7.9     81   7.92    265     13  297.7  321.1  299.1',\n",
       " '  837.0   1612   10.0    7.4     84   7.77    219     10  297.9  320.9  299.3',\n",
       " '  828.0   1702   10.6    5.6     71   6.93    186      7  299.5  320.2  300.7',\n",
       " '  815.5   1829   10.4    4.7     68   6.62    140      4  300.6  320.6  301.8',\n",
       " '  811.0   1875   10.4    4.4     66   6.51    136      4  301.0  320.7  302.2',\n",
       " '  786.0   2134    8.3    3.8     73   6.44    110      5  301.5  321.0  302.7',\n",
       " '  761.0   2401    6.2    3.2     81   6.37    136      6  302.0  321.3  303.2',\n",
       " '  757.6   2438    6.1    2.7     79   6.16    140      6  302.3  321.0  303.4',\n",
       " '  744.0   2586    5.6    0.6     70   5.40    140      7  303.3  319.9  304.3',\n",
       " '  729.9   2743    4.7    1.1     78   5.70    140      8  304.0  321.5  305.0',\n",
       " '  726.0   2786    4.4    1.2     80   5.78    148      8  304.1  321.9  305.2',\n",
       " '  700.0   3083    3.0   -1.1     74   5.07    200      8  305.8  321.6  306.7',\n",
       " '  651.6   3658   -1.8   -3.2     90   4.67    265      8  306.6  321.3  307.5',\n",
       " '  649.0   3691   -2.1   -3.3     91   4.64    268      9  306.7  321.2  307.6',\n",
       " '  641.0   3789   -3.3   -5.3     86   4.04    276     11  306.4  319.1  307.2',\n",
       " '  631.0   3914   -3.3   -7.1     75   3.57    286     14  307.8  319.2  308.5',\n",
       " '  627.1   3962   -3.7   -7.3     76   3.53    290     15  307.9  319.2  308.6',\n",
       " '  610.0   4180   -5.3   -8.4     79   3.34    279     18  308.5  319.2  309.1',\n",
       " '  603.3   4267   -5.8   -9.2     77   3.16    275     19  308.9  319.1  309.4',\n",
       " '  572.0   4683   -8.3  -13.3     67   2.41    268     24  310.7  318.6  311.1',\n",
       " '  557.7   4877   -9.9  -14.8     67   2.18    265     27  311.0  318.2  311.4',\n",
       " '  516.0   5473  -14.9  -19.6     67   1.58    254     31  312.0  317.3  312.3',\n",
       " '  500.0   5710  -16.7  -24.7     50   1.04    250     33  312.6  316.2  312.8',\n",
       " '  498.0   5740  -16.7  -25.7     46   0.95    249     34  313.0  316.3  313.2',\n",
       " '  489.0   5877  -17.7  -23.7     59   1.16    246     36  313.4  317.4  313.6',\n",
       " '  474.9   6096  -19.5  -24.4     65   1.12    240     41  313.8  317.7  314.0',\n",
       " '  464.0   6268  -20.9  -25.0     70   1.09    229     38  314.1  317.9  314.3',\n",
       " '  454.0   6430  -20.1  -23.9     72   1.23    218     34  317.1  321.4  317.3',\n",
       " '  437.3   6706  -21.9  -25.3     74   1.13    200     29  318.2  322.2  318.5',\n",
       " '  407.0   7234  -25.3  -27.9     79   0.95    180     31  320.4  323.9  320.6',\n",
       " '  400.0   7360  -26.1  -28.6     79   0.91    175     31  321.0  324.3  321.2',\n",
       " '  385.4   7620  -28.2  -31.0     77   0.75    170     30  321.6  324.4  321.8',\n",
       " '  309.9   9144  -40.7  -44.8     64   0.23    185     50  324.9  325.8  325.0',\n",
       " '  300.0   9370  -42.5  -46.9     62   0.19    190     52  325.4  326.1  325.4',\n",
       " '  283.1   9754  -46.0  -50.6     60   0.13    190     49  325.8  326.3  325.8',\n",
       " '  267.0  10143  -49.5  -54.3     57   0.09    187     50  326.1  326.5  326.2',\n",
       " '  258.1  10363  -51.1  -55.9     57   0.08    185     50  326.9  327.2  326.9',\n",
       " '  250.0  10570  -52.7  -57.4     57   0.07    195     51  327.6  327.9  327.6',\n",
       " '  246.2  10668  -53.6  -58.2     57   0.06    200     54  327.6  327.9  327.6',\n",
       " '  246.0  10674  -53.7  -58.3     57   0.06    195     54  327.6  327.9  327.6',\n",
       " '  240.0  10833  -53.9  -58.9     54   0.06    198     53  329.6  329.9  329.6',\n",
       " '  238.0  10886  -52.7  -59.7     42   0.05    199     53  332.2  332.4  332.2',\n",
       " '  231.0  11080  -50.5  -63.5     20   0.03    203     51  338.4  338.6  338.4',\n",
       " '  223.0  11310  -49.7  -66.7     12   0.02    207     50  343.1  343.2  343.1',\n",
       " '  205.0  11859  -51.1  -75.1      4   0.01    217     46  349.2  349.2  349.2',\n",
       " '  200.0  12020  -50.9  -75.9      4   0.01    220     45  352.0  352.0  352.0',\n",
       " '  198.0  12086  -50.5  -76.5      3   0.01    220     44  353.6  353.7  353.6',\n",
       " '  194.8  12192  -50.8  -77.5      3   0.01    220     43  354.8  354.9  354.8',\n",
       " '  176.0  12850  -52.7  -83.7      1   0.00    224     46  362.1  362.1  362.1',\n",
       " '  172.0  12999  -52.1  -83.1      1   0.00    225     47  365.5  365.5  365.5',\n",
       " '  163.0  13346  -53.5  -83.5      1   0.00    228     49  368.8  368.8  368.8',\n",
       " '  153.9  13716  -54.1  -84.1      1   0.00    230     51  373.9  373.9  373.9',\n",
       " '  151.0  13837  -54.3  -84.3      1   0.00    230     51  375.6  375.6  375.6',\n",
       " '  150.0  13880  -53.9  -83.9      1   0.00    230     51  377.0  377.0  377.0',\n",
       " '  147.0  14010  -53.1  -84.1      1   0.00    230     50  380.6  380.6  380.6',\n",
       " '  136.0  14510  -53.3  -84.3      1   0.00    228     45  388.8  388.8  388.8',\n",
       " '  127.0  14949  -54.3  -86.3      1   0.00    226     41  394.6  394.6  394.6',\n",
       " '  122.0  15205  -56.1  -87.1      1   0.00    225     38  395.9  395.9  395.9',\n",
       " '  121.3  15240  -56.2  -87.0      1   0.00    225     38  396.4  396.4  396.4',\n",
       " '  118.0  15417  -56.5  -86.5      1   0.00    225     35  399.0  399.0  399.0',\n",
       " '  113.0  15692  -55.1  -86.1      1   0.00    225     31  406.5  406.6  406.5',\n",
       " '  109.0  15921  -55.3  -86.3      1   0.00    225     27  410.4  410.4  410.4',\n",
       " '  107.0  16040  -54.3  -86.3      1   0.00    225     25  414.4  414.5  414.4',\n",
       " '  100.0  16470  -56.9  -87.9      1   0.00    225     18  417.5  417.5  417.5',\n",
       " '</PRE><H3>Station information and sounding indices</H3><PRE>',\n",
       " '                         Station identifier: SLC',\n",
       " '                             Station number: 72572',\n",
       " '                           Observation time: 190911/1200',\n",
       " '                           Station latitude: 40.77',\n",
       " '                          Station longitude: -111.95',\n",
       " '                          Station elevation: 1289.0',\n",
       " '                            Showalter index: -0.80',\n",
       " '                               Lifted index: -1.07',\n",
       " '    LIFT computed using virtual temperature: -1.27',\n",
       " '                                SWEAT index: 219.79',\n",
       " '                                    K index: 31.50',\n",
       " '                         Cross totals index: 24.60',\n",
       " '                      Vertical totals index: 27.70',\n",
       " '                        Totals totals index: 52.30',\n",
       " '      Convective Available Potential Energy: 42.78',\n",
       " '             CAPE using virtual temperature: 51.80',\n",
       " '                      Convective Inhibition: -120.24',\n",
       " '             CINS using virtual temperature: -110.71',\n",
       " '                           Equilibrum Level: 458.16',\n",
       " ' Equilibrum Level using virtual temperature: 457.78',\n",
       " '                   Level of Free Convection: 643.29',\n",
       " '             LFCT using virtual temperature: 644.44',\n",
       " '                     Bulk Richardson Number: 7.31',\n",
       " '          Bulk Richardson Number using CAPV: 8.85',\n",
       " '  Temp [K] of the Lifted Condensation Level: 280.20',\n",
       " 'Pres [hPa] of the Lifted Condensation Level: 804.49',\n",
       " '     Mean mixed layer potential temperature: 298.18',\n",
       " '              Mean mixed layer mixing ratio: 7.95',\n",
       " '              1000 hPa to 500 hPa thickness: 5629.00',\n",
       " 'Precipitable water [mm] for entire sounding: 19.61',\n",
       " '</PRE>',\n",
       " '<P>Description of the ',\n",
       " '<A HREF=\"/upperair/columns.html\">data columns</A>',\n",
       " 'or <A HREF=\"/upperair/indices.html\">sounding indices</A>.',\n",
       " '',\n",
       " '<P>',\n",
       " '<FORM>',\n",
       " '<INPUT CLASS=\"button\" TYPE=\"button\" VALUE=\" Close this window \" ',\n",
       " ' onClick=\"window.close();\">',\n",
       " '<INPUT CLASS=\"button\" TYPE=\"button\" VALUE=\" Select another map \" ',\n",
       " ' onClick=\"window.blur();\">',\n",
       " '</FORM>',\n",
       " '<HR SIZE=\"1\">',\n",
       " '<I>Interested in graduate studies in atmospheric science?',\n",
       " 'Check out our program at the',\n",
       " '<a href=\"http://www.uwyo.edu/atsc/howtoapply/\"',\n",
       " 'target=_top>University of Wyoming',\n",
       " '</a></I>',\n",
       " '<HR SIZE=\"1\"><FONT SIZE=\"-1\">',\n",
       " 'Questions about the weather data provided by this site can be',\n",
       " 'addressed to <A HREF=\"mailto:ldoolman@uwyo.edu\">',\n",
       " 'Larry Oolman (ldoolman@uwyo.edu)</A></FONT>',\n",
       " '<HR SIZE=\"1\">',\n",
       " '<SCRIPT TYPE=\"text/javascript\">',\n",
       " '<!--',\n",
       " 'window.focus();',\n",
       " '// -->',\n",
       " '</SCRIPT>',\n",
       " '</BODY>',\n",
       " '</HTML>',\n",
       " '']"
      ]
     },
     "execution_count": 16,
     "metadata": {},
     "output_type": "execute_result"
    }
   ],
   "source": [
    "data"
   ]
  },
  {
   "cell_type": "markdown",
   "metadata": {},
   "source": [
    "The data we want is in the middle rows. Let's just get that data"
   ]
  },
  {
   "cell_type": "code",
   "execution_count": 17,
   "metadata": {},
   "outputs": [],
   "source": [
    "data_rows = data[12:-62]"
   ]
  },
  {
   "cell_type": "code",
   "execution_count": 18,
   "metadata": {},
   "outputs": [
    {
     "data": {
      "text/plain": [
       "['  870.0   1289   13.6   12.8     95  10.79    275      4  298.4  330.0  300.3',\n",
       " '  863.0   1357   11.8    9.2     84   8.53    272      7  297.2  322.3  298.7',\n",
       " '  857.0   1415   11.2    8.8     85   8.36    269     10  297.2  321.8  298.7',\n",
       " '  850.0   1483   11.0    7.9     81   7.92    265     13  297.7  321.1  299.1',\n",
       " '  837.0   1612   10.0    7.4     84   7.77    219     10  297.9  320.9  299.3',\n",
       " '  828.0   1702   10.6    5.6     71   6.93    186      7  299.5  320.2  300.7',\n",
       " '  815.5   1829   10.4    4.7     68   6.62    140      4  300.6  320.6  301.8',\n",
       " '  811.0   1875   10.4    4.4     66   6.51    136      4  301.0  320.7  302.2',\n",
       " '  786.0   2134    8.3    3.8     73   6.44    110      5  301.5  321.0  302.7',\n",
       " '  761.0   2401    6.2    3.2     81   6.37    136      6  302.0  321.3  303.2',\n",
       " '  757.6   2438    6.1    2.7     79   6.16    140      6  302.3  321.0  303.4',\n",
       " '  744.0   2586    5.6    0.6     70   5.40    140      7  303.3  319.9  304.3',\n",
       " '  729.9   2743    4.7    1.1     78   5.70    140      8  304.0  321.5  305.0',\n",
       " '  726.0   2786    4.4    1.2     80   5.78    148      8  304.1  321.9  305.2',\n",
       " '  700.0   3083    3.0   -1.1     74   5.07    200      8  305.8  321.6  306.7',\n",
       " '  651.6   3658   -1.8   -3.2     90   4.67    265      8  306.6  321.3  307.5',\n",
       " '  649.0   3691   -2.1   -3.3     91   4.64    268      9  306.7  321.2  307.6',\n",
       " '  641.0   3789   -3.3   -5.3     86   4.04    276     11  306.4  319.1  307.2',\n",
       " '  631.0   3914   -3.3   -7.1     75   3.57    286     14  307.8  319.2  308.5',\n",
       " '  627.1   3962   -3.7   -7.3     76   3.53    290     15  307.9  319.2  308.6',\n",
       " '  610.0   4180   -5.3   -8.4     79   3.34    279     18  308.5  319.2  309.1',\n",
       " '  603.3   4267   -5.8   -9.2     77   3.16    275     19  308.9  319.1  309.4',\n",
       " '  572.0   4683   -8.3  -13.3     67   2.41    268     24  310.7  318.6  311.1',\n",
       " '  557.7   4877   -9.9  -14.8     67   2.18    265     27  311.0  318.2  311.4',\n",
       " '  516.0   5473  -14.9  -19.6     67   1.58    254     31  312.0  317.3  312.3',\n",
       " '  500.0   5710  -16.7  -24.7     50   1.04    250     33  312.6  316.2  312.8',\n",
       " '  498.0   5740  -16.7  -25.7     46   0.95    249     34  313.0  316.3  313.2',\n",
       " '  489.0   5877  -17.7  -23.7     59   1.16    246     36  313.4  317.4  313.6',\n",
       " '  474.9   6096  -19.5  -24.4     65   1.12    240     41  313.8  317.7  314.0',\n",
       " '  464.0   6268  -20.9  -25.0     70   1.09    229     38  314.1  317.9  314.3',\n",
       " '  454.0   6430  -20.1  -23.9     72   1.23    218     34  317.1  321.4  317.3',\n",
       " '  437.3   6706  -21.9  -25.3     74   1.13    200     29  318.2  322.2  318.5',\n",
       " '  407.0   7234  -25.3  -27.9     79   0.95    180     31  320.4  323.9  320.6',\n",
       " '  400.0   7360  -26.1  -28.6     79   0.91    175     31  321.0  324.3  321.2',\n",
       " '  385.4   7620  -28.2  -31.0     77   0.75    170     30  321.6  324.4  321.8',\n",
       " '  309.9   9144  -40.7  -44.8     64   0.23    185     50  324.9  325.8  325.0',\n",
       " '  300.0   9370  -42.5  -46.9     62   0.19    190     52  325.4  326.1  325.4',\n",
       " '  283.1   9754  -46.0  -50.6     60   0.13    190     49  325.8  326.3  325.8',\n",
       " '  267.0  10143  -49.5  -54.3     57   0.09    187     50  326.1  326.5  326.2',\n",
       " '  258.1  10363  -51.1  -55.9     57   0.08    185     50  326.9  327.2  326.9',\n",
       " '  250.0  10570  -52.7  -57.4     57   0.07    195     51  327.6  327.9  327.6',\n",
       " '  246.2  10668  -53.6  -58.2     57   0.06    200     54  327.6  327.9  327.6',\n",
       " '  246.0  10674  -53.7  -58.3     57   0.06    195     54  327.6  327.9  327.6',\n",
       " '  240.0  10833  -53.9  -58.9     54   0.06    198     53  329.6  329.9  329.6',\n",
       " '  238.0  10886  -52.7  -59.7     42   0.05    199     53  332.2  332.4  332.2',\n",
       " '  231.0  11080  -50.5  -63.5     20   0.03    203     51  338.4  338.6  338.4',\n",
       " '  223.0  11310  -49.7  -66.7     12   0.02    207     50  343.1  343.2  343.1',\n",
       " '  205.0  11859  -51.1  -75.1      4   0.01    217     46  349.2  349.2  349.2',\n",
       " '  200.0  12020  -50.9  -75.9      4   0.01    220     45  352.0  352.0  352.0',\n",
       " '  198.0  12086  -50.5  -76.5      3   0.01    220     44  353.6  353.7  353.6',\n",
       " '  194.8  12192  -50.8  -77.5      3   0.01    220     43  354.8  354.9  354.8',\n",
       " '  176.0  12850  -52.7  -83.7      1   0.00    224     46  362.1  362.1  362.1',\n",
       " '  172.0  12999  -52.1  -83.1      1   0.00    225     47  365.5  365.5  365.5',\n",
       " '  163.0  13346  -53.5  -83.5      1   0.00    228     49  368.8  368.8  368.8',\n",
       " '  153.9  13716  -54.1  -84.1      1   0.00    230     51  373.9  373.9  373.9',\n",
       " '  151.0  13837  -54.3  -84.3      1   0.00    230     51  375.6  375.6  375.6',\n",
       " '  150.0  13880  -53.9  -83.9      1   0.00    230     51  377.0  377.0  377.0',\n",
       " '  147.0  14010  -53.1  -84.1      1   0.00    230     50  380.6  380.6  380.6',\n",
       " '  136.0  14510  -53.3  -84.3      1   0.00    228     45  388.8  388.8  388.8',\n",
       " '  127.0  14949  -54.3  -86.3      1   0.00    226     41  394.6  394.6  394.6',\n",
       " '  122.0  15205  -56.1  -87.1      1   0.00    225     38  395.9  395.9  395.9',\n",
       " '  121.3  15240  -56.2  -87.0      1   0.00    225     38  396.4  396.4  396.4',\n",
       " '  118.0  15417  -56.5  -86.5      1   0.00    225     35  399.0  399.0  399.0',\n",
       " '  113.0  15692  -55.1  -86.1      1   0.00    225     31  406.5  406.6  406.5',\n",
       " '  109.0  15921  -55.3  -86.3      1   0.00    225     27  410.4  410.4  410.4',\n",
       " '  107.0  16040  -54.3  -86.3      1   0.00    225     25  414.4  414.5  414.4',\n",
       " '  100.0  16470  -56.9  -87.9      1   0.00    225     18  417.5  417.5  417.5']"
      ]
     },
     "execution_count": 18,
     "metadata": {},
     "output_type": "execute_result"
    }
   ],
   "source": [
    "data_rows"
   ]
  },
  {
   "cell_type": "code",
   "execution_count": 19,
   "metadata": {},
   "outputs": [],
   "source": [
    "# Convert the data to a float, line by line\n",
    "data_converted = np.array([np.fromstring(i, sep=' ') for i in data_rows])"
   ]
  },
  {
   "cell_type": "code",
   "execution_count": 20,
   "metadata": {},
   "outputs": [
    {
     "data": {
      "text/plain": [
       "array([[ 870.  , 1289.  ,   13.6 ,   12.8 ,   95.  ,   10.79,  275.  ,\n",
       "           4.  ,  298.4 ,  330.  ,  300.3 ],\n",
       "       [ 863.  , 1357.  ,   11.8 ,    9.2 ,   84.  ,    8.53,  272.  ,\n",
       "           7.  ,  297.2 ,  322.3 ,  298.7 ],\n",
       "       [ 857.  , 1415.  ,   11.2 ,    8.8 ,   85.  ,    8.36,  269.  ,\n",
       "          10.  ,  297.2 ,  321.8 ,  298.7 ],\n",
       "       [ 850.  , 1483.  ,   11.  ,    7.9 ,   81.  ,    7.92,  265.  ,\n",
       "          13.  ,  297.7 ,  321.1 ,  299.1 ],\n",
       "       [ 837.  , 1612.  ,   10.  ,    7.4 ,   84.  ,    7.77,  219.  ,\n",
       "          10.  ,  297.9 ,  320.9 ,  299.3 ]])"
      ]
     },
     "execution_count": 20,
     "metadata": {},
     "output_type": "execute_result"
    }
   ],
   "source": [
    "# Display the first five rows\n",
    "data_converted[:5]"
   ]
  },
  {
   "cell_type": "code",
   "execution_count": 21,
   "metadata": {},
   "outputs": [],
   "source": [
    "# Store the data from each colulmn in a new variable\n",
    "pressure = data_converted[:,0] # hPa\n",
    "height = data_converted[:,1]   # m\n",
    "temp = data_converted[:,2]     # C\n",
    "dewpoint = data_converted[:,3] # C\n",
    "rh = data_converted[:,4]       # %\n",
    "wind_dir = data_converted[:,6]  # degrees\n",
    "wind_spd = data_converted[:,7]  # knots"
   ]
  },
  {
   "cell_type": "code",
   "execution_count": 22,
   "metadata": {},
   "outputs": [
    {
     "data": {
      "image/png": "[encoded data removed]",
      "text/plain": [
       "<Figure size 432x288 with 1 Axes>"
      ]
     },
     "metadata": {
      "needs_background": "light"
     },
     "output_type": "display_data"
    }
   ],
   "source": [
    "plt.plot(temp, pressure, color='tab:red', label='Temperature')\n",
    "plt.plot(dewpoint, pressure, color='tab:green', label='Dew Point')\n",
    "\n",
    "plt.xlabel('Degrees Celsius')\n",
    "plt.ylabel('Pressure (hPa)')\n",
    "plt.title('Salt Lake Sounding Temperature')\n",
    "plt.grid()\n",
    "plt.legend()\n",
    "\n",
    "# Invert y axis because pressure decreases with height\n",
    "plt.gca().invert_yaxis()"
   ]
  },
  {
   "cell_type": "code",
   "execution_count": 23,
   "metadata": {},
   "outputs": [
    {
     "data": {
      "image/png": "[encoded data removed]",
      "text/plain": [
       "<Figure size 432x288 with 1 Axes>"
      ]
     },
     "metadata": {
      "needs_background": "light"
     },
     "output_type": "display_data"
    }
   ],
   "source": [
    "plt.plot(wind_spd, pressure, color='tab:orange', label='Wind Speed')\n",
    "\n",
    "plt.xlabel('Wind Speed (knots)')\n",
    "plt.ylabel('Pressure (hPa)')\n",
    "plt.title('Salt Lake Sounding Wind Speed')\n",
    "plt.grid()\n",
    "plt.legend()\n",
    "\n",
    "# Invert y axis because pressure decreases with height\n",
    "plt.gca().invert_yaxis()"
   ]
  },
  {
   "cell_type": "markdown",
   "metadata": {},
   "source": [
    "## ☁ Synoptic API: Download JSON formatted Data\n",
    "For those interested in accessing MesoWest data, you can access it easily through the API which returns data in JSON format. https://synopticlabs.org/api/\n",
    "\n",
    "Signup and get your own API key and token: https://synopticlabs.org/api/signup/\n",
    "\n",
    "Read the docs to learn about the different types of requests you can make."
   ]
  },
  {
   "cell_type": "code",
   "execution_count": 24,
   "metadata": {},
   "outputs": [],
   "source": [
    "URL = 'https://api.synopticlabs.org/v2/stations/timeseries?&token=demotoken&start=201909110000&end=201909111200&stid=wbb,mtmet&vars=air_temp'\n",
    "import requests\n",
    "data = requests.get(URL).json()"
   ]
  },
  {
   "cell_type": "code",
   "execution_count": 25,
   "metadata": {},
   "outputs": [
    {
     "name": "stdout",
     "output_type": "stream",
     "text": [
      "dict_keys(['UNITS', 'QC_SUMMARY', 'STATION', 'SUMMARY'])\n"
     ]
    }
   ],
   "source": [
    "# explore the JSON file by looking at the keys() and items in the lists\n",
    "print(data.keys())"
   ]
  },
  {
   "cell_type": "code",
   "execution_count": 26,
   "metadata": {},
   "outputs": [
    {
     "data": {
      "text/plain": [
       "2"
      ]
     },
     "execution_count": 26,
     "metadata": {},
     "output_type": "execute_result"
    }
   ],
   "source": [
    "len(data['STATION'])"
   ]
  },
  {
   "cell_type": "code",
   "execution_count": 27,
   "metadata": {},
   "outputs": [
    {
     "data": {
      "text/plain": [
       "dict_keys(['STATUS', 'MNET_ID', 'PERIOD_OF_RECORD', 'ELEVATION', 'NAME', 'STID', 'SENSOR_VARIABLES', 'ELEV_DEM', 'LONGITUDE', 'STATE', 'OBSERVATIONS', 'RESTRICTED', 'QC_FLAGGED', 'LATITUDE', 'TIMEZONE', 'ID'])"
      ]
     },
     "execution_count": 27,
     "metadata": {},
     "output_type": "execute_result"
    }
   ],
   "source": [
    "data['STATION'][0].keys()"
   ]
  },
  {
   "cell_type": "code",
   "execution_count": 28,
   "metadata": {},
   "outputs": [
    {
     "data": {
      "text/plain": [
       "dict_keys(['date_time', 'air_temp_set_1'])"
      ]
     },
     "execution_count": 28,
     "metadata": {},
     "output_type": "execute_result"
    }
   ],
   "source": [
    "data['STATION'][0]['OBSERVATIONS'].keys()"
   ]
  },
  {
   "cell_type": "code",
   "execution_count": 29,
   "metadata": {},
   "outputs": [],
   "source": [
    "stn_0_id = data['STATION'][0]['STID']\n",
    "stn_0_temps = data['STATION'][0]['OBSERVATIONS']['air_temp_set_1']\n",
    "\n",
    "stn_1_id = data['STATION'][1]['STID']\n",
    "stn_1_temps = data['STATION'][1]['OBSERVATIONS']['air_temp_set_1']"
   ]
  },
  {
   "cell_type": "code",
   "execution_count": 30,
   "metadata": {},
   "outputs": [
    {
     "data": {
      "text/plain": [
       "'2019-09-11T00:00:00Z'"
      ]
     },
     "execution_count": 30,
     "metadata": {},
     "output_type": "execute_result"
    }
   ],
   "source": [
    "# look at the date string format\n",
    "data['STATION'][0]['OBSERVATIONS']['date_time'][0]"
   ]
  },
  {
   "cell_type": "code",
   "execution_count": 31,
   "metadata": {},
   "outputs": [],
   "source": [
    "# Convert the date strings to python datetime objects\n",
    "from datetime import datetime\n",
    "\n",
    "stn_0_DATES = [datetime.strptime(i, '%Y-%m-%dT%H:%M:%SZ') for i in data['STATION'][0]['OBSERVATIONS']['date_time']]\n",
    "\n",
    "stn_1_DATES = [datetime.strptime(i, '%Y-%m-%dT%H:%M:%SZ') for i in data['STATION'][1]['OBSERVATIONS']['date_time']]"
   ]
  },
  {
   "cell_type": "code",
   "execution_count": 32,
   "metadata": {},
   "outputs": [
    {
     "data": {
      "text/plain": [
       "[datetime.datetime(2019, 9, 11, 0, 0),\n",
       " datetime.datetime(2019, 9, 11, 0, 1),\n",
       " datetime.datetime(2019, 9, 11, 0, 2),\n",
       " datetime.datetime(2019, 9, 11, 0, 3),\n",
       " datetime.datetime(2019, 9, 11, 0, 4)]"
      ]
     },
     "execution_count": 32,
     "metadata": {},
     "output_type": "execute_result"
    }
   ],
   "source": [
    "# Now what does the dates look like? (display first five)\n",
    "stn_0_DATES[0:5]"
   ]
  },
  {
   "cell_type": "code",
   "execution_count": 33,
   "metadata": {},
   "outputs": [
    {
     "data": {
      "image/png": "[encoded data removed]",
      "text/plain": [
       "<Figure size 432x288 with 1 Axes>"
      ]
     },
     "metadata": {
      "needs_background": "light"
     },
     "output_type": "display_data"
    }
   ],
   "source": [
    "# Now make a plot\n",
    "plt.plot(stn_0_DATES, stn_0_temps, label=stn_0_id)\n",
    "plt.plot(stn_0_DATES, stn_1_temps, label=stn_1_id)\n",
    "plt.legend()\n",
    "\n",
    "plt.ylabel('Temperature (C)')\n",
    "plt.xticks(rotation=45)\n",
    "\n",
    "# Convert xtick datetime display format\n",
    "import matplotlib.dates as mdates\n",
    "myFmt = mdates.DateFormatter('%b %d\\n%H:%M')\n",
    "plt.gca().xaxis.set_major_formatter(myFmt)\n",
    "\n",
    "plt.grid(alpha=.2)"
   ]
  },
  {
   "cell_type": "markdown",
   "metadata": {},
   "source": [
    "## 🌐 Download a file from the web\n",
    "The methods above were to request text-based data from the web. This section demonstrates how to download a file from the web."
   ]
  },
  {
   "cell_type": "code",
   "execution_count": 34,
   "metadata": {},
   "outputs": [],
   "source": [
    "import urllib.request\n",
    "URL = 'http://meso1.chpc.utah.edu/station_cameras/wbbs_cam/wbbs_cam_current.jpg'\n",
    "response = urllib.request.urlretrieve(URL, './images/Camera_Image.jpg')"
   ]
  },
  {
   "cell_type": "markdown",
   "metadata": {},
   "source": [
    "The above cell will download the image and save it to a new file in the images directory.\n",
    "\n",
    "![](./images/Camera_Image.jpg)"
   ]
  },
  {
   "cell_type": "markdown",
   "metadata": {},
   "source": [
    "# ✨ Other file types\n",
    "\n",
    "You will likely encounter many other file types throughout your careers. \n",
    "\n",
    "- NetCDF and HDF5 files (Chapter 13, but use `xarray` to open these)\n",
    "    - Satellite data and gridded weather data is in this format\n",
    "- GRIB2 files \n",
    "    - operational weather model data is typically in this format\n",
    "- Shape files\n",
    "    - GIS folks will be familiar with this type of data\n",
    "- Other text and csv-formated data"
   ]
  },
  {
   "cell_type": "code",
   "execution_count": null,
   "metadata": {},
   "outputs": [],
   "source": []
  }
 ],
 "metadata": {
  "kernelspec": {
   "display_name": "Python 3",
   "language": "python",
   "name": "python3"
  },
  "language_info": {
   "codemirror_mode": {
    "name": "ipython",
    "version": 3
   },
   "file_extension": ".py",
   "mimetype": "text/x-python",
   "name": "python",
   "nbconvert_exporter": "python",
   "pygments_lexer": "ipython3",
   "version": "3.7.3"
  }
 },
 "nbformat": 4,
 "nbformat_minor": 4
}
