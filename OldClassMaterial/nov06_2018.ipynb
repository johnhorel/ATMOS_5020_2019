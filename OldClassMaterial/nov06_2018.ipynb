{
 "cells": [
  {
   "cell_type": "markdown",
   "metadata": {},
   "source": [
    "**November 6, 2018**  \n",
    "**ATMOS 5020: Environmental Programming**  \n",
    "**John Horel & Brian Blaylock**\n",
    "\n",
    "\n",
    "# Python Notebooks & Jupyter Lab Environment\n",
    "For the rest of the Python portion of the class, we will use _notebooks_ which allow for even more interactive exploration of Python programming.\n",
    "\n",
    "A **notebook** is an interactive document containing code, output, graphics, and text (markdown). The standard suffix for a notebook is `.ipynb` short for \"interactive Python notebook\" (in case you were wondering). This document you are reading now is written in a _Python Notebook_. We will use the [Jupyter Lab](https://youtu.be/ctOM-Gza04Y) environment to simplify viewing notebooks, writing and running Python code, and accessing other Python tools.\n",
    "\n",
    "> If you look at a notebook file using a text editor, it will look odd with a lot of formatting structure. That is because a notebook is written as a [JSON](https://www.json.org/) file. JSON documents contain text, source code, rich media output, and metadata. Each segment of the document is stored in a cell. More to follow on JSON later. Don't sweat this detail now.\n",
    "\n",
    "## How to view Notebooks\n",
    "\n",
    "1. **GitHub**: _View only_  \n",
    "You have already used the [class GitHub repository](https://github.com/johnhorel/ATMOS_5020_2018) to view class notes saved as markdown files. GitHub will also render Jupyter Notebooks, like this one.\n",
    "2. **nbviewer**: _View only_  \n",
    "Sometimes the GitHub rendition does not always work for one reason or another, even after refreshing. If this happens, copy the notebook's URL and open it in the [**nbviewer**](https://nbviewer.jupyter.org/).\n",
    "3. **Jupyter Lab**: _View, create, edit, and run_  \n",
    "Jupyter Lab is the program we will use to create, open, view, and edit Python notebooks."
   ]
  },
  {
   "cell_type": "markdown",
   "metadata": {},
   "source": [
    "## How to open Jupyter Lab on the library macs.\n",
    "\n",
    "By default, the library macs use _Python 2_, but **we use Python 3**. We need to open the Python3 version of Jupyter Lab, _not_ Python2.\n",
    "\n",
    "If you type **`which jupyter`**, the mac will say **`/usr/local/python/anaconda2/bin/jupyter`**. We can simply replace `anaconda2` with `anaconda3` to get the right verion of Jupyter open.\n",
    "\n",
    "To use the Python3 version of **Jupyter Lab**, type in the terminal:\n",
    "\n",
    "    /usr/local/python/anaconda3/bin/jupyter lab\n",
    "    \n",
    "**Jupyter Lab will open in a new browser window.**\n",
    "\n",
    "[Reference: Jupyter Lab Documentation](https://jupyterlab.readthedocs.io/en/stable/getting_started/overview.html)    \n",
    "\n",
    "> Note: If you installed the Anaconda or Miniconda build of Python, you can access Jupyter Labs by just typing `jupyter lab` in the terminal (Mac) or PowerShell (Windows).\n",
    "\n"
   ]
  },
  {
   "cell_type": "markdown",
   "metadata": {},
   "source": [
    "# Let's get started!\n",
    "Familiarize yourself with the various menus in Jupyter Lab.\n",
    "- The left menu is the file explorer.\n",
    "- From the Launcher tab, open a new Python3 Notebook. Write some simple Python code in a cell.\n",
    "    - How do you edit a cell?\n",
    "    - How do you insert a new cell?\n",
    "    - How do you select a cell?\n",
    "    - How do you run code in a cell?\n",
    "    - How do you run all cells?\n",
    "    - How do you change a cell from \"code\" to \"markdown\", and vice versa?\n",
    "    - What does 'restart the kernel' do?\n",
    "\n",
    "The `*` to left indicates the code is running. A number indicated that the code completed and what order the code completed in.\n",
    "\n",
    "> **Keyboard Shortcuts**: The keys `Shift+Enter` to execute the command.  \n",
    "> Reference: [Jupyter Shortcuts](https://github.com/johnhorel/ATMOS_5020_2018/blob/master/supplemental_docs/jupyter_shortcuts.md)\n",
    "\n",
    "### Download this file and open in Jupyter Lab\n",
    "Download this file, `nov06_2018.ipynb`, from the class repository to your Desktop. \n",
    "\n",
    "- **Right click the `Raw` button at the top of the GitHub page and _save the file to your desktop_.** (\"Save link as\" or \"Save target as\")\n",
    "\n",
    "\n",
    "1. From the Jupyter Lab file explorer, open this document.\n",
    "2. Let's not modify that original file. So select `Save Notebook As` from the file menu and save the file as a different name, such as `nov06_inclass.ipynb`.\n",
    "\n",
    "Follow along with the class as we run the following cells."
   ]
  },
  {
   "cell_type": "markdown",
   "metadata": {},
   "source": [
    "# Try out a few basic things\n",
    "Remember the Python notes on [October 30](https://github.com/johnhorel/ATMOS_5020_2018/blob/master/oct30_2018.md)? Let's review...."
   ]
  },
  {
   "cell_type": "code",
   "execution_count": 1,
   "metadata": {},
   "outputs": [
    {
     "name": "stdout",
     "output_type": "stream",
     "text": [
      "Hello, world!\n"
     ]
    }
   ],
   "source": [
    "# This is almost obligatory to do...\n",
    "print('Hello, world!')"
   ]
  },
  {
   "cell_type": "code",
   "execution_count": 2,
   "metadata": {},
   "outputs": [],
   "source": [
    "# While you can have many lines of code in a cell, only the last one will automatically print to the screen\n",
    "a = 1\n",
    "b = 2"
   ]
  },
  {
   "cell_type": "code",
   "execution_count": 1,
   "metadata": {},
   "outputs": [
    {
     "ename": "NameError",
     "evalue": "name 'a' is not defined",
     "output_type": "error",
     "traceback": [
      "\u001b[1;31m---------------------------------------------------------------------------\u001b[0m",
      "\u001b[1;31mNameError\u001b[0m                                 Traceback (most recent call last)",
      "\u001b[1;32m<ipython-input-1-05dec960e24d>\u001b[0m in \u001b[0;36m<module>\u001b[1;34m\u001b[0m\n\u001b[1;32m----> 1\u001b[1;33m \u001b[0ma\u001b[0m\u001b[1;33m\u001b[0m\u001b[1;33m\u001b[0m\u001b[0m\n\u001b[0m\u001b[0;32m      2\u001b[0m \u001b[0mb\u001b[0m\u001b[1;33m\u001b[0m\u001b[1;33m\u001b[0m\u001b[0m\n",
      "\u001b[1;31mNameError\u001b[0m: name 'a' is not defined"
     ]
    }
   ],
   "source": [
    "a\n",
    "b"
   ]
  },
  {
   "cell_type": "code",
   "execution_count": 4,
   "metadata": {},
   "outputs": [
    {
     "name": "stdout",
     "output_type": "stream",
     "text": [
      "the value of a is: 1\n",
      "the value of b is: 2\n"
     ]
    }
   ],
   "source": [
    "# You use the print() function to show both values\n",
    "print('the value of a is:',a)\n",
    "print('the value of b is:',b)"
   ]
  },
  {
   "cell_type": "code",
   "execution_count": 5,
   "metadata": {},
   "outputs": [
    {
     "data": {
      "text/plain": [
       "float"
      ]
     },
     "execution_count": 5,
     "metadata": {},
     "output_type": "execute_result"
    }
   ],
   "source": [
    "# Make a a float, and then verify its type\n",
    "a = 1.5\n",
    "type(a)"
   ]
  },
  {
   "cell_type": "code",
   "execution_count": 6,
   "metadata": {},
   "outputs": [
    {
     "data": {
      "text/plain": [
       "\u001b[1;31mType:\u001b[0m        float\n",
       "\u001b[1;31mString form:\u001b[0m 1.5\n",
       "\u001b[1;31mDocstring:\u001b[0m  \n",
       "float(x) -> floating point number\n",
       "\n",
       "Convert a string or number to a floating point number, if possible.\n"
      ]
     },
     "metadata": {},
     "output_type": "display_data"
    }
   ],
   "source": [
    "# Object introspection: The question mark can be used to obtain more info on an object and explain a bit more\n",
    "a?"
   ]
  },
  {
   "cell_type": "code",
   "execution_count": 7,
   "metadata": {},
   "outputs": [
    {
     "name": "stdout",
     "output_type": "stream",
     "text": [
      "Side A: 3\n",
      "Side B: 4\n",
      "Side C: 5.0\n"
     ]
    }
   ],
   "source": [
    "# Calculate the hypotenuse of a triangle\n",
    "a = 3\n",
    "b = 4\n",
    "c = (a**2 + b**2)**(1/2)\n",
    "print('Side A: %s\\nSide B: %s\\nSide C: %s' % (a, b, c))"
   ]
  },
  {
   "cell_type": "markdown",
   "metadata": {},
   "source": [
    "---\n",
    "# Looping"
   ]
  },
  {
   "cell_type": "markdown",
   "metadata": {},
   "source": [
    "## For Loop\n",
    "Don't forget about the **for loop** from the last set of note!\n",
    "\n",
    "`for`: executes a block of code for all items in an iterable object (string, list, or tuple).\n",
    "\n",
    "For loop syntax:\n",
    "\n",
    "    for [variable to iterate] in [sequence]:\n",
    "        [do this code]\n",
    "\n",
    "[Reference: For Loop](https://www.tutorialspoint.com/python3/python_for_loop.htm)"
   ]
  },
  {
   "cell_type": "code",
   "execution_count": 8,
   "metadata": {},
   "outputs": [
    {
     "name": "stdout",
     "output_type": "stream",
     "text": [
      "G\n",
      "o\n",
      " \n",
      "U\n",
      "t\n",
      "e\n",
      "s\n"
     ]
    }
   ],
   "source": [
    "for i in 'Go Utes':\n",
    "    print(i)"
   ]
  },
  {
   "cell_type": "markdown",
   "metadata": {},
   "source": [
    "## While Loop\n",
    "`while`: execute a block of code as long as a condition is met.  \n",
    "\n",
    "> WARNING: Beware of infinite loops.\n",
    "\n",
    "While loop syntax:\n",
    "\n",
    "    while [condition to check]:\n",
    "        [code block]\n",
    "\n",
    "[Reference: While Loop](https://www.tutorialspoint.com/python3/python_while_loop.htm)"
   ]
  },
  {
   "cell_type": "code",
   "execution_count": 9,
   "metadata": {},
   "outputs": [
    {
     "name": "stdout",
     "output_type": "stream",
     "text": [
      "1\n",
      "2\n",
      "3\n",
      "4\n",
      "5\n",
      "while loop finished\n"
     ]
    }
   ],
   "source": [
    "z = 0\n",
    "while z < 5:\n",
    "    z = z + 1\n",
    "    print(z)\n",
    "\n",
    "print('while loop finished')"
   ]
  },
  {
   "cell_type": "markdown",
   "metadata": {},
   "source": [
    "---\n",
    "Let's do something slightly more interesting\n"
   ]
  },
  {
   "cell_type": "code",
   "execution_count": 10,
   "metadata": {},
   "outputs": [
    {
     "name": "stdout",
     "output_type": "stream",
     "text": [
      "C   \t    F\n",
      "-------------------\n",
      "-20 \t -4.0\n",
      "-16 \t 3.1999999999999993\n",
      "-12 \t 10.399999999999999\n",
      "-8 \t 17.6\n",
      "-4 \t 24.8\n",
      "0 \t 32.0\n",
      "4 \t 39.2\n",
      "8 \t 46.4\n",
      "12 \t 53.6\n",
      "16 \t 60.8\n",
      "20 \t 68.0\n",
      "24 \t 75.2\n",
      "28 \t 82.4\n",
      "32 \t 89.6\n",
      "36 \t 96.8\n",
      "40 \t 104.0\n",
      "-------------------\n"
     ]
    }
   ],
   "source": [
    "# Compute the conversion of Celsius to Farhenheit for the range of values \n",
    "# between -20 and 40 C at 5 C intervals\n",
    "\n",
    "\n",
    "print ('C   \\t    F')      # \\t is a tab\n",
    "print ('-------------------')\n",
    "\n",
    "# assign value to variable c for Celsius\n",
    "c = -20\n",
    "\n",
    "# assign an increment, dc (delta celsius), to add to the values of c\n",
    "dc = 4\n",
    "\n",
    "# Use a while loop to determine the value of the temperature\n",
    "# in F for each whole degree C as long as C is less than 40.\n",
    "while c <= 40:\n",
    "    f = (9/5)*c+32            # convertion\n",
    "    print (c, '\\t', f)        # print value of c and f\n",
    "    c = c + dc                # increment c by dc\n",
    "    \n",
    "print ('-------------------')"
   ]
  },
  {
   "cell_type": "markdown",
   "metadata": {},
   "source": [
    "> **What just happened?**  \n",
    "- Do you understand how the while loop works?  \n",
    "- Why were each of these values printed? \n",
    "- What made the loop stop?"
   ]
  },
  {
   "cell_type": "markdown",
   "metadata": {},
   "source": [
    "Now do some cleaner printing using string modulus..."
   ]
  },
  {
   "cell_type": "code",
   "execution_count": 11,
   "metadata": {},
   "outputs": [
    {
     "name": "stdout",
     "output_type": "stream",
     "text": [
      "---------\n",
      " -20.0 C =   -4.0 F\n",
      " -16.0 C =    3.2 F\n",
      " -12.0 C =   10.4 F\n",
      "  -8.0 C =   17.6 F\n",
      "  -4.0 C =   24.8 F\n",
      "   0.0 C =   32.0 F\n",
      "   4.0 C =   39.2 F\n",
      "   8.0 C =   46.4 F\n",
      "  12.0 C =   53.6 F\n",
      "  16.0 C =   60.8 F\n",
      "  20.0 C =   68.0 F\n",
      "  24.0 C =   75.2 F\n",
      "  28.0 C =   82.4 F\n",
      "  32.0 C =   89.6 F\n",
      "  36.0 C =   96.8 F\n",
      "  40.0 C =  104.0 F\n",
      "---------\n"
     ]
    }
   ],
   "source": [
    "print ('---------')\n",
    "\n",
    "#initialize first value of c\n",
    "c = -20.\n",
    "\n",
    "#define the increment, dc, to add to the values of c\n",
    "dc = 4.\n",
    "\n",
    "#determine the value of the temperature in F for each whole degree C\n",
    "while c <= 40: \n",
    "    f = (9./5.)*c+32.\n",
    "    print (\"%6.1f C = %6.1f F\" % (c,f)) \n",
    "    c = c + dc \n",
    "    \n",
    "print ('---------')"
   ]
  },
  {
   "cell_type": "markdown",
   "metadata": {},
   "source": [
    "# Conditional statement\n",
    "`if`: execute a block of code only if a condition is true\n",
    "\n",
    "    if condition:\n",
    "        [code block]\n",
    "    \n",
    "for multiple comparisons\n",
    "    \n",
    "    if condition 1:\n",
    "        [code block]\n",
    "    elif condition 2:\n",
    "        [code block]\n",
    "    else:\n",
    "        [default code block if no condition is true]\n",
    "\n",
    "[Reference: Conditional Statements](https://www.tutorialspoint.com/python3/python_decision_making.htm)"
   ]
  },
  {
   "cell_type": "markdown",
   "metadata": {},
   "source": [
    "### Comparison operators\n",
    "- comparison operators return Boolean values of True or False\n",
    "- You can compare integer, floats, and strings\n",
    "\n",
    "\n",
    "|Description|Operator|\n",
    "|--|--|\n",
    "|Equal to| == |\n",
    "| Not equal to | != |\n",
    "| Less than | < |\n",
    "| Greater than | > |\n",
    "| Greater than or equal to | >= |\n",
    "| Less than or equal to | <= |\n",
    "\n"
   ]
  },
  {
   "cell_type": "markdown",
   "metadata": {},
   "source": [
    "# Exercise #1\n",
    "**Modify the following cell to only print values below freezing.**\n",
    "\n",
    "Hint: You need an `if` statement inside the for loop."
   ]
  },
  {
   "cell_type": "code",
   "execution_count": 12,
   "metadata": {},
   "outputs": [
    {
     "name": "stdout",
     "output_type": "stream",
     "text": [
      "C   \t    F\n",
      "--------------\n",
      "-25 \t -13.0\n",
      "-20 \t -4.0\n",
      "-15 \t 5.0\n",
      "-10 \t 14.0\n",
      "-5 \t 23.0\n",
      "0 \t 32.0\n",
      "5 \t 41.0\n",
      "10 \t 50.0\n",
      "15 \t 59.0\n",
      "20 \t 68.0\n",
      "25 \t 77.0\n",
      "30 \t 86.0\n",
      "35 \t 95.0\n",
      "40 \t 104.0\n",
      "45 \t 113.0\n",
      "--------------\n"
     ]
    }
   ],
   "source": [
    "# Only print temperatures above freezing\n",
    "\n",
    "print ('C   \\t    F')\n",
    "print ('--------------')\n",
    "\n",
    "for c in range(-25, 50, 5):\n",
    "    f = (9./5.)*c+32.\n",
    "    print (c,'\\t',f)\n",
    "\n",
    "print ('--------------')"
   ]
  },
  {
   "cell_type": "markdown",
   "metadata": {},
   "source": [
    "# Functions\n",
    "\n",
    "Functions are blocks of code that perform actions. They typically take input, do something with the input, and send out output.\n",
    "\n",
    "    def function_name(input):\n",
    "        [do something...]\n",
    "        return output\n",
    "        \n",
    "For example, if we wanted to write a function that converted the temperature from C to F:"
   ]
  },
  {
   "cell_type": "code",
   "execution_count": 13,
   "metadata": {},
   "outputs": [
    {
     "name": "stdout",
     "output_type": "stream",
     "text": [
      "32.0 F\n",
      "41.0 F\n",
      "50.0 F\n",
      "\n",
      "---------\n",
      "-10 C is equal to 14.0 F\n",
      "-5 C is equal to 23.0 F\n",
      "0 C is equal to 32.0 F\n",
      "5 C is equal to 41.0 F\n",
      "10 C is equal to 50.0 F\n",
      "15 C is equal to 59.0 F\n",
      "20 C is equal to 68.0 F\n",
      "25 C is equal to 77.0 F\n",
      "30 C is equal to 86.0 F\n",
      "35 C is equal to 95.0 F\n",
      "40 C is equal to 104.0 F\n",
      "45 C is equal to 113.0 F\n",
      "---------\n"
     ]
    }
   ],
   "source": [
    "def CtoF(C):\n",
    "    F = (9/5)*C + 32\n",
    "    return F\n",
    "\n",
    "# Use the function to convert a value form C to F\n",
    "print(CtoF(0), 'F')\n",
    "print(CtoF(5), 'F')\n",
    "print(CtoF(10), 'F')\n",
    "print()\n",
    "\n",
    "# Use the function to convert all values in a list\n",
    "print ('---------')\n",
    "for c in range(-10, 50, 5):\n",
    "    print('%s C is equal to %s F' % (c, CtoF(c)))\n",
    "print ('---------')"
   ]
  },
  {
   "cell_type": "markdown",
   "metadata": {},
   "source": [
    "# Exercise #2\n",
    "Write a function to convert temperature from F to C"
   ]
  },
  {
   "cell_type": "code",
   "execution_count": 14,
   "metadata": {},
   "outputs": [],
   "source": [
    "# Write a function in this cell to convert a temperature from F to C\n",
    "\n",
    "\n",
    "\n"
   ]
  },
  {
   "cell_type": "markdown",
   "metadata": {},
   "source": [
    "---\n",
    "---\n",
    "\n",
    "# How do you apply math operators to a list?\n",
    "Say that we have a list of numbers and we want to multiply all of them by 2."
   ]
  },
  {
   "cell_type": "code",
   "execution_count": 15,
   "metadata": {},
   "outputs": [
    {
     "data": {
      "text/plain": [
       "[1, 2, 50, 43, 1, 2, 50, 43]"
      ]
     },
     "execution_count": 15,
     "metadata": {},
     "output_type": "execute_result"
    }
   ],
   "source": [
    "some_numbers = [1,2,50,43]\n",
    "some_numbers*2"
   ]
  },
  {
   "cell_type": "markdown",
   "metadata": {},
   "source": [
    "Wait! That is not what we want! Do you see what happened?\n",
    "Instead of multiplying all the elements by 2, we now have 2 copies of the list side-by-side.\n",
    "\n",
    "We need to use a **module** called `numpy` to do this sort of array manipulation."
   ]
  },
  {
   "cell_type": "markdown",
   "metadata": {},
   "source": [
    "# Modules\n",
    "Modules are collections of statements that include pre-built functions and constants. The name of the module is the name of the file in which it is stored. \n",
    "\n",
    "Before you can use a module it must be imported. You must import the module in your code prior to using any content of the module. This is typically done at the begining of a script.\n",
    "\n",
    "    import [module name]\n",
    "\n",
    "To simplify referencing content in a module, an **alias** can be used. Although you can choose the alias, there are some well adopted conventions for widley used modules.\n",
    "\n",
    "    import [module name] as [alias]\n",
    "\n",
    "`numpy` and `matplotlib` are two heavily-used modules you should become familiar with."
   ]
  },
  {
   "cell_type": "markdown",
   "metadata": {},
   "source": [
    "---\n",
    "\n",
    "## `numpy`\n",
    "\n",
    "NumPy is short for \"Numerical Python\" and is used for array manipulation and general math operations.\n",
    "\n",
    "To import numpy you could do\n",
    "\n",
    "    import numpy\n",
    "    \n",
    "but we want to assign it to an alysis so we don't have to type `numpy` every time we want to use it. Instead, we use...\n",
    "\n",
    "    import numpy as np"
   ]
  },
  {
   "cell_type": "code",
   "execution_count": 16,
   "metadata": {},
   "outputs": [],
   "source": [
    "# Import numerical python as numpy module and use the alias np'\n",
    "import numpy as np"
   ]
  },
  {
   "cell_type": "markdown",
   "metadata": {},
   "source": [
    "### Vector\n",
    "A **vector** is a 1-dimensional array. \n",
    "\n",
    "The numpy `linspace()` function returns evenly spaced numbers over a specified interval. It allows the user to create a vector by specifying the beginning, ending, and the number of values over that range. The resulting array is much like a standard Python list.\n",
    "\n",
    "    np.linspace(begining, end, n)\n",
    "\n",
    "[Reference: Numpy linspace()](https://docs.scipy.org/doc/numpy/reference/generated/numpy.linspace.html)"
   ]
  },
  {
   "cell_type": "code",
   "execution_count": 17,
   "metadata": {},
   "outputs": [
    {
     "name": "stdout",
     "output_type": "stream",
     "text": [
      "c_vec = [-20. -16. -12.  -8.  -4.   0.   4.   8.  12.  16.  20.  24.  28.  32.\n",
      "  36.  40.]\n",
      "f_vec = [ -4.    3.2  10.4  17.6  24.8  32.   39.2  46.4  53.6  60.8  68.   75.2\n",
      "  82.4  89.6  96.8 104. ]\n"
     ]
    }
   ],
   "source": [
    "# initialize a vector with values from -20 to 40 using 16 values (4 C spacing)\n",
    "c_vec = np.linspace(-20.,40.,16)\n",
    "\n",
    "# compute values for each element of the vector c_vec\n",
    "f_vec = (9/5)*c_vec+32\n",
    "print('c_vec =',c_vec)\n",
    "print('f_vec =',f_vec)\n"
   ]
  },
  {
   "cell_type": "markdown",
   "metadata": {},
   "source": [
    "Nice! We just did math on all numbers in the vector, and we did it without using a loop!"
   ]
  },
  {
   "cell_type": "code",
   "execution_count": 18,
   "metadata": {},
   "outputs": [
    {
     "name": "stdout",
     "output_type": "stream",
     "text": [
      "<class 'numpy.ndarray'>\n",
      "<class 'numpy.float64'>\n"
     ]
    }
   ],
   "source": [
    "# What is the data type of c_vec?\n",
    "print(type(c_vec))\n",
    "# What is the data type of the first element in c_vec?\n",
    "print(type(c_vec[0]))"
   ]
  },
  {
   "cell_type": "markdown",
   "metadata": {},
   "source": [
    "We can perform math operations on numpy arrays that we couldn't do with the standard Python list. If you want to do math on a numpy array, the array canot contain strings.\n",
    "For example, `np.array([1,2,3,'Utah'])*3` will not work."
   ]
  },
  {
   "cell_type": "markdown",
   "metadata": {},
   "source": [
    "You can convert a standard list to a numpy array.\n",
    "\n",
    "    my_list = [1,2,3,4]\n",
    "    my_array = np.array(my_list)"
   ]
  },
  {
   "cell_type": "code",
   "execution_count": 19,
   "metadata": {},
   "outputs": [
    {
     "name": "stdout",
     "output_type": "stream",
     "text": [
      "[1, 2, 3, 1, 2, 3]\n",
      "[2 4 6]\n"
     ]
    }
   ],
   "source": [
    "a = [1,2,3]\n",
    "\n",
    "# Multiply a list\n",
    "print(a*2)\n",
    "\n",
    "# Multiply a numpy array\n",
    "print(np.array(a)*2)"
   ]
  },
  {
   "cell_type": "markdown",
   "metadata": {},
   "source": [
    "### Many other useful `numpy` functions\n",
    "|Numpy Function| Use|\n",
    "|--|--|\n",
    "|`np.sum()`| Sum all numbers in a list/array.\n",
    "|`np.sin()`, `np.cos()`, `np.tan()`| Trig functions\n",
    "|`np.max()`, `np.min()`| Find max or min value in list/array\n",
    "|`np.mean()`, `np.median()`| Find mean or median value in list/array\n",
    "|`np.sqrt()`| Square Root the values\n",
    "|`np.shape()`|Return the shape of an array|\n",
    "|`np.zeros([n,n])`|An array of zeros with size nxn|\n",
    "|`np.ones([n,n])`|An array of ones with size nxn|\n",
    "|`np.linspace(start, end, n)`|Array of evenly spaced numbers between start and end|\n",
    "|`np.range(start, end, step)`|Range of numbers|\n",
    "|...|...|\n",
    "\n",
    "Note: If you give the numpy function a list, it will convert it to a numpy array for you.\n",
    "\n",
    "Other useful values\n",
    "- `np.pi` is the value of pi.\n",
    "- `np.nan` stands for not a number.\n",
    "\n"
   ]
  },
  {
   "cell_type": "code",
   "execution_count": 20,
   "metadata": {},
   "outputs": [
    {
     "name": "stdout",
     "output_type": "stream",
     "text": [
      "[1, 2, 3, 4, 5, 6]\n",
      "\n",
      "sum: 21\n",
      "sin: [ 0.84147098  0.90929743  0.14112001 -0.7568025  -0.95892427 -0.2794155 ]\n",
      "square root: [1.         1.41421356 1.73205081 2.         2.23606798 2.44948974]\n",
      "shape: (6,)\n"
     ]
    }
   ],
   "source": [
    "# Some examples\n",
    "\n",
    "numbers = [1,2,3,4,5,6]\n",
    "\n",
    "print(numbers)\n",
    "print()\n",
    "print('sum:', np.sum(numbers))\n",
    "print('sin:', np.sin(numbers))\n",
    "print('square root:', np.sqrt(numbers))\n",
    "print('shape:', np.shape(numbers))"
   ]
  },
  {
   "cell_type": "code",
   "execution_count": 21,
   "metadata": {},
   "outputs": [
    {
     "name": "stdout",
     "output_type": "stream",
     "text": [
      "3.141592653589793\n",
      "nan\n"
     ]
    }
   ],
   "source": [
    "print(np.pi)\n",
    "print(np.nan)"
   ]
  },
  {
   "cell_type": "markdown",
   "metadata": {},
   "source": [
    "---\n",
    "\n",
    "# _matplotlib_\n",
    "Visualizing environmental information is critical. The `matplotlib` library provides plotting capabilities. `pyplot` is a submodule that provides many ways to plot data.\n",
    "\n",
    "We import `matplotlib.pyplot` with the alias `plt`\n"
   ]
  },
  {
   "cell_type": "code",
   "execution_count": 22,
   "metadata": {},
   "outputs": [],
   "source": [
    "import matplotlib.pyplot as plt"
   ]
  },
  {
   "cell_type": "markdown",
   "metadata": {},
   "source": [
    "The `plt.plot()` function takes arguments for the x and y axis values.  \n",
    "The `plt.xlabel()` function addes a label on the x axis  \n",
    "The `plt.ylabel()` function addes a label on the y axis\n",
    "\n",
    "> Note: Be careful with your axis labels. If they are mis-labeled, the computer won't tell you it is wrong."
   ]
  },
  {
   "cell_type": "code",
   "execution_count": 23,
   "metadata": {},
   "outputs": [
    {
     "data": {
      "text/plain": [
       "Text(0,0.5,'Farenheit')"
      ]
     },
     "execution_count": 23,
     "metadata": {},
     "output_type": "execute_result"
    },
    {
     "data": {
      "image/png": "[encoded data removed]",
      "text/plain": [
       "<Figure size 432x288 with 1 Axes>"
      ]
     },
     "metadata": {},
     "output_type": "display_data"
    }
   ],
   "source": [
    "plt.plot(c_vec, f_vec)\n",
    "plt.xlabel('Celsius')\n",
    "plt.ylabel('Farenheit')"
   ]
  },
  {
   "cell_type": "markdown",
   "metadata": {},
   "source": [
    "# Handling arrays\n",
    "- we'll discuss numpy arrays in more detail later\n",
    "- arrays have a shape (dimensions) that can be determined using the numpy `shape()` function\n",
    "\n",
    "Let's create a 2-dimensional array with the first column being temperatures in C, and second column is temps in F"
   ]
  },
  {
   "cell_type": "code",
   "execution_count": 24,
   "metadata": {},
   "outputs": [
    {
     "name": "stdout",
     "output_type": "stream",
     "text": [
      "(16,)\n"
     ]
    }
   ],
   "source": [
    "#first get shape of c_vec, which is 1-D\n",
    "c_len = np.shape(c_vec)\n",
    "\n",
    "#show what c_len is\n",
    "print(c_len)"
   ]
  },
  {
   "cell_type": "code",
   "execution_count": 25,
   "metadata": {},
   "outputs": [
    {
     "name": "stdout",
     "output_type": "stream",
     "text": [
      "[[-20.   -4. ]\n",
      " [-16.    3.2]\n",
      " [-12.   10.4]\n",
      " [ -8.   17.6]\n",
      " [ -4.   24.8]\n",
      " [  0.   32. ]\n",
      " [  4.   39.2]\n",
      " [  8.   46.4]\n",
      " [ 12.   53.6]\n",
      " [ 16.   60.8]\n",
      " [ 20.   68. ]\n",
      " [ 24.   75.2]\n",
      " [ 28.   82.4]\n",
      " [ 32.   89.6]\n",
      " [ 36.   96.8]\n",
      " [ 40.  104. ]]\n"
     ]
    },
    {
     "data": {
      "image/png": "[encoded data removed]",
      "text/plain": [
       "<Figure size 432x288 with 1 Axes>"
      ]
     },
     "metadata": {},
     "output_type": "display_data"
    }
   ],
   "source": [
    "# initialize a 2-d array with c_len[0] rows and 2 columns\n",
    "temp = np.zeros(shape=(c_len[0],2))\n",
    "\n",
    "#fill the first column with the temperatures in C\n",
    "temp[:,0] = c_vec\n",
    "\n",
    "#fill the second column with the temperatures in F\n",
    "temp[:,1] = f_vec\n",
    "\n",
    "#view what the 2-d array looks like\n",
    "print(temp)\n",
    "\n",
    "#plot the C vs F temperature values\n",
    "# note that we are plotting all rows by using : for the row index and then the 1st and 2nd columns\n",
    "plt.plot(temp[:,0],temp[:,1])\n",
    "\n",
    "plt.xlabel('Celsius');\n",
    "plt.ylabel('Farenheit');"
   ]
  },
  {
   "cell_type": "markdown",
   "metadata": {},
   "source": [
    "# Sine curve\n",
    "What is changing between the graphs?"
   ]
  },
  {
   "cell_type": "code",
   "execution_count": 26,
   "metadata": {},
   "outputs": [
    {
     "data": {
      "text/plain": [
       "[<matplotlib.lines.Line2D at 0x179d6027208>]"
      ]
     },
     "execution_count": 26,
     "metadata": {},
     "output_type": "execute_result"
    },
    {
     "data": {
      "image/png": "[encoded data removed]",
      "text/plain": [
       "<Figure size 432x288 with 1 Axes>"
      ]
     },
     "metadata": {},
     "output_type": "display_data"
    }
   ],
   "source": [
    "a = np.arange(0,10)\n",
    "b = np.sin(a)\n",
    "plt.plot(b)"
   ]
  },
  {
   "cell_type": "code",
   "execution_count": 27,
   "metadata": {},
   "outputs": [
    {
     "data": {
      "text/plain": [
       "[<matplotlib.lines.Line2D at 0x179d63bdbe0>]"
      ]
     },
     "execution_count": 27,
     "metadata": {},
     "output_type": "execute_result"
    },
    {
     "data": {
      "image/png": "[encoded data removed]",
      "text/plain": [
       "<Figure size 432x288 with 1 Axes>"
      ]
     },
     "metadata": {},
     "output_type": "display_data"
    }
   ],
   "source": [
    "a = np.arange(0,10, .5)\n",
    "b = np.sin(a)\n",
    "plt.plot(b)"
   ]
  },
  {
   "cell_type": "code",
   "execution_count": 28,
   "metadata": {},
   "outputs": [
    {
     "data": {
      "text/plain": [
       "[<matplotlib.lines.Line2D at 0x179d6465978>]"
      ]
     },
     "execution_count": 28,
     "metadata": {},
     "output_type": "execute_result"
    },
    {
     "data": {
      "image/png": "[encoded data removed]",
      "text/plain": [
       "<Figure size 432x288 with 1 Axes>"
      ]
     },
     "metadata": {},
     "output_type": "display_data"
    }
   ],
   "source": [
    "a = np.arange(0,10, .1)\n",
    "b = np.sin(a)\n",
    "plt.plot(b)"
   ]
  },
  {
   "cell_type": "markdown",
   "metadata": {},
   "source": [
    "# Exercise #3\n",
    "**Plot a sine curve over the degree range 0-360 with the values of degrees on the x axis **\n",
    "\n"
   ]
  },
  {
   "cell_type": "markdown",
   "metadata": {},
   "source": [
    "\n",
    "_**MORE ON PLOTTING NEXT CLASS**_"
   ]
  },
  {
   "cell_type": "markdown",
   "metadata": {},
   "source": []
  },
  {
   "cell_type": "code",
   "execution_count": null,
   "metadata": {},
   "outputs": [],
   "source": []
  },
  {
   "cell_type": "code",
   "execution_count": null,
   "metadata": {},
   "outputs": [],
   "source": []
  }
 ],
 "metadata": {
  "kernelspec": {
   "display_name": "Python 3",
   "language": "python",
   "name": "python3"
  },
  "language_info": {
   "codemirror_mode": {
    "name": "ipython",
    "version": 3
   },
   "file_extension": ".py",
   "mimetype": "text/x-python",
   "name": "python",
   "nbconvert_exporter": "python",
   "pygments_lexer": "ipython3",
   "version": "3.7.1"
  }
 },
 "nbformat": 4,
 "nbformat_minor": 4
}
