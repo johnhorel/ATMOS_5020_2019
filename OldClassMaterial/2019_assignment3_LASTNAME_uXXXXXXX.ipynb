{
 "cells": [
  {
   "cell_type": "markdown",
   "metadata": {},
   "source": [
    "**ATMOS 5020: Environmental Programming**  \n",
    "**Due Sept ##, 2019**\n",
    "\n",
    "# Assignment 3\n",
    "**First Name, Last Name**  \n",
    "uID\n",
    "\n",
    "_Do not wait until the night before it's due to get started._ Use your lab time to work on the assignment and ask questions. Use Teams to ask questions and help each other, but do not give answers! Copying another person's work is cheating.\n",
    "\n",
    "When you get stuck, use the `print()` function liberally. Look at the values of your variables and think about if they make sense. Also, pay attention to any error messages when debugging your code.\n",
    "\n",
    "## Instructions\n",
    "1. Download the entire GitHub repository that contains this assignment file and all the data files.\n",
    "    - `git clone https://github.com/johnhorel/ATMOS_5020_2019.git`\n",
    "    - or, download the zipped GitHub repository and unzip it.\n",
    "1. Rename this notebook with your name and uID\n",
    "    - `assignment2_LASTNAME_uXXXXXXX.ipynb`\n",
    "1. Answer all six questions within this notebook.\n",
    "\n",
    "***How to turn in assignment:*** Upload the `.ipynb` notebook file to the assignment on Canvas. We will download and rerun your notebook.\n",
    "\n",
    "### Good luck, and have fun! 🍁\n",
    "---"
   ]
  },
  {
   "cell_type": "markdown",
   "metadata": {},
   "source": [
    "# Question 1: Projectile Path\n",
    "In class, we used the `projectile()` function to plot the path of an object launched at different angles. Instead of plotting the path for differentangles, use the function to generate a single figure that shows the path for different velocities.\n",
    "\n",
    "- Assume a constant angle of 45 degrees.\n",
    "- Plot the path for the velocities 10, 20, 30, 40, 50, 60, 70, 80, and 90 m/s.\n",
    "- Include appropriate axis and title labels, as well as a legend for each of the paths."
   ]
  },
  {
   "cell_type": "code",
   "execution_count": 3,
   "metadata": {},
   "outputs": [],
   "source": [
    "def projectile(v0, theta, num=51):\n",
    "    \"\"\"\n",
    "    Calculate the x and y position and velocity of a projectile at time t\n",
    "    when launched at angle theta with velocity v0.\n",
    "    \n",
    "    Input:\n",
    "        v0    - initial velocity of the projectile when launched (m/s)\n",
    "        theta - angle projectile is launched (degrees)\n",
    "        num   - number of point calculations per flight used by np.linspace().\n",
    "                Default is 51, so there will be 50 data points.\n",
    "    \n",
    "    Output:\n",
    "        t     - time vector (seconds)\n",
    "        x     - x position vector (m)\n",
    "        y     - y position vector (m)\n",
    "        v_x   - x-component velocity vector (m/s)\n",
    "        v_y   - y-component velocity vector (m/s)\n",
    "        v     - velocity magnitude vector (m/s)\n",
    "    \"\"\"\n",
    "    \n",
    "    # Gravitational Acceleration\n",
    "    g = 9.81  # m/s^2\n",
    "    \n",
    "    # Calculate total time of flight\n",
    "    total_t = 2*v0*np.sin(np.deg2rad(theta))/g\n",
    "    \n",
    "    # Create a time vector between 0 and total time.\n",
    "    t = np.linspace(0,total_t,num)\n",
    "    \n",
    "    # Calculate X and Y position of projectile\n",
    "    x = v0*t*np.cos(np.deg2rad(theta))\n",
    "    y = v0*t*np.sin(np.deg2rad(theta)) - .5*g*t**2\n",
    "    \n",
    "    # Compute velocity components and magnitude\n",
    "    v_x = v0*np.cos(np.deg2rad(theta)) * np.ones_like(t)\n",
    "    v_y = v0*np.sin(np.deg2rad(theta)) - g*t\n",
    "    v = np.sqrt(v_x**2+v_y**2)\n",
    "    \n",
    "    return t, x, y, v_x, v_y, v"
   ]
  },
  {
   "cell_type": "code",
   "execution_count": 4,
   "metadata": {},
   "outputs": [],
   "source": [
    "angle = 45\n",
    "\n",
    "\n",
    "# Create the figure object\n",
    "\n",
    "\n",
    "\n",
    "# Loop through different velocities, adding the path to the figure\n",
    "\n",
    "\n",
    "\n",
    "# Add a legend to the figure\n",
    "\n",
    "\n",
    "\n",
    "# Add figure axis labels and title\n",
    "\n",
    "\n"
   ]
  },
  {
   "cell_type": "markdown",
   "metadata": {},
   "source": [
    "# Quesstion 2: Projectile Path on Different Planets\n",
    "Modify the above `projectile()` funtion to accept an input for gravitional acceleration. Then plot the projectile path for each of the different planets with the same velocity and angle. Add a legend to indicate the planet of each projectile.\n",
    "\n",
    "<img src='../images/accel-of-gravity-other-planets.png'  width=300>"
   ]
  },
  {
   "cell_type": "code",
   "execution_count": 6,
   "metadata": {},
   "outputs": [],
   "source": [
    "planets = ['Mercury', 'Venus', 'Earth', 'Moon', 'Mars', 'Jupiter', 'Saturn', 'Uranus', 'Neptune', 'Pluto']\n",
    "g = [3.59, 8.87, 9.81, 1.62, 3.77, 25.95, 11.08, 10.67, 14.07, 0.42]\n",
    "\n",
    "velocity = 10\n",
    "angle = 45\n",
    "\n",
    "# for loop for every planet. Since we want to access values for both planets and g, you might consider using enumerate().\n",
    "    # call the modified proj_projectile funcntion\n",
    "    # plot the path and include the name of the planet in the label\n",
    "\n",
    "    \n",
    "# other plot housekeeping (title, labels, legend, etc.)"
   ]
  },
  {
   "cell_type": "code",
   "execution_count": null,
   "metadata": {},
   "outputs": [],
   "source": []
  }
 ],
 "metadata": {
  "kernelspec": {
   "display_name": "Python 3",
   "language": "python",
   "name": "python3"
  },
  "language_info": {
   "codemirror_mode": {
    "name": "ipython",
    "version": 3
   },
   "file_extension": ".py",
   "mimetype": "text/x-python",
   "name": "python",
   "nbconvert_exporter": "python",
   "pygments_lexer": "ipython3",
   "version": "3.7.1"
  }
 },
 "nbformat": 4,
 "nbformat_minor": 4
}
