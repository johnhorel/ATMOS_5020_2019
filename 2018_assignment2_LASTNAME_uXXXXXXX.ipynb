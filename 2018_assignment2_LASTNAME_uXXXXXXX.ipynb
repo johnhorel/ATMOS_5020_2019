{
 "cells": [
  {
   "cell_type": "markdown",
   "metadata": {},
   "source": [
    "**ATMOS 5020: Environmental Programming**  \n",
    "**Due November 29, 2018 11:59 PM**\n",
    "\n",
    "# Assignment 2\n",
    "**First Name, Last Name**  \n",
    "uID\n",
    "\n",
    "This is a big assignment and is considered the \"final\" for the Python portion of the class. Each question is worth 15 points for a total of 90 points.\n",
    "\n",
    "_Do not wait until the night before it's due to get started._ You are given class time on November 20th to work on the assignment and ask questions. Use Slack to ask questions and help each other, but do not give answers away! Copying another person's work is cheating.\n",
    "\n",
    "When you get stuck, use the `print()` function liberally. Look at the values of your variables and think about if they make sense. Also, pay attention to any error messages when debugging your code.\n",
    "\n",
    "## Instructions\n",
    "1. Download the entire GitHub repository that contains this assignment file and all the data files.\n",
    "    - `git clone https://github.com/johnhorel/ATMOS_5020_2018.git`\n",
    "    - or, download the zipped GitHub repository and unzip it.\n",
    "1. Rename this notebook with your name and uID\n",
    "    - `assignment2_LASTNAME_uXXXXXXX.ipynb`\n",
    "1. Answer all six questions within this notebook.\n",
    "\n",
    "***How to turn in assignment:*** Send a direct message in Slack to both John Horel and Brian Blaylock and upload the `.ipynb` notebook file. We will download and rerun your notebook.\n",
    "\n",
    "![](./images/slack_upload.png)\n",
    "\n",
    "### Good luck, and have fun! 🦃\n",
    "\n",
    "\n",
    "---"
   ]
  },
  {
   "cell_type": "code",
   "execution_count": null,
   "metadata": {},
   "outputs": [],
   "source": [
    "# Remember to load these modules!\n",
    "import numpy as np\n",
    "import matplotlib.pyplot as plt"
   ]
  },
  {
   "cell_type": "markdown",
   "metadata": {},
   "source": [
    "---\n",
    "\n",
    "## Question 1: Find max and min with loop\n",
    "Write a loop that finds and prints the maximum and minimum number in a list of random numbers **WITHOUT USING BUILT-IN FUNCTIONS `max()` or `min()`**.\n",
    "- Generate a list of 100 random numbers\n",
    "- Create a variable to store max value\n",
    "- Create a variable to store min value\n",
    "- Use a loop with nested if statements to find the maximum and the minimum value of the list.\n",
    "\n",
    "The purpose of this question is to demonstrate your knowledge of how loops, conditional statements, and variable assignments work.\n",
    "(It would be a good idea to check your answer with the max and min functions)."
   ]
  },
  {
   "cell_type": "code",
   "execution_count": null,
   "metadata": {},
   "outputs": [],
   "source": [
    "\n",
    "\n",
    "\n",
    "\n",
    "\n"
   ]
  },
  {
   "cell_type": "markdown",
   "metadata": {},
   "source": [
    "---\n",
    "\n",
    "## Question 2: Great Salt Lake level\n",
    "![](./images/gsl.jpg)\n",
    "\n",
    "Observed levels of the Great Salt Lake have been recorded since 1896 and is available in the file `./data/gsl_yr.csv`. \n",
    "\n",
    "The first column is the year, the second column is the number of observations used to calculate the average lake level, and the third column is the average lake level for that year in feet.\n",
    "\n",
    "Load the data into Python and answer the following:\n",
    "- Plot a line graph of the data.\n",
    "    - x axis is year\n",
    "    - y axis is lake level\n",
    "    - apply appropriate axis labels and add a title\n",
    "- What was the highest lake level and what year did that occur? **Add a blue star to the plot to indicate the year and level.**\n",
    "- What was the lowest lake level and what year did that occur? **Add a red star to the plot to indicate the year and level.**\n",
    "- What is the average lake level? How many years during the period of record were above average?\n"
   ]
  },
  {
   "cell_type": "code",
   "execution_count": null,
   "metadata": {},
   "outputs": [],
   "source": [
    "# Load Data\n"
   ]
  },
  {
   "cell_type": "code",
   "execution_count": null,
   "metadata": {},
   "outputs": [],
   "source": [
    "# Make Plot\n"
   ]
  },
  {
   "cell_type": "code",
   "execution_count": null,
   "metadata": {},
   "outputs": [],
   "source": [
    "print('The highest lake level was XXX feet in the year XXXX')\n",
    "print('The lowest lake level was XXX feet in the year XXXX')\n",
    "print('The average level is XXX feet. There were XX years above average during the record.')"
   ]
  },
  {
   "cell_type": "markdown",
   "metadata": {},
   "source": [
    "---\n",
    "\n",
    "## Question 3: Wind Chill\n",
    "\n",
    "The following chart illustrates how the apparent air temperature changes with wind speed, also known as [wind chill](https://en.wikipedia.org/wiki/Wind_chill).\n",
    "\n",
    "![](./images/Wind_chill.png)\n",
    "\n",
    "The equation to calculate wind chill is as follows:\n",
    "\n",
    "\\begin{equation} WindChill = 35.74 + (0.6215 \\times T) - (35.75 \\times Wind^{0.16}_{sfc}) + (0.4275 \\times T \\times Wind^{0.16}_{sfc})\n",
    "\\end{equation}\n",
    "\n",
    "Source: https://www.weather.gov/media/epz/wxcalc/windChill.pdf\n",
    "\n",
    "Where the temperature is given in degrees Fahrenheit and the wind speed is given in miles per hour. \n",
    "\n",
    "1. Compute the wind chill for all integer temperatures between [-50, 40] and all integer wind speeds between [1, 80].\n",
    "    - Create vector for temperatures\n",
    "    - Create vector for wind speeds\n",
    "    - `np.meshgrid`\n",
    "    - Perform wind chill calculation for all value combinations (will be a 2D array).\n",
    "1. Generate a pcolormesh image showing the wind chill values. Overlay image with black contours (using the same data).\n",
    "    - `plt.pcolormesh(x, y, z, cmap='you_choose')`\n",
    "        - Use a colormap in pcolormesh that is not the default\n",
    "    - `plt.contour(x, y, z, colors='k')`\n",
    "        - Add contour labels (look in notes or search online how to do this).\n",
    "    - Add appropriate labels and a title\n",
    "    - Add a colorbar **with a label** (again, look at the notes or search online how to add a label to the colorbar in Python).\n",
    "    \n",
    "Check that the results makes sense and answer the following. \n",
    "1. Does the wind chill temperature decrease with increasing wind speed?\n",
    "\n",
    "1. Does the wind chill for a given temperature change more for a change in wind from 1-20 MPH or from 61-70 MPH?"
   ]
  },
  {
   "cell_type": "code",
   "execution_count": 1,
   "metadata": {},
   "outputs": [],
   "source": [
    "# Temperature and wind speed vectors and meshgrid\n",
    "\n",
    "\n",
    "# Compute wind chill\n",
    "\n"
   ]
  },
  {
   "cell_type": "code",
   "execution_count": null,
   "metadata": {},
   "outputs": [],
   "source": [
    "# Plot windchill grid\n",
    "\n",
    "\n"
   ]
  },
  {
   "cell_type": "markdown",
   "metadata": {},
   "source": [
    "Answers to questions:\n",
    "1. Does the wind chill temperature decrease with increasing wind speed?\n",
    "    - **your answer here**\n",
    "2. Does the wind chill for a given temperature change more for a change in wind from 1-20 MPH or from 61-70 MPH?\n",
    "    - **your answer here**\n"
   ]
  },
  {
   "cell_type": "markdown",
   "metadata": {},
   "source": [
    "---\n",
    "\n",
    "## Question 4: HRRR Wind Chill\n",
    "\n",
    "Use the temperature and wind data from the High-Resolution Rapid Refresh (HRRR) model to make a graphic that shows the difference between the actual temperature and the wind chill temperature.\n",
    "\n",
    "- Load HRRR temperature, U and V wind speed components (UGRD and VGRD), and LAND datasets\n",
    "- Compute the wind speed from U and V wind components \n",
    "- Convert wind speed from m/s to mph\n",
    "- Convert temperature form Kelvin to Fahrenheit.\n",
    "- Compute the wind chill for the entire HRRR domain using the equation from the previous question.\n",
    "- Plot a map showing the difference between the wind chill and the actual air temperature (`WindChill-Fahrenheit`), **but only show where the wind chill is less than the actual temperature**.\n",
    "    - Include the boundary between land and water as a black contour line.\n",
    "\n",
    "**Mask values**: Wind chill always decrease the apparent temperature. For all grid points where the wind chill temperature is greater than the actual temperature, you should set the wind chill value as \"not a number\" (nan) or mask the value using a masked array.\n",
    "\n",
    "Option 1: Setting values to nan\n",
    "\n",
    "    WindChill[WindChill > temp_F] = np.nan\n",
    "\n",
    "Option 2: Use a masked array to mask the values\n",
    "    \n",
    "    masked = np.ma.array(WindChill, mask=WindChill>temp_F)\n",
    "\n",
    "> NOTE: Weather models output wind speed data in U and V vectors (U is the east-west wind speed and V is the north-south wind component). The magnitude of these two components is the total wind speed.\n",
    ">\n",
    "> ![](./images/wind_UV.png)"
   ]
  },
  {
   "cell_type": "code",
   "execution_count": null,
   "metadata": {},
   "outputs": [],
   "source": [
    "# Load data\n",
    "T = np.load('./data/HRRR_F00_20181010-1400_TMP-2-m.npy').item()\n",
    "U = np.load('./data/HRRR_F00_20181010-1400_UGRD-10-m.npy').item()\n",
    "V = np.load('./data/HRRR_F00_20181010-1400_VGRD-10-m.npy').item()\n",
    "LAND = np.load('./data/HRRR_F00_20181010-1400_LAND-WATER.npy').item()"
   ]
  },
  {
   "cell_type": "code",
   "execution_count": null,
   "metadata": {},
   "outputs": [],
   "source": [
    "# Convert T from Kelvin to Fahrenheit\n",
    "\n",
    "\n",
    "# Convert U and V components to wind speed magnitude\n",
    "\n",
    "\n",
    "# Convert wind speed from m/s to mph\n"
   ]
  },
  {
   "cell_type": "code",
   "execution_count": null,
   "metadata": {},
   "outputs": [],
   "source": [
    "# Calculate wind chill\n",
    "\n"
   ]
  },
  {
   "cell_type": "code",
   "execution_count": null,
   "metadata": {},
   "outputs": [],
   "source": [
    "# Mask the wind chill array, becuase we only want to plot area where\n",
    "# wind chill temperature is less than the actual temperature.\n"
   ]
  },
  {
   "cell_type": "code",
   "execution_count": null,
   "metadata": {},
   "outputs": [],
   "source": [
    "# Plot the difference between the actual temperature and the wind chill temperature\n",
    "# i.e. wind_chill_temp - actual_temp\n"
   ]
  },
  {
   "cell_type": "markdown",
   "metadata": {},
   "source": [
    "Check your answer with the image below.\n",
    "\n",
    "![](./images/wind_chill_assignment.png)\n",
    "\n",
    "_How to interpret this:_ The darker color shows where the wind chill temperature was much colder than the actual temperature. The white shows where there is no change in the apparent temperature."
   ]
  },
  {
   "cell_type": "markdown",
   "metadata": {},
   "source": [
    "---\n",
    "\n",
    "## Question 5: Hurricane Michael wind gusts"
   ]
  },
  {
   "cell_type": "markdown",
   "metadata": {},
   "source": [
    "Reproduce the following graphic that shows maximum wind **gusts** greater than 25 m/s during Hurricane Michael.\n",
    "\n",
    "![](./images/create_this.png)\n",
    "\n",
    "> Hints:\n",
    "> - Load wind gust and terrain datasets.\n",
    "> - What are the contour intervals?\n",
    "> - What colormap is used?\n",
    "> - Zoom in on the hurricane by modifying the x and y axis limits.\n",
    "\n",
    "Then answer or do the following:\n",
    "1. What is the maximum wind gust?\n",
    "1. Where did the maximum wind gust occur? (consider using np.where())\n",
    "1. **Add to the plot a white star at the location of the highest gust and print the gust value at that locatoin on the plot with `plt.text()`.**"
   ]
  },
  {
   "cell_type": "code",
   "execution_count": null,
   "metadata": {},
   "outputs": [],
   "source": [
    "\n",
    "\n",
    "\n",
    "\n"
   ]
  },
  {
   "cell_type": "code",
   "execution_count": null,
   "metadata": {},
   "outputs": [],
   "source": [
    "print(\"The maximum wind gust was XXX m/s located at xxx longitude and xxx latitude.\")"
   ]
  },
  {
   "cell_type": "markdown",
   "metadata": {},
   "source": [
    "---\n",
    "\n",
    "## Question 6: GOES-16 Day Cloud Phase Distinction RGB Product\n",
    "\n",
    "![](./images/day_cloud.jpg)\n",
    "\n",
    "In class, we looked at the True Color RGB product. There are many other RGB products that are useful to meteorologists.\n",
    "\n",
    "Look at the [Day Cloud Phase Distinction product on SLIDER](http://rammb-slider.cira.colostate.edu/?sat=goes-16&z=0&im=12&ts=1&st=0&et=0&speed=130&motion=loop&map=1&lat=0&opacity%5B0%5D=1&hidden%5B0%5D=0&pause=0&slider=-1&hide_controls=0&mouse_draw=0&follow_feature=0&follow_hide=0&s=rammb-slider&sec=full_disk&p%5B0%5D=30&x=10848&y=10848) and read the recipe document here:\n",
    "http://rammb.cira.colostate.edu/training/visit/quick_guides/Day_Cloud_Phase_Distinction.pdf\n",
    "\n",
    "Generate the RGB image for the Hurricane Michael case. \n",
    "- Load the appropriate channels.\n",
    "- One of the channel's data needs to be converted from Kelvin to Celsius.\n",
    "- Remember that RGB values are between 0 and 1. You need to apply appropriate range limits on the data to normalize the data between 0 and 1.\n",
    "    - Use the `normalize_between()` function that is given to you. \n",
    "    - The upper and lower limits are given in the recipe document. \n",
    "        - NOTE: The R channel limits are opposite of what you might expect (7.5 is the lower limit and -53.5 is the upper limit)\n",
    "        - NOTE: The recipe document gives the albedo range (or reflectance) in percent, but the GOES data for the reflectance channels are a decimal. Remember to convert the limits to the appropriate value.\n",
    "    - The recipe says the gamma value is 1, which means that there is no gamma correction (because any value to the first power is unchanged). Thus, we do not need to do any gamma correction\n",
    "- After the R, G, and B values are modified appropriately, use `np.dstack()` to make a 3D array.\n",
    "- Use `plt.imshow()` to plot the image. The colors should be similar to the image above.\n",
    "    \n",
    "> For reference, this is how to normalize a number between upper and lower limits (https://stats.stackexchange.com/a/70807/220885).\n",
    "\\begin{equation}\n",
    "Normalized Value = \\frac{(OriginalValue-LowerLimit)}{(UpperLimit-LowerLimit)}\n",
    "\\end{equation}\n",
    "\n",
    "\n",
    "#### How would you describe the clouds that make Hurricane Michael?\n",
    "- **A.** Thick high-level clouds with ice particles \n",
    "- **B.** Thin mid-level clouds with water droplets \n",
    "- **C.** Thin high-level clouds with ice particles \n",
    "- **D.** Glaciating cloud\n",
    "- **E.** Low-level clouds with water droplets "
   ]
  },
  {
   "cell_type": "code",
   "execution_count": null,
   "metadata": {},
   "outputs": [],
   "source": [
    "def normalize_between(value, lower_limit, upper_limit):\n",
    "    \"\"\"\n",
    "    RGB values need to be between 0 and 1.\n",
    "    This function will normalize the input value between a lower and upper limit. In other words, converts your \n",
    "    number to a value in the range between 0 and 1.\n",
    "        Follows normalization formula explained here: \n",
    "            https://stats.stackexchange.com/a/70807/220885\n",
    "    Input:\n",
    "        value       - a single value, vector, or array object\n",
    "        upper_limit - The upper limit \n",
    "        lower_limit - The lower limit\n",
    "    Output:\n",
    "        values normalized between the upper and lower limit. (value between 0 and 1)\n",
    "    \"\"\"\n",
    "    return (value-lower_limit)/(upper_limit-lower_limit)\n",
    "    \n"
   ]
  },
  {
   "cell_type": "code",
   "execution_count": null,
   "metadata": {},
   "outputs": [],
   "source": [
    "# Load GOES R, G, and B Channels\n",
    "\n"
   ]
  },
  {
   "cell_type": "code",
   "execution_count": null,
   "metadata": {},
   "outputs": [],
   "source": [
    "# Convert the R, G, and B units appropriately\n",
    "#   One of them needs to be converted from Kelvin to Celsius.\n",
    "#   The other two are a reflectance value, or also known as \"albedo\" expressed as a decimal\n",
    "\n"
   ]
  },
  {
   "cell_type": "code",
   "execution_count": null,
   "metadata": {},
   "outputs": [],
   "source": [
    "# Apply the range limits using the function\n",
    "\n"
   ]
  },
  {
   "cell_type": "code",
   "execution_count": null,
   "metadata": {},
   "outputs": [],
   "source": [
    "# Stack the RGB values to make a 3D array and create the image.\n",
    "\n",
    "\n"
   ]
  },
  {
   "cell_type": "markdown",
   "metadata": {},
   "source": [
    "### Answer the following\n",
    "\n",
    "**How would you describe the clouds that make Hurricane Michael?**  (answer by removing the wrong answers)\n",
    "- A. Thick high-level clouds with ice particles \n",
    "- B. Thin mid-level clouds with water droplets \n",
    "- C. Thin high-level clouds with ice particles \n",
    "- D. Glaciating cloud\n",
    "- E. Low-level clouds with water droplets "
   ]
  },
  {
   "cell_type": "markdown",
   "metadata": {},
   "source": [
    "---\n",
    "---"
   ]
  }
 ],
 "metadata": {
  "kernelspec": {
   "display_name": "Python 3",
   "language": "python",
   "name": "python3"
  },
  "language_info": {
   "codemirror_mode": {
    "name": "ipython",
    "version": 3
   },
   "file_extension": ".py",
   "mimetype": "text/x-python",
   "name": "python",
   "nbconvert_exporter": "python",
   "pygments_lexer": "ipython3",
   "version": "3.6.5"
  }
 },
 "nbformat": 4,
 "nbformat_minor": 2
}
