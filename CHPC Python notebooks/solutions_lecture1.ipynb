{
 "cells": [
  {
   "cell_type": "markdown",
   "metadata": {},
   "source": [
    "## Solutions to Exercises from Lecture 1"
   ]
  },
  {
   "cell_type": "markdown",
   "metadata": {},
   "source": [
    "### Exercise 1: Hello World function\n",
    "In the following cell, create a function named hello_world that takes no arguments, prints \"Hello, world!\", and doesn't return anything. Then, call your function."
   ]
  },
  {
   "cell_type": "code",
   "execution_count": null,
   "metadata": {},
   "outputs": [],
   "source": [
    "def hello_world():\n",
    "    \"\"\"This function prints 'Hello, world!'\"\"\"\n",
    "    print(\"Hello, world!\")\n",
    "\n",
    "hello_world()\n",
    "help(hello_world)"
   ]
  },
  {
   "cell_type": "markdown",
   "metadata": {},
   "source": [
    "### Exercise 2\n",
    "Create a function named \"factorial\" that takes one argument, n, and returns n!. Try implementing this as both a recursive function (that calls itself) and as a non-recursive function."
   ]
  },
  {
   "cell_type": "code",
   "execution_count": null,
   "metadata": {},
   "outputs": [],
   "source": [
    "def factorial(n):\n",
    "    \"\"\"\n",
    "    Returns n! where n is a positive integer.\n",
    "    If n is not a positive integer, returns None.\n",
    "    This version is recursive.\n",
    "    \"\"\"\n",
    "    if type(n) is not type(0) or n < 1:\n",
    "        return None\n",
    "    elif n==1:\n",
    "        return 1\n",
    "    else:\n",
    "        return n * factorial(n-1)\n",
    "\n",
    "def factorial_nonrecursive(n):\n",
    "    \"\"\"\n",
    "    Returns n! where n is a positive integer.\n",
    "    If n is not a positive integer, returns None.\n",
    "    This version is not recursive.\n",
    "    \"\"\"\n",
    "    if type(n) is not type(0) or n < 1:\n",
    "        return None\n",
    "    return_value=n\n",
    "    while n>1:\n",
    "        n-=1\n",
    "        return_value *= n\n",
    "    return return_value\n",
    "\n",
    "testvalues = [ 6, -1, 18.1, \"not a number\"]\n",
    "for value in testvalues:\n",
    "    print(\"factorial({0}): {1}\".format(value,factorial(value)))\n",
    "for value in testvalues:\n",
    "    print(\"factorial_nonrecursive({0}): {1}\".format(value,factorial_nonrecursive(value)))\n",
    "help(factorial)"
   ]
  },
  {
   "cell_type": "markdown",
   "metadata": {},
   "source": [
    "### Exercise 3\n",
    "Revise your hello_world function so that it can greet you in several different languages. Your function must accept one argument, which is the language to use for the greeting, and should default to some language if no value is given."
   ]
  },
  {
   "cell_type": "code",
   "execution_count": null,
   "metadata": {
    "collapsed": true
   },
   "outputs": [],
   "source": [
    "def hello_world(language=\"english\"):\n",
    "    \"\"\"\n",
    "    Prints friendly greeting in several languages.\n",
    "    \"\"\"\n",
    "    greetings = {\n",
    "        \"english\":\"Hello, world!\",\n",
    "        \"spanish\":\"Hola Mundo!\",\n",
    "        \"italian\":\"Ciao mondo!\",\n",
    "    }\n",
    "    if language in greetings:\n",
    "        print(greetings[language])\n",
    "    else:\n",
    "        print(\"Sorry, I don't know how to speak in {0}.\".format(language))\n",
    "\n",
    "hello_world()\n",
    "hello_world('swahili')"
   ]
  },
  {
   "cell_type": "code",
   "execution_count": null,
   "metadata": {},
   "outputs": [],
   "source": [
    "def hello_world(language=\"english\"):\n",
    "    \"\"\"\n",
    "    Prints friendly greeting in several languages.\n",
    "    \"\"\"\n",
    "    greetings = {\n",
    "        \"english\":\"Hello, world!\",\n",
    "        \"spanish\":\"Hola Mundo!\",\n",
    "        \"italian\":\"Ciao mondo!\",\n",
    "    }\n",
    "    print(greetings.get(language,\"Sorry, I don't know how to speak in {0}.\".format(language)))\n",
    "\n",
    "hello_world('spanish')\n",
    "hello_world('russian')"
   ]
  },
  {
   "cell_type": "code",
   "execution_count": null,
   "metadata": {},
   "outputs": [],
   "source": [
    "def hello_world(language=\"english\"):\n",
    "    \"\"\"\n",
    "    Prints friendly greeting in several languages.\n",
    "    \"\"\"\n",
    "    greetings = {\n",
    "        \"english\":\"Hello, world!\",\n",
    "        \"spanish\":\"Hola Mundo!\",\n",
    "        \"italian\":\"Ciao mondo!\",\n",
    "    }\n",
    "    try:\n",
    "        print(greetings[language])\n",
    "    except KeyError:\n",
    "        print(\"Sorry, I don't know how to speak in {0}.\".format(language))\n",
    "\n",
    "hello_world()\n",
    "hello_world('portuguese')"
   ]
  },
  {
   "cell_type": "markdown",
   "metadata": {},
   "source": [
    "### Exercise 4\n",
    "The [<font color=\"green\"><b>Collatz conjecture</b></font>](https://en.wikipedia.org/wiki/Collatz_conjecture) (named after Lothar Collatz)<br>\n",
    "  * $\\forall n \\in \\mathbb{N}$:\n",
    "    * if n%2 == 0:\n",
    "      * $\\Rightarrow  n = n/2 $\n",
    "    * else if n%2 == 1:\n",
    "      * $\\Rightarrow n = 3n +1$\n",
    "  * Conjecture: $\\forall n \\in \\mathbb{N}$, you always will reach 1.\n",
    "  * Write a function (normal, recursive) to test the conjecture. <br>\n",
    "    Apply these functions to e.g. $n=6,19,27$"
   ]
  },
  {
   "cell_type": "code",
   "execution_count": null,
   "metadata": {},
   "outputs": [],
   "source": [
    "import sys\n",
    "def collatz(n):\n",
    "    \"\"\"\n",
    "    Implementation of the Collatz conjecture.\n",
    "    \"\"\"\n",
    "    if type(n) is not type(0) or n < 1:\n",
    "        return None\n",
    "    print(n,end=' ')\n",
    "    if n == 1:\n",
    "        return 1\n",
    "    elif n % 2 == 0:\n",
    "        return collatz(int(n/2))\n",
    "    else:\n",
    "        return collatz(3*n+1)\n",
    "\n",
    "for n in range(1,100):\n",
    "    print(\"collatz({0})\".format(n),end=' ')\n",
    "    collatz(n)\n",
    "    print()"
   ]
  },
  {
   "cell_type": "code",
   "execution_count": null,
   "metadata": {
    "collapsed": true
   },
   "outputs": [],
   "source": []
  }
 ],
 "metadata": {
  "kernelspec": {
   "display_name": "Python 3",
   "language": "python",
   "name": "python3"
  },
  "language_info": {
   "codemirror_mode": {
    "name": "ipython",
    "version": 3
   },
   "file_extension": ".py",
   "mimetype": "text/x-python",
   "name": "python",
   "nbconvert_exporter": "python",
   "pygments_lexer": "ipython3",
   "version": "3.5.2"
  }
 },
 "nbformat": 4,
 "nbformat_minor": 2
}
