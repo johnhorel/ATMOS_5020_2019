{
 "cells": [
  {
   "cell_type": "markdown",
   "metadata": {},
   "source": [
    "# Introduction to Python: Part 1"
   ]
  },
  {
   "cell_type": "markdown",
   "metadata": {},
   "source": [
    "## Data Types & Variables"
   ]
  },
  {
   "cell_type": "markdown",
   "metadata": {},
   "source": [
    "### Variables"
   ]
  },
  {
   "cell_type": "markdown",
   "metadata": {},
   "source": [
    "You can use:\n",
    "* any letter \n",
    "* special character \"_\"\n",
    "* any number (except to start the name)\n",
    "\n",
    "Variables names: <font color=\"red\"><b>case-sensitive</b></font><br>\n",
    "* starting w. double underscore: special meaning<br>\n",
    "* starting w. single underscore (private variables in classes)\n",
    "\n",
    "You can <font color=\"red\"><b>NOT</b></font> use the following reserved Python keywords: "
   ]
  },
  {
   "cell_type": "code",
   "execution_count": null,
   "metadata": {
    "collapsed": true
   },
   "outputs": [],
   "source": [
    "# Pull in or \"import\" the keyword module:\n",
    "import keyword\n",
    "print(keyword.kwlist)"
   ]
  },
  {
   "cell_type": "markdown",
   "metadata": {},
   "source": [
    "## Simple Data Types"
   ]
  },
  {
   "cell_type": "markdown",
   "metadata": {},
   "source": [
    "* boolean: True/False\n",
    "* integer & long\n",
    "* float \n",
    "* complex<br>\n",
    "All objects of the above types are <font color=\"red\"><b>immutable</b></font>"
   ]
  },
  {
   "cell_type": "markdown",
   "metadata": {},
   "source": [
    "### Examples"
   ]
  },
  {
   "cell_type": "code",
   "execution_count": null,
   "metadata": {
    "collapsed": true
   },
   "outputs": [],
   "source": [
    "booleanvar = ( 5 > 0 )\n",
    "print(booleanvar)\n",
    "\n",
    "a_int = 5\n",
    "print(a_int)\n",
    "\n",
    "x_float = 3.14\n",
    "print(x_float)\n",
    "\n",
    "z_cmplx = 3.0 + 1.j\n",
    "print(z_cmplx)"
   ]
  },
  {
   "cell_type": "markdown",
   "metadata": {},
   "source": [
    "### How to check the type of an object in Python?"
   ]
  },
  {
   "cell_type": "code",
   "execution_count": null,
   "metadata": {
    "collapsed": true,
    "scrolled": true
   },
   "outputs": [],
   "source": [
    "print(type(booleanvar))\n",
    "print(type(a_int))\n",
    "print(type(x_float))\n",
    "print(type(z_cmplx))"
   ]
  },
  {
   "cell_type": "markdown",
   "metadata": {},
   "source": [
    "### How to check out the attributes of an object?"
   ]
  },
  {
   "cell_type": "code",
   "execution_count": null,
   "metadata": {
    "collapsed": true,
    "scrolled": true
   },
   "outputs": [],
   "source": [
    "# import the sys module and get help about it:\n",
    "import sys\n",
    "help(sys)"
   ]
  },
  {
   "cell_type": "markdown",
   "metadata": {},
   "source": [
    "### Are there limitations to integers/floats like e.g. in C? "
   ]
  },
  {
   "cell_type": "code",
   "execution_count": null,
   "metadata": {
    "collapsed": true
   },
   "outputs": [],
   "source": [
    "import sys\n",
    "\n",
    "# Integers\n",
    "x = sys.maxsize\n",
    "print(\"Max. length of an integer:{0} Type:{1}\".format(x,type(x)))\n",
    "print(\"x+1:= {0}                     Type:{1}\".format(x+1,type(x+1)))\n",
    "googol=10**100\n",
    "verylong=10**(250**2)\n",
    "print(\"The variable 'googol' contains {0:d} numbers\".format(len(str(googol))))\n",
    "print(\"The variable 'verylong' contains {0:d} numbers\".format(len(str(verylong))))"
   ]
  },
  {
   "cell_type": "code",
   "execution_count": null,
   "metadata": {
    "collapsed": true
   },
   "outputs": [],
   "source": [
    "# Real numbers (ie floats, floating-point numbers)\n",
    "import sys\n",
    "print(\"Largest float:\")\n",
    "print(sys.float_info.max)\n",
    "print(\"Trying to convert a long into a float\")\n",
    "z=float(verylong)\n",
    "print(z)"
   ]
  },
  {
   "cell_type": "markdown",
   "metadata": {},
   "source": [
    "## Operators"
   ]
  },
  {
   "cell_type": "markdown",
   "metadata": {},
   "source": [
    "* math operators: +, -, \\*, /, //, \\*\\* , % \n",
    "* bit operators: &, | , ~ , ^, >>, <<\n",
    "* comparison operators: > , < , >= , <= , == , !=\n",
    "* logical operators: and, or, not\n",
    "* id function: shows an object's memory address\n",
    "* identity operator: x is y -> true iff id(x) == id(y)"
   ]
  },
  {
   "cell_type": "markdown",
   "metadata": {},
   "source": [
    "### Examples"
   ]
  },
  {
   "cell_type": "code",
   "execution_count": null,
   "metadata": {
    "collapsed": true
   },
   "outputs": [],
   "source": [
    "print(\"Simple math operators:\")\n",
    "print(\"25+2:\",25+2)\n",
    "print(\"25*2:\",25*2)\n",
    "print(\"25**2:\",25**2)\n",
    "print(\"25/2:\",25/2)\n",
    "print(\"17%5:\",17%5)\n",
    "z1 = 1.0 + 4.j\n",
    "z2 = 2.0 + 9.j\n",
    "print(\"z1:\",z1)\n",
    "print(\"z2:\",z2)\n",
    "print(\"z1+z2:\",z1+z2)\n",
    "print(\"z1*z2:\",z1*z2)"
   ]
  },
  {
   "cell_type": "markdown",
   "metadata": {},
   "source": [
    "### Note on Floor Division (//):"
   ]
  },
  {
   "cell_type": "code",
   "execution_count": null,
   "metadata": {
    "collapsed": true
   },
   "outputs": [],
   "source": [
    "a=7.\n",
    "b=3.\n",
    "print(\"a/b=\",a/b)\n",
    "print(\"a//b=\",a//b)"
   ]
  },
  {
   "cell_type": "code",
   "execution_count": null,
   "metadata": {
    "collapsed": true
   },
   "outputs": [],
   "source": [
    "print(\"Bitwise operators:\")\n",
    "x,y=21,39\n",
    "print(\" x   ={0:3d}   {1:>10}\".format(x,bin(x)))\n",
    "print(\" y   ={0:3d}   {1:>10}\".format(y,bin(y)))\n",
    "print(\" x&y ={0:3d}   {1:>10}\".format(x&y,bin(x&y)))\n",
    "print(\" x|y ={0:3d}   {1:>10}\".format(x|y,bin(x|y)))\n",
    "print(\" x^y ={0:3d}   {1:>10}\".format(x^y,bin(x^y)))\n",
    "print(\" ~x  ={0:3d}   {1:>10}\".format(~x,bin(~x)))\n",
    "print(\" ~y  ={0:3d}   {1:>10}\".format(~y,bin(~y)))\n",
    "print(\" x<<1={0:3d}   {1:>10}\".format(x<<1,bin(x<<1)))\n",
    "print(\" y>>1={0:3d}   {1:>10}\".format(y>>1,bin(y>>1)))"
   ]
  },
  {
   "cell_type": "code",
   "execution_count": null,
   "metadata": {
    "collapsed": true
   },
   "outputs": [],
   "source": [
    "print(\"Comparison operators:\")\n",
    "print(\"23<13:\",23<13)\n",
    "print(\"23!=13:\",23!=13)\n",
    "print(\"23==13:\",23==13)"
   ]
  },
  {
   "cell_type": "code",
   "execution_count": null,
   "metadata": {
    "collapsed": true
   },
   "outputs": [],
   "source": [
    "print(\"Logical operators:\")\n",
    "x=5\n",
    "y=3\n",
    "print(\"x:\",x)\n",
    "print(\"y:\",y)\n",
    "print(\"x==5 and y==5:\",(x==5 and y==5))\n",
    "print(\"x==5 or y==5:\",(x==5 or y==5))\n",
    "print(\"not(x==3):\",(not(x==3)))"
   ]
  },
  {
   "cell_type": "code",
   "execution_count": null,
   "metadata": {
    "collapsed": true
   },
   "outputs": [],
   "source": [
    "print(\"Test A:\")\n",
    "a=10\n",
    "b=10\n",
    "print(\"a=\",a)\n",
    "print(\"b=\",b)\n",
    "print(\"a==b:\",a==b)\n",
    "print(\"id(a):\",id(a))\n",
    "print(\"id(b):\",id(b))\n",
    "print(\"a is b:\",a is b)"
   ]
  },
  {
   "cell_type": "code",
   "execution_count": null,
   "metadata": {
    "collapsed": true
   },
   "outputs": [],
   "source": [
    "print(\"Test B:\")\n",
    "b=11\n",
    "print(\"a=\",a)\n",
    "print(\"b=\",b)\n",
    "print(\"a==b:\",a==b)\n",
    "print(\"id(a):\",id(a))\n",
    "print(\"id(b):\",id(b))\n",
    "print(\"a is b:\",a is b)"
   ]
  },
  {
   "cell_type": "markdown",
   "metadata": {},
   "source": [
    "## Advanced Data Types"
   ]
  },
  {
   "cell_type": "markdown",
   "metadata": {},
   "source": [
    "The Python Data objects can be divided into:\n",
    "* <font color=\"red\"><b>Immutable</b></font> objects\n",
    "* <font color=\"green\"><b>Mutable</b></font> objects\n",
    "    \n",
    "<b>Immutable objects:</b>\n",
    "* <font color=\"red\"><b>string</b></font>\n",
    "* <font color=\"red\"><b>tuple</b></font>\n",
    "* <font color=\"red\"><b>frozen set</b></font>\n",
    "* <font color=\"red\"><b>(integer, float, complex)</b></font>\n",
    "\n",
    "<b>Mutable objects:</b>\n",
    "* <font color=\"green\"><b>list</b></font>\n",
    "* <font color=\"green\"><b>set</b></font>\n",
    "* <font color=\"green\"><b>dict</b></font>"
   ]
  },
  {
   "cell_type": "markdown",
   "metadata": {},
   "source": [
    "### String"
   ]
  },
  {
   "cell_type": "markdown",
   "metadata": {},
   "source": [
    "<b>String: A sequence of characters</b>\n",
    "* Starts with single quote/double quotes\n",
    "* End with the same single quote/double quotes\n",
    "* <font color=\"red\"><b>immutable</b></font> object\n",
    "* access of individual elements/slices (same as for lists)"
   ]
  },
  {
   "cell_type": "markdown",
   "metadata": {},
   "source": [
    "#### A few useful string operators:"
   ]
  },
  {
   "cell_type": "code",
   "execution_count": null,
   "metadata": {
    "collapsed": true
   },
   "outputs": [],
   "source": [
    "# \"Adding\" and \"multiplying\" strings:\n",
    "str1=\"Hello\"\n",
    "str2=\"World\"\n",
    "str12=str1 + \" \" + str2\n",
    "print(\"str12:\",str12)\n",
    "str3=5*(str1+' ')+'!'\n",
    "print(\"str3:\",str3)"
   ]
  },
  {
   "cell_type": "code",
   "execution_count": null,
   "metadata": {
    "collapsed": true
   },
   "outputs": [],
   "source": [
    "# Fancy formatting:\n",
    "x=21\n",
    "print(\"x in base 10 is {0}, in binary is {1}, in hexadecimal is {2}\".format(x,bin(x),hex(x)))"
   ]
  },
  {
   "cell_type": "code",
   "execution_count": null,
   "metadata": {
    "collapsed": true
   },
   "outputs": [],
   "source": [
    "str1=\"  abcdef  \" \n",
    "str2=\"  OPKLRS  \"\n",
    "print(str1.upper())\n",
    "print(str2.lower())\n",
    "print(str1.strip()+str2.strip())\n",
    "str3=\"-\".join(['a','b','c','d'])\n",
    "print(str3)\n",
    "print(\"'a' in str2:\",'a' in str3)"
   ]
  },
  {
   "cell_type": "code",
   "execution_count": null,
   "metadata": {
    "collapsed": true
   },
   "outputs": [],
   "source": [
    "# find and index\n",
    "# find if not found: -1\n",
    "city=\"Witwatersrand\"\n",
    "sub1=\"wat\"\n",
    "sub2=\"wit\"\n",
    "print(\"Substring '{0}' started at {1} in '{2}'\".format(sub1,city.find(sub1),city))\n",
    "print(\"Substring '{0}' started at {1} in '{2}'\".format(sub1,city.find(sub2),city))        \n",
    "# index if not found: error\n",
    "print(\"Substring '{0}' started at {1} in '{2}'\".format(sub1,city.index(sub1),city))\n",
    "print(\"Substring '{0}' started at {1} in '{2}'\".format(sub1,city.index(sub2),city))   "
   ]
  },
  {
   "cell_type": "code",
   "execution_count": null,
   "metadata": {
    "collapsed": true
   },
   "outputs": [],
   "source": [
    "# Strings are immutable objects.\n",
    "str1=\"Hello World\"\n",
    "print(\"The first letter in '{0} is '{1}'.\".format(str1,str1[0]))\n",
    "str[0]=\"h\"  "
   ]
  },
  {
   "cell_type": "markdown",
   "metadata": {},
   "source": [
    "### Lists"
   ]
  },
  {
   "cell_type": "markdown",
   "metadata": {},
   "source": [
    "<b>List := A mutable array of objects</b><br>\n",
    "Note:\n",
    "* C++/C/Fortran/Java,.. : All elements of the array <font color=\"red\">must be of the same type</font>\n",
    "* Python: Elements can be of whatever type "
   ]
  },
  {
   "cell_type": "code",
   "execution_count": null,
   "metadata": {
    "collapsed": true
   },
   "outputs": [],
   "source": [
    "a=[1,4,3,7,5]\n",
    "print(a)\n",
    "a.append(13)\n",
    "print(a)\n",
    "a.insert(2,23)\n",
    "print(a)\n",
    "a.remove(13)\n",
    "print(a)\n",
    "a.remove(77)\n",
    "a"
   ]
  },
  {
   "cell_type": "markdown",
   "metadata": {},
   "source": [
    "#### How to handle the error? Catch it!"
   ]
  },
  {
   "cell_type": "code",
   "execution_count": null,
   "metadata": {
    "collapsed": true
   },
   "outputs": [],
   "source": [
    "print(a)\n",
    "try:\n",
    "    print(\"Let's get rid of 77\")\n",
    "    a.remove(77)\n",
    "except ValueError:\n",
    "    print(\"77 is not in the list but we caught the error\")\n",
    "a.remove(4)    \n",
    "print(a)"
   ]
  },
  {
   "cell_type": "code",
   "execution_count": null,
   "metadata": {
    "collapsed": true
   },
   "outputs": [],
   "source": [
    "b=['hello',5,13+2j,17,'19']\n",
    "print(b.index(17))\n",
    "print(b.index('19'))\n",
    "b.reverse() # In situ change\n",
    "print(b)\n",
    "print(\"we have\",len(b),\"elements in b\")\n",
    "print(\"17 in b?\",17 in b)"
   ]
  },
  {
   "cell_type": "markdown",
   "metadata": {},
   "source": [
    "#### How to access individual elements/slices from the list?"
   ]
  },
  {
   "cell_type": "code",
   "execution_count": null,
   "metadata": {
    "collapsed": true
   },
   "outputs": [],
   "source": [
    "a=list(range(10))\n",
    "print(a)"
   ]
  },
  {
   "cell_type": "code",
   "execution_count": null,
   "metadata": {
    "collapsed": true
   },
   "outputs": [],
   "source": [
    "print(a[0])\n",
    "print(a[2:7])\n",
    "print(a[:])\n",
    "print(a[1:])\n",
    "print(a[::2])\n",
    "print(a[-1])\n",
    "print(a[-5:-1:2])\n",
    "print(a[-1:1:-2])"
   ]
  },
  {
   "cell_type": "markdown",
   "metadata": {},
   "source": [
    "#### Modifying + copying lists"
   ]
  },
  {
   "cell_type": "code",
   "execution_count": null,
   "metadata": {
    "collapsed": true
   },
   "outputs": [],
   "source": [
    "a=[1,2,7,8,9,13]\n",
    "b=a               # b is the same list as a\n",
    "c=a[:]            # c is a copy of a\n",
    "print(\"a:\",a)\n",
    "print(\"b:\",b)\n",
    "print(\"c:\",c)\n",
    "print(\"id(a):\",id(a))\n",
    "print(\"id(b):\",id(b))\n",
    "print(\"id(c):\",id(c))\n",
    "b[3]=17\n",
    "print(a)\n",
    "print(b)\n",
    "print(c)"
   ]
  },
  {
   "cell_type": "markdown",
   "metadata": {},
   "source": [
    "#### Multiple Dimensional Lists"
   ]
  },
  {
   "cell_type": "code",
   "execution_count": null,
   "metadata": {
    "collapsed": true
   },
   "outputs": [],
   "source": [
    "import copy\n",
    "a=[[1,2,3],[4,7,8,9],[13,'string','+']]\n",
    "b=a[:]\n",
    "c=copy.deepcopy(a)\n",
    "print(\"Before change:\")\n",
    "print(\"a:\",a)\n",
    "print(\"b:\",b)\n",
    "print(\"c:\",c)\n",
    "a[1][2]=17\n",
    "print(\"After change:\")\n",
    "print(\"a:\",a)\n",
    "print(\"b:\",b)\n",
    "print(\"c:\",c)"
   ]
  },
  {
   "cell_type": "markdown",
   "metadata": {},
   "source": [
    "### Tuple"
   ]
  },
  {
   "cell_type": "markdown",
   "metadata": {},
   "source": [
    "<b>Tuple := An immmutable array of objects </b><br>\n",
    "Note:\n",
    "* C++/C/Fortran/Java,.. : All elements of the array must be of the same type\n",
    "* Python: Elements can be of whatever type\n",
    "* List:[]   vs. Tuple: ()\n",
    "* Return (if not empty) from a function: Tuple"
   ]
  },
  {
   "cell_type": "markdown",
   "metadata": {},
   "source": [
    "#### Examples of tuples"
   ]
  },
  {
   "cell_type": "code",
   "execution_count": null,
   "metadata": {
    "collapsed": true
   },
   "outputs": [],
   "source": [
    "days_of_the_week=('mon','tue','wed','thur','fri','sat','sun')\n",
    "# Modifying 1 day of the week\n",
    "days_of_the_week[6]='workday'"
   ]
  },
  {
   "cell_type": "code",
   "execution_count": null,
   "metadata": {
    "collapsed": true
   },
   "outputs": [],
   "source": [
    "onemember=('John',)  # , at the End\n",
    "res= 3, 4, 5         # Example of tuple packing\n",
    "print(\"res:\",res)\n",
    "print(\"4 in res:\",4 in res)"
   ]
  },
  {
   "cell_type": "markdown",
   "metadata": {},
   "source": [
    "#### Lists vs. Tuples"
   ]
  },
  {
   "cell_type": "markdown",
   "metadata": {},
   "source": [
    "* List: dynamic memory allocation -> can be resized\n",
    "* Tuple: static "
   ]
  },
  {
   "cell_type": "markdown",
   "metadata": {},
   "source": [
    "### Dictionary"
   ]
  },
  {
   "cell_type": "markdown",
   "metadata": {},
   "source": [
    "<b>Dictionary := Associative array i.e. an collection of (key,value) pairs</b>\n",
    "* Dictionary is a <font color=\"green\"><b>mutuable</b></font> object\n",
    "* <font color=\"red\"><b>Not</b></font> ordered (prior to python 3.6)"
   ]
  },
  {
   "cell_type": "code",
   "execution_count": null,
   "metadata": {
    "collapsed": true
   },
   "outputs": [],
   "source": [
    "area_code={'SaltLakeCity':801,'RuralUtah':435,'Ithaca':607,'RhodeIsland':401,'Seattle':206}\n",
    "area_code['NYC']=212;\n",
    "area_code[5]=12\n",
    "print(type(area_code))\n",
    "print('area_code:{0}'.format(area_code))\n",
    "print('Keys:'  ,area_code.keys())\n",
    "print('Values:', area_code.values())\n",
    "city='NYC'\n",
    "print(\"Area code of '{0}' :: '{1}'\".format(city,area_code[city]))\n",
    "print(\"len(area_code):\",len(area_code))  \n",
    "print(\"'LA' among the keys:?'{0}'\".format('LA' in area_code))\n",
    "print(\"'SaltLakeCity' among the keys:?'{0}'\".format('SaltLakeCity' in area_code))"
   ]
  },
  {
   "cell_type": "markdown",
   "metadata": {},
   "source": [
    "### Set"
   ]
  },
  {
   "cell_type": "markdown",
   "metadata": {},
   "source": [
    "<b>Set := Collection of distinct objects</b>\n",
    "* Set is a <font color=\"green\"><b>mutuable</b></font> object\n",
    "* <font color=\"red\"><b>Not</b></font> ordered"
   ]
  },
  {
   "cell_type": "code",
   "execution_count": null,
   "metadata": {
    "collapsed": true
   },
   "outputs": [],
   "source": [
    "nat1={1,2,3,4,5,6,7,8,9,10}\n",
    "nat2=set([i for i in range(8,15)])\n",
    "nat1.add(11)\n",
    "print('nat1:',nat1)\n",
    "print('nat2:',nat2)\n",
    "print('Intersection :', nat1 & nat2)\n",
    "print('Union        :', nat1 | nat2)\n",
    "print('Difference   :', nat1 - nat2)\n",
    "print('Delta        :', nat1 ^ nat2)\n",
    "print('Set 1 & 2:Disjoint?:{0}'.format(nat1.isdisjoint(nat2)))\n",
    "print('5 in Set1 ?:{0}'.format(5 in nat1))\n",
    "print('Card#:{0}'.format(len(nat2)))\n",
    "print('7 in nat1:{0}'.format(7 in nat1))"
   ]
  },
  {
   "cell_type": "code",
   "execution_count": null,
   "metadata": {
    "collapsed": true
   },
   "outputs": [],
   "source": [
    "# Find the unique elements in a list\n",
    "lst=[i for i in range(12)] + [ i for i in range(14,5,-1)]\n",
    "print(lst)\n",
    "# Unique el. are:\n",
    "lst=list(set(lst))\n",
    "print(lst)"
   ]
  },
  {
   "cell_type": "markdown",
   "metadata": {},
   "source": [
    "## Flow Control"
   ]
  },
  {
   "cell_type": "markdown",
   "metadata": {},
   "source": [
    "### if/elif/else (Conditional statements)"
   ]
  },
  {
   "cell_type": "code",
   "execution_count": null,
   "metadata": {
    "collapsed": true
   },
   "outputs": [],
   "source": [
    "gender='F'\n",
    "if gender == 'M':\n",
    "    print(\"Person is of male gender\")\n",
    "elif gender == 'F':\n",
    "    print(\"Person is of female gender\")\n",
    "else:\n",
    "    print(\"Gender not specified!\")\n",
    "# Note that the white space before the print statements is significant!"
   ]
  },
  {
   "cell_type": "markdown",
   "metadata": {},
   "source": [
    "### while statement"
   ]
  },
  {
   "cell_type": "markdown",
   "metadata": {},
   "source": [
    "The while construct has the following syntax\n",
    "<pre>while(condition is true):\n",
    "    do something</pre>"
   ]
  },
  {
   "cell_type": "markdown",
   "metadata": {},
   "source": [
    "#### Examples"
   ]
  },
  {
   "cell_type": "code",
   "execution_count": null,
   "metadata": {
    "collapsed": true
   },
   "outputs": [],
   "source": [
    "# Code to calculate the square root of a real number\n",
    "import math\n",
    "num=xold=751  # Determine the square root of this number\n",
    "CONV_THRESHOLD=1.0E-10\n",
    "step=0\n",
    "converged=False\n",
    "while(not(converged)):\n",
    "    step += 1                    # This is shorthand for \"step = step + 1\"\n",
    "    xnew=0.5*(xold + num/xold)\n",
    "    print(\" step:\", step,\"  xnew=\",xnew)\n",
    "    dx=math.fabs(xnew-xold)\n",
    "    if(dx < CONV_THRESHOLD):\n",
    "        converged=True\n",
    "        print(\"-> converged\")\n",
    "    else:\n",
    "        xold=xnew"
   ]
  },
  {
   "cell_type": "markdown",
   "metadata": {},
   "source": [
    "### for loop"
   ]
  },
  {
   "cell_type": "markdown",
   "metadata": {},
   "source": [
    "There are 2 (related) constructs:\n",
    "1. Iteration over a list\n",
    "<br><pre>for variable_name in list_of_values:\n",
    "      command</pre></br>\n",
    "The variable can be an element of a list, or could be an integer in a range of values\n",
    "\n",
    "2. List comprehension\n",
    "<br><pre>[ expression for variable_name in list_of_values ]</pre></br>\n",
    "This creates a new list. \n",
    "\n",
    "Related statements: break, continue and else   "
   ]
  },
  {
   "cell_type": "markdown",
   "metadata": {},
   "source": [
    "#### Examples"
   ]
  },
  {
   "cell_type": "code",
   "execution_count": null,
   "metadata": {
    "collapsed": true
   },
   "outputs": [],
   "source": [
    "# Example 1:\n",
    "print(\"Printing some numbers\")\n",
    "for i in range(0,10):\n",
    "    print(i)\n",
    "# \"range([start],stop,[stepsize])\" returns (something like) a list of numbers"
   ]
  },
  {
   "cell_type": "code",
   "execution_count": null,
   "metadata": {
    "collapsed": true
   },
   "outputs": [],
   "source": [
    "# Example 2:\"fruit\" is a list of values:\n",
    "fruit=['apples','bananas','cherries','pineapple','strawberries']\n",
    "print(\"Using an index into the list:\")\n",
    "for i in range(len(fruit)):\n",
    "    print(\"  Fruit:\" + fruit[i])\n",
    "\n",
    "print(\"Iterating over the values in the list:\")\n",
    "for item in fruit:\n",
    "    print(\"  Fruit:\" + item)"
   ]
  },
  {
   "cell_type": "code",
   "execution_count": null,
   "metadata": {
    "collapsed": true
   },
   "outputs": [],
   "source": [
    "# Example: break statement     \n",
    "import random\n",
    "# Generate a list of 100 random numbers.\n",
    "arr = [random.randint(1,1000) for i in range(100)]\n",
    "print(\"List of 100 random numbers in range[1,1000]:\")\n",
    "print(arr)\n",
    "print(\"Retrieve ONLY first element from the list that is divisible by 7\")\n",
    "for i in arr:\n",
    "    if i%7 == 0:\n",
    "       print(\"  {0:3d} is divisible by 7 -> get out!\".format(i))\n",
    "       break\n",
    "    else:\n",
    "       print(\"  {0:3d} is NOT divisible by 7\".format(i))"
   ]
  },
  {
   "cell_type": "code",
   "execution_count": null,
   "metadata": {
    "collapsed": true
   },
   "outputs": [],
   "source": [
    "# Example: continue statement\n",
    "# ---------\n",
    "print(\"Print only the ODD elements\")\n",
    "for i in arr:\n",
    "    if i%2 == 0:\n",
    "        continue\n",
    "    print(\"  {0:3d} is ODD\".format(i))"
   ]
  },
  {
   "cell_type": "code",
   "execution_count": null,
   "metadata": {
    "collapsed": true,
    "scrolled": true
   },
   "outputs": [],
   "source": [
    "# Example 4:  (for loop and else)\n",
    "# ---------\n",
    "# \"Calculate\" the square root of a large real number \n",
    "# We artificially set:\n",
    "#    # steps: VERY LOW\n",
    "#    # convergence: very tight \n",
    "# so that we leave the for loop unsuccessfully\n",
    "\n",
    "# Code to calculate the square root of a real number\n",
    "import math\n",
    "num=xold=751  # Determine the square root of this number\n",
    "CONV_THRESHOLD=1.0E-14\n",
    "MAX_NUM_ITER=5\n",
    "\n",
    "print(\"'Abortive' calculation the square root of\",num, \"conv_threshold:\", CONV_THRESHOLD)\n",
    "it=0\n",
    "for i in range(MAX_NUM_ITER):\n",
    "    it += 1\n",
    "    xnew=0.5*(xold + num/xold)\n",
    "    print(\"  iter:{0:2d}  xnew={1:20.12f}\".format(it,xnew))\n",
    "    dx=math.fabs(xnew-xold)\n",
    "    if(dx < CONV_THRESHOLD):\n",
    "        print(\"  -> converged\")\n",
    "        break\n",
    "    else:\n",
    "        xold=xnew\n",
    "else:    # This is NOT part of an if-elif-else construct -> When the loop is exhausted -> go to else\n",
    "    print(\"The calculation did not converge in {0} steps\".format(MAX_NUM_ITER))"
   ]
  },
  {
   "cell_type": "markdown",
   "metadata": {},
   "source": [
    "## D. Pass statement"
   ]
  },
  {
   "cell_type": "markdown",
   "metadata": {},
   "source": [
    "The pass clause is used to express<br>\n",
    "\"do nothing\"/skip"
   ]
  },
  {
   "cell_type": "markdown",
   "metadata": {},
   "source": [
    "### Examples"
   ]
  },
  {
   "cell_type": "code",
   "execution_count": null,
   "metadata": {
    "collapsed": true
   },
   "outputs": [],
   "source": [
    "for i in range(10):\n",
    "    if i==7:\n",
    "        pass\n",
    "    else:\n",
    "        print(i)"
   ]
  },
  {
   "cell_type": "markdown",
   "metadata": {},
   "source": [
    "## Functions in Python (Part I)\n",
    "General lay-out of a function in Python"
   ]
  },
  {
   "cell_type": "code",
   "execution_count": null,
   "metadata": {
    "collapsed": true
   },
   "outputs": [],
   "source": [
    "def function_name( argument1, argument2, argumentn=\"default_value\"):\n",
    "    \"\"\"\n",
    "    This is the documentation string (or docstring) for function_name\n",
    "    \"\"\"\n",
    "    print(\"argument 1's value:\",argument1)\n",
    "    print(\"argument 2's value:\",argument2)\n",
    "    print(\"argument n's value:\",argumentn)\n",
    "x=function_name('a',2)\n",
    "print(\"function_name returned\",x)\n",
    "help(function_name)"
   ]
  },
  {
   "cell_type": "markdown",
   "metadata": {},
   "source": [
    "\n",
    "* Function announced with the <font color=\"red\"><b>def</b></font> keyword\n",
    "* Followed by the function name\n",
    "* Followed by the argument list of 0 or more arguments in parentheses\n",
    "* <font color=\"green\"><b>Recommendation</b></font> :: use doc strings\n",
    "* Body of the function\n",
    "* return (value1,value2,...)\n",
    "* If there is no return statement then the function returns <font color=\"red\"><b>None</b></font>"
   ]
  },
  {
   "cell_type": "markdown",
   "metadata": {},
   "source": [
    "#### Exercise 1: Hello World function\n",
    "In the following cell, create a function named hello_world that takes no arguments, prints \"Hello, world!\", and doesn't return anything. Then, call your function."
   ]
  },
  {
   "cell_type": "code",
   "execution_count": null,
   "metadata": {
    "collapsed": true
   },
   "outputs": [],
   "source": []
  },
  {
   "cell_type": "markdown",
   "metadata": {},
   "source": [
    "### Examples"
   ]
  },
  {
   "cell_type": "code",
   "execution_count": null,
   "metadata": {
    "collapsed": true
   },
   "outputs": [],
   "source": [
    "# Example 1:\n",
    "# ---------\n",
    "def iseven(x):\n",
    "    \"\"\"\n",
    "    Function to find out whether a number is even or odd\n",
    "    Catch the error if it pops up.\n",
    "    @x: number\n",
    "    @return (boolean)\n",
    "    \"\"\"\n",
    "    try:\n",
    "        return (x%2 == 0)\n",
    "    except TypeError:\n",
    "        print(\"     ERROR:'{0}' is NOT a number\".format(x))\n",
    "\n",
    "print(\"Test whether the following data points are even\")        \n",
    "x=[1,2,3,4,\"blabla\",5]\n",
    "for item in x:\n",
    "    print(\"  '{0}': {1}\".format(item,iseven(item)))"
   ]
  },
  {
   "cell_type": "code",
   "execution_count": null,
   "metadata": {
    "collapsed": true
   },
   "outputs": [],
   "source": [
    "# Example 2:\n",
    "# ---------\n",
    "def print_star(n=10):\n",
    "    \"\"\"\n",
    "    Function to print n lines with a star\n",
    "    \"\"\"\n",
    "    for i in range(n):\n",
    "        print(\"*\")\n",
    "\n",
    "ret=print_star(4)\n",
    "if ret is None:\n",
    "    print(\"The None object is returned\")\n",
    "else:\n",
    "    print(\"The None object is NOT returned\")"
   ]
  },
  {
   "cell_type": "code",
   "execution_count": null,
   "metadata": {
    "collapsed": true
   },
   "outputs": [],
   "source": [
    "# Example 3:\n",
    "# ---------\n",
    "import math    \n",
    "def calc_norm(vec):\n",
    "    \"\"\"\n",
    "    Function to calculate the L2-norm of a (real) vector\n",
    "    @vec: vector\n",
    "    @return (L2Norm)\n",
    "    \"\"\"\n",
    "    res=0.0\n",
    "\n",
    "    for i in range(len(vec)): \n",
    "        res += vec[i]**2\n",
    "    return math.sqrt(res)\n",
    "\n",
    "v=[1.,3.,math.pi,5.,7.]\n",
    "print(\"Calculate the L2 norm of the following vector:\")\n",
    "print(\"  Vec:{0}\".format(v))\n",
    "print(\"  The L2-norm of the vector is {0:12.8f}\".format(calc_norm(v)))\n",
    "print(\"Doc string result:\")    \n",
    "print(calc_norm.__doc__) "
   ]
  },
  {
   "cell_type": "code",
   "execution_count": null,
   "metadata": {
    "collapsed": true
   },
   "outputs": [],
   "source": [
    "# Example 4: (Recursive problem)\n",
    "# ---------\n",
    "# Fundamental theorem of arithmetic:\n",
    "# Every integer is either a prime or can be written as a product of primes.\n",
    "def decomp(n,res):\n",
    "    \n",
    "    if(n==1):\n",
    "       return 1\n",
    "    else:\n",
    "       upBoundary=int(math.sqrt(n))+1\n",
    "       arr=[i for i in range(2,upBoundary)]\n",
    "       for num in arr:\n",
    "           if n%num==0:\n",
    "              decomp(num,res)\n",
    "              decomp(n/num,res)\n",
    "              return\n",
    "       print(\"n={0} is a prime\".format(n))\n",
    "       return res.append(n)\n",
    "\n",
    "print(\"Fundamental theorem of arithmetic\")\n",
    "n=input(\"Give an integer:\")\n",
    "print(\"  n:{0}  type:{1}\".format(n,type(n)))\n",
    "n=int(n)  # Perform a cast\n",
    "res=[]\n",
    "decomp(n,res)\n",
    "print(res)"
   ]
  },
  {
   "cell_type": "markdown",
   "metadata": {},
   "source": [
    "## Exercises"
   ]
  },
  {
   "cell_type": "markdown",
   "metadata": {},
   "source": [
    "### Exercise 2\n",
    "Create a function named \"factorial\" that takes one argument, n, and returns n!. Try implementing this as both a recursive function (that calls itself) and as a non-recursive function."
   ]
  },
  {
   "cell_type": "code",
   "execution_count": null,
   "metadata": {
    "collapsed": true
   },
   "outputs": [],
   "source": []
  },
  {
   "cell_type": "markdown",
   "metadata": {
    "collapsed": true
   },
   "source": [
    "### Exercise 3\n",
    "Revise your hello_world function so that it can greet you in several different languages. Your function must accept one argument, which is the language to use for the greeting, and should default to some language if no value is given."
   ]
  },
  {
   "cell_type": "code",
   "execution_count": null,
   "metadata": {
    "collapsed": true
   },
   "outputs": [],
   "source": []
  },
  {
   "cell_type": "markdown",
   "metadata": {},
   "source": [
    "### Exercise 4\n",
    "The [<font color=\"green\"><b>Collatz conjecture</b></font>](https://en.wikipedia.org/wiki/Collatz_conjecture) (named after Lothar Collatz)<br>\n",
    "  * $\\forall n \\in \\mathbb{N}$:\n",
    "    * if n%2 == 0:\n",
    "      * $\\Rightarrow  n = n/2 $\n",
    "    * else if n%2 == 1:\n",
    "      * $\\Rightarrow n = 3n +1$\n",
    "  * Conjecture: $\\forall n \\in \\mathbb{N}$, you always will reach 1.\n",
    "  * Write a function (normal, recursive) to test the conjecture. <br>\n",
    "    Apply these functions to e.g. $n=6,19,27$"
   ]
  },
  {
   "cell_type": "code",
   "execution_count": null,
   "metadata": {
    "collapsed": true
   },
   "outputs": [],
   "source": []
  }
 ],
 "metadata": {
  "anaconda-cloud": {},
  "kernelspec": {
   "display_name": "Python 3",
   "language": "python",
   "name": "python3"
  },
  "language_info": {
   "codemirror_mode": {
    "name": "ipython",
    "version": 3
   },
   "file_extension": ".py",
   "mimetype": "text/x-python",
   "name": "python",
   "nbconvert_exporter": "python",
   "pygments_lexer": "ipython3",
   "version": "3.5.2"
  }
 },
 "nbformat": 4,
 "nbformat_minor": 1
}
