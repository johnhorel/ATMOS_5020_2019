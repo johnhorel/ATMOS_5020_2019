{
 "cells": [
  {
   "cell_type": "markdown",
   "metadata": {},
   "source": [
    "# Introduction to NumPy/SciPy"
   ]
  },
  {
   "cell_type": "markdown",
   "metadata": {},
   "source": [
    "## Why go beyond regular python for scientific applications?"
   ]
  },
  {
   "cell_type": "markdown",
   "metadata": {},
   "source": [
    "* Traditional Python list can contain objects of whatever type\n",
    "  * e.g.: a = [1,'2',3.0,1+3j,[4,5],{'UT':'SLC'}]\n",
    "  * Pro: Very flexible\n",
    "  * Con: Slow \n",
    "* In scientific applications, we have arrays of a well-defined type (e.g. int, float, double)\n",
    "* To speed up => introduction of numpy "
   ]
  },
  {
   "cell_type": "markdown",
   "metadata": {},
   "source": [
    "### Simple test:"
   ]
  },
  {
   "cell_type": "code",
   "execution_count": null,
   "metadata": {
    "collapsed": true
   },
   "outputs": [],
   "source": [
    "SZ=10000"
   ]
  },
  {
   "cell_type": "code",
   "execution_count": null,
   "metadata": {
    "collapsed": true
   },
   "outputs": [],
   "source": [
    "%timeit [item**2 for item in range(SZ)]"
   ]
  },
  {
   "cell_type": "code",
   "execution_count": null,
   "metadata": {
    "collapsed": true
   },
   "outputs": [],
   "source": [
    "import numpy as np\n",
    "%timeit np.arange(SZ)**2"
   ]
  },
  {
   "cell_type": "markdown",
   "metadata": {},
   "source": [
    "NumPy:<br>\n",
    "* started in 2006 (based on previous packages numeric & numarray)\n",
    "* built on a <b>multidimensional</b> array object (<b>ndarray</b>) containing <b>homogeneous</b> items\n",
    "* allows fast mathematical operations over arrays (relies on math libs in Fortran and C)<br>\n",
    "  (blas, lapack, ... -> threading)\n",
    "* core math op: linear algebra, fft, random number generation,..\n",
    "* numpy forms the corner stone of most python based scientific packages, such as:\n",
    "  * scipy: fundamental library for scientific computing\n",
    "  * matplotlib: 2D plotting \n",
    "  * pandas: data structures & analysis\n",
    "  * sympy: symbolic mathematics\n",
    "  * scikit-learn: supervised machine learning\n",
    "  * ..."
   ]
  },
  {
   "cell_type": "markdown",
   "metadata": {},
   "source": [
    "## Creation of arrays"
   ]
  },
  {
   "cell_type": "markdown",
   "metadata": {},
   "source": [
    "### 1D array:"
   ]
  },
  {
   "cell_type": "markdown",
   "metadata": {},
   "source": [
    "There are several functions to create a 1D array:\n",
    "* numpy.array() : create an numpy array from a python <i>array-like</i> object\n",
    "* numpy.arange({start], stop[, step], dtype=None) : return evenly spaced values with given interval\n",
    "* numpy.linspace(start, stop, num=50, endpoint=True) : return evenly spaced numbers over a specified interval."
   ]
  },
  {
   "cell_type": "code",
   "execution_count": null,
   "metadata": {
    "collapsed": true
   },
   "outputs": [],
   "source": [
    "import numpy as np\n",
    "a=np.array(range(10)) \n",
    "print(\"a := np.array(range(10)) :\\n{0}\\n\".format(a))\n",
    "\n",
    "b=np.arange(10)\n",
    "print(\"b := np.arange(10):\\n{0}\\n\".format(b))\n",
    "\n",
    "c=np.arange(0.,1.0,0.1)\n",
    "print(\"c := np.arange(0.,1.0,0.1):\\n{0}\\n\".format(c))\n",
    "\n",
    "# [0,1] with equidistant intervals\n",
    "d=np.linspace(0,1,11)   \n",
    "print(\"d := np.linspace(0,1,11):\\n{0}\\n\".format(d))\n",
    "\n",
    "# [0,1[ with equidistant intervals\n",
    "e=np.linspace(0,1,10,endpoint=False) \n",
    "print(\"e := np.linspace(0,1,10,endpoint=False):\\n{0}\\n\".format(e))"
   ]
  },
  {
   "cell_type": "markdown",
   "metadata": {},
   "source": [
    "### Multi dimensional arrays:"
   ]
  },
  {
   "cell_type": "markdown",
   "metadata": {},
   "source": [
    "There several (general) ways to create a N$D$ numpy array.<br>\n",
    "Among them:<br>\n",
    "* numpy.array: Same as in the 1$D$ case\n",
    "* numpy.reshape(a,,newshape[,order]) : Gives a new shape to an array without changing its data\n",
    "* numpy.meshgrid : Return coordinate matrices from two or more coordinate vectors\n",
    "\n",
    "We can convert a N$D$ array into a 1$D$ array as follows:\n",
    "* numpy.reshape\n",
    "* numpy.flatten(order='C') : return a <b>copy</b> of a flattened array\n",
    "* numpy.ravel(a,order='C') : return a $1D$ array"
   ]
  },
  {
   "cell_type": "code",
   "execution_count": null,
   "metadata": {
    "collapsed": true
   },
   "outputs": [],
   "source": [
    "import numpy as np\n",
    "a=np.array([[1,2,3,4],[5,6,7,8],[9,10,11,12]])\n",
    "print(\"a := np.array([[1,2,3,4],[5,6,7,8],[9,10,11,12]]) :\\n{0}\\n\".format(a))\n",
    "\n",
    "b=np.arange(1,13).reshape(3,4)\n",
    "print(\"b := np.arange(1,13).reshape(3,4) :\\n{0}\\n\".format(b))\n",
    "\n",
    "c=np.array([[1,2,3],[4,5,6]])\n",
    "print(\"c := np.array([[1,2,3],[4,5,6]]) :\\n{0}\\n\".format(c))\n",
    "\n",
    "d=np.reshape(c,(1,6))\n",
    "print(\"d := np.reshape(c,(1,6)) :\\n{0}\\n\".format(d))\n",
    "\n",
    "e=np.reshape(c,(1,6),order='F')\n",
    "print(\"e := np.reshape(c,(1,6),order='F') :\\n{0}\\n\".format(e))"
   ]
  },
  {
   "cell_type": "code",
   "execution_count": null,
   "metadata": {
    "collapsed": true
   },
   "outputs": [],
   "source": [
    "# Meshgrid -> perfect to make grids for plots\n",
    "import numpy as np\n",
    "X=np.arange(-8, 8, 0.25)\n",
    "Y=np.arange(-8,8, 0.25)\n",
    "\n",
    "print(\" Start:\")\n",
    "print(\"   x := dim:{0}:\\n{1}\\n\".format(X.shape,X))\n",
    "print(\"   y := dim:{0}:\\n{1}\\n\".format(Y.shape,Y))\n",
    "\n",
    "EPS=1.0E-4\n",
    "X,Y=np.meshgrid(X,Y)\n",
    "print(\" After Invoking Meshgrid:\")\n",
    "print(\"   x := dim:{0}:\\n{1}\\n\".format(X.shape,X))\n",
    "print(\"   y := dim:{0}:\\n{1}\\n\".format(Y.shape,Y))\n",
    "r = np.sqrt(X**2 + Y**2) + EPS\n",
    "Z = np.sin(r)/r\n",
    "\n",
    "# Matplot lib example\n",
    "from mpl_toolkits.mplot3d import Axes3D\n",
    "from matplotlib import cm\n",
    "from matplotlib.ticker import LinearLocator, FormatStrFormatter\n",
    "import matplotlib.pyplot as plt\n",
    "import numpy as np\n",
    "\n",
    "fig = plt.figure()\n",
    "ax = fig.gca(projection='3d')\n",
    "surf = ax.plot_surface(X, Y, Z, rstride=1, cstride=1,cmap=plt.cm.get_cmap('RdBu'),\n",
    "        linewidth=0, antialiased=False)\n",
    "ax.set_zlim(-0.1, 1.00)\n",
    "ax.set_title(\"Mexican Hat Style Plot\")\n",
    "\n",
    "ax.zaxis.set_major_locator(LinearLocator(10))\n",
    "ax.zaxis.set_major_formatter(FormatStrFormatter('%.02f'))\n",
    "\n",
    "plt.show()"
   ]
  },
  {
   "cell_type": "code",
   "execution_count": null,
   "metadata": {
    "collapsed": true
   },
   "outputs": [],
   "source": [
    "# Flatten multi-dimensional array\n",
    "g=np.arange(30).reshape((2,3,5))\n",
    "print(\"g := np.arange(30).reshape((2,3,5)) :\\n{0}\\n\".format(g))\n",
    "\n",
    "h=g.ravel(order='C')\n",
    "print(\"h := np.ravel(g,order='C') :\\n{0}\\n\".format(h))\n",
    "\n",
    "k=g.ravel(order='F')\n",
    "print(\"k := np.ravel(g,order='F') :\\n{0}\\n\".format(k))\n",
    "\n",
    "l=g.flatten(order='F')\n",
    "print(\"l := np.flatten(g,order='F') :\\n{0}\\n\".format(l))"
   ]
  },
  {
   "cell_type": "markdown",
   "metadata": {},
   "source": [
    "### Exercise:\n",
    "* Create a 2$D$ numpy array with shape (5x6) starting a integer value 30 and ending at 1.<br>\n",
    "  The result should be like this: <br>\n",
    "  array([[30, 29, 28, 27, 26, 25],\n",
    "       [24, 23, 22, 21, 20, 19],\n",
    "       [18, 17, 16, 15, 14, 13],\n",
    "       [12, 11, 10,  9,  8,  7],\n",
    "       [ 6,  5,  4,  3,  2,  1]])\n",
    "      "
   ]
  },
  {
   "cell_type": "markdown",
   "metadata": {},
   "source": [
    "### Array attributes"
   ]
  },
  {
   "cell_type": "markdown",
   "metadata": {},
   "source": [
    "<font color=\"green\"><b>ndarray</b></font> is the NumPy base/super class. This class has several fields/methods.<br>\n",
    "Among them:\n",
    "* dtype: type of the elements\n",
    "* ndim : dimensionality (#axes) of the array\n",
    "* shape: dimensions of the array (tuple)\n",
    "* size : #elements in the array\n",
    "* itemsize: memory occupied by 1 element\n",
    "* nbytes  : total #bytes consumed by the el. of the array\n",
    "* strides : Strides of data in memory\n",
    "* flags   : Dictionary containing info on memory use.\n",
    "* T       : Transpose of the ndarray"
   ]
  },
  {
   "cell_type": "code",
   "execution_count": null,
   "metadata": {
    "collapsed": true
   },
   "outputs": [],
   "source": [
    "a=np.arange(20).reshape(4,5)\n",
    "print(\"a := np.arange(20).reshape((4,5)) :\\n{0}\\n\".format(a))\n",
    "print(\"  type(a) :'{0}'\".format(type(a)))\n",
    "print(\"  a.dtype:'{0}'\".format(a.dtype))\n",
    "print(\"  a.ndim:'{0}'\".format(a.ndim))\n",
    "print(\"  a.shape:'{0}'\".format(a.shape))\n",
    "print(\"  a.size:'{0}'\".format(a.size))\n",
    "print(\"  a.itemsize:'{0}'\".format(a.itemsize))\n",
    "print(\"  a.nbytes:'{0}'\".format(a.nbytes))\n",
    "print(\"  a.strides:'{0}'\".format(a.strides))\n",
    "print(\"  a.flags:\\n{0}\".format(a.flags))\n",
    "print(\"  a.T:\\n{0}\".format(a.T))"
   ]
  },
  {
   "cell_type": "markdown",
   "metadata": {},
   "source": [
    "### Create special arrays (form & types)"
   ]
  },
  {
   "cell_type": "markdown",
   "metadata": {},
   "source": [
    "#### a.Data Types"
   ]
  },
  {
   "cell_type": "markdown",
   "metadata": {},
   "source": [
    "Numpy support several <font><b>data types</b></font> e.g.:\n",
    "* int8, int16 int32, int64\n",
    "* uint8, uint16, uint32, uint64\n",
    "* float16, float32, float64\n",
    "* complex64, complex128 \n",
    "* ...\n",
    "\n",
    "Casting between types:\n",
    "* numpy.astype(dtype) : convert array to type dtype"
   ]
  },
  {
   "cell_type": "code",
   "execution_count": null,
   "metadata": {
    "collapsed": true
   },
   "outputs": [],
   "source": [
    "# Assign arrays with a certain type\n",
    "i1=np.arange(10,dtype='int32')\n",
    "print(\"i1 := np.arange(10,dtype='int32'):\\n{0}\".format(i1))\n",
    "print(\"  i1.dtype:'{0}'\".format(i1.dtype))\n",
    "print(\"  i1.size :'{0}'\".format(i1.size))\n",
    "print(\"  i1.itemsize:'{0}'\".format(i1.itemsize))\n",
    "print(\"  i1.nbytes:'{0}'\".format(i1.nbytes))\n",
    "\n",
    "i2=np.arange(10,dtype='int64')\n",
    "print(\"\\ni2 := np.arange(10,dtype='int64'):\\n{0}\".format(i2))\n",
    "print(\"  i2.dtype:'{0}'\".format(i2.dtype))\n",
    "print(\"  i2.size :'{0}'\".format(i2.size))\n",
    "print(\"  i2.itemsize:'{0}'\".format(i2.itemsize))\n",
    "print(\"  i2.nbytes:'{0}'\".format(i2.nbytes))\n",
    "\n",
    "z1=np.arange(10,dtype='complex128')\n",
    "print(\"\\nz1 := np.arange(10,dtype='complex128'):\\n{0}\\n\".format(z1))\n",
    "print(\"  z1.dtype:'{0}'\".format(z1.dtype))\n",
    "print(\"  z1.size :'{0}'\".format(z1.size))\n",
    "print(\"  z1.itemsize:'{0}'\".format(z1.itemsize))\n",
    "print(\"  z1.nbytes:'{0}'\".format(z1.nbytes))\n",
    "\n",
    "# Change type of an array (cast function)\n",
    "f1=np.array([1.0,2.5,3.0,7.2])\n",
    "print(\"\\nf1 := np.array([1.0,2.5,3.0,7.2]):\\n{0}\".format(f1))\n",
    "i3=f1.astype('int64')\n",
    "print(\"i3 := f1.astype(dtype='int64'):\\n{0}\\n\".format(i3))\n",
    "print(\"  i3.dtype:'{0}'\".format(i3.dtype))\n",
    "print(\"  i3.size :'{0}'\".format(i3.size))\n",
    "print(\"  i3.itemsize:'{0}'\".format(i3.itemsize))\n",
    "print(\"  i3.nbytes:'{0}'\".format(i3.nbytes))"
   ]
  },
  {
   "cell_type": "markdown",
   "metadata": {},
   "source": [
    "#### b.Form of ndarray"
   ]
  },
  {
   "cell_type": "markdown",
   "metadata": {},
   "source": [
    "Numpy has specific <font><b>initialization</b></font> functions<br> \n",
    "A few of the most important ones:\n",
    "* diag(v,k=0)                            \n",
    "  + either extracts the diagonal (if a matrix exists)\n",
    "  + or constructs a diagonal array. \n",
    "* empty(shape,dtype='float64',order='C') \n",
    "  + returns a new array <b>without</b> initializing its entries (i.e. mem. allocation)\n",
    "* eye(N,M=None,k=0,dtype='float64')      \n",
    "  + returns a 2-D array with ones on the diagaonal and zeros elsewhere\n",
    "* fromfunction(myfunc,shape,dtype)                          \n",
    "  + returns a new array based on a function\n",
    "* identity(n,dtype='float64')            \n",
    "  + returns the $n$ x $n$ identity array\n",
    "* ones(shape,dtype='float64',order='C')  \n",
    "  + returns a new array completely filled with 1s \n",
    "* zeros(shape,dtype='float64',order='C') \n",
    "  + returns a new array completely filled with 0s"
   ]
  },
  {
   "cell_type": "code",
   "execution_count": null,
   "metadata": {
    "collapsed": true
   },
   "outputs": [],
   "source": [
    "# Diag function\n",
    "a1 = np.array([i for i in range(20)]).reshape(4,5)\n",
    "print(\"  a1:\\n{0}\".format(a1))\n",
    "\n",
    "# Extract the diagonal\n",
    "print(\"  \\n np.diag(a1):\\n{0}\".format(np.diag(a1)))\n",
    "\n",
    "# Extract a SHIFTED diagonal\n",
    "print(\"  \\n np.diag(a1,k=1):\\n{0}\".format(np.diag(a1,k=1)))\n",
    "\n",
    "# Create a diagonal matrix\n",
    "print(\"  \\n np.diag(range(4)):\\n{0}\".format(np.diag(range(4))))\n",
    "\n",
    "# Create a SHIFTED diagonal matrix\n",
    "print(\"  \\n np.diag(range(4),k=1):\\n{0}\".format(np.diag(range(4),k=1)))"
   ]
  },
  {
   "cell_type": "code",
   "execution_count": null,
   "metadata": {
    "collapsed": true
   },
   "outputs": [],
   "source": [
    "# Memory allocation\n",
    "a2=np.empty((2,3))\n",
    "print(\"a2 np.empty((2,3)) :\\n{0}\\n\".format(a2))\n",
    "\n",
    "# Create ones on the diagonal\n",
    "a3=np.eye(5,4,k=1)\n",
    "print(\"a3 np.eye(5,4,k=1,dtype='float64') :\\n{0}\\n\".format(a3))\n",
    "\n",
    "# Use a function (index based) to generate entries\n",
    "a4=np.fromfunction(lambda x,y: x+2*y,(2,5),dtype='float64')\n",
    "print(\"a4 np.fromfunction(lambda x,y: x+2*y,(2,5),dtype='float64') :\\n{0}\\n\".format(a4))\n",
    "\n",
    "# Return a SQUARE identity matrix\n",
    "a5=np.identity(5,dtype='int64')\n",
    "print(\"a5 np.identity(5,dtype='int64') :\\n{0}\\n\".format(a5))\n",
    "\n",
    "a6=np.ones((2,7),dtype='int64')\n",
    "print(\"a6 np.ones((2,7),dtype='int64') :\\n{0}\\n\".format(a6))\n",
    "\n",
    "a7=np.zeros((3,4),dtype='complex128')\n",
    "print(\"a7 np.zeros((3,4),dtype='complex128') :\\n{0}\\n\".format(a7))"
   ]
  },
  {
   "cell_type": "markdown",
   "metadata": {},
   "source": [
    "### Exercise:\n",
    "* Create a 5x5 matrix with the following (staggered) entries:<br>\n",
    "  array([[0, 1, 2, 3, 4],\n",
    "         [1, 2, 3, 4, 5],\n",
    "         [2, 3, 4, 5, 6],\n",
    "         [3, 4, 5, 6, 7],\n",
    "         [4, 5, 6, 7, 8]])\n",
    "  (<b>Hint</b>: use the np.fromfunction )         "
   ]
  },
  {
   "cell_type": "markdown",
   "metadata": {},
   "source": [
    "## Indexing and Slicing"
   ]
  },
  {
   "cell_type": "markdown",
   "metadata": {},
   "source": [
    "### 1D Array"
   ]
  },
  {
   "cell_type": "markdown",
   "metadata": {},
   "source": [
    "Very similar as in regular python"
   ]
  },
  {
   "cell_type": "code",
   "execution_count": null,
   "metadata": {
    "collapsed": true
   },
   "outputs": [],
   "source": [
    "import numpy as np\n",
    "a=np.arange(21)\n",
    "print(\"a := np.arange(21) :\\n{0}\".format(a))\n",
    "print(\"  a[4]      :  {0}\".format(a[4]))\n",
    "print(\"  a[5:]     :  {0}\".format(a[5:]))\n",
    "print(\"  a[2:12:3] :  {0}\".format(a[2:12:3]))\n",
    "print(\"  a[2::5]   :  {0}\".format(a[2::5]))\n",
    "print(\"  a[-5:-1]  :  {0}\".format(a[-5:-1]))\n",
    "print(\"  a[-3:3:-1]:  {0}\".format(a[-3:3:-1]))\n",
    "print(\"  a[-7::2]  :  {0}\".format(a[-7::2]))"
   ]
  },
  {
   "cell_type": "markdown",
   "metadata": {},
   "source": [
    "### N-Dimensional Array"
   ]
  },
  {
   "cell_type": "markdown",
   "metadata": {},
   "source": [
    "* <font color=\"green\"><b>axis: Synonymous for dimension</b></font> (C style)\n",
    "* if #objects < #dim -> assume ':' (i.e. ALL) for the remaining dimensions  \n",
    "* ellipsis: ... -> consider complete dimensions up to index\n",
    "* a lot of functions can work on individual dimensions"
   ]
  },
  {
   "cell_type": "code",
   "execution_count": null,
   "metadata": {
    "collapsed": true
   },
   "outputs": [],
   "source": [
    "a = np.arange(20).reshape(4,5)\n",
    "print(\"  a := np.arange(20).reshape(4,5) :\\n{0}\\n\".format(a))\n",
    "print(\"  a[1]:{0}\\n\".format(a[1]))\n",
    "\n",
    "b = np.arange(60).reshape(2,3,5,2)\n",
    "print(\"  Shape(b):{0}\".format(b.shape))\n",
    "print(\"  b[0,2,...]:\\n{0}\\n\".format(b[0,2,...]))\n",
    "\n",
    "print(\"  Targeting a well-defined axis:\")\n",
    "print(\"    Total sum:{0}\\n\".format(np.sum(a)))\n",
    "print(\"    Sum over all rows:{0}\\n\".format(np.sum(a,axis=0)))\n",
    "print(\"    Sum over all columns:{0}\\n\".format(np.sum(a,axis=1)))"
   ]
  },
  {
   "cell_type": "markdown",
   "metadata": {},
   "source": [
    "How to <font color=\"color\"><b>remove</b></font> singleton dimensions?\n",
    "* numpy.squeeze(a,axis=None)\n",
    "  * a: input data\n",
    "  * axis : integer/tuple\n",
    "  * default: all singleton dimensions\n",
    "  \n",
    "How to <font color=\"color\"><b>add</b></font> singleton dimensions?\n",
    "* numpy.newaxis : <br>\n",
    "  * expand the dimension by 1 unit<br>\n",
    "  * to be added where you want to add the dimension"
   ]
  },
  {
   "cell_type": "code",
   "execution_count": null,
   "metadata": {
    "collapsed": true
   },
   "outputs": [],
   "source": [
    "a=np.arange(24).reshape((2,3,4))\n",
    "print(\"a := np.arange(24).reshape((2,3,4)) -> a.shape:{0} \\n{1}\".format(a.shape,a))\n",
    "\n",
    "# Start slicing ...\n",
    "#b=a[0,:,:]\n",
    "#print(\"\\nb := a[0,:,:] \\n{0}\\n\".format(b))\n",
    "#print(\"  b.shape:{0}\".format(b.shape))\n",
    "\n",
    "c=a[:,1:2,2:4]\n",
    "print(\"\\nc := a[:,1:2,2:4] \\n{0}\\n\".format(c))\n",
    "print(\"  c.shape:{0}\".format(c.shape))\n",
    "\n",
    "d=a[1]\n",
    "print(\"\\nd := a[1] \\n{0}\\n\".format(d))\n",
    "print(\"  d.shape:{0}\".format(d.shape))\n",
    "\n",
    "e=np.arange(48).reshape((2,3,2,4))\n",
    "print(\"\\ne := np.arange(48).reshape((2,3,2,4)) \\n{0}\\n\".format(e))\n",
    "print(\"  e.shape:{0}\".format(e.shape))\n",
    "\n",
    "f=e[...,1]\n",
    "print(\"\\nf := e[...,1]\\n{0}\\n\".format(f))\n",
    "print(\"  f.shape:{0}\".format(f.shape))\n",
    "\n",
    "# Remove singleton dimension (a.k.a. squeezing in Matlab)\n",
    "print(\"\\n\\nREMOVING SINGLETON DIMENSIONS::\")\n",
    "print(\"c := a[:,1:2,2:4] \\n{0}\\n\".format(c))\n",
    "print(\"  c.shape:{0}\".format(c.shape))\n",
    "\n",
    "g=np.squeeze(c)\n",
    "print(\"g := np.squeeze(c)\\n{0}\".format(g))\n",
    "print(\"  g.shape:{0}\\n\".format(g.shape))\n",
    "\n",
    "# or more explicitly if you want to target a particular axis\n",
    "h=np.squeeze(c,axis=1)\n",
    "print(\"h := np.squeeze(c,axis=1)\\n{0}\".format(h))\n",
    "print(\"  h.shape:{0}\\n\".format(h.shape))\n",
    "\n",
    "# Inverse of squeezing?\n",
    "print(\"\\n\\nADDING SINGLETON DIMENSIONS::\")\n",
    "print(\"\\nd\\n{0}\\n\".format(d))\n",
    "print(\"  d.shape:{0}\".format(d.shape))\n",
    "\n",
    "p=d[:,np.newaxis,:]\n",
    "print(\"\\np := d[:,np.newaxis,:]\\n{0}\\n\".format(p))\n",
    "print(\"  p.shape:{0}\".format(p.shape))\n",
    "\n",
    "q=d[:,np.newaxis,np.newaxis,:,np.newaxis]\n",
    "print(\"\\nq := d[:,np.newaxis,np.newaxis,:,np.newaxis]\\n{0}\\n\".format(q))\n",
    "print(\"  q.shape:{0}\".format(q.shape))"
   ]
  },
  {
   "cell_type": "markdown",
   "metadata": {},
   "source": [
    "### Exercise:"
   ]
  },
  {
   "cell_type": "markdown",
   "metadata": {},
   "source": [
    "* Create a random matrix (7x7) with values [0,1[<br>\n",
    "  Replace the core 3x3 matrix of the above matrix with ones.<br>\n",
    "  (<b>Hint</b>: use the np.random.random function to create the matrix)\n",
    "* Create a (8x8) checkerboard containing 0 and 1's (type integer)\n",
    "  in 2 different ways:\n",
    "  * without using the tile function (slicing)\n",
    "  * using the numpy np.tile function (use the help function)\n",
    "  * other alternatives\n",
    "    * np.hstack & np.vstack\n",
    "    * np.concatenate\n",
    "* Create a random matrix (3x7).<br>\n",
    "  Find the max-value in each row <br>\n",
    "  (<b>Hint</b>: use the np.max function)"
   ]
  },
  {
   "cell_type": "markdown",
   "metadata": {},
   "source": [
    "## Iterating over arrays (elementary treatment) "
   ]
  },
  {
   "cell_type": "markdown",
   "metadata": {},
   "source": [
    "There are several ways to loop over an numpy array\n",
    "* Traditional for loop\n",
    "* nditer (since Numpy 1.6) (default:read-only)"
   ]
  },
  {
   "cell_type": "code",
   "execution_count": null,
   "metadata": {
    "collapsed": true
   },
   "outputs": [],
   "source": [
    "# Traditional approach \n",
    "# Loop over a 1D \n",
    "import numpy as np\n",
    "a=np.arange(5)\n",
    "print(\"a := np.arange(5)\\n{0}\".format(a))\n",
    "for i in a:\n",
    "    print(\"{0} \".format(i),end='')\n",
    "print(\"\\n\") #newline\n",
    "\n",
    "# Iterating over a 2D -> takes ROWS instead of elements\n",
    "b = np.linspace(0,2,9).reshape((3,3)).astype('complex64')\n",
    "print(\"b := np.linspace(0,2,9).reshape((3,3)).astype('complex64')\\n{0}\".format(b))\n",
    "print(\"Looping over the array b:\")\n",
    "for row in b:\n",
    "    print(\"  {0} \".format(row)) "
   ]
  },
  {
   "cell_type": "markdown",
   "metadata": {},
   "source": [
    "#### Therefore:\n",
    "* to 'visit' every element use:\n",
    "  * either nditer (default: read-only) -> allows to specify the order\n",
    "  * flat (only C-order style)"
   ]
  },
  {
   "cell_type": "code",
   "execution_count": null,
   "metadata": {
    "collapsed": true
   },
   "outputs": [],
   "source": [
    "# Iterating over a 1D\n",
    "a=np.arange(5)\n",
    "print(\"a := np.arange(5)\\n{0}\".format(a))\n",
    "for i in np.nditer(a):\n",
    "    print(\"{0} \".format(i),end='')\n",
    "print(\"\\n\") #newline\n",
    "\n",
    "# Interating over a 2D\n",
    "b = np.linspace(0,2,9).reshape((3,3)).astype('complex64')\n",
    "print(\"b := np.linspace(0,2,9).reshape((3,3)).astype('complex64')\\n{0}\".format(b))\n",
    "print(\"Looping in C-order:\")\n",
    "for i in np.nditer(b,order='C'):\n",
    "    print(\"{0} \".format(i),end='')  \n",
    "print(\"\\n\")\n",
    "\n",
    "print(\"Looping in Fortran order:\")    \n",
    "for i in np.nditer(b,order='F'):\n",
    "    print(\"{0} \".format(i),end='')\n",
    "print(\"\\n\")  \n",
    "\n",
    "for i in b.flat:\n",
    "    print(\"{0} \".format(i),end='')  \n",
    "print(\"\\n\")"
   ]
  },
  {
   "cell_type": "markdown",
   "metadata": {},
   "source": [
    "#### Note/Addendum:\n",
    "* np.nditer is an iterator \n",
    "  i.e. elements are 'generated' on the fly\n",
    "* see e.g.: https://docs.python.org/3/tutorial/classes.html?highlight=iterator#iterators  "
   ]
  },
  {
   "cell_type": "code",
   "execution_count": null,
   "metadata": {
    "collapsed": true
   },
   "outputs": [],
   "source": [
    "a = np.arange(4).reshape((2,2))\n",
    "it = np.nditer(a)\n",
    "#print(next(it))\n",
    "#print(next(it))\n",
    "#print(next(it))\n",
    "#print(next(it))\n",
    "#print(next(it))"
   ]
  },
  {
   "cell_type": "markdown",
   "metadata": {},
   "source": [
    "## Elementary operations on arrays"
   ]
  },
  {
   "cell_type": "markdown",
   "metadata": {},
   "source": [
    "Python operations:\n",
    "* done on an <font color=\"red\"><b>element-by-element</b></font> basis"
   ]
  },
  {
   "cell_type": "code",
   "execution_count": null,
   "metadata": {
    "collapsed": true
   },
   "outputs": [],
   "source": [
    "# Example:\n",
    "a=np.arange(5)\n",
    "b=np.arange(20,30,2)\n",
    "print(\"a := np.arange(5)\\n{0}\".format(a))\n",
    "print(\"\\nb := np.arange(20,30,2)\\n{0}\".format(b))\n",
    "# Test multiplication and an addition\n",
    "print(\"\\na+b:\\n{0}\".format(a+b))\n",
    "print(\"\\na*b:\\n{0}\".format(a*b))"
   ]
  },
  {
   "cell_type": "markdown",
   "metadata": {},
   "source": [
    "<font color=\"green\"><b>How to perform a matrix multiplication in numpy?</b></font><br>\n",
    "Numpy has its \"matrix\" multiplication function: np.dot\n",
    "* 1D: dot-product\n",
    "* 2D: matrix-multiplication"
   ]
  },
  {
   "cell_type": "code",
   "execution_count": null,
   "metadata": {
    "collapsed": true
   },
   "outputs": [],
   "source": [
    "# Examples 1D and 2D\n",
    "a=np.arange(1,5)\n",
    "b=np.arange(3,7)\n",
    "print(\"Dot-product (1D)::\")\n",
    "print(\"  a:{0}\".format(a))\n",
    "print(\"  b:{0}\".format(b))\n",
    "print(\"    => a.b:{0}\".format(np.dot(a,b)))\n",
    "\n",
    "print(\"Matrix-product (2D)::\")\n",
    "c=np.arange(6).reshape((2,3))\n",
    "d=np.arange(15).reshape((3,5))\n",
    "print(\"  c:\\n{0}\".format(c))\n",
    "print(\"\\n  d:\\n{0}\".format(d))\n",
    "print(\"\\n  c x d:\\n{0}\".format(np.dot(c,d)))\n"
   ]
  },
  {
   "cell_type": "code",
   "execution_count": null,
   "metadata": {
    "collapsed": true
   },
   "outputs": [],
   "source": [
    "# Multiplying 2 vectors: \n",
    "# Ex1: Wrong dimension?\n",
    "c=np.arange(4)\n",
    "d=np.linspace(0,1,5)\n",
    "print(\"c:{0}\".format(c))\n",
    "print(\"d:{0}\".format(d))\n",
    "print(\"c.shape:{0}\".format(c.shape))\n",
    "print(\"d.shape:{0}\".format(d.shape))\n",
    "e=c+d"
   ]
  },
  {
   "cell_type": "code",
   "execution_count": null,
   "metadata": {
    "collapsed": true
   },
   "outputs": [],
   "source": [
    "# Multiplying 2 vectors: \n",
    "# Ex2: Wrong dimension?\n",
    "d=d.reshape((5,1))\n",
    "print(\"c:{0}\".format(c))\n",
    "print(\"d:{0}\".format(d))\n",
    "print(\"c.shape:{0}\".format(c.shape))\n",
    "print(\"d.shape:{0}\".format(d.shape))\n",
    "e=c+d\n",
    "print(\"e:\\n{0}\".format(e))\n",
    "print(\"e.shape:{0}\".format(e.shape))"
   ]
  },
  {
   "cell_type": "markdown",
   "metadata": {},
   "source": [
    "#### Exercise (element-wise operations)\n",
    "* Generate the following vector \\[ 1, 3, 9, 27, ... , 3**6 \\]\n",
    "  using element-wise oprations \n",
    "* a=np.random.random((2,4))<br>\n",
    "  b=np.random.random((2,4))<br>\n",
    "  * Generate a boolean matrix (without using for loops) which has the following entries:\n",
    "    * if a[i,j] < b[i,j] then <br>\n",
    "       True\n",
    "    * else <br>\n",
    "       False    \n",
    "  * <b>Extra question</b>:\n",
    "    * Retrieve all the elements for which a[i,j] < b[i,j]\n",
    "    * You can either use:\n",
    "      * $a[<boolean vector>]$\n",
    "      * use the np.where function \n",
    "      \n",
    "    "
   ]
  },
  {
   "cell_type": "markdown",
   "metadata": {},
   "source": [
    "## Broadcasting"
   ]
  },
  {
   "cell_type": "markdown",
   "metadata": {},
   "source": [
    "* Definition :: required to operate on (some) arrays with mismatched shapes\n",
    "* Start with the trailing dimenions (i.e. from left to right)\n",
    "* Two dimensions of the array are compatible iff\n",
    "  * they have the same dimension\n",
    "  * one of the dimension is 1\n",
    "\n",
    "<font color=\"green\"><b>Both arrays can have a different #axes</b></font>"
   ]
  },
  {
   "cell_type": "code",
   "execution_count": null,
   "metadata": {
    "collapsed": true
   },
   "outputs": [],
   "source": [
    "# Example 1\n",
    "# Res: x: 4 x 1\n",
    "#      y:     5\n",
    "# -------------\n",
    "#    x+y: 4 x 5\n",
    "#---------------\n",
    "x = np.arange(4)\n",
    "x = x.reshape(4,1)\n",
    "print(\"x:{0}\\n{1}\".format(x.shape,x))\n",
    "y = np.ones(5)\n",
    "print(\"\\ny:{0}\\n{1}\".format(y.shape,y))\n",
    "print(\"\\nx+y:{0}\\n{1}\".format((x+y).shape,x+y))"
   ]
  },
  {
   "cell_type": "code",
   "execution_count": null,
   "metadata": {
    "collapsed": true
   },
   "outputs": [],
   "source": [
    "# Example 2\n",
    "# Res: x: 13 x 1 x 7 x 1\n",
    "#      y:      8 x 7 x 5\n",
    "# -------------\n",
    "#    res: 13 x 8 x 7 x 5\n",
    "#---------------\n",
    "x=np.arange(91).reshape((13,1,7,1))\n",
    "y=np.arange(8*7*5).reshape((8,7,5))\n",
    "z=x+y\n",
    "print(\"x.shape:{0}\".format(x.shape))\n",
    "print(\"\\ny.shape:{0}\".format(y.shape))\n",
    "print(\"\\nz.shape:{0}\".format(z.shape))"
   ]
  },
  {
   "cell_type": "code",
   "execution_count": null,
   "metadata": {
    "collapsed": true
   },
   "outputs": [],
   "source": [
    "# Example 3:\n",
    "# Res: x: 3 x 8 x 3\n",
    "#      y:     3 x 1\n",
    "# -------------\n",
    "#    res:     Error !! (8 & 3)\n",
    "#---------------\n",
    "x=np.arange(72).reshape((3,8,3))\n",
    "y=np.arange(9).reshape((3,3))\n",
    "z=x+y\n",
    "print(\"x.shape:{0}\".format(x.shape))\n",
    "print(\"\\ny.shape:{0}\".format(y.shape))\n",
    "print(\"\\nz.shape:{0}\".format(z.shape))"
   ]
  },
  {
   "cell_type": "markdown",
   "metadata": {},
   "source": [
    "### Exercise"
   ]
  },
  {
   "cell_type": "markdown",
   "metadata": {},
   "source": [
    "* We have the following 2 random matrices:\n",
    "  * A = np.random.random((8,1,8))\n",
    "  * B = np.random.random((8,8,1))<br>\n",
    "    Calculate the matrix Z (8x8) where each element of Z is given by:<br>\n",
    "    $Z_{i,j} = A_{i,1,j} + B_{i,j,1}$"
   ]
  },
  {
   "cell_type": "markdown",
   "metadata": {},
   "source": [
    "## Universal functions in numpy"
   ]
  },
  {
   "cell_type": "markdown",
   "metadata": {},
   "source": [
    "A universal function (ufunc)  $f$ is a function\n",
    "* which takes an array $in$ as input\n",
    "* returns an array $out$ as output <br> \n",
    "  where $out[i]=f(in[i])$\n",
    "\n",
    "If two arrays have different shapes <font color=\"green\"><b>broadcasting</b></font> will be applied<br>\n",
    "The following ufuncs are currently available:<br>\n",
    "http://docs.scipy.org/doc/numpy/reference/ufuncs.html#available-ufuncs\n",
    "\n",
    "This concept is similar to the map function in standard Python."
   ]
  },
  {
   "cell_type": "code",
   "execution_count": null,
   "metadata": {
    "collapsed": true
   },
   "outputs": [],
   "source": [
    "# Example 1: wo BC\n",
    "import numpy as np\n",
    "x=np.random.random((7,3,14))\n",
    "y=np.exp(x)\n",
    "#print(x)\n",
    "#print(y)\n",
    "\n",
    "# Example 2: w. BC\n",
    "x=np.arange(90,103,dtype=int)\n",
    "y=np.arange(2,7,dtype=int).reshape((5,1))\n",
    "print(\" x:{0}\\n{1}\".format(x.shape,x))\n",
    "print(\" y:{0}\\n{1}\".format(y.shape,y))\n",
    "z=np.mod(x,y)\n",
    "print(\" z:{0}\\n{1}\".format(z.shape,z))"
   ]
  },
  {
   "cell_type": "markdown",
   "metadata": {},
   "source": [
    "### Exercise (Universal functions)"
   ]
  },
  {
   "cell_type": "markdown",
   "metadata": {},
   "source": [
    "* Write a python function def calc_sn(n): <br>\n",
    "  The function generates an array of partial sums $S_n$ ($n>0$) given by:<br>\n",
    "  $S_n := \\sum_{k=1}^{k=n}  \\frac{sin(k)}{k^2} $ <br>\n",
    "  <b><font color=\"red\">For-loops can not be used!</font></b><br>\n",
    "  <b>Hint:</b> The function np.cumsum (Cumulative sum) may be helpful.\n",
    "* Make a plot $S_n=f(n)$ using matplotlib to visualize the convergence "
   ]
  },
  {
   "cell_type": "markdown",
   "metadata": {},
   "source": [
    "## View vs. copy"
   ]
  },
  {
   "cell_type": "markdown",
   "metadata": {},
   "source": [
    "### Assignment"
   ]
  },
  {
   "cell_type": "code",
   "execution_count": null,
   "metadata": {
    "collapsed": true
   },
   "outputs": [],
   "source": [
    "# Case 1: Assignment/shape examples\n",
    "import numpy as np\n",
    "a=np.arange(10)\n",
    "print(\"a := np.arange(10)\\n{0}\".format(a))\n",
    "b=a\n",
    "b[5]=100\n",
    "print(\"  b := a && b[5]=100\\n{0}\".format(b))\n",
    "print(\"  a : \\n{0}\\n\".format(a))\n",
    "\n",
    "b.shape=(2,5)\n",
    "print(\"  b.shape: {0}\".format(b.shape))\n",
    "print(\"  a.shape: {0}\\n\".format(a.shape))"
   ]
  },
  {
   "cell_type": "markdown",
   "metadata": {},
   "source": [
    "### Slicing & view:"
   ]
  },
  {
   "cell_type": "markdown",
   "metadata": {},
   "source": [
    "View := an array of which the data refers to another array.<br>\n",
    "Slicing an array A generates an array B that is a view of the array A."
   ]
  },
  {
   "cell_type": "code",
   "execution_count": null,
   "metadata": {
    "collapsed": true
   },
   "outputs": [],
   "source": [
    "# Example slicing/view\n",
    "a=np.random.random((2,4,3))\n",
    "b=a[:,1:3,0:2]\n",
    "b[:]=0.0\n",
    "print(\"b : \\n{0}\\n\".format(b))\n",
    "print(\"a : \\n{0}\\n\".format(a))\n",
    "\n",
    "a[:]=1.\n",
    "print(\"a : \\n{0}\\n\".format(a))\n",
    "print(\"b : \\n{0}\\n\".format(b))"
   ]
  },
  {
   "cell_type": "markdown",
   "metadata": {},
   "source": [
    "### Deep copy"
   ]
  },
  {
   "cell_type": "code",
   "execution_count": null,
   "metadata": {
    "collapsed": true
   },
   "outputs": [],
   "source": [
    "c=np.random.random((2,3))\n",
    "d=c.copy()\n",
    "print(\"c : \\n{0}\\n\".format(c))\n",
    "print(\"d := c.copy() \\n{0}\\n\".format(d))\n",
    "d[:]=0.0\n",
    "print(\"d[:] := 0. \\n{0}\\n\".format(d))\n",
    "print(\"c : \\n{0}\\n\".format(c))"
   ]
  },
  {
   "cell_type": "markdown",
   "metadata": {},
   "source": [
    "### But be careful!"
   ]
  },
  {
   "cell_type": "code",
   "execution_count": null,
   "metadata": {
    "collapsed": true
   },
   "outputs": [],
   "source": [
    "a=np.random.random((2,4,3))\n",
    "b=a[:,1:3,0:2]\n",
    "print(\"a : \\n{0}\\n\".format(a))\n",
    "print(\"b : \\n{0}\\n\".format(b))\n",
    "# The \"+\" operator will create a copy \n",
    "b = b + 5  \n",
    "print(\"b : \\n{0}\\n\".format(b))\n",
    "print(\"a : \\n{0}\\n\".format(a))"
   ]
  },
  {
   "cell_type": "markdown",
   "metadata": {},
   "source": [
    "## Masked arrays"
   ]
  },
  {
   "cell_type": "markdown",
   "metadata": {},
   "source": [
    "Certain arrays contain elements you do not want to consider (e.g. NaN)<br>\n",
    "In numpy the mask array performs this task.<br>\n",
    "The numpy masked array combines:\n",
    "* numpy ndarray\n",
    "* mask\n",
    "\n",
    "To invoke:<br>\n",
    "import numpy.ma\n",
    "\n",
    "<font color=\"green\"><b>\n",
    "All the elements which should not be considered need to be masked.\n",
    "</b></font>"
   ]
  },
  {
   "cell_type": "code",
   "execution_count": null,
   "metadata": {
    "collapsed": true
   },
   "outputs": [],
   "source": [
    "# Example 1: sum all positive el.\n",
    "import numpy.ma as ma\n",
    "x=np.array([-1,2,3,7,-13,8])\n",
    "print(\"x := np.array([-1,2,3,7,-13,8]) \\n{0}\\n\".format(x))\n",
    "\n",
    "mx=ma.masked_array(x,mask=[True,False,False,False,True,False])\n",
    "print(\"mx := ma.masked_array(x,mask=[True,False,False,False,True,False]) \\n{0}\\n\".format(mx))\n",
    "print(\"mx.sum(): {0}\".format(mx.sum()))\n",
    "\n",
    "# Example 2: Discard the NaN values to calc. the mean of an array\n",
    "y=np.array([1,2,np.nan,6,np.nan])\n",
    "print(\"y := np.array([1,2,np.nan,6,np.nan]) \\n{0}\".format(y))\n",
    "print(\"y.mean(): {0}\".format(y.mean()))\n",
    "\n",
    "# Solution 1:\n",
    "my=ma.masked_array(y,mask=[False,False,True,False,True])\n",
    "print(\"\\nmy := ma.masked_array(y,mask=[False,False,True,False,True]) \\n{0}\".format(my))\n",
    "print(\"my.mean(): {0}\".format(my.mean()))\n",
    "\n",
    "# Solution 2:\n",
    "my2=ma.masked_array(y,np.isnan(y))\n",
    "my2.mean()\n",
    "print(\"my2.mean(): {0}\".format(my2.mean()))"
   ]
  },
  {
   "cell_type": "markdown",
   "metadata": {},
   "source": [
    "## Linear Algebra/FFT"
   ]
  },
  {
   "cell_type": "markdown",
   "metadata": {},
   "source": [
    "Numpy contains a <font color=\"red\"><b>few basic linear algebra</b></font> routines.<br>\n",
    "They can be found in the following modules:<br>\n",
    "* numpy\n",
    "* numpy.linalg"
   ]
  },
  {
   "cell_type": "markdown",
   "metadata": {},
   "source": [
    "The module <font color=\"red\"><b>numpy</b></font> possesses a few functions.<br> \n",
    "Among them you will find:\n",
    "* numpy.dot  \n",
    "* numpy.kron\n",
    "* numpy.trace \n",
    "* numpy.transpose\n",
    "\n",
    "Other useful functions can be found in the module <font color=\"red\"><b>numpy.linalg</b></font>, such as:\n",
    "* numpy.linalg.matrix_power\n",
    "* numpy.linalg.cholesky\n",
    "* numpy.linalg.svd\n",
    "* numpy.linalg.det\n",
    "* numpy.linalg.solve\n",
    "* numpy.linalg.inv\n",
    "* numpy.linalg.eig\n",
    "* ..."
   ]
  },
  {
   "cell_type": "code",
   "execution_count": null,
   "metadata": {
    "collapsed": true
   },
   "outputs": [],
   "source": [
    "import numpy as np\n",
    "import numpy.linalg as la\n",
    "\n",
    "a=np.array([[  9.  ,   8.1 ,  12.6 ,  -3.9 ],\n",
    "            [  8.1 ,   9.54,  13.14,   0.39],\n",
    "            [ 12.6 ,  13.14,  70.92,  36.54],\n",
    "            [ -3.9 ,   0.39,  36.54,  52.05]])\n",
    "print(\"a :\\n{0}\\n\".format(a))\n",
    "\n",
    "w,v=la.eig(a)\n",
    "print(\"  Eigenvalues:\\n{0}\\n\".format(w))\n",
    "print(\"  Eigen Vectors:\\n{0}\\n\".format(v))\n",
    "\n",
    "l=la.cholesky(a)\n",
    "print(\"  Cholesky decomposition: a=l.l^H\\n{0}\\n\".format(l))\n",
    "print(\"  Check:\\n{0}\\n\".format(np.dot(l,l.T)))\n",
    "\n",
    "m=np.array([[1,0,0,0,2],\n",
    "             [0,0,3,0,0],\n",
    "             [0,0,0,0,0],\n",
    "             [0,4,0,0,0]])\n",
    "U,s,Vh=la.svd(m)\n",
    "print(\"  SVD: m=U.s.Vh\")\n",
    "print(\"    U :\\n{0}\\n\".format(U))\n",
    "print(\"    s :\\n{0}\\n\".format(s))\n",
    "print(\"    Vh:\\n{0}\\n\".format(Vh))"
   ]
  },
  {
   "cell_type": "markdown",
   "metadata": {},
   "source": [
    "The module <font color=\"red\"><b>numpy.fft</b></font> contains discrete fourier transforms."
   ]
  },
  {
   "cell_type": "code",
   "execution_count": null,
   "metadata": {
    "collapsed": true
   },
   "outputs": [],
   "source": [
    "import numpy as np\n",
    "import numpy.fft as nf\n",
    "from math import pi\n",
    "import matplotlib.pyplot as plt\n",
    "\n",
    "tott=4.0  # Total time\n",
    "dt=1./100 # Sampling rate\n",
    "t=np.linspace(0,tott,tott/dt)\n",
    "s=0.30*np.sin(2*pi*3.5*t)  +0.80*np.sin(2*pi*5.0*t) + \\\n",
    "  0.65*np.sin(2*pi*8.0*t) + 1.15*np.sin(2*pi*16.0*t)\n",
    "S=nf.fft(s)\n",
    "n=S.size/2\n",
    "amp=np.abs(S)/n\n",
    "freq=np.linspace(0,80,80)/(2*n*dt)\n",
    "\n",
    "fig=plt.figure()\n",
    "ax1=fig.add_subplot(211)\n",
    "ax1.plot(t,s,color='red')\n",
    "ax1.set_xlabel(r'$t$/s')\n",
    "ax1.set_ylabel(r'$y(t)$')\n",
    "ax1.set_title(r'Signal as function of $t$')\n",
    "ax2=fig.add_subplot(212)\n",
    "ax2.plot(freq,amp[:80],color='green')\n",
    "ax2.set_xlabel(r'$\\omega$/Hz')\n",
    "ax2.set_ylabel(r'$A$')\n",
    "plt.grid(True)\n",
    "plt.show()"
   ]
  },
  {
   "cell_type": "markdown",
   "metadata": {},
   "source": [
    "## Numpy as corner stone for a few other packages"
   ]
  },
  {
   "cell_type": "markdown",
   "metadata": {},
   "source": [
    "### Scipy"
   ]
  },
  {
   "cell_type": "markdown",
   "metadata": {},
   "source": [
    "Scipy contains specialized modules related to science & engineering.<br>\n",
    "Among them we have the following modules:\n",
    "* <font color=\"red\"><b> scipy.special       :</b></font>  special functions \n",
    "* <font color=\"red\"><b> scipy.integrate     :</b></font>  numerical integration\n",
    "* <font color=\"red\"><b> scipy.optimize      :</b></font>  optimization\n",
    "* <font color=\"red\"><b> scipy.interpolate   :</b></font>  interpolation\n",
    "* <font color=\"red\"><b> scipy.fftpack       :</b></font>  fourier transform\n",
    "* <font color=\"red\"><b> scipy.signal        :</b></font>  signal processing\n",
    "* <font color=\"red\"><b> scipy.linalg        :</b></font>  linear algebra\n",
    "* <font color=\"red\"><b> scipy.sparse.csgraph:</b></font>  compressed sparse graph routines\n",
    "* <font color=\"red\"><b> scipy.spatial       :</b></font>  spatial data structures and algorithms\n",
    "* <font color=\"red\"><b> scipy.stats         :</b></font>  statistics\n",
    "* <font color=\"red\"><b> scipy.ndimage       :</b></font>  image processing\n",
    "* <font color=\"red\"><b> scipy.io            :</b></font>  File IO"
   ]
  },
  {
   "cell_type": "code",
   "execution_count": null,
   "metadata": {
    "collapsed": true
   },
   "outputs": [],
   "source": [
    "# Example 1: Integration\n",
    "import scipy\n",
    "from scipy.integrate import quad\n",
    "from math import pi,sqrt,exp\n",
    "\n",
    "y1=quad(lambda x: x**3, 0.0, 1.0)\n",
    "y2=quad(lambda x:1/(sqrt(2.0*pi))*exp(-x*x/2.),-np.inf,np.inf)\n",
    "print(\" y1:{0} and should be 0.25\".format(y1))\n",
    "print(\" y2:{0} and should be 1.00\".format(y2))"
   ]
  },
  {
   "cell_type": "code",
   "execution_count": null,
   "metadata": {
    "collapsed": true
   },
   "outputs": [],
   "source": [
    "# Example 2: Special functions\n",
    "import numpy as np\n",
    "import matplotlib.pyplot as plt\n",
    "from math import exp, factorial, pow, pi, sqrt\n",
    "from scipy.special import hermite\n",
    "\n",
    "preA=np.array([sqrt(1.0/( pow(2.0,i)*factorial(i)*\\\n",
    "sqrt(pi))) for i in range(26)])\n",
    "xi=np.linspace(-8.0,8.0,641)\n",
    "prob0=(preA[0]*np.exp(-xi*xi/2.)* hermite(0)(xi))**2\n",
    "prob1=(preA[1]*np.exp(-xi*xi/2.)* hermite(1)(xi))**2\n",
    "prob5=(preA[5]*np.exp(-xi*xi/2.)* hermite(5)(xi))**2\n",
    "prob10=(preA[10]*np.exp(-xi*xi/2.)* hermite(10)(xi))**2\n",
    "prob25=(preA[25]*np.exp(-xi*xi/2.)* hermite(25)(xi))**2\n",
    "plt.plot(xi,prob0,label=r'$|\\psi_0(\\xi)|^2$')\n",
    "plt.plot(xi,prob1,label=r'$|\\psi_1(\\xi)|^2$')\n",
    "plt.plot(xi,prob5,label=r'$|\\psi_5(\\xi)|^2$')\n",
    "plt.plot(xi,prob10,label=r'$|\\psi_{10}(\\xi)|^2$')\n",
    "plt.plot(xi,prob25,label=r'$|\\psi_{25}(\\xi)|^2$')\n",
    "plt.title(r'$|\\psi_n(\\xi)|^2$ for the QM harm. oscillator')\n",
    "plt.xlabel(r'$\\xi$')\n",
    "plt.ylabel(r'$|\\psi_n(\\xi)|^2$')\n",
    "plt.legend()\n",
    "plt.grid(True)\n",
    "plt.show()"
   ]
  },
  {
   "cell_type": "markdown",
   "metadata": {},
   "source": [
    "### Matplotlib"
   ]
  },
  {
   "cell_type": "markdown",
   "metadata": {},
   "source": [
    "2D plotting library:\n",
    "* very high quality pictures\n",
    "* can be combined with $\\LaTeX$\n",
    "* for more info, see:http://matplotlib.org/\n",
    "  "
   ]
  },
  {
   "cell_type": "code",
   "execution_count": null,
   "metadata": {
    "collapsed": true
   },
   "outputs": [],
   "source": []
  }
 ],
 "metadata": {
  "kernelspec": {
   "display_name": "Python 3",
   "language": "python",
   "name": "python3"
  },
  "language_info": {
   "codemirror_mode": {
    "name": "ipython",
    "version": 3
   },
   "file_extension": ".py",
   "mimetype": "text/x-python",
   "name": "python",
   "nbconvert_exporter": "python",
   "pygments_lexer": "ipython3",
   "version": "3.5.2"
  }
 },
 "nbformat": 4,
 "nbformat_minor": 1
}
