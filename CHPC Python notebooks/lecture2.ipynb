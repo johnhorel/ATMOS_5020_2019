{
 "cells": [
  {
   "cell_type": "markdown",
   "metadata": {},
   "source": [
    "# Introduction to Python: Part 2"
   ]
  },
  {
   "cell_type": "markdown",
   "metadata": {},
   "source": [
    "## Topics\n",
    "* Exception Handling\n",
    "* File Input / Output\n",
    "* Classes and Inheritance\n",
    "* Modules\n",
    "* Programming environments and suggestions"
   ]
  },
  {
   "cell_type": "markdown",
   "metadata": {},
   "source": [
    "## Exception Handling"
   ]
  },
  {
   "cell_type": "code",
   "execution_count": null,
   "metadata": {
    "collapsed": true
   },
   "outputs": [],
   "source": [
    "d={'a':1,'b':0,'d':'two'}\n",
    "for key in [ 'a', 'b', 'c', 'd']:\n",
    "    try:\n",
    "        print(\"Key:\", key )\n",
    "        print(\"d[key]:\", d[key] )\n",
    "        print(\"10 / d[key]:\", 10/d[key] )\n",
    "    except ZeroDivisionError as e:\n",
    "        print(\"Caught a zero division error: {0}.\".format(e))\n",
    "    except KeyError as e:\n",
    "        print(\"Caught a key error: {0}.\".format(e))\n",
    "    except Exception as e:\n",
    "        print(\"Caught some other type of error: {0}, {1}.\".format(type(e),e))\n",
    "    else:\n",
    "        print(\"In the else clause.\")\n",
    "    finally:\n",
    "        print(\"In the finally clause.\")"
   ]
  },
  {
   "cell_type": "markdown",
   "metadata": {},
   "source": [
    "**A minimal example:**\n",
    "<code>\n",
    "try:\n",
    "    do_something()\n",
    "except:\n",
    "    print(\"Some exception happened!\")\n",
    "</code>\n",
    "This is not recommended! Much better to catch specific exceptions, or at least use:\n",
    "<code>\n",
    "except Exception as e:\n",
    "</code>"
   ]
  },
  {
   "cell_type": "markdown",
   "metadata": {},
   "source": [
    "## File Input / Output"
   ]
  },
  {
   "cell_type": "markdown",
   "metadata": {},
   "source": [
    "- All input from and output to files happens through file objects\n",
    "- The open() function is the primary way to create these\n",
    "- open( filename, mode ) -> file object\n",
    "    - filename: the name of the file (either relative or full path name)\n",
    "    - mode: letter(s) to indicate how to open the file:\n",
    "        - r - reading\n",
    "        - w - writing (truncate first)\n",
    "        - a - append to end before writing\n",
    "        - b - binary file (\"rb\", \"wb\", etc)\n",
    "\n",
    "<code>\n",
    "file1 = open(\"myfile.txt\",\"r\")          # Open myfile.txt for reading\n",
    "file2 = open(\"anotherfile.txt\",\"w\")     # Open anotherfile.txt for writing\n",
    "</code>"
   ]
  },
  {
   "cell_type": "markdown",
   "metadata": {},
   "source": [
    "**File objects have methods (functions) for reading and writing data:**\n",
    "<code>\n",
    "line=fileobj.readline()           # Reads one line and returns it.\n",
    "lines=fileobj.readlines()         # Reads all lines and returns a list\n",
    "data=fileobj.read(n)              # Reads at most n characters\n",
    "fileobj.write(data)               # Writes data to the file\n",
    "fileobj.writelines(list_of_data)  # Writes data lines to file\n",
    "</code>"
   ]
  },
  {
   "cell_type": "markdown",
   "metadata": {},
   "source": [
    "**File objects are iterable:**\n",
    "<code>\n",
    "<font color=green>inputfile</font> = open(\"myscript.py\",\"r\")\n",
    "linecount = 0\n",
    "commentlines = 0\n",
    "for line in <font color=green>inputfile</font>:\n",
    "    if line.startswith('#'):\n",
    "        print(\"Found a comment: \" + line)\n",
    "        commentlines += 1\n",
    "    linecount += 1\n",
    "print(\"There are comments on {0} of {1} lines in the  \n",
    "      file.\".format(commentlines,linecount))\n",
    "\\# Good practice to clean up\n",
    "<font color=green>inputfile</font>.close()                          \n",
    "</code>"
   ]
  },
  {
   "cell_type": "markdown",
   "metadata": {},
   "source": [
    "** You can also use the \"with\" statement to handle cleanup:**\n",
    "<code>\n",
    "with open(\"mytextfile.txt\",\"r\") as file1:\n",
    "    datavalues=file1.readlines()\n",
    "    etc etc\n",
    "\\# file1 is automatically closed at end of with statement.\n",
    "</code>"
   ]
  },
  {
   "cell_type": "markdown",
   "metadata": {},
   "source": [
    "**The standard input, output, and error are file objects**\n",
    "<code>\n",
    "import sys\n",
    "linecount = 0\n",
    "for line in sys.stdin:\n",
    "    linecount += 1\n",
    "sys.stdout.write(\"Read {0} lines from stdin.\\n\".format( linecount ) )\n",
    "</code>"
   ]
  },
  {
   "cell_type": "markdown",
   "metadata": {},
   "source": [
    "## Classes and Inheritance"
   ]
  },
  {
   "cell_type": "markdown",
   "metadata": {},
   "source": [
    "- Classes are data types that represent compound data objects. \n",
    "- Each class is a collection of data objects and methods.\n",
    "- A single object that belongs to class is an 'instance' of that class.\n",
    "- Classes provide a namespace inside which your code is isolated from outside complexity.\n",
    "- Provide a mechanism for code reuse through inheritance."
   ]
  },
  {
   "cell_type": "code",
   "execution_count": null,
   "metadata": {
    "collapsed": true
   },
   "outputs": [],
   "source": [
    "class Person():\n",
    "        \"\"\"\n",
    "        This class represents a person.\n",
    "        \"\"\"\n",
    "        def __init__(self,fname=\"\",lname=\"\",year_of_birth=0):\n",
    "                \"\"\"\n",
    "                Constructor of the class Person\n",
    "                \"\"\"\n",
    "                self.fname = fname\n",
    "                self.lname = lname\n",
    "                self.year_born = year_of_birth\n",
    "\n",
    "p = Person(\"Brett\",\"Milash\",1962)\n",
    "print(p.fname)\n",
    "print(p)"
   ]
  },
  {
   "cell_type": "markdown",
   "metadata": {},
   "source": [
    "**Special methods:**\n",
    "- \\__init__(): class constructor\n",
    "- \\__str__(): string representation of object\n",
    "- \\__lt__(): object comparisons for sorting\n",
    "- \\__del__(): class deconstructor. Called during garbage collection, or at 'del *variable*'"
   ]
  },
  {
   "cell_type": "code",
   "execution_count": null,
   "metadata": {
    "collapsed": true
   },
   "outputs": [],
   "source": [
    "import time\n",
    "\n",
    "class Person():\n",
    "        \"\"\"\n",
    "        This class represents person.\n",
    "        \"\"\"\n",
    "        def __init__(self,fname=\"\",lname=\"\",year_of_birth=0):\n",
    "                \"\"\"\n",
    "                Constructor of the class Person\n",
    "                \"\"\"\n",
    "                self.fname = fname\n",
    "                self.lname = lname\n",
    "                self.year_born = year_of_birth\n",
    "\n",
    "        def __str__(self):\n",
    "                return \"{0}, {1}: born {2}\".format(self.lname, self.fname, self.year_born)\n",
    "\n",
    "        def age(self):\n",
    "                \"\"\"Returns person's age in years\"\"\"\n",
    "                current_year= time.localtime( time.time() ).tm_year\n",
    "                return current_year - self.year_born\n",
    "\n",
    "        def __lt__(self,other):\n",
    "                return self.lname < other.lname\n",
    "\n",
    "l = [ Person(\"David\",\"Bowie\",1947),\n",
    "        Person(\"Lou\",\"Reed\",1942),\n",
    "        Person(\"Iggy\",\"Pop\",1947) ]\n",
    "l.sort()\n",
    "for person in l:\n",
    "        print(\"{0}, age {1} years\".format(person, person.age()))"
   ]
  },
  {
   "cell_type": "markdown",
   "metadata": {},
   "source": [
    "**Inheritance**\n",
    "- Inheritance lets you create a new class inheriting data and methods from another class.\n",
    "- This new class is a \"child\" class derived from a \"parent\" class.\n",
    "- Parent classes are also called \"base\" classes.\n",
    "- You can add or replace methods and data values of the parent class in the child class.\n",
    "- Child class can be derived from one (single inheritance) or several (multiple inheritance) base classes."
   ]
  },
  {
   "cell_type": "code",
   "execution_count": null,
   "metadata": {
    "collapsed": true
   },
   "outputs": [],
   "source": [
    "class Student(Person):\n",
    "    \"\"\"Student class inherits from Person\"\"\"\n",
    "    def __init__(self,fname,lname,year_born,grade_point_average):\n",
    "        Person.__init__(self,fname,lname,year_born)\n",
    "        self.gpa = grade_point_average\n",
    "\n",
    "    def __str__(self):\n",
    "        return \"{0}, {1}: born {2}, GPA {3}\".format(self.lname, self.fname, self.year_born, self.gpa)\n",
    "\n",
    "s = Student(\"Joe\",\"Smith\",1981,3.65)\n",
    "print(\"{0}, age {1} years\".format(s, s.age()))"
   ]
  },
  {
   "cell_type": "markdown",
   "metadata": {},
   "source": [
    "**The python standard library provides many base classes from which you derive new classes:**\n",
    "- thread\n",
    "- xml.sax (XML parser)\n",
    "- html.parser\n",
    "- httpserver\n",
    "- unittest\n",
    "- Exception"
   ]
  },
  {
   "cell_type": "code",
   "execution_count": null,
   "metadata": {
    "collapsed": true
   },
   "outputs": [],
   "source": [
    "# Yes, you can create your own exceptions!\n",
    "class MyException(Exception):\n",
    "    pass\n",
    "\n",
    "try:\n",
    "    x=2+2\n",
    "    raise MyException(\"wow, MyException just happened!\")\n",
    "except Exception as e:\n",
    "    print(\"Caught exception type {0}: {1}\".format(type(e),e))"
   ]
  },
  {
   "cell_type": "markdown",
   "metadata": {},
   "source": [
    "## Exercise: classes and inheritance\n",
    "1. In the cell below, create a class named Dog that describes dogs. The constructor (\\__init__) should take one argument in addition to self: the dog's name. The class should implement one additional method, which is \"speak()\". The speak() method should return some dog-appropriate sound e.g. \"Arf!\". \n",
    "2. Derive a Poodle class from the Dog class such that instances of the Poodle class make a more poodle-appropriate sound, e.g. \"Yip!\".\n",
    "3. Create several instances of both the Dog and Poodle class, and print their names and the return value of the speak() method."
   ]
  },
  {
   "cell_type": "code",
   "execution_count": null,
   "metadata": {
    "collapsed": true
   },
   "outputs": [],
   "source": []
  },
  {
   "cell_type": "markdown",
   "metadata": {},
   "source": [
    "## Modules"
   ]
  },
  {
   "cell_type": "markdown",
   "metadata": {},
   "source": [
    "### What is a module?\n",
    "Module :: file with Python statements and definitions.<br>\n",
    "All python <font color=\"red\"><b>modules</b></font> have a .py suffix.<br>\n",
    "\n",
    "### Why use modules?\n",
    "* <font color=\"red\"><b>Code reuse</b></font><br>\n",
    "  You can save code in modules & reuse the code\n",
    "* <font color=\"red\"><b>Namespace partitioning</b></font><br>\n",
    "  Python modules are self contained<br>\n",
    "  e.g. we can make the distinction between the function myfunc() in module A and module B.<br>\n",
    "  https://en.wikipedia.org/wiki/Namespace\n",
    "\n",
    "In order to make modules <font color=\"red\"><b>visible</b></font> in your current space, the content of these files has to be imported.<br>"
   ]
  },
  {
   "cell_type": "markdown",
   "metadata": {},
   "source": [
    "### Examples"
   ]
  },
  {
   "cell_type": "code",
   "execution_count": null,
   "metadata": {},
   "outputs": [],
   "source": [
    "# Assume we want to use the cos function from the math module (within Python Standard Library)\n",
    "import math\n",
    "print(\"The cosine of pi is: {0}\".format(math.cos(math.pi)))\n",
    "\n",
    "# Renaming the module name\n",
    "import math as m\n",
    "print(\"Euler's constant e has the following value: {0}\".format(m.e))\n",
    "\n",
    "# We can also proceed as follows (rather dangerous)\n",
    "from math import sin, pi\n",
    "print(\"The sine of pi/4 is: {0}\".format(sin(pi/4)))\n",
    "\n",
    "# And absolutely never do this:\n",
    "from math import *"
   ]
  },
  {
   "cell_type": "markdown",
   "metadata": {},
   "source": [
    "### Where does python find the modules my code imports?\n",
    "- sys.path - list of directories that are searched for modules\n",
    "- This path is defined when python installed, and is augmented by PYTHONPATH environment variable"
   ]
  },
  {
   "cell_type": "code",
   "execution_count": null,
   "metadata": {},
   "outputs": [],
   "source": [
    "import sys\n",
    "for directory in sys.path:\n",
    "    print(\"'{0}'\".format(directory))"
   ]
  },
  {
   "cell_type": "markdown",
   "metadata": {
    "collapsed": true
   },
   "source": [
    "### What modules are available on my system?\n",
    "<code>\n",
    "help(\"modules\")\n",
    "</code>"
   ]
  },
  {
   "cell_type": "markdown",
   "metadata": {},
   "source": [
    "### Testing modules\n",
    "- If dogs.py (below) is executed as a script, \\__name\\__ will equal \"\\__main\\__\", and test code is executed.\n",
    "- If dogs.py is imported (i.e. \"import dogs\"), \\__name\\__ will equal \"dogs\"."
   ]
  },
  {
   "cell_type": "code",
   "execution_count": null,
   "metadata": {},
   "outputs": [],
   "source": [
    "# dogs.py - classes that represent different types of dogs.\n",
    "class Dog:\n",
    "    def __init__(self,name):\n",
    "        self.name=name\n",
    "    def speak(self):\n",
    "        return \"Arf!\"\n",
    "\n",
    "class Poodle(Dog):\n",
    "    def speak(self):\n",
    "        return \"Yip!\" \n",
    "\n",
    "if __name__ == \"__main__\":\n",
    "    # Executing the unit test code:\n",
    "    s=set()\n",
    "    s.add(Dog(\"Rex\"))\n",
    "    s.add(Poodle(\"Fifi\"))\n",
    "    s.add(Dog(\"Spot\"))\n",
    "    s.add(Poodle(\"Spike\"))\n",
    "    for dog in s:\n",
    "        print(dog.name,\"says\",dog.speak())"
   ]
  },
  {
   "cell_type": "markdown",
   "metadata": {},
   "source": [
    "## Programming environments\n",
    "- Jupyter notebook - creates .ipynb files with markdown-formatted text\n",
    "- In the shell \n",
    "    - use text editor (e.g. vim, emacs): \"vim myscript.py\"\n",
    "    - execute scripts with \"python3 myscript.py\"\n",
    "    - or add \"she-bang\" line at top of file: \"#!/usr/bin/env python3\"\n",
    "    - make script executable: \"chmod +x myscript.py\"\n",
    "    - Debug with pdb:\n",
    "        - \"python3 -m pdb myscript.py\"\n",
    "        - Provides breakpoints, single stepping, stack traces, etc\n",
    "- Integrated development environments (IDEs)\n",
    "    - PyCharm - https://www.jetbrains.com/pycharm/ - free or \"professional\" versions\n",
    "    - IDLE - https://docs.python.org/3/library/idle.html - included with python \n"
   ]
  },
  {
   "cell_type": "markdown",
   "metadata": {},
   "source": [
    "### Programming advice\n",
    "- If possible, don't rely on the system's python. Load a module, e.g. \"module load python/3.5.2\"\n",
    "- When editing, save early and save often\n",
    "- Back your code up - consider using git locally, and a remote software repository\n",
    "- Write lots of test code!\n",
    "- Learn to use \"assert()\" - great way to perform sanity checks\n",
    "- Invest the time to learn a debugger - much quicker than print() statements!"
   ]
  },
  {
   "cell_type": "markdown",
   "metadata": {
    "collapsed": true
   },
   "source": [
    "### Questions?\n",
    "- brett.milash@utah.edu\n",
    "- wim.cardoen@utah.edu\n",
    "- helpdesk@chpc.utah.edu"
   ]
  },
  {
   "cell_type": "code",
   "execution_count": null,
   "metadata": {
    "collapsed": true
   },
   "outputs": [],
   "source": []
  }
 ],
 "metadata": {
  "kernelspec": {
   "display_name": "Python 3",
   "language": "python",
   "name": "python3"
  },
  "language_info": {
   "codemirror_mode": {
    "name": "ipython",
    "version": 3
   },
   "file_extension": ".py",
   "mimetype": "text/x-python",
   "name": "python",
   "nbconvert_exporter": "python",
   "pygments_lexer": "ipython3",
   "version": "3.5.2"
  }
 },
 "nbformat": 4,
 "nbformat_minor": 2
}
