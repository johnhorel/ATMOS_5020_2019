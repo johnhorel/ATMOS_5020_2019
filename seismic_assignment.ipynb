{
 "cells": [
  {
   "cell_type": "markdown",
   "metadata": {},
   "source": [
    "# Seismic Assignment. Due October 4. 11:59 PM. 40 points\n",
    "* The objective of this assignment is for you to develop a python notebook as independently as possible.  \n",
    "* This markdown file contains a mix of step-by-step guidance with an expectation that you will work on your own to do the tasks. \n",
    "* You may certainly ask questions of Aaron and me via Team chats when you get stuck. You are expected to use resources in the class notes and online to help you develop the code. Although you can work collaboratively with others in the class, try to do as much as you can on your own.\n",
    "\n",
    "* Begin by renaming this file as seismic_assignment_yourlastname.ipynb\n"
   ]
  },
  {
   "cell_type": "markdown",
   "metadata": {},
   "source": [
    "# Part 1: Accessing and Mapping Seismic Events"
   ]
  },
  {
   "cell_type": "markdown",
   "metadata": {},
   "source": [
    "## Part 1A. \n",
    "* Look at the resources at https://earthquake.usgs.gov/earthquakes/\n",
    "\n",
    "* Describe in a paragraph something of note you found there.\n",
    "\n",
    "* Look at https://quake.utah.edu/earthquake-center/quake-map\n",
    "\n",
    "* Find the live seismogram plot for the North Antelope Island. \n",
    "* What is the current day/time that you are looking at in MT and UTC? \n",
    "\n",
    "* In a sentence, what is your interpretation of the seismic activity now relative to earlier during the past 24 hours? Look online for guidance on how to interpret this figure."
   ]
  },
  {
   "cell_type": "markdown",
   "metadata": {},
   "source": [
    "## 1A. Input your text answer for Part 1A here.\n"
   ]
  },
  {
   "cell_type": "markdown",
   "metadata": {},
   "source": [
    "Within Anaconda, update your class environment (class_5020) by installing the following packages if they are not already there:\n",
    "* geopandas\n",
    "* geoplot\n",
    "* fiona\n",
    "* descartes\n",
    "\n",
    "Once you've successfully updated the environment, ensure that it is active and open a Jupyter Notebook within this environment. \n"
   ]
  },
  {
   "cell_type": "markdown",
   "metadata": {},
   "source": [
    "import pandas as pd\n",
    "import geopandas\n",
    "import matplotlib.pyplot as plt\n",
    "import fiona\n",
    "import descartes\n",
    "import geoplot\n",
    "from datetime import datetime"
   ]
  },
  {
   "cell_type": "markdown",
   "metadata": {},
   "source": [
    "*  Now import the data using geopandas from the following URL\n",
    "*  https://earthquake.usgs.gov/earthquakes/feed/v1.0/summary/all_month.geojson\n",
    "* Look at the data on that web page"
   ]
  },
  {
   "cell_type": "markdown",
   "metadata": {},
   "source": [
    "* Import the Dataset by defining the variable 'url' that is a text string of the url\n",
    "* Use the geopandas read_file function to access the data and assign it to the variable 'gp_df'\n",
    "* this should require only two lines of code\n",
    "* write out and examine the information now in the variable gp_df"
   ]
  },
  {
   "cell_type": "markdown",
   "metadata": {},
   "source": [
    "## 1B. Describe briefly in your own words, the similarities and differences between csv, json, and geojson formats for accessing environmental data\n",
    "\n",
    "1B Answer:"
   ]
  },
  {
   "cell_type": "markdown",
   "metadata": {},
   "source": [
    "## 1C. To familiarize yourself with the seismic data, output a listing of only the headers from the geodataframe object gp_df\n",
    "* It should look like:\n",
    "\n",
    "array(['id', 'mag', 'place', 'time', 'updated', 'tz', 'url', 'detail',\n",
    "       'felt', 'cdi', 'mmi', 'alert', 'status', 'tsunami', 'sig', 'net',\n",
    "       'code', 'ids', 'sources', 'types', 'nst', 'dmin', 'rms', 'gap',\n",
    "       'magType', 'type', 'title', 'geometry'], dtype=object)"
   ]
  },
  {
   "cell_type": "markdown",
   "metadata": {},
   "source": [
    "## Example to show how to plot all the earthquakes during the past month\n",
    "* create a figure that will look something like the following\n",
    "<img src=\"all_quakes.png\">\n",
    "\n",
    "* you ae given the code, just insert a cell below and move to that cell the code within ' ' on the following lines\n",
    "* read the data required to plot outlines over the world\n",
    "* 'world = geopandas.read_file(geopandas.datasets.get_path('naturalearth_lowres'))'\n",
    "* create a figure environment for the world outlines, with the outlines in gray, and the size of the image is defined to be\n",
    "* within an area of 15x10 inches\n",
    "* 'ax = geoplot.polyplot(world,edgecolor='gray',figsize=[15,10])'\n",
    "* plot the earthquakes in the past month in red with a small marker\n",
    "* 'gp_df.plot(ax=ax,marker='.',color='red')'\n",
    "* all figures in your notebook must be labeled with a short title, your name, and the date you created the image\n",
    "* 'ax.set(title=\"All Earthquakes. J. Horel. 9/22/19\")'\n",
    "* save the figure into the same directory as the notebook\n",
    "* 'plt.savefig('all_quakes.png')'"
   ]
  },
  {
   "cell_type": "markdown",
   "metadata": {},
   "source": [
    "## 1D. Plot and save as usa_quakes.png the locations of earthquakes using green markers for the contiguous USA area only.\n",
    "\n",
    "Your figure should look something like the following\n",
    "\n",
    "Start by looking online for geoplot.datasets to access a data set called 'contiguous_usa'\n",
    "\n",
    "For this and fololwing figures, increment the axis designator, i.e., use ax1 here\n",
    "\n",
    "<img src=\"usa_quakes.png\">"
   ]
  },
  {
   "cell_type": "markdown",
   "metadata": {},
   "source": [
    "# Part 2: Find the Locations of the Top 10 Largest Earthquakes\n",
    "* Geojson is best used for plotting on a map. For treating the data in table listings or time series, it is best to convert to a pandas DataFrame object. \n",
    "\n",
    "## 2A. convert 'gp_df' from a geopandas dataframe object to 'df' a pandas dataframe object\n",
    "\n",
    "## 2B. sort 'df' into an object 'df_sort' based on magnitude in descending order. Sort all columns relative to the magnitude column. To make sure you are doing it properly, print or display to the screen 'df_sort'\n",
    "\n",
    "## 2C. Output in the notebook the top 10 earthquake magnitudes\n",
    "\n",
    "## 2D. Create and show in the notebook a new dataframe object 'df_top' that has two columns: the location name and magnitudes of the top 10 earthquakes"
   ]
  },
  {
   "cell_type": "markdown",
   "metadata": {},
   "source": [
    "# Part 3. Dealing with time using a pandas dataframe object"
   ]
  },
  {
   "cell_type": "markdown",
   "metadata": {},
   "source": [
    "## 3A. convert the 'time' column in the df dataframe stored in  milliseconds to time in day/time group format in UTC\n",
    "\n",
    "* read the documentation for the to_datetime function\n",
    "\n",
    "* assign this object to dataframe 'dft' and display it to the screen"
   ]
  },
  {
   "cell_type": "markdown",
   "metadata": {},
   "source": [
    "## 3B. Use one of the available options to the 'to_datetime\" function to strip the time of day from the 'dft'dataframe\n",
    "\n",
    "* asssign this object to df_day and show that object in the notebook"
   ]
  },
  {
   "cell_type": "markdown",
   "metadata": {},
   "source": [
    "## 3C. Add the 'df_day' object as a column to the 'df' object and show the result"
   ]
  },
  {
   "cell_type": "markdown",
   "metadata": {},
   "source": [
    "# Part 4: Grouping Timeseries Data & Plotting Timeseries\n",
    "## 4A. Create a dataframe, df_day_total, initially with two columns. The first column should be the date. The second column should be the total number of earthquakes that occured on that day. \n",
    "\n",
    "* Use the groupby function in pandas and look for examples using the size and reset_index operators.\n",
    "\n",
    "* Label the columns 'Date' & 'Total Earthquakes'\n",
    "\n",
    "* Show df_day_total in the notebook"
   ]
  },
  {
   "cell_type": "markdown",
   "metadata": {},
   "source": [
    " ## 4B. Create another dataframe, df_max, as the max magnitude of the earthquakes on each day \n",
    " \n",
    "*  Add the df_max column to the df_day_total with the label 'Max Mangitude' so that it now has three columns \n",
    "     \n",
    "*  Show the three columns in the notebook"
   ]
  },
  {
   "cell_type": "markdown",
   "metadata": {},
   "source": [
    "## 4C. Now plot as a two row plot with the x axis being the day and: (1) the total number of earthquakes on the top as ax3 and (2) the max magnitude on the bottom as ax4\n",
    "\n",
    "\n",
    "* Save the figure as quake_timeseries.png and it should look approximately like the following with a grid applied in each subplot\n",
    "\n",
    "<img src=\"quake_timeseries.png\">"
   ]
  },
  {
   "cell_type": "markdown",
   "metadata": {},
   "source": [
    "# Part 5: Creating a function to handle repetitive plotting\n",
    "* The objective is to create images of world maps with all of the earthquakes above a specified magnitude plotted as colored dots on the map. \n",
    "\n",
    "* In order to do so, create a function 'plot_top_mags' that has three inputs - (1) geopandas dataframe object containing the earthquake data, (2) the threshold magnitude (a floating point number) and (3) the color of the dot\n",
    "\n",
    "* All of the plotting is contained within the function plot_top_mags. Use the Geodataframe 'loc' function to identify the geodataframe objects greater than the threshold value.\n",
    "\n",
    "* Create two plots by calling the function twice- the first using a magnitude threshold of 5.0 with blue dots and the second using a threshold of 2.5 with orange dots\n",
    "\n",
    "* The two figures should look similar to the following. Note that it is very important that the title and the figure name contain the threshold value, otherwise the second figure will overwrite the first. \n",
    "\n",
    "\n",
    "<img src=\"Large_Quakes_5.0.png\">\n",
    "\n",
    "<img src=\"Large_Quakes_2.5.png\">"
   ]
  },
  {
   "cell_type": "code",
   "execution_count": null,
   "metadata": {},
   "outputs": [],
   "source": []
  }
 ],
 "metadata": {
  "kernelspec": {
   "display_name": "Python 3",
   "language": "python",
   "name": "python3"
  },
  "language_info": {
   "codemirror_mode": {
    "name": "ipython",
    "version": 3
   },
   "file_extension": ".py",
   "mimetype": "text/x-python",
   "name": "python",
   "nbconvert_exporter": "python",
   "pygments_lexer": "ipython3",
   "version": "3.7.3"
  }
 },
 "nbformat": 4,
 "nbformat_minor": 4
}
