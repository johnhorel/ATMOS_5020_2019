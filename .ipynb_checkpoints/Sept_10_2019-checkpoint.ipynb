{
 "cells": [
  {
   "cell_type": "markdown",
   "metadata": {},
   "source": [
    "**September 5, 2019 -- PART 1**  \n",
    "**ATMOS 5020: Environmental Programming**  \n",
    "**Brian Blaylock and John Horel**  \n",
    "\n",
    "> ## Announcements: \n",
    "> Check Your Understanding #3 is due today.  \n",
    "> Assignment #2 is due Friday.\n",
    "\n",
    "\n",
    "> ## Today's Objective:\n",
    "> - Part 1: Download data and notebooks with Git. Quick review of loops, if statements, and introduce Functions.\n",
    "> - Part 2: Introduction to Matplotlib. Learn how to make line and scatter plots with imported data.\n",
    "\n"
   ]
  },
  {
   "cell_type": "markdown",
   "metadata": {},
   "source": [
    "Download this notebook from GitHub (right click the `raw` button and `save target as`), then open in Jupyter Lab."
   ]
  },
  {
   "cell_type": "markdown",
   "metadata": {},
   "source": [
    "---"
   ]
  },
  {
   "cell_type": "markdown",
   "metadata": {},
   "source": [
    "# Python Functions (Chapter 8)\n",
    "We have used some numpy functions to create array objects and calculate the sum of a list. The general use of a function is...\n",
    "\n",
    "    output = function_name(input)\n",
    "    \n",
    "Below, we import numpy with the alias np, and use the `np.sum` function to find the sum of all the values in the list."
   ]
  },
  {
   "cell_type": "code",
   "execution_count": 4,
   "metadata": {},
   "outputs": [
    {
     "name": "stdout",
     "output_type": "stream",
     "text": [
      "15\n"
     ]
    }
   ],
   "source": [
    "import numpy as np\n",
    "\n",
    "some_list = [1,2,3,4,5]\n",
    "a = np.sum(some_list)\n",
    "\n",
    "print(a)"
   ]
  },
  {
   "cell_type": "markdown",
   "metadata": {},
   "source": [
    "## You can write your own functions\n",
    "\n",
    "Functions are blocks of code that perform actions. They typically take input, do something with the input, and send out output.\n",
    "\n",
    "To define a new function, follow the syntax below.\n",
    "\n",
    "    def function_name(input):\n",
    "        [do something...]\n",
    "        return output\n",
    "        \n",
    "For example, if we can write a function that converts the value of a number in degrees C to degrees F."
   ]
  },
  {
   "cell_type": "code",
   "execution_count": 7,
   "metadata": {},
   "outputs": [],
   "source": [
    "def CtoF(C):\n",
    "    F = 9/5*C + 32\n",
    "    return F"
   ]
  },
  {
   "cell_type": "markdown",
   "metadata": {},
   "source": [
    "After the function is created, you call it by its name and give it input."
   ]
  },
  {
   "cell_type": "code",
   "execution_count": 12,
   "metadata": {},
   "outputs": [
    {
     "data": {
      "text/plain": [
       "50.0"
      ]
     },
     "execution_count": 12,
     "metadata": {},
     "output_type": "execute_result"
    }
   ],
   "source": [
    "# Give the function 10, and the output is 50\n",
    "CtoF(10)"
   ]
  },
  {
   "cell_type": "code",
   "execution_count": 14,
   "metadata": {},
   "outputs": [
    {
     "name": "stdout",
     "output_type": "stream",
     "text": [
      "32.0 F\n",
      "41.0 F\n",
      "50.0 F\n",
      "212.0 F\n",
      "\n"
     ]
    }
   ],
   "source": [
    "# Use the function to convert some values from C to F\n",
    "print(CtoF(0), 'F')\n",
    "print(CtoF(5), 'F')\n",
    "print(CtoF(10), 'F')\n",
    "print(CtoF(100), 'F')\n",
    "print()"
   ]
  },
  {
   "cell_type": "code",
   "execution_count": 84,
   "metadata": {},
   "outputs": [
    {
     "name": "stdout",
     "output_type": "stream",
     "text": [
      "-10 C is equal to 14.0 F\n",
      "-5 C is equal to 23.0 F\n",
      "0 C is equal to 32.0 F\n",
      "5 C is equal to 41.0 F\n",
      "10 C is equal to 50.0 F\n",
      "15 C is equal to 59.0 F\n",
      "20 C is equal to 68.0 F\n",
      "25 C is equal to 77.0 F\n",
      "30 C is equal to 86.0 F\n",
      "35 C is equal to 95.0 F\n",
      "40 C is equal to 104.0 F\n",
      "45 C is equal to 113.0 F\n"
     ]
    }
   ],
   "source": [
    "# Use the function within a loop to convert all values in a list\n",
    "for C in np.arange(-10, 50, 5):\n",
    "    print('{} C is equal to {} F'.format(C, CtoF(C)))"
   ]
  },
  {
   "cell_type": "code",
   "execution_count": null,
   "metadata": {},
   "outputs": [],
   "source": []
  },
  {
   "cell_type": "markdown",
   "metadata": {},
   "source": [
    "Function can have more than one input, and can have some complexity. Below computes [compound interest](https://en.wikipedia.org/wiki/Compound_interest) from 4 inputs (pay attention to the comments to see what the input should be."
   ]
  },
  {
   "cell_type": "code",
   "execution_count": 79,
   "metadata": {},
   "outputs": [],
   "source": [
    "def compound_interest(P, r, n, t):\n",
    "    \"\"\"\n",
    "    Compute the value of a deposit with compound interest\n",
    "    https://en.wikipedia.org/wiki/Compound_interest\n",
    "    \n",
    "    Input:\n",
    "        P = principle amount (the initial amount deposited)\n",
    "        r = annual interest rate (as a percent)\n",
    "        n = number of times interest is compounded a year\n",
    "            As a string: 'monthly', 'quarterly', or 'annually'.\n",
    "        t = number of years\n",
    "    \n",
    "    Return:\n",
    "        A = Amount of money accumulated\n",
    "    \"\"\"\n",
    "    \n",
    "    # Convert rate from percent to a decimal\n",
    "    rate = r/100\n",
    "    \n",
    "    # Compound frequency\n",
    "    if n == 'monthly':\n",
    "        frequency = 12\n",
    "    elif n == 'quarterly':\n",
    "        frequency = 4\n",
    "    elif n == 'annually':\n",
    "        frequency = 1\n",
    "    \n",
    "    A = P*(1+(rate/frequency))**(frequency*t)\n",
    "    \n",
    "    return A"
   ]
  },
  {
   "cell_type": "code",
   "execution_count": 80,
   "metadata": {},
   "outputs": [
    {
     "name": "stdout",
     "output_type": "stream",
     "text": [
      "$1000.00 will be worth $2707.04 after 10 years with 10% interest\n"
     ]
    }
   ],
   "source": [
    "principle = 1000        # 1000 Dollars deposited\n",
    "rate = 10               # 10% annual interest rate\n",
    "frequency = 'monthly'   # Compounded monthly\n",
    "years = 10              # 10 years\n",
    "\n",
    "value = compound_interest(principle, rate, frequency, years)\n",
    "\n",
    "print('${:.2f} will be worth ${:.2f} after {} years with {}% interest'.format(principle, value, years, rate))"
   ]
  },
  {
   "cell_type": "code",
   "execution_count": null,
   "metadata": {},
   "outputs": [],
   "source": []
  },
  {
   "cell_type": "markdown",
   "metadata": {},
   "source": [
    "For fun, how does the amount of money change with each year?"
   ]
  },
  {
   "cell_type": "code",
   "execution_count": 81,
   "metadata": {},
   "outputs": [
    {
     "name": "stdout",
     "output_type": "stream",
     "text": [
      "Principle amount: $1,000.00\n",
      "Interest Rate: 10%\n",
      "\n",
      "$1,645.31 after 5 years\n",
      "$2,707.04 after 10 years\n",
      "$4,453.92 after 15 years\n",
      "$7,328.07 after 20 years\n",
      "$12,056.95 after 25 years\n",
      "$19,837.40 after 30 years\n"
     ]
    }
   ],
   "source": [
    "principle = 1000        # 1000 Dollars deposited\n",
    "rate = 10               # 10% annual interest rate\n",
    "frequency = 'monthly'   # Compounded monthly\n",
    "\n",
    "print('Principle amount: ${:,.2f}'.format(principle))\n",
    "print('Interest Rate: {}%'.format(rate))\n",
    "print()\n",
    "\n",
    "for years in np.arange(5,31,5):\n",
    "\n",
    "    value = compound_interest(principle, rate, frequency, years)\n",
    "\n",
    "    print('${:,.2f} after {} years'.format(value, years))"
   ]
  },
  {
   "cell_type": "code",
   "execution_count": null,
   "metadata": {},
   "outputs": [],
   "source": []
  },
  {
   "cell_type": "code",
   "execution_count": null,
   "metadata": {},
   "outputs": [],
   "source": []
  },
  {
   "cell_type": "markdown",
   "metadata": {},
   "source": [
    "---\n",
    "\n",
    "# 1-D plotting with `matplotlib` (Chapter 10)\n",
    "`matplotlib` gives Python plotting capabilites. It is a heavily-used module you should become familiar with.\n",
    "\n",
    "## How to import `maplotlib` (a review of modules)\n",
    "We have used the `numpy` module. Remember that modules are collections of statements that include pre-built functions and constants. The name of the module is the name of the file in which it is stored. \n",
    "\n",
    "Before you can use a module it must be imported. You must import the module in your code prior to using any content of the module. This is typically done at the begining of a script.\n",
    "\n",
    "    import [module name]\n",
    "\n",
    "To simplify referencing content in a module, an **alias** can be used. Although you can choose the alias, there are some well adopted conventions for widley used modules.\n",
    "\n",
    "    import [module name] as [alias]\n",
    "\n"
   ]
  },
  {
   "cell_type": "code",
   "execution_count": 88,
   "metadata": {},
   "outputs": [],
   "source": [
    "# Import maptplotlib like this...\n",
    "\n",
    "import matplotlib.pyplot as plt"
   ]
  },
  {
   "cell_type": "code",
   "execution_count": 89,
   "metadata": {},
   "outputs": [],
   "source": [
    "# Also import numpy\n",
    "\n",
    "import numpy as np"
   ]
  },
  {
   "cell_type": "markdown",
   "metadata": {},
   "source": [
    "## Example 1: Graph °C and °F\n",
    "Let's first make a graph of how temperature in Celsius compares to temperature in Farenheit. \n",
    "\n",
    "Let's first make a numpy array of temperatures in Celsisu and another array for cooresponding temperatures in Farenheit."
   ]
  },
  {
   "cell_type": "code",
   "execution_count": 90,
   "metadata": {},
   "outputs": [],
   "source": [
    "temps_C = np.arange(-20, 50, 5)"
   ]
  },
  {
   "cell_type": "code",
   "execution_count": 91,
   "metadata": {},
   "outputs": [
    {
     "data": {
      "text/plain": [
       "array([-20, -15, -10,  -5,   0,   5,  10,  15,  20,  25,  30,  35,  40,\n",
       "        45])"
      ]
     },
     "execution_count": 91,
     "metadata": {},
     "output_type": "execute_result"
    }
   ],
   "source": [
    "temps_C"
   ]
  },
  {
   "cell_type": "code",
   "execution_count": 92,
   "metadata": {},
   "outputs": [],
   "source": [
    "temps_F = 9/5*temps_C+32"
   ]
  },
  {
   "cell_type": "code",
   "execution_count": 93,
   "metadata": {},
   "outputs": [
    {
     "data": {
      "text/plain": [
       "array([ -4.,   5.,  14.,  23.,  32.,  41.,  50.,  59.,  68.,  77.,  86.,\n",
       "        95., 104., 113.])"
      ]
     },
     "execution_count": 93,
     "metadata": {},
     "output_type": "execute_result"
    }
   ],
   "source": [
    "temps_F"
   ]
  },
  {
   "cell_type": "markdown",
   "metadata": {},
   "source": [
    "### Graph the two values as a scatter graph\n",
    "We have imported the functions from `matplotlib.pyplot` as `plt`."
   ]
  },
  {
   "cell_type": "code",
   "execution_count": 94,
   "metadata": {},
   "outputs": [
    {
     "data": {
      "text/plain": [
       "<matplotlib.collections.PathCollection at 0x1c63abf9898>"
      ]
     },
     "execution_count": 94,
     "metadata": {},
     "output_type": "execute_result"
    },
    {
     "data": {
      "image/png": "[encoded data removed]",
      "text/plain": [
       "<Figure size 432x288 with 1 Axes>"
      ]
     },
     "metadata": {
      "needs_background": "light"
     },
     "output_type": "display_data"
    }
   ],
   "source": [
    "plt.scatter(temps_C, temps_F)"
   ]
  },
  {
   "cell_type": "markdown",
   "metadata": {},
   "source": [
    "`plt.scatter` is a function that takes two inputs and makes a scatter plot.\n",
    "\n",
    "    plt.scatter( <X-axis Value>, <Y-axis Values>)\n",
    "\n",
    "We can also add axis labels with the following functions."
   ]
  },
  {
   "cell_type": "code",
   "execution_count": 95,
   "metadata": {},
   "outputs": [
    {
     "data": {
      "text/plain": [
       "Text(0.5, 1.0, 'Compare C and F Temperature Scales')"
      ]
     },
     "execution_count": 95,
     "metadata": {},
     "output_type": "execute_result"
    },
    {
     "data": {
      "image/png": "[encoded data removed]",
      "text/plain": [
       "<Figure size 432x288 with 1 Axes>"
      ]
     },
     "metadata": {
      "needs_background": "light"
     },
     "output_type": "display_data"
    }
   ],
   "source": [
    "plt.scatter(temps_C, temps_F)\n",
    "\n",
    "plt.xlabel('Temperature in Celsius')\n",
    "plt.ylabel('Temperature in Fahrenheit')\n",
    "plt.title('Compare C and F Temperature Scales')"
   ]
  },
  {
   "cell_type": "markdown",
   "metadata": {},
   "source": [
    "Instead of a scatter plot, this could also be a line plot by using the `plt.plot()` function instead."
   ]
  },
  {
   "cell_type": "code",
   "execution_count": 96,
   "metadata": {},
   "outputs": [
    {
     "data": {
      "text/plain": [
       "Text(0.5, 1.0, 'Compare C and F Temperature Scales')"
      ]
     },
     "execution_count": 96,
     "metadata": {},
     "output_type": "execute_result"
    },
    {
     "data": {
      "image/png": "[encoded data removed]",
      "text/plain": [
       "<Figure size 432x288 with 1 Axes>"
      ]
     },
     "metadata": {
      "needs_background": "light"
     },
     "output_type": "display_data"
    }
   ],
   "source": [
    "plt.plot(temps_C, temps_F)\n",
    "\n",
    "plt.xlabel('Temperature in Celsius')\n",
    "plt.ylabel('Temperature in Fahrenheit')\n",
    "plt.title('Compare C and F Temperature Scales')"
   ]
  },
  {
   "cell_type": "markdown",
   "metadata": {},
   "source": [
    "It is possible to overlay plot styles."
   ]
  },
  {
   "cell_type": "code",
   "execution_count": 103,
   "metadata": {},
   "outputs": [
    {
     "data": {
      "image/png": "[encoded data removed]",
      "text/plain": [
       "<Figure size 432x288 with 1 Axes>"
      ]
     },
     "metadata": {
      "needs_background": "light"
     },
     "output_type": "display_data"
    }
   ],
   "source": [
    "plt.scatter(temps_C, temps_F, color='blue', s=200)\n",
    "plt.plot(temps_C, temps_F, color='orange', linewidth=4)\n",
    "\n",
    "plt.xlabel('Temperature in Celsius')\n",
    "plt.ylabel('Temperature in Fahrenheit')\n",
    "plt.title('Compare C and F Temperature Scales')\n",
    "plt.grid()"
   ]
  },
  {
   "cell_type": "code",
   "execution_count": null,
   "metadata": {},
   "outputs": [],
   "source": []
  },
  {
   "cell_type": "markdown",
   "metadata": {},
   "source": [
    "---\n",
    "`matplotlib.pyplot` is a powerful library to make highly customizable and professional-looking figures. It is the user's responsibility, however, to make sure the data displayed is accurate, clean, and readable.\n",
    "\n",
    "![](../images/fig.png)\n",
    "\n",
    "There are two ways to generate figures with matplotlib: \n",
    "1. The _easy way_\n",
    "    - Calls to `plt.` functions will automatically create figure and axes objects when they are needed.\n",
    "        - `plt.plot()`\n",
    "        - `plt.xlabel()`\n",
    "        - `plt.title()`\n",
    "        - `plt.grid()`\n",
    "2. The _customizable way_, which utilizes the object-oriented nature of figure objects.\n",
    "    - Explicitly create figures and axes first, and then add or modify chart elements with axes methods.\n",
    "        - `fig, ax = plt.subplots()`\n",
    "        - `ax.plot()`\n",
    "        - `ax.set_xlabel()`\n",
    "        - `ax.set_title()`\n",
    "        - `ax.grid()`\n",
    "\n",
    "You will see both methods used in documentation and examples you find online. For this class, we will mostly use the _easy way_ and show a few examples with the _customizable way_.\n",
    "\n",
    "`matplotlib` is built to work well with `numpy` arrays. If possible, convert you're data to a numpy array and you'll be in better shape.\n"
   ]
  },
  {
   "cell_type": "code",
   "execution_count": null,
   "metadata": {},
   "outputs": [],
   "source": []
  },
  {
   "cell_type": "markdown",
   "metadata": {},
   "source": [
    "---\n",
    "# Projectile Path\n",
    "In physics class, you probably calculated the path of a projectile. The following equations describe a projectile's path and are solved in the `projectile` function. Notice that the function requires more than one input and produces more than one output.\n",
    "\n",
    "Reference: [Projectile Motion (Wikipedia)](https://en.wikipedia.org/wiki/Projectile_motion)\n",
    "\n",
    "|-|Equation|\n",
    "|--|--|\n",
    "|X-Position|\\begin{equation}\n",
    "    x = v_0t\\cos\\theta\n",
    "\\end{equation}\n",
    "|Y-Position|\\begin{equation}\n",
    "     y = v_0t\\sin\\theta - \\frac{1}{2}gt^2\n",
    "\\end{equation}\n",
    "|Time of Flight|\\begin{equation}\n",
    "    t = \\frac{2v_0\\sin\\theta}{g}\n",
    "\\end{equation}\n",
    "|Velocity|\\begin{equation}\n",
    "    v_x = v_0\\cos\\theta\n",
    "\\end{equation}<br>\\begin{equation}\n",
    "    v_y = v_0\\sin\\theta-gt\n",
    "\\end{equation}<br>\\begin{equation}\n",
    "    v = \\sqrt{v_x^2+v_y^2}\n",
    "\\end{equation}\n",
    "\n",
    " "
   ]
  },
  {
   "cell_type": "code",
   "execution_count": 41,
   "metadata": {},
   "outputs": [],
   "source": [
    "def projectile(v0, theta, num=51):\n",
    "    \"\"\"\n",
    "    Calculate the x and y position and velocity of a projectile at time t\n",
    "    when launched at angle theta with velocity v0.\n",
    "    \n",
    "    Input:\n",
    "        v0    - initial velocity of the projectile when launched (m/s)\n",
    "        theta - angle projectile is launched (degrees)\n",
    "        num   - number of point calculations per flight used by np.linspace().\n",
    "                Default is 51, so there will be 50 data points.\n",
    "    \n",
    "    Output:\n",
    "        t     - time vector (seconds)\n",
    "        x     - x position vector (m)\n",
    "        y     - y position vector (m)\n",
    "        v_x   - x-component velocity vector (m/s)\n",
    "        v_y   - y-component velocity vector (m/s)\n",
    "        v     - velocity magnitude vector (m/s)\n",
    "    \"\"\"\n",
    "    \n",
    "    # Gravitational Acceleration\n",
    "    g = 9.81  # m/s^2\n",
    "    \n",
    "    # Calculate total time of flight\n",
    "    total_t = 2*v0*np.sin(np.deg2rad(theta))/g\n",
    "    \n",
    "    # Create a time vector between 0 and total time.\n",
    "    t = np.linspace(0,total_t,num)\n",
    "    \n",
    "    # Calculate X and Y position of projectile\n",
    "    x = v0*t*np.cos(np.deg2rad(theta))\n",
    "    y = v0*t*np.sin(np.deg2rad(theta)) - .5*g*t**2\n",
    "    \n",
    "    # Compute velocity components and magnitude\n",
    "    v_x = v0*np.cos(np.deg2rad(theta)) * np.ones_like(t)\n",
    "    v_y = v0*np.sin(np.deg2rad(theta)) - g*t\n",
    "    v = np.sqrt(v_x**2+v_y**2)\n",
    "    \n",
    "    return t, x, y, v_x, v_y, v"
   ]
  },
  {
   "cell_type": "markdown",
   "metadata": {},
   "source": [
    "What does the input and output of the `projectile()` function look like?"
   ]
  },
  {
   "cell_type": "code",
   "execution_count": 43,
   "metadata": {},
   "outputs": [
    {
     "data": {
      "text/plain": [
       "(array([0.        , 0.02883208, 0.05766416, 0.08649624, 0.11532832,\n",
       "        0.1441604 , 0.17299248, 0.20182457, 0.23065665, 0.25948873,\n",
       "        0.28832081, 0.31715289, 0.34598497, 0.37481705, 0.40364913,\n",
       "        0.43248121, 0.46131329, 0.49014537, 0.51897745, 0.54780953,\n",
       "        0.57664162, 0.6054737 , 0.63430578, 0.66313786, 0.69196994,\n",
       "        0.72080202, 0.7496341 , 0.77846618, 0.80729826, 0.83613034,\n",
       "        0.86496242, 0.8937945 , 0.92262659, 0.95145867, 0.98029075,\n",
       "        1.00912283, 1.03795491, 1.06678699, 1.09561907, 1.12445115,\n",
       "        1.15328323, 1.18211531, 1.21094739, 1.23977947, 1.26861155,\n",
       "        1.29744364, 1.32627572, 1.3551078 , 1.38393988, 1.41277196,\n",
       "        1.44160404]),\n",
       " array([ 0.        ,  0.2038736 ,  0.4077472 ,  0.6116208 ,  0.81549439,\n",
       "         1.01936799,  1.22324159,  1.42711519,  1.63098879,  1.83486239,\n",
       "         2.03873598,  2.24260958,  2.44648318,  2.65035678,  2.85423038,\n",
       "         3.05810398,  3.26197757,  3.46585117,  3.66972477,  3.87359837,\n",
       "         4.07747197,  4.28134557,  4.48521916,  4.68909276,  4.89296636,\n",
       "         5.09683996,  5.30071356,  5.50458716,  5.70846075,  5.91233435,\n",
       "         6.11620795,  6.32008155,  6.52395515,  6.72782875,  6.93170234,\n",
       "         7.13557594,  7.33944954,  7.54332314,  7.74719674,  7.95107034,\n",
       "         8.15494393,  8.35881753,  8.56269113,  8.76656473,  8.97043833,\n",
       "         9.17431193,  9.37818552,  9.58205912,  9.78593272,  9.98980632,\n",
       "        10.19367992]),\n",
       " array([0.00000000e+00, 1.99796126e-01, 3.91437309e-01, 5.74923547e-01,\n",
       "        7.50254842e-01, 9.17431193e-01, 1.07645260e+00, 1.22731906e+00,\n",
       "        1.37003058e+00, 1.50458716e+00, 1.63098879e+00, 1.74923547e+00,\n",
       "        1.85932722e+00, 1.96126402e+00, 2.05504587e+00, 2.14067278e+00,\n",
       "        2.21814475e+00, 2.28746177e+00, 2.34862385e+00, 2.40163099e+00,\n",
       "        2.44648318e+00, 2.48318043e+00, 2.51172273e+00, 2.53211009e+00,\n",
       "        2.54434251e+00, 2.54841998e+00, 2.54434251e+00, 2.53211009e+00,\n",
       "        2.51172273e+00, 2.48318043e+00, 2.44648318e+00, 2.40163099e+00,\n",
       "        2.34862385e+00, 2.28746177e+00, 2.21814475e+00, 2.14067278e+00,\n",
       "        2.05504587e+00, 1.96126402e+00, 1.85932722e+00, 1.74923547e+00,\n",
       "        1.63098879e+00, 1.50458716e+00, 1.37003058e+00, 1.22731906e+00,\n",
       "        1.07645260e+00, 9.17431193e-01, 7.50254842e-01, 5.74923547e-01,\n",
       "        3.91437309e-01, 1.99796126e-01, 1.77635684e-15]),\n",
       " array([7.07106781, 7.07106781, 7.07106781, 7.07106781, 7.07106781,\n",
       "        7.07106781, 7.07106781, 7.07106781, 7.07106781, 7.07106781,\n",
       "        7.07106781, 7.07106781, 7.07106781, 7.07106781, 7.07106781,\n",
       "        7.07106781, 7.07106781, 7.07106781, 7.07106781, 7.07106781,\n",
       "        7.07106781, 7.07106781, 7.07106781, 7.07106781, 7.07106781,\n",
       "        7.07106781, 7.07106781, 7.07106781, 7.07106781, 7.07106781,\n",
       "        7.07106781, 7.07106781, 7.07106781, 7.07106781, 7.07106781,\n",
       "        7.07106781, 7.07106781, 7.07106781, 7.07106781, 7.07106781,\n",
       "        7.07106781, 7.07106781, 7.07106781, 7.07106781, 7.07106781,\n",
       "        7.07106781, 7.07106781, 7.07106781, 7.07106781, 7.07106781,\n",
       "        7.07106781]),\n",
       " array([ 7.07106781,  6.7882251 ,  6.50538239,  6.22253967,  5.93969696,\n",
       "         5.65685425,  5.37401154,  5.09116882,  4.80832611,  4.5254834 ,\n",
       "         4.24264069,  3.95979797,  3.67695526,  3.39411255,  3.11126984,\n",
       "         2.82842712,  2.54558441,  2.2627417 ,  1.97989899,  1.69705627,\n",
       "         1.41421356,  1.13137085,  0.84852814,  0.56568542,  0.28284271,\n",
       "         0.        , -0.28284271, -0.56568542, -0.84852814, -1.13137085,\n",
       "        -1.41421356, -1.69705627, -1.97989899, -2.2627417 , -2.54558441,\n",
       "        -2.82842712, -3.11126984, -3.39411255, -3.67695526, -3.95979797,\n",
       "        -4.24264069, -4.5254834 , -4.80832611, -5.09116882, -5.37401154,\n",
       "        -5.65685425, -5.93969696, -6.22253967, -6.50538239, -6.7882251 ,\n",
       "        -7.07106781]),\n",
       " array([10.        ,  9.8020406 ,  9.60832972,  9.41912947,  9.2347171 ,\n",
       "         9.05538514,  8.88144132,  8.71320836,  8.55102333,  8.39523674,\n",
       "         8.24621125,  8.10431984,  7.96994354,  7.84346862,  7.72528317,\n",
       "         7.61577311,  7.51531769,  7.42428448,  7.3430239 ,  7.27186359,\n",
       "         7.21110255,  7.16100552,  7.12179753,  7.09365914,  7.07672241,\n",
       "         7.07106781,  7.07672241,  7.09365914,  7.12179753,  7.16100552,\n",
       "         7.21110255,  7.27186359,  7.3430239 ,  7.42428448,  7.51531769,\n",
       "         7.61577311,  7.72528317,  7.84346862,  7.96994354,  8.10431984,\n",
       "         8.24621125,  8.39523674,  8.55102333,  8.71320836,  8.88144132,\n",
       "         9.05538514,  9.2347171 ,  9.41912947,  9.60832972,  9.8020406 ,\n",
       "        10.        ]))"
      ]
     },
     "execution_count": 43,
     "metadata": {},
     "output_type": "execute_result"
    }
   ],
   "source": [
    "initial_velocity = 10  # m/s\n",
    "angle_theta = 45       # degrees\n",
    "\n",
    "projectile(initial_velocity, angle_theta)"
   ]
  },
  {
   "cell_type": "markdown",
   "metadata": {},
   "source": [
    "#### Plot the trajectory of a projectile"
   ]
  },
  {
   "cell_type": "code",
   "execution_count": 36,
   "metadata": {},
   "outputs": [
    {
     "data": {
      "image/png": "[encoded data removed]",
      "text/plain": [
       "<Figure size 432x288 with 1 Axes>"
      ]
     },
     "metadata": {
      "needs_background": "light"
     },
     "output_type": "display_data"
    }
   ],
   "source": [
    "velocity = 20\n",
    "angle = 45\n",
    "t, x, y, v_x, v_y, v = projectile(velocity, angle)\n",
    "plt.plot(x, y)\n",
    "\n",
    "# Add chart elements\n",
    "plt.ylabel('Height (m)')\n",
    "plt.xlabel('Distance (m)')\n",
    "plt.title('Projectile Path: \\n v_0={} m/s; angle={} degrees'.format(velocity,angle))\n",
    "plt.grid()"
   ]
  },
  {
   "cell_type": "markdown",
   "metadata": {},
   "source": [
    "#### Plot the trajectory of many projectiles\n",
    "We can plot many trajectories within a for loop."
   ]
  },
  {
   "cell_type": "code",
   "execution_count": 45,
   "metadata": {},
   "outputs": [
    {
     "data": {
      "text/plain": [
       "Text(1.0, 1.0, 'Initial Velocity: 20.0')"
      ]
     },
     "execution_count": 45,
     "metadata": {},
     "output_type": "execute_result"
    },
    {
     "data": {
      "image/png": "[encoded data removed]",
      "text/plain": [
       "<Figure size 720x360 with 1 Axes>"
      ]
     },
     "metadata": {
      "needs_background": "light"
     },
     "output_type": "display_data"
    }
   ],
   "source": [
    "plt.figure(figsize=[10,5])\n",
    "\n",
    "velocity = 20            # m/s\n",
    "\n",
    "for angle in range(10,91,10):\n",
    "    # Compute the path for each\n",
    "    t, x, y, v_x, v_y, v = projectile(velocity, angle)\n",
    "    \n",
    "    plt.plot(x, y, label=r'%s$\\degree$ t=%.1f s' % (angle, t[-1]))\n",
    "\n",
    "plt.legend()\n",
    "plt.ylim(ymin=0)\n",
    "\n",
    "plt.xlabel('Distance (m)')\n",
    "plt.ylabel('Height (m)')\n",
    "plt.title('Projectile Path', fontsize=15);\n",
    "plt.title('Initial Velocity: %.1f' % velocity, loc='right')"
   ]
  },
  {
   "cell_type": "markdown",
   "metadata": {},
   "source": [
    "### Exercise #1:\n",
    "Instead of plotting different projections for different angles, plot projections for different velocities for the same angle."
   ]
  },
  {
   "cell_type": "code",
   "execution_count": null,
   "metadata": {},
   "outputs": [],
   "source": [
    "\n",
    "\n",
    "\n",
    "\n",
    "\n",
    "\n",
    "\n",
    "\n",
    "\n",
    "\n",
    "\n"
   ]
  },
  {
   "cell_type": "markdown",
   "metadata": {},
   "source": [
    "### Exercise #2:\n",
    "\n",
    "Change the function `projectile` to accept an input for gravitional acceleration, and then plot the projectile position for each of the different planets. Add a legend to indicate the planet of each projectile.\n",
    "\n",
    "<img src='../images/accel-of-gravity-other-planets.png'  width=300>"
   ]
  },
  {
   "cell_type": "code",
   "execution_count": 72,
   "metadata": {},
   "outputs": [
    {
     "data": {
      "image/png": "[encoded data removed]",
      "text/plain": [
       "<Figure size 432x288 with 1 Axes>"
      ]
     },
     "metadata": {
      "needs_background": "light"
     },
     "output_type": "display_data"
    }
   ],
   "source": [
    "planets = ['Mercury', 'Venus', 'Earth', 'Moon', 'Mars', 'Jupiter', 'Saturn', 'Uranus', 'Neptune', 'Pluto']\n",
    "g = [3.59, 8.87, 9.81, 1.62, 3.77, 25.95, 11.08, 10.67, 14.07, 0.42]\n",
    "\n",
    "# Make a bar graph of gravity on each planet\n",
    "plt.bar(planets, g)\n",
    "plt.ylabel('Gravity (m/s^2)')\n",
    "plt.xticks(rotation=45)\n",
    "plt.title('Planetary Gravitational Acceleration');"
   ]
  },
  {
   "cell_type": "code",
   "execution_count": 12,
   "metadata": {},
   "outputs": [],
   "source": [
    "velocity = 10\n",
    "angle = 45\n",
    "\n",
    "# for loop for every planet. Since we want to access values for both planets and g, you might consider using enumerate().\n",
    "    # call the modified proj_projectile funcntion\n",
    "    # plot the path and include the name of the planet in the label\n",
    "\n",
    "# other plot housekeeping (title, labels, legend, etc.)\n",
    "\n",
    "\n",
    "\n",
    "\n",
    "\n"
   ]
  },
  {
   "cell_type": "code",
   "execution_count": null,
   "metadata": {},
   "outputs": [],
   "source": []
  },
  {
   "cell_type": "code",
   "execution_count": null,
   "metadata": {},
   "outputs": [],
   "source": []
  },
  {
   "cell_type": "markdown",
   "metadata": {},
   "source": [
    "---\n",
    "### Want to learn more?\n",
    "\n",
    "Do not underestimate the usefulness of the documentation. Read them. They are written for you!Read the `numpy` and `matplotlib` documentation to learn additional functions and capabilitites.\n",
    "\n",
    "> - [Matplotlib Tutorial](https://matplotlib.org/tutorials/introductory/pyplot.html#sphx-glr-tutorials-introductory-pyplot-py)\n",
    "> - [Numpy Tutorial](https://docs.scipy.org/doc/numpy/user/quickstart.html)\n",
    "> - Introduction and Usage Guide: https://matplotlib.org/tutorials/introductory/usage.html\n",
    "> - Basic matplotlib plotting (the easy way): https://matplotlib.org/tutorials/introductory/pyplot.html\n",
    "> - Types of plots: https://matplotlib.org/tutorials/introductory/sample_plots.html\n",
    "> - Other tutorials: https://matplotlib.org/tutorials/index.html\n",
    "\n",
    "**Learn something new about Numpy or Matplotlib and share it on Teams in the Python channel.** \n",
    "\n",
    "---\n",
    "\n",
    "# A word on visualization\n",
    "\n",
    "Some visualizations are better than others. Communicating data and results effectively through figures is both a skill and an art that can be learned. When making figures, pay attention to how it looks visually and if it communicates your point effectively. \n",
    "\n",
    "<img src='./images/less-is-more.gif'>\n"
   ]
  }
 ],
 "metadata": {
  "kernelspec": {
   "display_name": "Python 3",
   "language": "python",
   "name": "python3"
  },
  "language_info": {
   "codemirror_mode": {
    "name": "ipython",
    "version": 3
   },
   "file_extension": ".py",
   "mimetype": "text/x-python",
   "name": "python",
   "nbconvert_exporter": "python",
   "pygments_lexer": "ipython3",
   "version": "3.7.1"
  }
 },
 "nbformat": 4,
 "nbformat_minor": 4
}
