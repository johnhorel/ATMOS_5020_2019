{
 "cells": [
  {
   "cell_type": "markdown",
   "metadata": {},
   "source": [
    "**September 17, 2019**  \n",
    "**ATMOS 5020: Environmental Programming**  \n",
    "**Brian Blaylock and John Horel**  \n",
    "\n",
    "> ## Announcment:\n",
    "> \"Check your understanding\" due today.\n",
    "\n",
    "> ## Today's Objective:\n",
    "> Advanced `matplotlib` concepts, including 2-D plotting, and the `datetime` module.\n",
    "\n"
   ]
  },
  {
   "cell_type": "markdown",
   "metadata": {},
   "source": [
    "# Download repository with `git`\n",
    "\n",
    "We will work with a bit of data today in class. Download everything in the class github repository onto your Desktop by downloading the ZIP file from GitHub, or use the git command:\n",
    "\n",
    "    cd Desktop\n",
    "    git clone https://github.com/johnhorel/ATMOS_5020_2019.git\n",
    "    \n",
    "For future classes, you can update the contents of the repository if you `cd` into the class directory on your computer\n",
    "\n",
    "    cd Desktop/ATMOS_5020_2019\n",
    "    git pull\n",
    "\n",
    "> Note: Windows users will have to install [git for Windows](https://gitforwindows.org/) and execute the git command from the PowerShell."
   ]
  },
  {
   "cell_type": "code",
   "execution_count": null,
   "metadata": {},
   "outputs": [],
   "source": [
    "import numpy as np\n",
    "import matplotlib.pyplot as plt"
   ]
  },
  {
   "cell_type": "markdown",
   "metadata": {},
   "source": [
    "---\n",
    "---\n",
    "# Station Meteorological Data\n",
    "On GitHub, look in the `data` folder for a file called `WBB.csv` and download it. This is weather observations from the William Browning Building. Data was retreived from the [MesoWest download page](https://mesowest.utah.edu/cgi-bin/droman/download_api2.cgi?stn=WBB&year1=2019&day1=17&month1=9&hour1=11&timetype=LOCAL&unit=0)\n",
    "\n",
    "\n",
    "We want to recreate the figures on the [Mesowest page](https://mesowest.utah.edu/cgi-bin/droman/meso_base_dyn.cgi?stn=WBB&unit=0&time=LOCAL&product=&year1=&month1=&day1=00&hour1=00&hours=24&graph=1&past=0&order=1) from the raw data:\n",
    "\n",
    "\n",
    "![](./images/wbb_temprh.png)\n",
    "\n",
    "\n",
    "Open the `.csv` file in the Jupyter Lab environment to see the column contents and the units.\n",
    "\n",
    "There are many ways we can read this data into Python. Let's use the Pandas method like we learned last class."
   ]
  },
  {
   "cell_type": "code",
   "execution_count": null,
   "metadata": {},
   "outputs": [],
   "source": [
    "import pandas as pd"
   ]
  },
  {
   "cell_type": "code",
   "execution_count": null,
   "metadata": {},
   "outputs": [],
   "source": [
    "# Load the data. \n",
    "# Why do we skip these rows?\n",
    "WBB = pd.read_csv('./data/WBB.csv', skiprows=[0,1,2,3,4,5,7])"
   ]
  },
  {
   "cell_type": "code",
   "execution_count": null,
   "metadata": {},
   "outputs": [],
   "source": [
    "WBB.head()"
   ]
  },
  {
   "cell_type": "code",
   "execution_count": null,
   "metadata": {},
   "outputs": [],
   "source": [
    "# Look at air temperature. \n",
    "# What are the units? (This is one of the rows we skipped in the file.)\n",
    "WBB['air_temp_set_1'].head()"
   ]
  },
  {
   "cell_type": "code",
   "execution_count": null,
   "metadata": {},
   "outputs": [],
   "source": [
    "# Look at the Datetime\n",
    "WBB['Date_Time'].head()"
   ]
  },
  {
   "cell_type": "markdown",
   "metadata": {},
   "source": [
    "Plot the data on a simple plot..."
   ]
  },
  {
   "cell_type": "code",
   "execution_count": null,
   "metadata": {},
   "outputs": [],
   "source": [
    "# Create variable for easy access to temperature data from dataframe\n",
    "air_temp = WBB['air_temp_set_1']\n",
    "\n",
    "plt.figure(figsize=[10,5])\n",
    "plt.plot(air_temp)\n",
    "\n",
    "plt.ylabel('Temperature (F)')\n",
    "plt.title('WBB')\n",
    "\n",
    "plt.grid(linestyle='--', color='grey', linewidth=.2)"
   ]
  },
  {
   "cell_type": "code",
   "execution_count": null,
   "metadata": {},
   "outputs": [],
   "source": []
  },
  {
   "cell_type": "markdown",
   "metadata": {},
   "source": [
    "## Exercise: Create a new graph with relative humidity and temperature on the same graph:\n",
    "- make the RH line green\n",
    "- make the temperature line red"
   ]
  },
  {
   "cell_type": "code",
   "execution_count": null,
   "metadata": {},
   "outputs": [],
   "source": [
    "\n",
    "\n",
    "\n",
    "\n"
   ]
  },
  {
   "cell_type": "markdown",
   "metadata": {},
   "source": [
    "<br><br>\n",
    "\n",
    "---\n",
    "\n",
    "There are two problems with the plot we just made:\n",
    "1. The x axis is numbered by data points. We want dates on that axis.\n",
    "1. Ploting temperature and relative humidity is ok for this case, but the units are different (F vs. %). It would be nice to have two different y-axes\n",
    "\n",
    "\n",
    "Aaron showed us last class that we can plot dates on the xaxis as shown below. Today, we will also learn how to do this with the `datetime` module."
   ]
  },
  {
   "cell_type": "code",
   "execution_count": null,
   "metadata": {},
   "outputs": [],
   "source": [
    "plt.plot(WBB['Date_Time'], air_temp)\n",
    "\n",
    "plt.gca().xaxis.set_major_locator(plt.MaxNLocator(10)) #set the number of x axis ticks. (without this it will plot every tick mark)\n",
    "plt.gcf().autofmt_xdate() #get a nice date format for the x axis (makes it look neat)"
   ]
  },
  {
   "cell_type": "markdown",
   "metadata": {},
   "source": [
    "# 🗓 Datetime (chapter 17.3)\n",
    "\n",
    "The `Date_Time` variable is a list of strings! It would be really nice to convert those dates to something Python understood as dates.\n",
    "\n",
    "Fortunatly, Python has some built-in tools for converting strings to `datetime` objects. You were introduced to this module in the \"Check Your Understanding.\"\n",
    "\n",
    "[Reference: Python datetime string formater](https://docs.python.org/2/library/datetime.html#strftime-strptime-behavior)"
   ]
  },
  {
   "cell_type": "code",
   "execution_count": null,
   "metadata": {},
   "outputs": [],
   "source": [
    "# Import Python's datetime module\n",
    "from datetime import datetime"
   ]
  },
  {
   "cell_type": "code",
   "execution_count": null,
   "metadata": {},
   "outputs": [],
   "source": [
    "# Create a datetime object\n",
    "datetime(2019, 4, 1, 1)"
   ]
  },
  {
   "cell_type": "code",
   "execution_count": null,
   "metadata": {},
   "outputs": [],
   "source": [
    "# Convert a datetime object to a string\n",
    "datetime.strftime(datetime(2019, 4, 1, 1),'%Y %b %d %H:%M')"
   ]
  },
  {
   "cell_type": "code",
   "execution_count": null,
   "metadata": {},
   "outputs": [],
   "source": [
    "# Convert a string to a datetime object\n",
    "str_date = '2019-09-17'\n",
    "datetime.strptime(str_date, '%Y-%m-%d')"
   ]
  },
  {
   "cell_type": "markdown",
   "metadata": {},
   "source": [
    "## Exercise: Convert string dates in our file\n",
    "1. Get the first date in our our data.\n",
    "1. What is the Date string format in our data?\n",
    "1. Look at the datetime docs to see how the string date should be formatted.\n",
    "1. Convert the first string date to a python datetime object."
   ]
  },
  {
   "cell_type": "code",
   "execution_count": null,
   "metadata": {},
   "outputs": [],
   "source": [
    "WBB['Date_Time'][0]\n",
    "\n",
    "\n",
    "\n",
    "\n"
   ]
  },
  {
   "cell_type": "markdown",
   "metadata": {},
   "source": [
    "---\n",
    "\n",
    "<br><br>"
   ]
  },
  {
   "cell_type": "markdown",
   "metadata": {},
   "source": [
    "To convert all the values in the our dates list, we will use a condensed `for loop` or [list comprehensions](https://www.digitalocean.com/community/tutorials/understanding-list-comprehensions-in-python-3). \n",
    "\n",
    "We can use list comprehension to convert all the values in the list `dates`.\n",
    "\n",
    "    new_list = [x for x in iterable]"
   ]
  },
  {
   "cell_type": "code",
   "execution_count": null,
   "metadata": {},
   "outputs": [],
   "source": [
    "# List comprehension example: convert all items in a list to upper case\n",
    "old_list = ['hi', 'bye', 'stop', 'go']\n",
    "print(old_list)\n",
    "\n",
    "new_list = [x.upper() for x in old_list]\n",
    "print(new_list)"
   ]
  },
  {
   "cell_type": "code",
   "execution_count": null,
   "metadata": {},
   "outputs": [],
   "source": [
    "# Use a list comprehension to convert the string dates to datetime objects\n",
    "# I typically use lowercase `dates` to name dates as strings\n",
    "# and uppercase `DATES` to name dates as datetime objects\n",
    "\n",
    "dates = WBB['Date_Time']\n",
    "\n",
    "DATES = np.array([datetime.strptime(i, '%m/%d/%Y %H:%M MDT') for i in dates])"
   ]
  },
  {
   "cell_type": "markdown",
   "metadata": {},
   "source": [
    "## Question: What is the difference between `dates` and `DATES`?\n",
    "- What are the types of each variable? `dates[0]` vs. `DATES[0]`"
   ]
  },
  {
   "cell_type": "code",
   "execution_count": null,
   "metadata": {},
   "outputs": [],
   "source": [
    "\n",
    "\n",
    "\n"
   ]
  },
  {
   "cell_type": "markdown",
   "metadata": {},
   "source": [
    "---\n",
    "Now that we have the dates in a python-readable format, we can plot our weather observations against temperature.\n"
   ]
  },
  {
   "cell_type": "code",
   "execution_count": null,
   "metadata": {},
   "outputs": [],
   "source": [
    "plt.plot(DATES, air_temp, color='red')\n",
    "\n",
    "plt.ylabel('Temperature (F)')\n",
    "plt.title('WBB')\n",
    "\n",
    "plt.xticks(rotation=45)\n",
    "\n",
    "plt.grid(linestyle='--', color='grey', linewidth=.2)"
   ]
  },
  {
   "cell_type": "markdown",
   "metadata": {},
   "source": [
    "Do some google searches to find out how to format the dates on the xaxis...below is the general method...  \n",
    "https://stackoverflow.com/questions/14946371/editing-the-date-formatting-of-x-axis-tick-labels-in-matplotlib"
   ]
  },
  {
   "cell_type": "code",
   "execution_count": null,
   "metadata": {},
   "outputs": [],
   "source": [
    "plt.plot(DATES, air_temp, color='red')\n",
    "\n",
    "plt.ylabel('Temperature (F)')\n",
    "plt.title('WBB')\n",
    "\n",
    "plt.xticks(rotation=45)\n",
    "\n",
    "plt.grid(linestyle='--', color='grey', linewidth=.2)\n",
    "\n",
    "# Ask Google: \"matplotlib format xaxis datetime\"\n",
    "# Note: plt.gca() means \"get current axes\", which is often useful for cusomizing things.\n",
    "import matplotlib.dates as mdates\n",
    "myFmt = mdates.DateFormatter('%b %d\\n%H:%M')\n",
    "plt.gca().xaxis.set_major_formatter(myFmt)"
   ]
  },
  {
   "cell_type": "markdown",
   "metadata": {},
   "source": [
    "## Twin Axis\n",
    "\n",
    "**Use matplotlib the _Customizable_ way**\n",
    "\n",
    "What if we want to plot Temperature and Relative Humidity on the same plot..."
   ]
  },
  {
   "cell_type": "code",
   "execution_count": null,
   "metadata": {},
   "outputs": [],
   "source": [
    "plt.figure(figsize=[10,5])\n",
    "plt.plot(DATES, air_temp, 'r', label='Temp')\n",
    "plt.plot(DATES, WBB['relative_humidity_set_1'], 'g', label=\"RH\")\n",
    "plt.legend()\n",
    "plt.grid()"
   ]
  },
  {
   "cell_type": "markdown",
   "metadata": {},
   "source": [
    "This is fine, but the temperature and humidity range of values are not similar. Wouldn't it be nice if there were two different y axes? We can accomplish this with a little bit more formatting."
   ]
  },
  {
   "cell_type": "code",
   "execution_count": null,
   "metadata": {},
   "outputs": [],
   "source": [
    "# Explicitly create the `fig` and `ax1` figure objects\n",
    "fig, ax1 = plt.subplots(figsize=[10,5], facecolor='lightgrey')\n",
    "\n",
    "# Plot Temperature on ax1\n",
    "ax1.plot(DATES, air_temp, 'r')\n",
    "ax1.set_ylabel('Temperature (F)', color='r', fontsize=15)\n",
    "\n",
    "# Create ax2 and plot Relative Humidity\n",
    "ax2 = ax1.twinx() # make ax2 share the x axis\n",
    "ax2.plot(DATES, WBB['relative_humidity_set_1'], 'g')\n",
    "ax2.set_ylabel('Relative Humidity (%)', color='g', fontsize=15)\n",
    "ax2.set_ylim([0,100])\n",
    "\n",
    "# Add a title\n",
    "plt.title('WBB', fontsize=20)\n",
    "\n",
    "# Modify date axis format. \n",
    "# You can learn how to do this with some internet searches.\n",
    "from matplotlib.dates import DateFormatter, HourLocator\n",
    "ax1.xaxis.set_major_formatter(DateFormatter('%b-%d\\n%H:%M'))\n",
    "ax1.xaxis.set_major_locator(HourLocator(range(0,24,6)))\n",
    "ax1.xaxis.set_minor_locator(HourLocator(range(0,24,3)))\n",
    "\n",
    "ax1.grid(linestyle=':', alpha=.5) # alpha is transparency\n",
    "\n",
    "ax1.set_facecolor('linen')\n",
    "\n",
    "# Set the xlim as the first and last date\n",
    "plt.xlim(DATES[0], DATES[-1]);\n",
    "\n",
    "# To save the figure, uncomment the next line\n",
    "#plt.savefig('my_wbb_figure')"
   ]
  },
  {
   "cell_type": "code",
   "execution_count": null,
   "metadata": {},
   "outputs": [],
   "source": []
  },
  {
   "cell_type": "code",
   "execution_count": null,
   "metadata": {},
   "outputs": [],
   "source": []
  },
  {
   "cell_type": "markdown",
   "metadata": {},
   "source": [
    "---\n",
    "---\n",
    "\n",
    "# 2-D Plots in `matplotlib.pyplot` (Chapter 12)\n",
    "\n",
    "**Objective**: Learn to visualizing 2-dimensional datasets with `matplotlib`.\n",
    "\n",
    "The best way to learn how to make matplotlib graphics (and programing in general) is to see how something is done, try it yourself, read the documentation, and then make some change to do what you want. If you don't know how to do something, Google it. 99% of the time someone else had the exact same question.\n",
    "\n",
    "You might hear the term **raster** a lot. Raster simply refers to an image that represents a 2D dataset. The two images above are rasters.\n",
    "\n",
    "To start off, become familiar with a few basic methods for plotting 2D data. We will practice with a small 2D array of random data.\n",
    "\n",
    "Reference: [numpy.random.random](https://docs.scipy.org/doc/numpy/reference/generated/numpy.random.random.html)  "
   ]
  },
  {
   "cell_type": "markdown",
   "metadata": {},
   "source": [
    "### Generate Random Data"
   ]
  },
  {
   "cell_type": "code",
   "execution_count": null,
   "metadata": {},
   "outputs": [],
   "source": [
    "import numpy as np\n",
    "import matplotlib.pyplot as plt"
   ]
  },
  {
   "cell_type": "code",
   "execution_count": null,
   "metadata": {},
   "outputs": [],
   "source": [
    "# Generate some random 2D data (random numbers between 0 and 1).\n",
    "rand = np.random.random([5,5])\n",
    "\n",
    "print('Random array shape:', np.shape(rand))\n",
    "print(rand)"
   ]
  },
  {
   "cell_type": "markdown",
   "metadata": {},
   "source": [
    "### Generate Rasters with `imshow` and `pcolormesh`"
   ]
  },
  {
   "cell_type": "markdown",
   "metadata": {},
   "source": [
    "`plt.imshow()` and `plt.pcolormesh()` are two methods to create a raster image of 2D data. They assigns a color for every value in the 2D grid. The two are slightly different. `imshow()` can plot RGB arrays and `pcolormesh` can plot irregularly spaced grids. Don't worry too much about the differences for now.\n",
    "\n",
    "The default color scale is [viridis](https://www.youtube.com/watch?time_continue=147&v=xAoljeRJ3lU), but this can be changed with the `cmap=` argument. \n",
    "\n",
    "Reference: [matplotlib color map names](https://matplotlib.org/examples/color/colormaps_reference.html)  \n",
    "Note: to reverse the color map, add `_r` to the end the name. For example, to reverse `cmap='Blues'` you would do `cmap='Blues_r'`\n",
    "\n",
    "Immediately after the `plt.imshow()` function, you can add a colorbar with `plt.colorbar()`"
   ]
  },
  {
   "cell_type": "code",
   "execution_count": null,
   "metadata": {},
   "outputs": [],
   "source": [
    "# Plot data with imshow\n",
    "plt.figure(1)\n",
    "plt.imshow(rand)\n",
    "\n",
    "# Use a different color map and add a colorbar\n",
    "plt.figure(2)\n",
    "plt.imshow(rand, cmap='bwr')\n",
    "plt.colorbar()"
   ]
  },
  {
   "cell_type": "code",
   "execution_count": null,
   "metadata": {},
   "outputs": [],
   "source": [
    "# Plot data with pcolormesh\n",
    "plt.pcolormesh(rand, cmap='bwr')\n",
    "plt.colorbar()\n",
    "\n",
    "# notice how pcolormesh and imshow are upside-down from each other (look at the y axis)"
   ]
  },
  {
   "cell_type": "markdown",
   "metadata": {},
   "source": [
    "### Generate Contour Plots and Filled Contours\n",
    "Contours are lines of equal value, just like a topographic map. It doesn't look too pretty for a random dataset, but you'll see how useful it is later.\n",
    "\n",
    "Contours can be lines `plt.contour()` or filled contours `plt.contourf()`. You can specify which levels to contour with the `levels=` argument."
   ]
  },
  {
   "cell_type": "code",
   "execution_count": null,
   "metadata": {},
   "outputs": [],
   "source": [
    "# Plot data with contours\n",
    "plt.figure(1)\n",
    "plt.contour(rand)\n",
    "plt.colorbar()\n",
    "\n",
    "# Color fill for specific levels and add a *horizontal* colorbar\n",
    "plt.figure(2)\n",
    "plt.contourf(rand, levels=np.arange(0,1.2,.2), cmap='plasma')\n",
    "plt.colorbar(orientation='horizontal')"
   ]
  },
  {
   "cell_type": "markdown",
   "metadata": {},
   "source": [
    "### Generate Wind Barbs\n",
    "Wind barbs are one way to display vector data. In the case of wind, there is an east-west component (U) and north-south component (V). The number of flags corresponds to the wind's speed and points in the direction the wind is blowing."
   ]
  },
  {
   "cell_type": "code",
   "execution_count": null,
   "metadata": {},
   "outputs": [],
   "source": [
    "# Wind barbs (U and V compoents). V is transposed for visual effect\n",
    "plt.barbs(rand*25, np.transpose(rand*25))\n",
    "\n",
    "plt.xlim([-1,5])\n",
    "plt.ylim([-1,5])"
   ]
  },
  {
   "cell_type": "markdown",
   "metadata": {},
   "source": [
    "---\n",
    "\n",
    "<img src='./images/HRRR.png' width=288 align='right' style='padding-left:30px'>\n",
    "\n",
    "# HRRR Weather Model Data: Hurricane Humberto\n",
    "I prepared some HRRR model data and stored it in the `data/HRRR_data` folder. These are dictionaries saved as numpy binary files. To load the dictionary from the file:\n",
    "\n",
    "    varName = np.load('data/HRRR_data/Temp_2m.npy', allow_pickle=True).item(0)"
   ]
  },
  {
   "cell_type": "code",
   "execution_count": null,
   "metadata": {},
   "outputs": [],
   "source": [
    "# 2 meter temperature\n",
    "T = np.load('data/HRRR_data/Temp_2m.npy', allow_pickle=True).item(0)"
   ]
  },
  {
   "cell_type": "code",
   "execution_count": null,
   "metadata": {},
   "outputs": [],
   "source": [
    "# Look at the contents of T\n",
    "T"
   ]
  },
  {
   "cell_type": "code",
   "execution_count": null,
   "metadata": {},
   "outputs": [],
   "source": [
    "T.keys()"
   ]
  },
  {
   "cell_type": "code",
   "execution_count": null,
   "metadata": {},
   "outputs": [],
   "source": [
    "T['units']"
   ]
  },
  {
   "cell_type": "code",
   "execution_count": null,
   "metadata": {},
   "outputs": [],
   "source": [
    "# Make a basic plot of Temperature\n",
    "# Is there a better colormap to depict temperatures?\n",
    "plt.pcolormesh(T['value'])"
   ]
  },
  {
   "cell_type": "code",
   "execution_count": null,
   "metadata": {},
   "outputs": [],
   "source": [
    "# Make a plot of Temperature in F, with latitude and longitude on axis\n",
    "T_c = T['value']-273.15\n",
    "T_f = 9/5*T_c + 32\n",
    "\n",
    "plt.pcolormesh(T['lon'], T['lat'], T_f, cmap='Spectral_r')\n",
    "plt.colorbar(label='2 m Temperature (F)')"
   ]
  },
  {
   "cell_type": "markdown",
   "metadata": {},
   "source": [
    "## Exercise: Make a figure showing wind gust\n",
    "- Load and plot the data. Use a colormap that isn't the default (https://matplotlib.org/examples/color/colormaps_reference.html)\n",
    "- What is the maximum gust?\n",
    "- Where is the maximum gust located?\n",
    "- Add a star to indicate the location of the maximum wind gust (use `plt.scatter()`)."
   ]
  },
  {
   "cell_type": "code",
   "execution_count": null,
   "metadata": {},
   "outputs": [],
   "source": [
    "# make the plot\n",
    "\n",
    "\n",
    "\n",
    "\n",
    "\n",
    "\n",
    "\n"
   ]
  },
  {
   "cell_type": "code",
   "execution_count": null,
   "metadata": {},
   "outputs": [],
   "source": [
    "# what is the maximum gust?\n",
    "\n",
    "\n",
    "\n",
    "# where is the maximum gust?\n",
    "\n",
    "\n",
    "# Add a star to the figure showing where the maximum wind gust occurs with plt.scatter()\n",
    "\n",
    "\n",
    "\n"
   ]
  },
  {
   "cell_type": "markdown",
   "metadata": {},
   "source": [
    "---\n",
    "\n",
    "Additional demonstration:"
   ]
  },
  {
   "cell_type": "code",
   "execution_count": null,
   "metadata": {},
   "outputs": [],
   "source": [
    "LAND = np.load('data/HRRR_data/Land_Mask.npy', allow_pickle=True).item(0)\n",
    "\n",
    "# Mean Sea Level Pressure (in Pascales)\n",
    "MSLP = np.load('data/HRRR_data/MSLP.npy', allow_pickle=True).item(0)\n",
    "\n",
    "# Convert the value of MSLP to hPa\n",
    "MSLP['value'] /= 100\n",
    "\n",
    "# 500 mb height\n",
    "HGT500 = np.load('data/HRRR_data/HGT_500mb.npy', allow_pickle=True).item(0)"
   ]
  },
  {
   "cell_type": "code",
   "execution_count": null,
   "metadata": {},
   "outputs": [],
   "source": [
    "# To georeference the image, you can set the x and y values of the plot as the latitude and longitude from the data file.\n",
    "# Overlay the geopotential hieght on the Land-Water data.\n",
    "\n",
    "plt.figure(figsize=[8,6])\n",
    "\n",
    "# Plot land/water boundaries\n",
    "plt.contourf(LAND['lon'], LAND['lat'], LAND['value'], levels=[0,.5,1], colors=['dodgerblue','tan'])\n",
    "plt.title(LAND['name'], loc='right')\n",
    "\n",
    "# Plot 500 hPa geopotential height\n",
    "cs = plt.contour(HGT500['lon'], HGT500['lat'], HGT500['value'], colors='k', levels=range(5400,6000,60))\n",
    "plt.clabel(cs, fmt='%0.0f')\n",
    "\n",
    "#put a star at Salt Lake City and label as \"U of U\"\n",
    "plt.scatter(-111.9, 40.8, marker='*', c='r', s=150)\n",
    "plt.text(-110.9, 41.0, 'U of U', color='r')\n",
    "\n",
    "plt.title('500 hPa ' + HGT500['name'], loc='left')\n",
    "plt.ylabel('latitude')\n",
    "plt.xlabel('longitude')\n",
    "plt.grid()"
   ]
  },
  {
   "cell_type": "code",
   "execution_count": null,
   "metadata": {},
   "outputs": [],
   "source": [
    "# To georeference the image, you can set the x and y values of the plot as the latitude and longitude from the data file.\n",
    "# Overlay the geopotential hieght on the Land-Water data.\n",
    "\n",
    "plt.figure(figsize=[8,6])\n",
    "\n",
    "# Plot land/water boundaries\n",
    "plt.contourf(LAND['lon'], LAND['lat'], LAND['value'], levels=[0,.5,1], colors=['dodgerblue','tan'])\n",
    "plt.title(LAND['name'], loc='right')\n",
    "\n",
    "# Plot Mean Sea Level Pressure\n",
    "cs = plt.contour(MSLP['lon'], MSLP['lat'], MSLP['value'], colors='k', levels=range(980,1100,4), linestyles='--')\n",
    "plt.clabel(cs, fmt='%0.0f')\n",
    "\n",
    "#put a star at Salt Lake City and label as \"U of U\"\n",
    "plt.scatter(-111.9, 40.8, marker='*', c='r', s=150)\n",
    "plt.text(-110.9, 41.0, 'U of U', color='r')\n",
    "\n",
    "plt.title('500 hPa ' + MSLP['name'], loc='left')\n",
    "plt.ylabel('latitude')\n",
    "plt.xlabel('longitude')\n",
    "plt.grid()"
   ]
  },
  {
   "cell_type": "markdown",
   "metadata": {},
   "source": [
    "## Exercise: Detail of hurricane:\n",
    "- use the `plt.xlim()` and `plt.ylim()` to contrain the plot to the hurricane\n",
    "- create a filled contour of wind gusts\n",
    "- overlay contour lines of sea level presure.\n",
    "- Add wind barbs for every 5th grid box if U is the U data, do U[::5]"
   ]
  },
  {
   "cell_type": "code",
   "execution_count": null,
   "metadata": {},
   "outputs": [],
   "source": []
  },
  {
   "cell_type": "code",
   "execution_count": null,
   "metadata": {},
   "outputs": [],
   "source": []
  },
  {
   "cell_type": "code",
   "execution_count": null,
   "metadata": {},
   "outputs": [],
   "source": []
  },
  {
   "cell_type": "code",
   "execution_count": null,
   "metadata": {},
   "outputs": [],
   "source": []
  },
  {
   "cell_type": "code",
   "execution_count": null,
   "metadata": {},
   "outputs": [],
   "source": [
    "## Add winb barbs\n",
    "## Need to be careful, becuase it takes a long time to plot every single barb.\n",
    "## Below is an example of how to plot every 50th wind barb\n",
    "#U = np.load('data/HRRR_data/U_wind_10m.npy', allow_pickle=True).item(0)\n",
    "#V = np.load('data/HRRR_data/V_wind_10m.npy', allow_pickle=True).item(0)\n",
    "#plt.barbs(U['lon'][::50,::50], U['lat'][::50,::50], U['value'][::50,::50], V['value'][::50,::50])"
   ]
  },
  {
   "cell_type": "markdown",
   "metadata": {},
   "source": [
    "---\n",
    "---\n",
    "\n",
    "# More about datetime"
   ]
  },
  {
   "cell_type": "markdown",
   "metadata": {},
   "source": [
    "The timdelta submodule can be very useful for doing math operations on dates.\n",
    "\n",
    "Also, there is some important details for formating dates in this section.\n",
    "\n",
    "> Personal preference tip: I like to use variables with `DATE` in all caps to indicate it is a python datetime object. For dates that are a string, I like to name variable as `date` in lowercase."
   ]
  },
  {
   "cell_type": "code",
   "execution_count": null,
   "metadata": {},
   "outputs": [],
   "source": [
    "# import two different submodules\n",
    "from datetime import datetime, timedelta"
   ]
  },
  {
   "cell_type": "code",
   "execution_count": null,
   "metadata": {},
   "outputs": [],
   "source": [
    "# Create a new date, the first of this year\n",
    "# This follows the format `datetime(year, month, day, hour, minute, second)`. Only year, month, and date is required\n",
    "my_DATE = datetime(2019, 1, 1)\n",
    "my_DATE"
   ]
  },
  {
   "cell_type": "markdown",
   "metadata": {},
   "source": [
    "### `timedelta`: How many days has it been since the begining of the year?"
   ]
  },
  {
   "cell_type": "code",
   "execution_count": null,
   "metadata": {},
   "outputs": [],
   "source": [
    "now = datetime.now()\n",
    "now"
   ]
  },
  {
   "cell_type": "code",
   "execution_count": null,
   "metadata": {},
   "outputs": [],
   "source": [
    "now - my_DATE"
   ]
  },
  {
   "cell_type": "code",
   "execution_count": null,
   "metadata": {},
   "outputs": [],
   "source": [
    "time_diff = now - my_DATE\n",
    "print('{} days and {:.2f} hours'.format(time_diff.days, time_diff.seconds/3600))"
   ]
  },
  {
   "cell_type": "code",
   "execution_count": null,
   "metadata": {},
   "outputs": [],
   "source": []
  },
  {
   "cell_type": "markdown",
   "metadata": {},
   "source": [
    "### Make a list of dates incrementing by day"
   ]
  },
  {
   "cell_type": "code",
   "execution_count": null,
   "metadata": {},
   "outputs": [],
   "source": [
    "# Given a start and an end date, make a list of all the days in between\n",
    "sDATE = datetime(2019, 1, 1)\n",
    "eDATE = datetime(2019, 2, 1)\n",
    "\n",
    "days = (eDATE-sDATE).days\n",
    "\n",
    "# List comprehension makes this easy...\n",
    "DATES = [sDATE + timedelta(days=i) for i in range(days)]"
   ]
  },
  {
   "cell_type": "code",
   "execution_count": null,
   "metadata": {},
   "outputs": [],
   "source": [
    "DATES"
   ]
  },
  {
   "cell_type": "code",
   "execution_count": null,
   "metadata": {},
   "outputs": [],
   "source": []
  },
  {
   "cell_type": "code",
   "execution_count": null,
   "metadata": {},
   "outputs": [],
   "source": []
  },
  {
   "cell_type": "markdown",
   "metadata": {},
   "source": [
    "---\n",
    "# Projectile Motion\n",
    "A classical physics problem is to find the angle a projectile should be launched to achieve the maximum distance.\n",
    "\n",
    "Reference: [Range of a projectile (Wikipedia)](https://en.wikipedia.org/wiki/Range_of_a_projectile)\n",
    "\n",
    "\\begin{equation}\n",
    "    d = \\frac{v^2}{2g}\\left(1+\\sqrt{1+\\frac{2gy_0}{v^2\\sin^2\\theta}}\\right) \\sin2\\theta\n",
    "\\end{equation}"
   ]
  },
  {
   "cell_type": "code",
   "execution_count": null,
   "metadata": {},
   "outputs": [],
   "source": [
    "def proj_distance(v0, theta, y0=0):\n",
    "    \"\"\"\n",
    "    Calculate the distance of a projectile when launched with speed v0 at angle theta.\n",
    "    \n",
    "    Input:\n",
    "        v0    - initial velocity of the projectile when launched\n",
    "        theta - angle projectile is launched (in degrees)\n",
    "        y0    - the initial height of the projectile. Default is 0.\n",
    "    \"\"\"\n",
    "    \n",
    "    # Gravitational Acceleration\n",
    "    g = 9.81 # m/s^2\n",
    "    \n",
    "    d = (v0**2)/(2*g) * (1 + np.sqrt(1 + (2*g*y0)/(v0**2*np.sin(np.deg2rad(theta))**2)))*np.sin(2*np.deg2rad(theta))\n",
    "    \n",
    "    return d"
   ]
  },
  {
   "cell_type": "code",
   "execution_count": null,
   "metadata": {},
   "outputs": [],
   "source": [
    "velocity = 15\n",
    "angle = 30\n",
    "y0 = 0\n",
    "\n",
    "distance = proj_distance(velocity, angle, y0)\n",
    "\n",
    "print('Projectile landed %.1f m away from initial location' % distance)\n",
    "print('after being launched with velocity %.1f m/s at %.1f degrees at an initial height of %.2f m'  % (velocity, angle, y0))"
   ]
  },
  {
   "cell_type": "code",
   "execution_count": null,
   "metadata": {},
   "outputs": [],
   "source": [
    "# Range of velocities and angles to test\n",
    "velocities = np.arange(0,21,.5)\n",
    "angles = np.arange(0,91,.5)\n",
    "\n",
    "# Mesh grid: useful to compare all possible combinations of velocities with angles\n",
    "# Print the values of v and a to see what these look like.\n",
    "v, a = np.meshgrid(velocities, angles)\n",
    "\n",
    "# Compute the distance for each\n",
    "distances = proj_distance(v, a, 0)"
   ]
  },
  {
   "cell_type": "code",
   "execution_count": null,
   "metadata": {},
   "outputs": [],
   "source": [
    "# Plot\n",
    "plt.pcolormesh(v, a, distances)\n",
    "cb = plt.colorbar()\n",
    "cb.set_label('Distance (m)')\n",
    "plt.xlabel(\"Velocity (m/s)\")\n",
    "plt.ylabel(\"Angle (degrees)\");\n",
    "\n",
    "plt.contour(v, a, distances, colors='k')"
   ]
  },
  {
   "cell_type": "code",
   "execution_count": null,
   "metadata": {},
   "outputs": [],
   "source": [
    "print('Max distance: %.1f meters' % np.nanmax(distances))\n",
    "print('--------------------------')\n",
    "print('       angle: %s degrees' % a[np.where(distances==np.nanmax(distances))])\n",
    "print('    velocity: %s m/s' % v[np.where(distances==np.nanmax(distances))])"
   ]
  },
  {
   "cell_type": "markdown",
   "metadata": {},
   "source": [
    "### Exercise #1\n",
    "Make the distance chart for all negative and positive angles (-90, 90) and for y0 equal to 100 m (i.e. the projectile is on top of a cliff)."
   ]
  },
  {
   "cell_type": "code",
   "execution_count": null,
   "metadata": {},
   "outputs": [],
   "source": [
    "\n",
    "\n",
    "\n",
    "\n",
    "\n",
    "\n"
   ]
  }
 ],
 "metadata": {
  "kernelspec": {
   "display_name": "Python 3",
   "language": "python",
   "name": "python3"
  },
  "language_info": {
   "codemirror_mode": {
    "name": "ipython",
    "version": 3
   },
   "file_extension": ".py",
   "mimetype": "text/x-python",
   "name": "python",
   "nbconvert_exporter": "python",
   "pygments_lexer": "ipython3",
   "version": "3.7.1"
  }
 },
 "nbformat": 4,
 "nbformat_minor": 4
}
